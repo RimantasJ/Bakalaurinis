{
  "cells": [
    {
      "cell_type": "markdown",
      "metadata": {
        "id": "view-in-github",
        "colab_type": "text"
      },
      "source": [
        "<a href=\"https://colab.research.google.com/github/RimantasJ/Bakalaurinis/blob/main/Bakalaurinis.ipynb\" target=\"_parent\"><img src=\"https://colab.research.google.com/assets/colab-badge.svg\" alt=\"Open In Colab\"/></a>"
      ]
    },
    {
      "cell_type": "markdown",
      "metadata": {
        "id": "1ZeMLMCBoIV5"
      },
      "source": [
        "# Trilateration"
      ]
    },
    {
      "cell_type": "code",
      "execution_count": null,
      "metadata": {
        "id": "DNvWW80cyzXo"
      },
      "outputs": [],
      "source": [
        "import math\n",
        "  \n",
        "class Sensor:\n",
        "  def __init__ (self, x, y, z):\n",
        "    self.x = x\n",
        "    self.y = y\n",
        "    self.z = z\n",
        "\n",
        "  def foo(self):\n",
        "    print(self.z)\n",
        "\n",
        "class Sensor3D:\n",
        "  def __init__ (self, x=None, y=None, z=None, r=None):\n",
        "    self.x = x\n",
        "    self.y = y\n",
        "    self.z = z\n",
        "    self.r = r\n",
        "\n",
        "  def foo(self):\n",
        "    print(self.r)\n",
        "\n",
        "def sq(val):\n",
        "  return val**2"
      ]
    },
    {
      "cell_type": "code",
      "execution_count": null,
      "metadata": {
        "id": "lKt-Ba8v0dCV"
      },
      "outputs": [],
      "source": [
        "def TrilaterationWithDistance (s):\n",
        "  va = (s[1].z ** 2 - s[2].z ** 2)\n",
        "  va = va - (s[1].x ** 2 - s[2].x ** 2)\n",
        "  va = va - (s[1].y ** 2 - s[2].y ** 2)\n",
        "  va = va / 2\n",
        "\n",
        "  vb = (s[1].z ** 2 - s[0].z ** 2)\n",
        "  vb = vb - (s[1].x ** 2 - s[0].x ** 2)\n",
        "  vb = vb - (s[1].y ** 2 - s[0].y ** 2)\n",
        "  vb = vb / 2\n",
        "\n",
        "  y = vb * (s[2].x - s[1].x) - va * (s[0].x - s[1].x)\n",
        "  y = y / ((s[0].y - s[1].y) * (s[2].x - s[1].x) - (s[2].y - s[1].y) * (s[0].x - s[1].x))\n",
        "\n",
        "  x = va - y * (s[2].y - s[1].y)\n",
        "  x = x / (s[2].x - s[1].x)\n",
        "\n",
        "  return (x, y)"
      ]
    },
    {
      "cell_type": "code",
      "execution_count": null,
      "metadata": {
        "id": "5Ill2G_ozghT"
      },
      "outputs": [],
      "source": [
        "sensors = [0, 0, 0]\n",
        "sensors[0] = Sensor(0, 0, math.sqrt(13)/2)\n",
        "sensors[1] = Sensor(2, 4, 1/2)\n",
        "sensors[2] = Sensor(4, 4, math.sqrt(5)/2)\n",
        "TrilaterationWithDistance(sensors)"
      ]
    },
    {
      "cell_type": "code",
      "execution_count": null,
      "metadata": {
        "id": "bq0ndnCpNEp1"
      },
      "outputs": [],
      "source": [
        "def TrilaterationWithLinearSignal (sensors):\n",
        "  x1, y1, z1 = sensors[0].x, sensors[0].y, sensors[0].z\n",
        "  x2, y2, z2 = sensors[1].x, sensors[1].y, sensors[1].z\n",
        "  x3, y3, z3 = sensors[2].x, sensors[2].y, sensors[2].z\n",
        "  x4, y4, z4 = sensors[3].x, sensors[3].y, sensors[3].z\n",
        "\n",
        "  z21 = z2 ** 2 - z1 ** 2\n",
        "  print(\"z21: \", z21)\n",
        "  z31 = z3 ** 2 - z1 ** 2\n",
        "  print(\"z31: \", z31)\n",
        "  z41 = z4 ** 2 - z1 ** 2\n",
        "  print(\"z41: \", z41)\n",
        "\n",
        "  x_upper1 = (sq(x3)*z21 - sq(x2)*z31 + sq(y3)*z21 - sq(y2)*z31) * (y2*z41 - y4*z21)\n",
        "  print(\"xu1: \", x_upper1)\n",
        "  x_upper2 = (sq(x4)*z21 - sq(x2)*z41 + sq(y4)*z21 - sq(y2)*z41) * (y2*z31 - y3*z21)\n",
        "  print(\"xu2: \", x_upper2)\n",
        "  x_upper =  x_upper1 - x_upper2\n",
        "  print(\"xu : \", x_upper)\n",
        "\n",
        "  x_lower1 = 2 * (x2*z41 - x4*z21) * (y2*z31 - y3*z21)\n",
        "  print(\"xl1: \", x_lower1)\n",
        "  x_lower2 = 2 * (x2*z31 - x3*z21) * (y2*z41 - y4*z21)\n",
        "  print(\"xl2: \", x_lower2)\n",
        "  x_lower =  x_lower1 - x_lower2\n",
        "  print(\"xl:  \", x_lower)\n",
        "\n",
        "  x = x_upper / x_lower\n",
        "  print(\"x:   \", x)\n",
        "\n",
        "  y_upper1 = sq(x2)*z31\n",
        "  print(\"yu1: \", y_upper1)\n",
        "  y_upper2 = sq(x3)*z21\n",
        "  print(\"yu2: \", y_upper2)\n",
        "  y_upper3 = 2*x*(x2*z31- x3*z21)\n",
        "  print(\"yu3: \", y_upper3)\n",
        "  y_upper4 = sq(y2)*z31\n",
        "  print(\"yu4: \", y_upper4)\n",
        "  y_upper5 = sq(y3)*z21\n",
        "  print(\"yu5: \", y_upper5)\n",
        "\n",
        "  y_upper =  y_upper1 - y_upper2 - y_upper3  + y_upper4 - y_upper5\n",
        "  print(\"yu:  \", y_upper)\n",
        "  y_lower = 2*(y2*z31 - y3*z21)\n",
        "  print(\"yl:  \", y_lower)\n",
        "  y = y_upper / y_lower\n",
        "  print(\"y:   \", y)\n",
        "\n",
        "  z = (sq(x2) - 2*x2*x + sq(y2) - 2*y2*y) / z21\n",
        "\n",
        "  return (round(x), round(y), round(z))"
      ]
    },
    {
      "cell_type": "code",
      "execution_count": null,
      "metadata": {
        "id": "53k8W5Xh0FXl"
      },
      "outputs": [],
      "source": [
        "# D1\n",
        "sensors = [0, 0, 0, 0]\n",
        "sensors[0] = Sensor(0,0,math.sqrt(2)*2)\n",
        "sensors[1] = Sensor(2,4,2)\n",
        "sensors[2] = Sensor(6,2,4)\n",
        "sensors[3] = Sensor(6,5,5)\n",
        "\n",
        "TrilaterationWithLinearSignal(sensors)"
      ]
    },
    {
      "cell_type": "code",
      "execution_count": null,
      "metadata": {
        "id": "j7FSsmglYikl"
      },
      "outputs": [],
      "source": [
        "# D2\n",
        "sensors = [0, 0, 0, 0]\n",
        "sensors[0] = Sensor(0,0,(math.sqrt(2)*2/3))\n",
        "sensors[1] = Sensor(1,3,(math.sqrt(2)/3))\n",
        "sensors[2] = Sensor(4,1,(math.sqrt(5)/3))\n",
        "sensors[3] = Sensor(5,4,(math.sqrt(13)/3))\n",
        "\n",
        "TrilaterationWithLinearSignal(sensors)"
      ]
    },
    {
      "cell_type": "code",
      "execution_count": null,
      "metadata": {
        "id": "4eF96H_QaQeF"
      },
      "outputs": [],
      "source": [
        "# D3\n",
        "sensors = [0, 0, 0, 0]\n",
        "sensors[0] = Sensor(0,0,(math.sqrt(10)/3))\n",
        "sensors[1] = Sensor(2,3,(math.sqrt(5)/3))\n",
        "sensors[2] = Sensor(4,5,(math.sqrt(17)/3))\n",
        "sensors[3] = Sensor(6,4,(math.sqrt(2)*3/3))\n",
        "\n",
        "TrilaterationWithLinearSignal(sensors)"
      ]
    },
    {
      "cell_type": "code",
      "execution_count": null,
      "metadata": {
        "id": "LFf2ZsfbaDSr"
      },
      "outputs": [],
      "source": [
        "def TrilaterationWithInverseLinearSignal (sensors):\n",
        "  x1, y1, z1 = sensors[0].x, sensors[0].y, 1/sensors[0].z\n",
        "  x2, y2, z2 = sensors[1].x, sensors[1].y, 1/sensors[1].z\n",
        "  x3, y3, z3 = sensors[2].x, sensors[2].y, 1/sensors[2].z\n",
        "  x4, y4, z4 = sensors[3].x, sensors[3].y, 1/sensors[3].z\n",
        "\n",
        "  z21 = sq(z2) - sq(z1)\n",
        "  z31 = sq(z3) - sq(z1) \n",
        "  z41 = sq(z4) - sq(z1) \n",
        "\n",
        "  x_upper1 = (sq(x3)*z21 - sq(x2)*z31 + sq(y3)*z21 - sq(y2)*z31) * (y2*z41 - y4*z21)\n",
        "  x_upper2 = (sq(x4)*z21 - sq(x2)*z41 + sq(y4)*z21 - sq(y2)*z41) * (y2*z31 - y3*z21)\n",
        "  x_upper =  x_upper1 - x_upper2\n",
        "  x_lower1 = 2 * (x2*z41 - x4*z21) * (y2*z31 - y3*z21)\n",
        "  x_lower2 = 2 * (x2*z31 - x3*z21) * (y2*z41 - y4*z21)\n",
        "  x_lower =  x_lower1 - x_lower2\n",
        "  x = x_upper / x_lower\n",
        "\n",
        "  y_upper1 = sq(x2)*z31\n",
        "  y_upper2 = sq(x3)*z21\n",
        "  y_upper3 = 2*x*(x2*z31- x3*z21)\n",
        "  y_upper4 = sq(y2)*z31\n",
        "  y_upper5 = sq(y3)*z21\n",
        "\n",
        "  y_upper =  y_upper1 - y_upper2 - y_upper3  + y_upper4 - y_upper5\n",
        "  y_lower = 2*(y2*z31 - y3*z21)\n",
        "  y = y_upper / y_lower\n",
        "\n",
        "  z = math.sqrt((sq(x2) - 2*x2*x + sq(y2) - 2*y2*y) / z21)\n",
        "\n",
        "  return (round(x), round(y), round(z))"
      ]
    },
    {
      "cell_type": "code",
      "execution_count": null,
      "metadata": {
        "id": "Y0behKHK8rWG"
      },
      "outputs": [],
      "source": [
        "# D1\n",
        "sensors = [0, 0, 0, 0]\n",
        "sensors[0] = Sensor(0, 0, 1 / (math.sqrt(2)*2/3))\n",
        "sensors[1] = Sensor(2, 4, 1 / (2/3))\n",
        "sensors[2] = Sensor(6, 2, 1 / (4/3))\n",
        "sensors[3] = Sensor(6, 5, 1 / (5/3))\n",
        "\n",
        "TrilaterationWithInverseLinearSignal(sensors)"
      ]
    },
    {
      "cell_type": "code",
      "execution_count": null,
      "metadata": {
        "id": "zeKA9Dq04zcm"
      },
      "outputs": [],
      "source": [
        "def TrilaterationWithInverseSquareSignal (sensors):\n",
        "  x1, y1, z1 = sensors[0].x, sensors[0].y, sensors[0].z\n",
        "  x2, y2, z2 = sensors[1].x, sensors[1].y, sensors[1].z\n",
        "  x3, y3, z3 = sensors[2].x, sensors[2].y, sensors[2].z\n",
        "  x4, y4, z4 = sensors[3].x, sensors[3].y, sensors[3].z\n",
        "\n",
        "  z21 = sq(z2) - sq(z1)\n",
        "  z31 = sq(z3) - sq(z1) \n",
        "  z41 = sq(z4) - sq(z1) \n",
        "\n",
        "  x_upper1 = (sq(x3)*z21 - sq(x2)*z31 + sq(y3)*z21 - sq(y2)*z31) * (y2*z41 - y4*z21)\n",
        "  x_upper2 = (sq(x4)*z21 - sq(x2)*z41 + sq(y4)*z21 - sq(y2)*z41) * (y2*z31 - y3*z21)\n",
        "  x_upper =  x_upper1 - x_upper2\n",
        "  x_lower1 = 2 * (x2*z41 - x4*z21) * (y2*z31 - y3*z21)\n",
        "  x_lower2 = 2 * (x2*z31 - x3*z21) * (y2*z41 - y4*z21)\n",
        "  x_lower =  x_lower1 - x_lower2\n",
        "  x = x_upper / x_lower\n",
        "\n",
        "  y_upper1 = sq(x2)*z31\n",
        "  y_upper2 = sq(x3)*z21\n",
        "  y_upper3 = 2*x*(x2*z31- x3*z21)\n",
        "  y_upper4 = sq(y2)*z31\n",
        "  y_upper5 = sq(y3)*z21\n",
        "  y_upper =  y_upper1 - y_upper2 - y_upper3  + y_upper4 - y_upper5\n",
        "  y_lower = 2*(y2*z31 - y3*z21)\n",
        "  y = y_upper / y_lower\n",
        "\n",
        "  z = math.sqrt((sq(x2) - 2*x2*x + sq(y2) - 2*y2*y) / z21)\n",
        "\n",
        "  return (round(x), round(y), round(z))"
      ]
    },
    {
      "cell_type": "code",
      "execution_count": null,
      "metadata": {
        "id": "TmDr2uxM78oH"
      },
      "outputs": [],
      "source": [
        "# D5\n",
        "sensors = [0, 0, 0, 0]\n",
        "sensors[0] = Sensor3D(0, 0, 9 / 17)\n",
        "sensors[1] = Sensor3D(1, 4, 1 / 2)\n",
        "sensors[2] = Sensor3D(4, 9, 9 / 64)\n",
        "sensors[3] = Sensor3D(8, 4, 9 / 25)\n",
        "\n",
        "TrilaterationWithInverseSquareSignal(sensors)"
      ]
    },
    {
      "cell_type": "code",
      "execution_count": null,
      "metadata": {
        "id": "I8KqluCMZ_2R"
      },
      "outputs": [],
      "source": [
        "def TrilaterationWithDistance3D (sensors):\n",
        "  x1, y1, z1, r1 = sensors[0].x, sensors[0].y, sensors[0].z, sensors[0].r\n",
        "  x2, y2, z2, r2 = sensors[1].x, sensors[1].y, sensors[1].z, sensors[1].r\n",
        "  x3, y3, z3, r3 = sensors[2].x, sensors[2].y, sensors[2].z, sensors[2].r\n",
        "  x4, y4, z4, r4 = sensors[3].x, sensors[3].y, sensors[3].z, sensors[3].r\n",
        "  x5, y5, z5, r5 = sensors[4].x, sensors[4].y, sensors[4].z, sensors[4].r\n",
        "\n",
        "  r21 = sq(r2) - sq(r1)\n",
        "  r31 = sq(r3) - sq(r1)\n",
        "  r41 = sq(r4) - sq(r1)\n",
        "  r51 = sq(r5) - sq(r1)\n",
        "\n",
        "  x23 = x2*r31-x3*r21\n",
        "  x24 = x2*r41-x4*r21\n",
        "  x25 = x2*r51-x5*r21\n",
        "\n",
        "  y23 = y2*r31-y3*r21\n",
        "  y24 = y2*r41-y4*r21\n",
        "  y25 = y2*r51-y5*r21\n",
        "\n",
        "  z23 = z2*r31-z3*r21\n",
        "  z24 = z2*r41-z4*r21\n",
        "  z25 = z2*r51-z5*r21\n",
        "\n",
        "  xyz2 = sq(x2) + sq(y2) + sq(z2)\n",
        "  xyz3 = sq(x3) + sq(y3) + sq(z3)\n",
        "  xyz4 = sq(x4) + sq(y4) + sq(z4)\n",
        "  xyz5 = sq(x5) + sq(y5) + sq(z5)\n",
        "\n",
        "  xu1 = z23*(xyz4*r21 - xyz2*r41) - z24*(xyz3*r21 - xyz2*r31)\n",
        "  xu2 = y25*z23 - y23*z25\n",
        "  xu3 = z23*(xyz5*r21 - xyz2*r51) - z25*(xyz3*r21 - xyz2*r31)\n",
        "  xu4 = y24*z23 - y23*z24\n",
        "  xu = xu1 * xu2 - xu3 * xu4\n",
        "  xl1 = (x25 * z23 - x23 * z25) * (y24 * z23 - y23 * z24)\n",
        "  xl2 = (x24 * z23 - x23 * z24) * (y25 * z23 - y23 * z25)\n",
        "  xl = 2 * (xl1 - xl2)\n",
        "  x = xu / xl\n",
        "\n",
        "  yu1 = -z23 * (xyz4 * r21 - xyz2 * r41)\n",
        "  yu2 = z24 * (xyz3 * r21 - xyz2 * r31)\n",
        "  yu3 = -2 * x * (x24 * z23 - x23 * z24)\n",
        "  yu = yu1 + yu2 + yu3\n",
        "  yl = 2 * (y24 * z23 - y23 * z24)\n",
        "  y = yu / yl\n",
        "\n",
        "  z = (-xyz3 * r21 + xyz2 * r31 - 2 * x * x23 - 2 * y * y23) / (2 * z23)\n",
        "\n",
        "  return [round(x), round(y), round(z)]"
      ]
    },
    {
      "cell_type": "code",
      "execution_count": null,
      "metadata": {
        "id": "oEqTMuJuASlO"
      },
      "outputs": [],
      "source": [
        "sensors = [0, 0, 0, 0, 0]\n",
        "\n",
        "sensors[0] = Sensor3D(0, 0, 1, math.sqrt(10))\n",
        "sensors[1] = Sensor3D(2, 3, 1, math.sqrt(5))\n",
        "sensors[2] = Sensor3D(4, 5, 1, math.sqrt(17))\n",
        "sensors[3] = Sensor3D(6, 4, 1, math.sqrt(18))\n",
        "sensors[4] = Sensor3D(5, 1, 1, 2)\n",
        "\n",
        "TrilaterationWithDistance3D(sensors)"
      ]
    },
    {
      "cell_type": "code",
      "execution_count": null,
      "metadata": {
        "id": "7qf7D02laS2h"
      },
      "outputs": [],
      "source": [
        "# D6\n",
        "sensors = [0, 0, 0, 0, 0]\n",
        "sensors[0] = Sensor3D(0, 0, 1, math.sqrt(17))\n",
        "sensors[1] = Sensor3D(1, 4, 1, math.sqrt(18))\n",
        "sensors[2] = Sensor3D(4, 9, 1, 8)\n",
        "sensors[3] = Sensor3D(8, 4, 1, 5)\n",
        "sensors[4] = Sensor3D(6, 1, 1, 2)\n",
        "\n",
        "TrilaterationWithDistance3D(sensors)"
      ]
    },
    {
      "cell_type": "code",
      "execution_count": null,
      "metadata": {
        "id": "V36VA1FRvs9_"
      },
      "outputs": [],
      "source": [
        "# assuming that radiation is passed, that decreases as 1 / sqrt(r)\n",
        "\n",
        "def TrilaterationWithDistance3D (ds):\n",
        "  x1, y1, z1, r1 = ds[0].x,      ds[0].y,      ds[0].z,      1/ds[0].r\n",
        "  x2, y2, z2, r2 = ds[1].x - x1, ds[1].y - y1, ds[1].z - z1, 1/ds[1].r\n",
        "  x3, y3, z3, r3 = ds[2].x - x1, ds[2].y - y1, ds[2].z - z1, 1/ds[2].r\n",
        "  x4, y4, z4, r4 = ds[3].x - x1, ds[3].y - y1, ds[3].z - z1, 1/ds[3].r\n",
        "  x5, y5, z5, r5 = ds[4].x - x1, ds[4].y - y1, ds[4].z - z1, 1/ds[4].r\n",
        "\n",
        "  r21 = r2 - r1\n",
        "  r31 = r3 - r1\n",
        "  r41 = r4 - r1\n",
        "  r51 = r5 - r1\n",
        "\n",
        "  x23 = x2*r31-x3*r21\n",
        "  x24 = x2*r41-x4*r21\n",
        "  x25 = x2*r51-x5*r21\n",
        "  y23 = y2*r31-y3*r21\n",
        "  y24 = y2*r41-y4*r21\n",
        "  y25 = y2*r51-y5*r21\n",
        "  z23 = z2*r31-z3*r21\n",
        "  z24 = z2*r41-z4*r21\n",
        "  z25 = z2*r51-z5*r21\n",
        "\n",
        "  t2 = sq(x2) + sq(y2) + sq(z2)\n",
        "  t3 = sq(x3) + sq(y3) + sq(z3)\n",
        "  t4 = sq(x4) + sq(y4) + sq(z4)\n",
        "  t5 = sq(x5) + sq(y5) + sq(z5)\n",
        "\n",
        "  xu1 = z23*(t4*r21 - t2*r41) - z24*(t3*r21 - t2*r31)\n",
        "  xu2 = y25*z23 - y23*z25\n",
        "  xu3 = z23*(t5*r21 - t2*r51) - z25*(t3*r21 - t2*r31)\n",
        "  xu4 = y24*z23 - y23*z24\n",
        "  xu = xu1 * xu2 - xu3 * xu4\n",
        "  xl1 = (x25 * z23 - x23 * z25) * (y24 * z23 - y23 * z24)\n",
        "  xl2 = (x24 * z23 - x23 * z24) * (y25 * z23 - y23 * z25)\n",
        "  xl = 2 * (xl1 - xl2)\n",
        "  x = xu / xl\n",
        "\n",
        "  yu1 = z24 * (t3 * r21 - t2 * r31)\n",
        "  yu2 = z23 * (t4 * r21 - t2 * r41)\n",
        "  yu3 = 2 * x * (x24 * z23 - x23 * z24)\n",
        "  yu = yu1 - yu2 - yu3\n",
        "  yl = 2 * (y24 * z23 - y23 * z24)\n",
        "  y = yu / yl\n",
        "\n",
        "  z = (t2 * r31 - t3 * r21 - 2 * x * x23 - 2 * y * y23) / (2 * z23)\n",
        "\n",
        "  return [(x+x1), (y+y1), (z+z1)]"
      ]
    },
    {
      "cell_type": "code",
      "execution_count": null,
      "metadata": {
        "colab": {
          "base_uri": "https://localhost:8080/"
        },
        "id": "gisPWKwOYt4F",
        "outputId": "927d02ad-f1ea-411b-9b81-60654ba4cb39"
      },
      "outputs": [
        {
          "data": {
            "text/plain": [
              "6.0"
            ]
          },
          "execution_count": 44,
          "metadata": {},
          "output_type": "execute_result"
        }
      ],
      "source": [
        "# z = 6\n",
        "\n",
        "ds = []\n",
        "ds.append(Dosimeter3D(1, 5, 2, 1/24))\n",
        "ds.append(Dosimeter3D(5, 4, 5, 1/6))\n",
        "ds.append(Dosimeter3D(2, 1, 8, 1/9))\n",
        "\n",
        "TrilaterationSimplified(ds, 3, 3)"
      ]
    },
    {
      "cell_type": "code",
      "execution_count": null,
      "metadata": {
        "colab": {
          "base_uri": "https://localhost:8080/"
        },
        "id": "-qRW1zwS9yHP",
        "outputId": "aa5c3575-9822-4d3d-97b2-c7075418e7fd"
      },
      "outputs": [
        {
          "data": {
            "text/plain": [
              "[2.9172413793103447, 3.0827586206896553, 6.241379310344827]"
            ]
          },
          "execution_count": 197,
          "metadata": {},
          "output_type": "execute_result"
        }
      ],
      "source": [
        "#  z = 6\n",
        "ds = []\n",
        "ds.append(Dosimeter3D(1, 5, 2, 1/24))\n",
        "ds.append(Dosimeter3D(1, 5, 8, 1/12))\n",
        "ds.append(Dosimeter3D(5, 4, 5, 1/6))\n",
        "ds.append(Dosimeter3D(5, 4, 8, 1/9))\n",
        "ds.append(Dosimeter3D(2, 1, 8, 1/9))\n",
        "\n",
        "RadiationToDistanceLinear(ds)\n",
        "\n",
        "TrilaterationWithDistance3D(ds)"
      ]
    },
    {
      "cell_type": "markdown",
      "metadata": {
        "id": "wzLUv3PCoWmB"
      },
      "source": [
        "# SymPy"
      ]
    },
    {
      "cell_type": "code",
      "execution_count": null,
      "metadata": {
        "colab": {
          "base_uri": "https://localhost:8080/",
          "height": 58
        },
        "id": "Q42dGe29136E",
        "outputId": "05efff8e-454a-4f8c-c0a2-0c4ba73ba25e"
      },
      "outputs": [
        {
          "data": {
            "text/latex": "$\\displaystyle \\left\\{\\left( x_{1} + i \\left(- y_{1} + \\frac{i \\left(x_{1} - x_{2} - y_{1} i - y_{2} i\\right)}{2}\\right), \\  \\frac{i \\left(x_{1} - x_{2} - y_{1} i - y_{2} i\\right)}{2}\\right), \\left( x_{1} - i \\left(- y_{1} - \\frac{i \\left(x_{1} - x_{2} + y_{1} i + y_{2} i\\right)}{2}\\right), \\  - \\frac{i \\left(x_{1} - x_{2} + y_{1} i + y_{2} i\\right)}{2}\\right)\\right\\}$",
            "text/plain": [
              "FiniteSet((_x1 - I*(-_y1 - I*(_x1 - _x2 + _y1*I + _y2*I)/2), -I*(_x1 - _x2 + _y1*I + _y2*I)/2), (_x1 + I*(-_y1 + I*(_x1 - _x2 - _y1*I - _y2*I)/2), I*(_x1 - _x2 - _y1*I - _y2*I)/2))"
            ]
          },
          "execution_count": 16,
          "metadata": {},
          "output_type": "execute_result"
        }
      ],
      "source": [
        "#Sympy testing\n",
        "\n",
        "from sympy import symbols, nonlinsolve, Dummy\n",
        "x, y = symbols('x, y', real=True)\n",
        "x1 = Dummy('x1')\n",
        "x2 = Dummy('x2')\n",
        "x3 = Dummy('x3')\n",
        "y1 = Dummy('y1')\n",
        "y2 = Dummy('y2')\n",
        "y3 = Dummy('y3')\n",
        "\n",
        "nonlinsolve([(x1-x)**2+(y1-y)**2, (x2-x)**2+(y2-y)**2, (x3-x)**2+(y3-y)**2], [x, y])\n"
      ]
    },
    {
      "cell_type": "markdown",
      "metadata": {
        "id": "Zn-JAkI2o1H4"
      },
      "source": [
        "# Dosimeter generation"
      ]
    },
    {
      "cell_type": "code",
      "execution_count": null,
      "metadata": {
        "id": "dlGm4EJgo3j3"
      },
      "outputs": [],
      "source": [
        "# Dosimeter generation\n",
        "\n",
        "# def GenerateDosimeters(ds_count, sx, sy, sz, min, max):\n",
        "#   ds = []\n",
        "  \n",
        "#   for i in range(ds_count):\n",
        "#     d = Dosimeter3D()\n",
        "#     d.x = random.uniform(min, max)\n",
        "#     d.y = random.uniform(min, max)\n",
        "#     if (sz == 0):\n",
        "#       d.z = 0\n",
        "#     else:\n",
        "#       d.z = random.uniform(min, max)\n",
        "\n",
        "#     d.r = 1 / ((d.x - sx) ** 2 + (d.y - sy) ** 2 + (d.z - sz) ** 2)\n",
        "\n",
        "#     ds.append(d)\n",
        "\n",
        "#   return ds\n",
        "\n",
        "def LineRadiation(d, xs, ys, zs):\n",
        "  radiation = 0\n",
        "\n",
        "  for i in range(len(xs)):\n",
        "    radiation += 1 / ((d.x - xs[i]) ** 2 + (d.y - ys[i]) ** 2 + (d.z - zs[i]) ** 2)\n",
        "\n",
        "  return radiation/2 # nes nusistatau šiuo atveju k = 1/2\n",
        "\n",
        "def GenerateDosimetersLine(ds_count, src_x, src_y, src_z, min, max, src_len):\n",
        "  src_xs, src_ys, src_zs = [], [], []\n",
        "  ds = []\n",
        "  offset = src_len / (2 * math.sqrt(3))\n",
        "  step = 0.2\n",
        "  axis_step = step / math.sqrt(3)\n",
        "\n",
        "  i = 0\n",
        "  while step * i < src_len:\n",
        "    src_xs.append(src_x - offset + axis_step * i)\n",
        "    src_ys.append(src_y - offset + axis_step * i)\n",
        "    src_zs.append(src_z - offset + axis_step * i)\n",
        "    i += 1\n",
        "  \n",
        "  for i in range(ds_count):\n",
        "    d = Dosimeter3D()\n",
        "    d.x = random.uniform(min, max)\n",
        "    d.y = random.uniform(min, max)\n",
        "    if (src_z == 0):\n",
        "      d.z = 0\n",
        "    else:\n",
        "      d.z = random.uniform(min, max)\n",
        "    d.r = LineRadiation(d, src_xs, src_ys, src_zs)\n",
        "\n",
        "    ds.append(d)\n",
        "\n",
        "  return ds\n",
        "\n",
        "def AddNoise(ds, val=0.1):\n",
        "  for d in ds:\n",
        "    noise = np.random.normal(0, val, 1)\n",
        "    while (d.r + noise[0] < 0):\n",
        "      noise = np.random.normal(0, val, 1)\n",
        "    d.r += noise[0]\n",
        "  \n",
        "  return ds"
      ]
    },
    {
      "cell_type": "markdown",
      "metadata": {
        "id": "I2cvyKunoZ7f"
      },
      "source": [
        "# PDF"
      ]
    },
    {
      "cell_type": "markdown",
      "metadata": {
        "id": "x38roTIIo8Ey"
      },
      "source": [
        "## Univariate"
      ]
    },
    {
      "cell_type": "code",
      "execution_count": null,
      "metadata": {
        "colab": {
          "base_uri": "https://localhost:8080/",
          "height": 317
        },
        "id": "F44ZvjDeyb0I",
        "outputId": "8736bfc2-0423-4a8c-effc-27713fe07dbe"
      },
      "outputs": [
        {
          "name": "stdout",
          "output_type": "stream",
          "text": [
            "0.24129692688666668\n",
            "<class 'numpy.ndarray'>\n"
          ]
        },
        {
          "data": {
            "text/plain": [
              "1.6026026026026026"
            ]
          },
          "execution_count": 15,
          "metadata": {},
          "output_type": "execute_result"
        },
        {
          "data": {
            "image/png": "[encoded data removed]",
            "text/plain": [
              "<Figure size 432x288 with 1 Axes>"
            ]
          },
          "metadata": {},
          "output_type": "display_data"
        }
      ],
      "source": [
        "# pdf example\n",
        "import numpy as np\n",
        "import matplotlib.pyplot as plt\n",
        "from scipy.stats import norm\n",
        "\n",
        "sc = 1\n",
        "x_axis = np.linspace(-1, 7, 1000)\n",
        "\n",
        "y1 = norm.pdf(x_axis, 1, sc)\n",
        "y2 = norm.pdf(x_axis, 2, sc)\n",
        "y3 = norm.pdf(x_axis, 4, sc)\n",
        "y = (1/3) * y1 + (1/3) * y2 + (1/3) * y3\n",
        "\n",
        "plt.plot(x_axis, y1)\n",
        "plt.plot(x_axis, y2)\n",
        "plt.plot(x_axis, y3)\n",
        "plt.plot(x_axis, y)\n",
        "\n",
        "print(max(y))\n",
        "print(type(y))\n",
        "x_axis[np.argmax(y)]"
      ]
    },
    {
      "cell_type": "code",
      "execution_count": null,
      "metadata": {
        "id": "tzOtjsA0FjdO"
      },
      "outputs": [],
      "source": [
        "def MixtureDensityMaximum1D(xs):\n",
        "  x_axis = np.linspace(-1, 7, 1000)\n",
        "  scale = 1\n",
        "  pdfs = []\n",
        "  mdf = 0\n",
        "\n",
        "  for x in xs:\n",
        "    pdf = norm.pdf(x_axis, x, scale)\n",
        "    pdfs.append(pdf)\n",
        "\n",
        "    mdf += (pdf / len(xs))\n",
        "\n",
        "  return x_axis[np.argmax(mdf)]\n",
        "\n",
        "def MixtureDensity1DWithGraphs(xs):\n",
        "  scale = 1\n",
        "  x_axis = np.linspace(-1, 7, 1000)\n",
        "\n",
        "  pdfs = []\n",
        "  mdf = 0\n",
        "  for x in xs:\n",
        "    pdf = norm.pdf(x_axis, x, scale)\n",
        "    plt.plot(x_axis, pdf)\n",
        "    pdfs.append(pdf)\n",
        "\n",
        "    mdf += (pdf / len(xs))\n",
        "\n",
        "  plt.plot(x_axis, mdf)\n",
        "\n",
        "  return x_axis[np.argmax(mdf)]\n",
        "\n",
        "def MixtureDensity2D(points):\n",
        "  xs = []\n",
        "  ys = []\n",
        "  for p in points:\n",
        "    xs.append(p[0])\n",
        "    ys.append(p[1])\n",
        "\n",
        "  x = MixtureDensityMaximum1D(xs)\n",
        "  y = MixtureDensityMaximum1D(ys)\n",
        "\n",
        "  return (x, y)\n",
        "\n",
        "def MixtureDensity3D(points):\n",
        "  xs = []\n",
        "  ys = []\n",
        "  zs = []\n",
        "  for p in points:\n",
        "    xs.append(p[0])\n",
        "    ys.append(p[1])\n",
        "    zs.append(p[2])\n",
        "\n",
        "  x = MixtureDensityMaximum1D(xs)\n",
        "  y = MixtureDensityMaximum1D(ys)\n",
        "  z = MixtureDensityMaximum1D(zs)\n",
        "\n",
        "  return (x, y, z)"
      ]
    },
    {
      "cell_type": "code",
      "execution_count": null,
      "metadata": {
        "id": "IakLf5c5IhQp"
      },
      "outputs": [],
      "source": [
        "xs = [1,2,4]\n",
        "MixtureDensity1DWithGraphs(xs)"
      ]
    },
    {
      "cell_type": "code",
      "execution_count": null,
      "metadata": {
        "colab": {
          "base_uri": "https://localhost:8080/"
        },
        "id": "WN0XiTxWEq70",
        "outputId": "1770b613-a8ee-43f8-b7a7-a2bf0d690628"
      },
      "outputs": [
        {
          "name": "stdout",
          "output_type": "stream",
          "text": [
            "[array([0.57855409, 2.09576735, 2.17179891]), array([2.17144456, 2.79893407, 2.93090137]), array([6.14562948, 3.00098136, 2.31544155]), array([0.99190689, 4.87084059, 5.92357799]), array([1.04255046, 4.65695029, 8.51955957]), array([11.99766933,  2.92002697, 56.0758825 ]), array([0.96335004, 5.10076435, 8.62469267]), array([ 4.0977001 ,  9.20941023, 12.06123721]), array([12.35184209,  4.95248949,  9.23791763]), array([1.98979364, 5.85449459, 8.21407222])]\n",
            "(1.234234234234234, 4.781781781781782, 2.4674674674674675)\n",
            "(1.3063063063063063, 4.90990990990991, 2.2912912912912913)\n"
          ]
        }
      ],
      "source": [
        "points = [(1, 2, 2), (2, 3, 3), (6, 3, 2), (1,5,6), (1,5,9), (12,3,56), (1,5,9), (4,9,12), (12,5,9), (2,6,8)]\n",
        "point_new = []\n",
        "for i in range(len(points)):\n",
        "  noise = np.random.normal(0, 0.2, 3) #-0.5\n",
        "  tmp_point = points[i] + noise\n",
        "  point_new.append(tmp_point)\n",
        "  # ptrin(point_new)\n",
        "  # triplet[0] += noise[0]\n",
        "  # triplet[1] += noise[1]\n",
        "  # triplet[2] += noise[2]\n",
        "\n",
        "print(point_new)\n",
        "\n",
        "rez = MixtureDensity3D(point_new)\n",
        "print(rez)\n",
        "rez2 = MixtureDensity3D(points)\n",
        "print(rez2)"
      ]
    },
    {
      "cell_type": "markdown",
      "metadata": {
        "id": "_oXfJA7npGlO"
      },
      "source": [
        "## Multivariate"
      ]
    },
    {
      "cell_type": "code",
      "execution_count": null,
      "metadata": {
        "id": "8wig4DMOeRqf"
      },
      "outputs": [],
      "source": [
        "# Multivariate distribution\n",
        "import numpy as np\n",
        "\n",
        "import matplotlib.pyplot as plt\n",
        "from scipy.stats import multivariate_normal\n",
        "\n",
        "ds = [0, 0, 0, 0, 0]\n",
        "ds[0] = Sensor3D(1,1,1, 0.25)\n",
        "ds[1] = Sensor3D(0,4,3, 0.04545)\n",
        "ds[2] = Sensor3D(0,4,4, 0.03704)\n",
        "ds[3] = Sensor3D(0,2,1, 0.1)\n",
        "ds[4] = Sensor3D(4,0,3, 0.16667)"
      ]
    },
    {
      "cell_type": "code",
      "execution_count": null,
      "metadata": {
        "colab": {
          "base_uri": "https://localhost:8080/",
          "height": 285
        },
        "id": "qrCp1M5BeXWb",
        "outputId": "26386f3b-62d3-4900-fadd-807feb565dea"
      },
      "outputs": [
        {
          "data": {
            "text/plain": [
              "[<matplotlib.lines.Line2D at 0x7ffb10457a90>]"
            ]
          },
          "execution_count": 23,
          "metadata": {},
          "output_type": "execute_result"
        },
        {
          "data": {
            "image/png": "[encoded data removed]",
            "text/plain": [
              "<Figure size 432x288 with 1 Axes>"
            ]
          },
          "metadata": {},
          "output_type": "display_data"
        }
      ],
      "source": [
        "# plt 1D\n",
        "\n",
        "x = np.linspace(0, 5, 100, endpoint=False)\n",
        "y = multivariate_normal.pdf(x, mean=2.5, cov=1)\n",
        "fig1 = plt.figure()\n",
        "ax = fig1.add_subplot(111)\n",
        "ax.plot(x, y)"
      ]
    },
    {
      "cell_type": "code",
      "execution_count": null,
      "metadata": {
        "colab": {
          "base_uri": "https://localhost:8080/",
          "height": 285
        },
        "id": "mjgIvDA7eww1",
        "outputId": "8d25f577-a66f-4e11-af24-5ef3c82ac505"
      },
      "outputs": [
        {
          "data": {
            "text/plain": [
              "<matplotlib.collections.PathCollection at 0x7ffb103457d0>"
            ]
          },
          "execution_count": 25,
          "metadata": {},
          "output_type": "execute_result"
        },
        {
          "data": {
            "image/png": "[encoded data removed]",
            "text/plain": [
              "<Figure size 432x288 with 1 Axes>"
            ]
          },
          "metadata": {},
          "output_type": "display_data"
        }
      ],
      "source": [
        "# plt 2D\n",
        "\n",
        "x, y = np.mgrid[-1:1:.01, -1:1:.01]\n",
        "pos = np.dstack((x, y))\n",
        "rv = multivariate_normal([0.5, -0.2], [[1.0, -1], [0.1, 1]])\n",
        "fig2 = plt.figure()\n",
        "ax2 = fig2.add_subplot(111)\n",
        "ax2.contourf(x, y, rv.pdf(pos))\n",
        "ax2.scatter(0, 0, c=\"red\")"
      ]
    },
    {
      "cell_type": "code",
      "execution_count": null,
      "metadata": {
        "colab": {
          "base_uri": "https://localhost:8080/",
          "height": 357
        },
        "id": "Ynhug6mipYcR",
        "outputId": "ecf53b64-bf38-4158-c824-2e85bd2d4327"
      },
      "outputs": [
        {
          "name": "stderr",
          "output_type": "stream",
          "text": [
            "/usr/local/lib/python3.7/dist-packages/ipykernel_launcher.py:10: MatplotlibDeprecationWarning: Adding an axes using the same arguments as a previous axes currently reuses the earlier instance.  In a future version, a new instance will always be created and returned.  Meanwhile, this warning can be suppressed, and the future behavior ensured, by passing a unique label to each axes instance.\n",
            "  # Remove the CWD from sys.path while we load stuff.\n",
            "/usr/local/lib/python3.7/dist-packages/ipykernel_launcher.py:11: MatplotlibDeprecationWarning: Adding an axes using the same arguments as a previous axes currently reuses the earlier instance.  In a future version, a new instance will always be created and returned.  Meanwhile, this warning can be suppressed, and the future behavior ensured, by passing a unique label to each axes instance.\n",
            "  # This is added back by InteractiveShellApp.init_path()\n"
          ]
        },
        {
          "data": {
            "image/png": "[encoded data removed]",
            "text/plain": [
              "<Figure size 432x288 with 1 Axes>"
            ]
          },
          "metadata": {},
          "output_type": "display_data"
        }
      ],
      "source": [
        "# plt contour\n",
        "\n",
        "x, y = np.mgrid[-2:5:.1, -2:5:.1]\n",
        "pos = np.dstack((x, y))\n",
        "rv1 = multivariate_normal([ds[0].x,ds[0].y], 1) # [[0.5, 0.5], [0.6, 0.5]]\n",
        "rv2 = multivariate_normal([ds[1].x,ds[1].y], 1) # [[0.5, 0.5], [0.6, 0.5]]\n",
        "\n",
        "fig2 = plt.figure()\n",
        "fig2.gca().set_aspect('equal', adjustable='box')\n",
        "ax2 = fig2.add_subplot(111)\n",
        "ax3 = fig2.add_subplot(111)\n",
        "\n",
        "ax2.contourf(x, y, rv1.pdf(pos))\n",
        "ax3.contourf(x, y, rv2.pdf(pos))\n",
        "for d in ds:\n",
        "  ax2.scatter(d.x, d.y, c=\"red\")\n",
        "  \n",
        "plt.show()"
      ]
    },
    {
      "cell_type": "code",
      "execution_count": null,
      "metadata": {
        "colab": {
          "base_uri": "https://localhost:8080/",
          "height": 325
        },
        "id": "6deEpn2RRqqx",
        "outputId": "ffa1f7f3-9343-4ace-afa6-4b517403e8a1"
      },
      "outputs": [
        {
          "name": "stderr",
          "output_type": "stream",
          "text": [
            "/usr/local/lib/python3.7/dist-packages/ipykernel_launcher.py:8: MatplotlibDeprecationWarning: Adding an axes using the same arguments as a previous axes currently reuses the earlier instance.  In a future version, a new instance will always be created and returned.  Meanwhile, this warning can be suppressed, and the future behavior ensured, by passing a unique label to each axes instance.\n",
            "  \n"
          ]
        },
        {
          "data": {
            "image/png": "[encoded data removed]",
            "text/plain": [
              "<Figure size 432x288 with 1 Axes>"
            ]
          },
          "metadata": {},
          "output_type": "display_data"
        }
      ],
      "source": [
        "# plt scatter\n",
        "\n",
        "x, y = np.mgrid[-2:5:.1, -2:5:.1]\n",
        "pos = np.dstack((x, y))\n",
        "\n",
        "fig = plt.figure()\n",
        "fig.gca().set_aspect('equal', adjustable='box')\n",
        "ax = fig.add_subplot(111)\n",
        "\n",
        "t_cov = [[0.025, 0.0], [0.0, 0.025]]\n",
        "\n",
        "xy = []\n",
        "for d in ds:\n",
        "  t_x, t_y = np.random.multivariate_normal([d.x, d.y], t_cov, 50).T\n",
        "  xy.append([t_x, t_y])\n",
        "\n",
        "ax.scatter(xy[0][0],xy[0][1],c='r')\n",
        "ax.scatter(xy[1][0],xy[1][1],c='g')\n",
        "ax.scatter(xy[2][0],xy[2][1],c='b')\n",
        "ax.scatter(xy[3][0],xy[3][1],c='y')\n",
        "plt.show() "
      ]
    },
    {
      "cell_type": "code",
      "execution_count": null,
      "metadata": {
        "colab": {
          "base_uri": "https://localhost:8080/",
          "height": 239
        },
        "id": "VvZFdTO_70K1",
        "outputId": "cbbb405c-3113-4d4e-f139-b9d2d5e7581a"
      },
      "outputs": [
        {
          "data": {
            "text/plain": [
              "<matplotlib.axes._subplots.AxesSubplot at 0x7ffb102a6510>"
            ]
          },
          "execution_count": 29,
          "metadata": {},
          "output_type": "execute_result"
        },
        {
          "data": {
            "image/png": "[encoded data removed]",
            "text/plain": [
              "<Figure size 432x432 with 1 Axes>"
            ]
          },
          "metadata": {},
          "output_type": "display_data"
        }
      ],
      "source": [
        "# Seaborn 2D\n",
        "\n",
        "import numpy as np\n",
        "import seaborn as sns\n",
        "import matplotlib.pyplot as plt\n",
        "sns.set_theme(style=\"dark\")\n",
        "\n",
        "# Simulate data from a bivariate Gaussian\n",
        "x1, y1 = np.random.multivariate_normal([ds[0].x, ds[0].y], [[2.0, 0.3], [0.3, 0.5]], 50).T\n",
        "\n",
        "x2, y2 = np.random.multivariate_normal([ds[1].x, ds[1].y], [[1, 0.3], [0.3, 1]], 50).T\n",
        "\n",
        "x3, y3 = np.random.multivariate_normal([10, 0], [[1, 0.1], [0.1, 1]], 50).T\n",
        "\n",
        "x = np.concatenate([x1, x2, x3])\n",
        "y = np.concatenate([y1, y2, y3])\n",
        "\n",
        "# Draw a combo histogram and scatterplot with density contours\n",
        "f, ax = plt.subplots(figsize=(6, 6), facecolor='#F3E5AB', edgecolor='#FF7F50')\n",
        "# fig.add_axes([1,1,5,1], projection=None, polar=False)\n",
        "f.gca().set_aspect('equal', adjustable='box')\n",
        "# ax = fig.add_subplot(111)\n",
        "plt.xlabel(\"X axis\")\n",
        "plt.ylabel(\"Y axis\")\n",
        "\n",
        "sns.scatterplot(x=x1, y=y1, s=20, color=\".15\")\n",
        "sns.histplot(x=x1, y=y1, bins=1000, pthresh=.1, cmap=\"mako\")\n",
        "sns.kdeplot(x=x1, y=y1, levels=5, color=\"r\", linewidths=2)\n",
        "\n",
        "sns.scatterplot(x=x2, y=y2, s=20, color=\".15\")\n",
        "sns.histplot(x=x2, y=y2, bins=1000, pthresh=.1, cmap=\"mako\")\n",
        "sns.kdeplot(x=x2, y=y2, levels=5, color=\"b\", linewidths=2)\n",
        "\n",
        "sns.scatterplot(x=x3, y=y3, s=20, color=\".15\")\n",
        "sns.histplot(x=x3, y=y3, bins=1000, pthresh=.1, cmap=\"mako\")\n",
        "sns.kdeplot(x=x3, y=y3, levels=5, color=\"g\", linewidths=2)\n",
        "\n",
        "sns.scatterplot(x=x, y=y, s=20, color=\".15\")\n",
        "sns.histplot(x=x, y=y, bins=1000, pthresh=.1, cmap=\"mako\")\n",
        "sns.kdeplot(x=x, y=y, levels=5, color=\"y\", linewidths=2)"
      ]
    },
    {
      "cell_type": "code",
      "execution_count": null,
      "metadata": {
        "colab": {
          "base_uri": "https://localhost:8080/",
          "height": 865
        },
        "id": "EXiWznof60xU",
        "outputId": "e3d19c5c-8553-41f9-edf7-f1f5f44b758a"
      },
      "outputs": [
        {
          "data": {
            "image/png": "[encoded data removed]",
            "text/plain": [
              "<Figure size 1008x432 with 3 Axes>"
            ]
          },
          "metadata": {},
          "output_type": "display_data"
        },
        {
          "data": {
            "image/png": "[encoded data removed]",
            "text/plain": [
              "<Figure size 1008x432 with 3 Axes>"
            ]
          },
          "metadata": {},
          "output_type": "display_data"
        }
      ],
      "source": [
        "# Importing the necessary modules\n",
        "import numpy as np\n",
        "import matplotlib.pyplot as plt\n",
        "from scipy.stats import multivariate_normal\n",
        "\n",
        "plt.style.use('seaborn-dark')\n",
        "plt.rcParams['figure.figsize']=14,6\n",
        "fig = plt.figure()\n",
        "\n",
        "# Initializing the random seed\n",
        "random_seed=1000\n",
        "\n",
        "# List containing the variance\n",
        "# covariance values\n",
        "cov_val = [-0.8, 0, 0.8]\n",
        "\n",
        "# Setting mean of the distributino\n",
        "# to be at (0,0)\n",
        "mean = np.array([0,0])\n",
        "\n",
        "# Storing density function values for\n",
        "# further analysis\n",
        "pdf_list = []\n",
        "\n",
        "# Iterating over different covariance values\n",
        "for idx, val in enumerate(cov_val):\n",
        "\t\n",
        "\t# Initializing the covariance matrix\n",
        "\tcov = np.array([[1, val], [val, 1]])\n",
        "\t\n",
        "\t# Generating a Gaussian bivariate distribution\n",
        "\t# with given mean and covariance matrix\n",
        "\tdistr = multivariate_normal(cov = cov, mean = mean,\n",
        "\t\t\t\t\t\t\t\tseed = random_seed)\n",
        "\t\n",
        "\t# Generating a meshgrid complacent with\n",
        "\t# the 3-sigma boundary\n",
        "\tmean_1, mean_2 = mean[0], mean[1]\n",
        "\tsigma_1, sigma_2 = cov[0,0], cov[1,1]\n",
        "\t\n",
        "\tx = np.linspace(-3*sigma_1, 3*sigma_1, num=100)\n",
        "\ty = np.linspace(-3*sigma_2, 3*sigma_2, num=100)\n",
        "\tX, Y = np.meshgrid(x,y)\n",
        "\t\n",
        "\t# Generating the density function\n",
        "\t# for each point in the meshgrid\n",
        "\tpdf = np.zeros(X.shape)\n",
        "\tfor i in range(X.shape[0]):\n",
        "\t\tfor j in range(X.shape[1]):\n",
        "\t\t\tpdf[i,j] = distr.pdf([X[i,j], Y[i,j]])\n",
        "\t\n",
        "\t# Plotting the density function values\n",
        "\tkey = 131+idx\n",
        "\tax = fig.add_subplot(key, projection = '3d')\n",
        "\tax.plot_surface(X, Y, pdf, cmap = 'viridis')\n",
        "\tplt.xlabel(\"x1\")\n",
        "\tplt.ylabel(\"x2\")\n",
        "\tplt.title(f'Covariance between x1 and x2 = {val}')\n",
        "\tpdf_list.append(pdf)\n",
        "\tax.axes.zaxis.set_ticks([])\n",
        "\n",
        "plt.tight_layout()\n",
        "plt.show()\n",
        "\n",
        "# Plotting contour plots\n",
        "for idx, val in enumerate(pdf_list):\n",
        "\tplt.subplot(1,3,idx+1)\n",
        "\tplt.contourf(X, Y, val, cmap='viridis')\n",
        "\tplt.xlabel(\"x1\")\n",
        "\tplt.ylabel(\"x2\")\n",
        "\tplt.title(f'Covariance between x1 and x2 = {cov_val[idx]}')\n",
        "plt.tight_layout()\n",
        "plt.show()\n"
      ]
    },
    {
      "cell_type": "markdown",
      "metadata": {
        "id": "q6fDDLhzvJ7m"
      },
      "source": [
        "# Example calculations"
      ]
    },
    {
      "cell_type": "code",
      "execution_count": null,
      "metadata": {
        "colab": {
          "base_uri": "https://localhost:8080/"
        },
        "id": "AP58vqKVIy02",
        "outputId": "b15c500d-7631-49b9-9ed2-fa07e4555bab"
      },
      "outputs": [
        {
          "name": "stdout",
          "output_type": "stream",
          "text": [
            "13.24934169691066   13.608151586055245   9.978269791282191   0.08763289406350074\n",
            "27.984107120095477   6.283915651632205   44.975887667772426   0.04906549909433018\n",
            "9.13355825257532   5.566497063338538   0.7287054739603394   0.032152675536534926\n",
            "2.3907536184332887   43.30204841974464   46.396767441227574   0.027634767944915106\n",
            "43.42024583715428   14.553364203941738   22.869882618498615   0.07841753964551873\n",
            "39.157816805657056   8.66842109478561   9.0586226345446   0.05227321738830432\n",
            "25.925094399753558   29.082435621515444   7.940053527771463   0.1185695027436326\n",
            "19.397313014949642   12.698365863130123   33.309149920331166   0.14343264142456286\n",
            "7.775907707830304   0.9243248850558827   22.643447398554734   0.04437232073475765\n"
          ]
        }
      ],
      "source": [
        "# Using generated dosimeters\n",
        "\n",
        "ds_count = 9\n",
        "ds_min = 5\n",
        "src_len = 15\n",
        "\n",
        "ds = GenerateDosimetersLine(ds_count=ds_count, src_x=25, src_y=25, src_z=25, min=0, max=50, src_len=src_len)\n",
        "# print(\"Clean\")\n",
        "# for d in ds:\n",
        "#   print(d.x, \" \", d.y, \" \", d.z, \" \", d.r)\n",
        "\n",
        "AddNoise(ds, 0.0008)\n",
        "# print(\"Noisy\")\n",
        "# for d in ds:\n",
        "#   print(d.x, \" \", d.y, \" \", d.z, \" \", d.r)\n",
        "for d in ds:\n",
        "  d.print()"
      ]
    },
    {
      "cell_type": "code",
      "execution_count": null,
      "metadata": {
        "id": "M5Ff-SRk7QeJ"
      },
      "outputs": [],
      "source": [
        "# Using custom dosimeters\n",
        "\n",
        "ds = []\n",
        "ds.append(Dosimeter3D(2, 1, 1, 1/2))\n",
        "ds.append(Dosimeter3D(2, 4, 0.99, 1/5))\n",
        "ds.append(Dosimeter3D(4, 2, 1, 1))\n",
        "ds.append(Dosimeter3D(3, 6, 1, 1/16))\n",
        "ds.append(Dosimeter3D(3, 6, 1, 0))\n",
        "ds.append(Dosimeter3D(6, 6, 1, 1/25))"
      ]
    },
    {
      "cell_type": "code",
      "execution_count": null,
      "metadata": {
        "colab": {
          "base_uri": "https://localhost:8080/"
        },
        "id": "EvircT6QJTlY",
        "outputId": "a64812ca-9fa7-462b-8c6d-04516f2ade8a"
      },
      "outputs": [
        {
          "name": "stdout",
          "output_type": "stream",
          "text": [
            "2   1   1   1.414213562373095\n",
            "2   4   0.99   2.23606797749979\n",
            "4   2   1   1.0\n",
            "3   6   1   4.0\n",
            "3   6   1   0\n",
            "6   6   1   5.0\n"
          ]
        }
      ],
      "source": [
        "RadiationToDistanceSquare(ds)\n",
        "\n",
        "for d in ds:\n",
        "  d.print()\n",
        "\n",
        "tl_results = ExhaustiveTrilateration(ds)"
      ]
    },
    {
      "cell_type": "code",
      "execution_count": null,
      "metadata": {
        "id": "mB2U4liox709"
      },
      "outputs": [],
      "source": [
        "# Calculating trilateration multiple times with various combinations of dosimeters\n",
        "\n",
        "tl_results = ExhaustiveTrilateration(ds)\n",
        "# tl_results = NonExhaustiveTrilateration(ds)"
      ]
    },
    {
      "cell_type": "code",
      "execution_count": null,
      "metadata": {
        "colab": {
          "base_uri": "https://localhost:8080/"
        },
        "id": "uARZVPHlzZcH",
        "outputId": "19765e6d-37a0-44a5-d657-d119b8cdcc74"
      },
      "outputs": [
        {
          "name": "stdout",
          "output_type": "stream",
          "text": [
            "[2.58258258 3.50750751 0.998999  ]\n"
          ]
        }
      ],
      "source": [
        "# Calculating maximum of Gaussian mixture\n",
        "\n",
        "mix_max_3d = MixtureDensityMaximum3D(tl_results)\n",
        "print(mix_max_3d)"
      ]
    },
    {
      "cell_type": "code",
      "execution_count": null,
      "metadata": {
        "colab": {
          "base_uri": "https://localhost:8080/"
        },
        "id": "_y2oyA66zaLr",
        "outputId": "5fab58cd-11b1-427e-dca8-7556243aa358"
      },
      "outputs": [
        {
          "name": "stdout",
          "output_type": "stream",
          "text": [
            "0.05856285174342566\n",
            "-121.44395107963086\n",
            "[[ 1.58391227e+00  9.27584192e-02 -1.92356564e+02]\n",
            " [ 9.27584192e-02  7.22771240e-01  4.34421543e+01]\n",
            " [-1.92356564e+02  4.34421543e+01  4.55905851e+04]]\n"
          ]
        }
      ],
      "source": [
        "# Calculating Gaussian mixture covariance using calculated points\n",
        "\n",
        "mix_cov_3d = np.cov(np.array(tl_results).T)\n",
        "slope_XY = mix_cov_3d[0][1] / mix_cov_3d[0][0]\n",
        "slope_XZ = mix_cov_3d[0][2] / mix_cov_3d[0][0]\n",
        "\n",
        "print(slope_XY)\n",
        "print(slope_XZ)\n",
        "print(mix_cov_3d)"
      ]
    },
    {
      "cell_type": "code",
      "execution_count": null,
      "metadata": {
        "id": "G4kxEESAzaUE"
      },
      "outputs": [],
      "source": [
        "# Calculating Gaussian mixture covariance using generated points\n",
        "\n",
        "n = 500\n",
        "gen_points = [np.array([]), np.array([]), np.array([])]\n",
        "for rez in tl_results:\n",
        "  x, y, z = np.random.multivariate_normal([rez[0], rez[1], rez[2]], [[1,0,0], [0,1,0], [0,0,1]], n).T\n",
        "  gen_points[0] = np.append(gen_points[0], x)\n",
        "  gen_points[1] = np.append(gen_points[1], y)\n",
        "  gen_points[2] = np.append(gen_points[2], z)\n",
        "\n",
        "mix_cov_3d = np.cov(gen_points)\n",
        "slope_XY = mix_cov_3d[0][1] / mix_cov_3d[0][0]\n",
        "slope_XZ = mix_cov_3d[0][2] / mix_cov_3d[0][0]\n",
        "\n",
        "print(slope_XY)\n",
        "print(slope_XZ)\n",
        "print(mix_cov_3d)"
      ]
    },
    {
      "cell_type": "markdown",
      "metadata": {
        "id": "B-TlxvOa8MEA"
      },
      "source": [
        "# 2D vizualization (using x and y of 3D data)"
      ]
    },
    {
      "cell_type": "code",
      "execution_count": null,
      "metadata": {
        "colab": {
          "base_uri": "https://localhost:8080/",
          "height": 235
        },
        "id": "iTtdydY_cw0H",
        "outputId": "476b19c8-27bb-477b-c746-ad85521d8878"
      },
      "outputs": [
        {
          "ename": "NameError",
          "evalue": "ignored",
          "output_type": "error",
          "traceback": [
            "\u001b[0;31m---------------------------------------------------------------------------\u001b[0m",
            "\u001b[0;31mNameError\u001b[0m                                 Traceback (most recent call last)",
            "\u001b[0;32m<ipython-input-7-8dcf4b835a92>\u001b[0m in \u001b[0;36m<module>\u001b[0;34m()\u001b[0m\n\u001b[1;32m     19\u001b[0m   \u001b[0mpoints\u001b[0m\u001b[0;34m.\u001b[0m\u001b[0mappend\u001b[0m\u001b[0;34m(\u001b[0m\u001b[0;34m(\u001b[0m\u001b[0mx\u001b[0m\u001b[0;34m[\u001b[0m\u001b[0mi\u001b[0m\u001b[0;34m]\u001b[0m\u001b[0;34m,\u001b[0m \u001b[0my\u001b[0m\u001b[0;34m[\u001b[0m\u001b[0mi\u001b[0m\u001b[0;34m]\u001b[0m\u001b[0;34m)\u001b[0m\u001b[0;34m)\u001b[0m\u001b[0;34m\u001b[0m\u001b[0;34m\u001b[0m\u001b[0m\n\u001b[1;32m     20\u001b[0m \u001b[0;34m\u001b[0m\u001b[0m\n\u001b[0;32m---> 21\u001b[0;31m \u001b[0mmean_tmp\u001b[0m \u001b[0;34m=\u001b[0m \u001b[0mMixtureDensity2D\u001b[0m\u001b[0;34m(\u001b[0m\u001b[0mpoints\u001b[0m\u001b[0;34m)\u001b[0m \u001b[0;31m# points = [(x1,y1), (x2,y2)]\u001b[0m\u001b[0;34m\u001b[0m\u001b[0;34m\u001b[0m\u001b[0m\n\u001b[0m\u001b[1;32m     22\u001b[0m \u001b[0mcov2D\u001b[0m \u001b[0;34m=\u001b[0m \u001b[0mnp\u001b[0m\u001b[0;34m.\u001b[0m\u001b[0mcov\u001b[0m\u001b[0;34m(\u001b[0m\u001b[0;34m[\u001b[0m\u001b[0mx\u001b[0m\u001b[0;34m,\u001b[0m \u001b[0my\u001b[0m\u001b[0;34m]\u001b[0m\u001b[0;34m)\u001b[0m\u001b[0;34m\u001b[0m\u001b[0;34m\u001b[0m\u001b[0m\n\u001b[1;32m     23\u001b[0m \u001b[0mslope2D\u001b[0m \u001b[0;34m=\u001b[0m \u001b[0mcov2D\u001b[0m\u001b[0;34m[\u001b[0m\u001b[0;36m0\u001b[0m\u001b[0;34m]\u001b[0m\u001b[0;34m[\u001b[0m\u001b[0;36m1\u001b[0m\u001b[0;34m]\u001b[0m \u001b[0;34m/\u001b[0m \u001b[0mcov2D\u001b[0m\u001b[0;34m[\u001b[0m\u001b[0;36m0\u001b[0m\u001b[0;34m]\u001b[0m\u001b[0;34m[\u001b[0m\u001b[0;36m0\u001b[0m\u001b[0;34m]\u001b[0m\u001b[0;34m\u001b[0m\u001b[0;34m\u001b[0m\u001b[0m\n",
            "\u001b[0;31mNameError\u001b[0m: name 'MixtureDensity2D' is not defined"
          ]
        }
      ],
      "source": [
        "# CALC\n",
        "# Simulate data from a bivariate Gaussian\n",
        "# Optimise!!!\n",
        "n = 300\n",
        "xy = []\n",
        "for r in tl_results:\n",
        "  x, y = np.random.multivariate_normal([r[0], r[1]], [[0.5, 0], [0, 0.5]], n).T\n",
        "  xy.append([x,y])\n",
        "\n",
        "x, y = [], []\n",
        "for i in range(ds_count):\n",
        "  x = np.concatenate([x, xy[i][0]])\n",
        "  y = np.concatenate([y, xy[i][1]])\n",
        "x_avg = sum(x) / len(x) #just avg\n",
        "y_avg = sum(y) / len(y) #just avg\n",
        "\n",
        "points = []\n",
        "for i in range(n):\n",
        "  points.append((x[i], y[i]))\n",
        "  \n",
        "mean_tmp = MixtureDensity2D(points) # points = [(x1,y1), (x2,y2)]\n",
        "cov2D = np.cov([x, y])\n",
        "slope2D = cov2D[0][1] / cov2D[0][0]"
      ]
    },
    {
      "cell_type": "code",
      "execution_count": null,
      "metadata": {
        "colab": {
          "base_uri": "https://localhost:8080/",
          "height": 724
        },
        "id": "wIhiljX98B7m",
        "outputId": "150854ee-d1dc-4b1f-8aa8-bd505e3a11fc"
      },
      "outputs": [
        {
          "ename": "NameError",
          "evalue": "ignored",
          "output_type": "error",
          "traceback": [
            "\u001b[0;31m---------------------------------------------------------------------------\u001b[0m",
            "\u001b[0;31mNameError\u001b[0m                                 Traceback (most recent call last)",
            "\u001b[0;32m<ipython-input-5-fa1e9a87d029>\u001b[0m in \u001b[0;36m<module>\u001b[0;34m()\u001b[0m\n\u001b[1;32m     10\u001b[0m   \u001b[0mcolor\u001b[0m \u001b[0;34m=\u001b[0m \u001b[0;34m\"#%06x\"\u001b[0m \u001b[0;34m%\u001b[0m \u001b[0mrandom\u001b[0m\u001b[0;34m.\u001b[0m\u001b[0mrandint\u001b[0m\u001b[0;34m(\u001b[0m\u001b[0;36m0\u001b[0m\u001b[0;34m,\u001b[0m \u001b[0;36m0xFFFFFF\u001b[0m\u001b[0;34m)\u001b[0m\u001b[0;34m\u001b[0m\u001b[0;34m\u001b[0m\u001b[0m\n\u001b[1;32m     11\u001b[0m   \u001b[0;31m# sns.kdeplot(x=xy[i][0], y=xy[i][1], levels=5, color=color, linewidths=1)\u001b[0m\u001b[0;34m\u001b[0m\u001b[0;34m\u001b[0m\u001b[0;34m\u001b[0m\u001b[0m\n\u001b[0;32m---> 12\u001b[0;31m   \u001b[0msns\u001b[0m\u001b[0;34m.\u001b[0m\u001b[0mscatterplot\u001b[0m\u001b[0;34m(\u001b[0m\u001b[0mx\u001b[0m\u001b[0;34m=\u001b[0m\u001b[0mxy\u001b[0m\u001b[0;34m[\u001b[0m\u001b[0mi\u001b[0m\u001b[0;34m]\u001b[0m\u001b[0;34m[\u001b[0m\u001b[0;36m0\u001b[0m\u001b[0;34m]\u001b[0m\u001b[0;34m,\u001b[0m \u001b[0my\u001b[0m\u001b[0;34m=\u001b[0m\u001b[0mxy\u001b[0m\u001b[0;34m[\u001b[0m\u001b[0mi\u001b[0m\u001b[0;34m]\u001b[0m\u001b[0;34m[\u001b[0m\u001b[0;36m1\u001b[0m\u001b[0;34m]\u001b[0m\u001b[0;34m,\u001b[0m \u001b[0mcolor\u001b[0m\u001b[0;34m=\u001b[0m\u001b[0mcolor\u001b[0m\u001b[0;34m,\u001b[0m \u001b[0medgecolor\u001b[0m\u001b[0;34m=\u001b[0m\u001b[0mcolor\u001b[0m\u001b[0;34m,\u001b[0m \u001b[0ms\u001b[0m\u001b[0;34m=\u001b[0m\u001b[0;36m20\u001b[0m\u001b[0;34m,\u001b[0m \u001b[0malpha\u001b[0m\u001b[0;34m=\u001b[0m\u001b[0;36m0.5\u001b[0m\u001b[0;34m)\u001b[0m\u001b[0;34m\u001b[0m\u001b[0;34m\u001b[0m\u001b[0m\n\u001b[0m\u001b[1;32m     13\u001b[0m   \u001b[0mplt\u001b[0m\u001b[0;34m.\u001b[0m\u001b[0mscatter\u001b[0m\u001b[0;34m(\u001b[0m\u001b[0mx\u001b[0m\u001b[0;34m=\u001b[0m\u001b[0mtl_results\u001b[0m\u001b[0;34m[\u001b[0m\u001b[0mi\u001b[0m\u001b[0;34m]\u001b[0m\u001b[0;34m[\u001b[0m\u001b[0;36m0\u001b[0m\u001b[0;34m]\u001b[0m\u001b[0;34m,\u001b[0m \u001b[0my\u001b[0m\u001b[0;34m=\u001b[0m\u001b[0mtl_results\u001b[0m\u001b[0;34m[\u001b[0m\u001b[0mi\u001b[0m\u001b[0;34m]\u001b[0m\u001b[0;34m[\u001b[0m\u001b[0;36m1\u001b[0m\u001b[0;34m]\u001b[0m\u001b[0;34m,\u001b[0m \u001b[0mmarker\u001b[0m\u001b[0;34m=\u001b[0m\u001b[0;34m\"o\"\u001b[0m\u001b[0;34m,\u001b[0m \u001b[0medgecolors\u001b[0m\u001b[0;34m=\u001b[0m\u001b[0;34m\"black\"\u001b[0m\u001b[0;34m,\u001b[0m \u001b[0mcolor\u001b[0m\u001b[0;34m=\u001b[0m\u001b[0;34m\"red\"\u001b[0m\u001b[0;34m,\u001b[0m \u001b[0ms\u001b[0m\u001b[0;34m=\u001b[0m\u001b[0;36m50\u001b[0m\u001b[0;34m)\u001b[0m\u001b[0;34m\u001b[0m\u001b[0;34m\u001b[0m\u001b[0m\n\u001b[1;32m     14\u001b[0m   \u001b[0mplt\u001b[0m\u001b[0;34m.\u001b[0m\u001b[0mscatter\u001b[0m\u001b[0;34m(\u001b[0m\u001b[0mx\u001b[0m\u001b[0;34m=\u001b[0m\u001b[0mds\u001b[0m\u001b[0;34m[\u001b[0m\u001b[0mi\u001b[0m\u001b[0;34m]\u001b[0m\u001b[0;34m.\u001b[0m\u001b[0mx\u001b[0m\u001b[0;34m,\u001b[0m \u001b[0my\u001b[0m\u001b[0;34m=\u001b[0m\u001b[0mds\u001b[0m\u001b[0;34m[\u001b[0m\u001b[0mi\u001b[0m\u001b[0;34m]\u001b[0m\u001b[0;34m.\u001b[0m\u001b[0my\u001b[0m\u001b[0;34m,\u001b[0m \u001b[0mmarker\u001b[0m\u001b[0;34m=\u001b[0m\u001b[0;34m\"o\"\u001b[0m\u001b[0;34m,\u001b[0m \u001b[0medgecolors\u001b[0m\u001b[0;34m=\u001b[0m\u001b[0;34m\"black\"\u001b[0m\u001b[0;34m,\u001b[0m \u001b[0mcolor\u001b[0m\u001b[0;34m=\u001b[0m\u001b[0;34m\"green\"\u001b[0m\u001b[0;34m,\u001b[0m \u001b[0ms\u001b[0m\u001b[0;34m=\u001b[0m\u001b[0;36m50\u001b[0m\u001b[0;34m)\u001b[0m\u001b[0;34m\u001b[0m\u001b[0;34m\u001b[0m\u001b[0m\n",
            "\u001b[0;31mNameError\u001b[0m: name 'xy' is not defined"
          ]
        },
        {
          "data": {
            "image/png": "[encoded data removed]",
            "text/plain": [
              "<Figure size 576x576 with 1 Axes>"
            ]
          },
          "metadata": {},
          "output_type": "display_data"
        }
      ],
      "source": [
        "# DRAW 2D\n",
        "sns.set_theme(style=\"whitegrid\")\n",
        "\n",
        "f, ax = plt.subplots(figsize=(8, 8))\n",
        "f.gca().set_aspect('equal', adjustable='box')\n",
        "plt.xlabel(\"X ašis\")\n",
        "plt.ylabel(\"Y ašis\")\n",
        "\n",
        "for i in range(ds_count):\n",
        "  color = \"#%06x\" % random.randint(0, 0xFFFFFF)\n",
        "  # sns.kdeplot(x=xy[i][0], y=xy[i][1], levels=5, color=color, linewidths=1)\n",
        "  sns.scatterplot(x=xy[i][0], y=xy[i][1], color=color, edgecolor=color, s=20, alpha=0.5)\n",
        "  plt.scatter(x=tl_results[i][0], y=tl_results[i][1], marker=\"o\", edgecolors=\"black\", color=\"red\", s=50)\n",
        "  plt.scatter(x=ds[i].x, y=ds[i].y, marker=\"o\", edgecolors=\"black\", color=\"green\", s=50)\n",
        "\n",
        "\n",
        "sns.kdeplot(x=x, y=y, levels=5, color=\"black\", linewidths=2) # Circles\n",
        "sns.regplot(x=x, y=y, color=\"orange\", scatter=False, ci = 1) # Regression\n",
        "plt.scatter(x=x_avg, y=y_avg, marker=\"o\", edgecolors=\"black\", color=\"orange\", s=100) # Mixture Average\n",
        "plt.scatter(x=mean_tmp[0], y=mean_tmp[1], marker=\"o\", edgecolors=\"black\", color=\"blue\", s=100) # Mixture Mean\n",
        "\n",
        "x1, y1 = [mean_tmp[0]-3, mean_tmp[0]+3], [mean_tmp[1]-3*slope2D, mean_tmp[1]+3*slope2D] # Slope\n",
        "# plt.plot(x1, y1, marker = 'o', color='red')\n",
        "\n",
        "sns.lineplot(x=x1, y=y1, color=\"blue\", linewidth=2)"
      ]
    },
    {
      "cell_type": "markdown",
      "metadata": {
        "id": "KAbp3XHa8RT5"
      },
      "source": [
        "# 3D vizualization"
      ]
    },
    {
      "cell_type": "code",
      "execution_count": null,
      "metadata": {
        "colab": {
          "base_uri": "https://localhost:8080/",
          "referenced_widgets": [
            "ed382dfb7fb7401186a42b05ae6dd973",
            "8b4bc1f9c0894b449530e75f37e16476",
            "06f1ac9d75be48b9b627ec3efc887427",
            "07fd22438b794f0ba92a89c50da1a8ea",
            "9280958df056485ca8fdb96c0c044396",
            "36adadedbc564eaa9578d873fca988eb",
            "3fb759b6fa644fd9bca891ce37938ee1",
            "250a554d5550466d98bec626d09bfce9",
            "5fda640ddbe8403ab5cd05ee732e302d",
            "1961a612a23b42bdbcda341930fb00e8",
            "d9223338a1ba438b98f961a2481887e0",
            "ef38206fc6cc4e4c827128472056bb5e",
            "f55dcf20445b4d2f9c8518f64409dd36",
            "2280e648db8d468eb311273e3d605c8b",
            "14fbd12e21844efa96f3734b829fbe99",
            "0b601c81d68a48dfabdbacd097cfaae2",
            "af9eca74d77c478baae5a571253cdc5b",
            "1837d143108e4e02a637ba5d840b7094",
            "7ec032e9168d447482d705ef82a42945",
            "8c8195775cac49189e7fe18ce0ac5410",
            "58cbd5d80f264d19ba764403432bb4ab",
            "e1ce68e45a5b4b30bd60e025df1d372e",
            "0c9c822f5b734f03af4652fd691c9ad4",
            "6e460dd3848b401eb3cd2df84bf1da4b",
            "5dc6438e9d9a4ccd97fea41fd05f23e6",
            "8c42704817ba4def92e9e3c3ac93e143",
            "0e88687658be4095a17d5e0b8fa58e1b",
            "950850bd83d74efb8a02d91b49051278",
            "d862934aee534387bb1c59438fd62584",
            "8948a05a2537476f8c630382abb724ad",
            "a87d57e9d2454cf8b94cf42c38e2da5b",
            "e226c40a40544f01b017bfae2a8d9cb3",
            "ab412e94314f47629d07985b0c57348f"
          ]
        },
        "id": "aR9qsRJu8GFZ",
        "outputId": "9dd6beef-cf85-4401-b59b-83f50f542f7a"
      },
      "outputs": [
        {
          "data": {
            "application/vnd.jupyter.widget-view+json": {
              "model_id": "ed382dfb7fb7401186a42b05ae6dd973",
              "version_major": 2,
              "version_minor": 0
            },
            "text/plain": [
              "VBox(children=(Figure(camera=PerspectiveCamera(fov=46.0, position=(0.0, 0.0, 2.0), projectionMatrix=(1.0, 0.0,…"
            ]
          },
          "metadata": {
            "application/vnd.jupyter.widget-view+json": {
              "colab": {
                "custom_widget_manager": {
                  "url": "https://ssl.gstatic.com/colaboratory-static/widgets/colab-cdn-widget-manager/a8874ba6619b6106/manager.min.js"
                }
              }
            }
          },
          "output_type": "display_data"
        }
      ],
      "source": [
        "ipv.figure()\n",
        "\n",
        "# Dosimeters\n",
        "for d in ds:\n",
        "  ipv.scatter(d.x, d.y, np.array([d.z]), size=3, color=\"green\", marker=\"sphere\")\n",
        "\n",
        "# Calcutated trilateration results\n",
        "ipv.scatter(tl_results.T[0], tl_results.T[1], tl_results.T[2], size=3, color=\"red\", marker=\"sphere\")\n",
        "\n",
        "# Generated points\n",
        "# ipv.scatter(gen_points[0], gen_points[1], gen_points[2], size=1, color=\"grey\", marker=\"sphere\")\n",
        "\n",
        "# Mixture density maximum\n",
        "ipv.scatter(np.array([mix_max_3d[0]]), np.array([mix_max_3d[1]]), np.array([mix_max_3d[2]]),  size=5, color=\"blue\", marker=\"sphere\")\n",
        "\n",
        "# Orientation\n",
        "x_offset = (src_len / 2) / math.sqrt(1 + slope_XY**2 + slope_XZ**2)\n",
        "startpoint = [mix_max_3d[0]-x_offset, mix_max_3d[1]-x_offset*slope_XY, mix_max_3d[2]-x_offset*slope_XZ]\n",
        "endpoint = [mix_max_3d[0]+x_offset, mix_max_3d[1]+x_offset*slope_XY, mix_max_3d[2]+x_offset*slope_XZ]\n",
        "ipv.pylab.plot(x=np.array([startpoint[0],endpoint[0]]), y=np.array([startpoint[1],endpoint[1]]), z=np.array([startpoint[2],endpoint[2]]), color='black', cast_shadow=True, receive_shadow=True)\n",
        "\n",
        "ipv.show()"
      ]
    },
    {
      "cell_type": "code",
      "execution_count": null,
      "metadata": {
        "id": "C0oYK5TEV6-2"
      },
      "outputs": [],
      "source": [
        "pip install ipyvolume"
      ]
    },
    {
      "cell_type": "code",
      "source": [
        "\n",
        "import seaborn as sns # 2D plotting\n",
        "import matplotlib.pyplot as plt # 3D plotting ?\n",
        "\n",
        "import ipyvolume as ipv # 3D interaktyvus atvaizdavimas\n",
        "from google.colab import output # 3D visualizing\n",
        "output.enable_custom_widget_manager() # 3D visualizing\n",
        "# import re, seaborn as sns\n",
        "\n",
        "# from matplotlib import pyplot as plt\n",
        "from mpl_toolkits.mplot3d import Axes3D # 3D visualizing"
      ],
      "metadata": {
        "id": "yOU1zdt3EUe_"
      },
      "execution_count": null,
      "outputs": []
    },
    {
      "cell_type": "code",
      "source": [
        "# doesnt work on colab\n",
        "\n",
        "from google.colab import output\n",
        "output.enable_custom_widget_manager()\n",
        "\n",
        "# only x is a sequence of arrays\n",
        "x = np.array([[-1, -0.8], [1, -0.1], [0., 0.5]])\n",
        "y = np.array([0.0, 0.0])\n",
        "z = np.array([0.0, 0.0])\n",
        "ipv.figure()\n",
        "s = ipv.scatter(x, y, z, marker='sphere', size=10)\n",
        "ipv.xyzlim(-1, 1)\n",
        "ipv.animation_control(s) # shows controls for animation controls\n",
        "ipv.show()"
      ],
      "metadata": {
        "id": "-MkHhM9wO_9w"
      },
      "execution_count": null,
      "outputs": []
    },
    {
      "cell_type": "code",
      "source": [
        "import numpy as np\n",
        "import plotly.graph_objects as go\n",
        "from scipy import ndimage\n",
        "\n",
        "# Generate nicely looking random 3D-field\n",
        "np.random.seed(0)\n",
        "l = 30\n",
        "X, Y, Z = np.mgrid[:l, :l, :l]\n",
        "vol = np.zeros((l, l, l))\n",
        "pts = temp.astype(np.int)\n",
        "vol[tuple(indices for indices in pts)] = 1\n",
        "vol = ndimage.gaussian_filter(vol, 4)\n",
        "vol /= vol.max()\n",
        "\n",
        "fig = go.Figure(data=go.Volume(\n",
        "    x=X.flatten(), y=Y.flatten(), z=Z.flatten(),\n",
        "    value=vol.flatten(),\n",
        "    isomin=0.2,\n",
        "    isomax=0.7,\n",
        "    opacity=0.1,\n",
        "    surface_count=25,\n",
        "    ))\n",
        "fig.update_layout(scene_xaxis_showticklabels=False,\n",
        "                  scene_yaxis_showticklabels=False,\n",
        "                  scene_zaxis_showticklabels=False)\n",
        "fig.show()"
      ],
      "metadata": {
        "id": "fzixpQG5PgCR"
      },
      "execution_count": null,
      "outputs": []
    },
    {
      "cell_type": "code",
      "source": [
        "import plotly.express as px\n",
        "import plotly.graph_objects as go\n",
        "\n",
        "x = y = np.arange(6)\n",
        "z = np.arange(9)\n",
        "\n",
        "fig = go.Figure()\n",
        "fig.add_trace(go.Scatter3d\n",
        "  (\n",
        "    mode='markers',\n",
        "    x=pts[0],\n",
        "    y=pts[1],\n",
        "    z=pts[2],\n",
        "    marker=dict(color=px.colors.qualitative.D3, size=[50, 50, 50], sizemode='diameter')\n",
        "  )\n",
        ")\n",
        "\n",
        "np.random.seed(0)\n",
        "l = 30\n",
        "X, Y, Z = np.mgrid[:l, :l, :l]\n",
        "vol = np.zeros((l, l, l))\n",
        "pts = (l * np.random.rand(3, 15)).astype(np.int)\n",
        "vol[tuple(indices for indices in pts)] = 1\n",
        "\n",
        "vol = ndimage.gaussian_filter(vol, 4)\n",
        "vol /= vol.max()\n",
        "\n",
        "fig = go.Figure(data=go.Volume(\n",
        "    x=X.flatten(), y=Y.flatten(), z=Z.flatten(),\n",
        "    value=vol.flatten(),\n",
        "    isomin=0.2,\n",
        "    isomax=0.7,\n",
        "    opacity=0.1,\n",
        "    surface_count=25,\n",
        "    ))\n",
        "\n",
        "fig.show()\n",
        "\n",
        "# fig.update_layout(\n",
        "#   scene = dict(\n",
        "#     xaxis = dict(nticks=4, range=[0,6],),\n",
        "#     yaxis = dict(nticks=4, range=[0,6],),\n",
        "#     zaxis = dict(nticks=4, range=[0,9],),),\n",
        "#   width=700,\n",
        "#   margin=dict(r=20, l=10, b=10, t=10))"
      ],
      "metadata": {
        "id": "4yDx3rwcTbSY"
      },
      "execution_count": null,
      "outputs": []
    },
    {
      "cell_type": "markdown",
      "source": [
        "# Modeling source location"
      ],
      "metadata": {
        "id": "uXMH-cIzLBuL"
      }
    },
    {
      "cell_type": "code",
      "source": [
        "pip install ipyvolume"
      ],
      "metadata": {
        "id": "ctbgDUFSPFK2"
      },
      "execution_count": null,
      "outputs": []
    },
    {
      "cell_type": "code",
      "source": [
        "import ipyvolume as ipv\n",
        "import numpy as np"
      ],
      "metadata": {
        "id": "69w9VdBiPGnj"
      },
      "execution_count": null,
      "outputs": []
    },
    {
      "cell_type": "code",
      "source": [
        "def DosimeterCoordinatesToArray(ds):\n",
        "  dosimeter_coordinates = []\n",
        "\n",
        "  for d in ds:\n",
        "    dosimeter_coordinates.append([float(d.x), float(d.y), float(d.z)])\n",
        "\n",
        "  return np.array(dosimeter_coordinates)\n",
        "\n",
        "def StringArrayToFloat(xs):\n",
        "  xs_f = []\n",
        "  \n",
        "  for x in xs:\n",
        "    xs_f.append(float(x))\n",
        "\n",
        "  return np.array(xs_f)"
      ],
      "metadata": {
        "id": "0v60R0qCGbpJ"
      },
      "execution_count": null,
      "outputs": []
    },
    {
      "cell_type": "code",
      "source": [
        "test_data = CsvToArray('/content/test_log.csv')\n",
        "\n",
        "test_data = test_data[145:-75]\n",
        "\n",
        "xs_f = StringArrayToFloat(test_data.T[3])\n",
        "ys_f = StringArrayToFloat(test_data.T[4])\n",
        "zs_f = StringArrayToFloat(test_data.T[5])"
      ],
      "metadata": {
        "id": "BjasdzYyLYoi"
      },
      "execution_count": null,
      "outputs": []
    },
    {
      "cell_type": "code",
      "source": [
        "import ipyvolume as ipv\n",
        "import numpy as np\n",
        "fig = ipv.figure()\n",
        "ipv.pylab.xlim(0, 6)\n",
        "ipv.pylab.ylim(0, 6)\n",
        "ipv.pylab.zlim(0, 9)\n",
        "\n",
        "ipv.scatter(dosimeter_coordinates.T[0], dosimeter_coordinates.T[1], dosimeter_coordinates.T[2], size=5, color=\"green\", marker=\"sphere\")\n",
        "ipv.pylab.plot(x=np.array([1, 1]), y=np.array([5, 5]), z=np.array([0, 8]), color='black', cast_shadow=True, receive_shadow=True)\n",
        "ipv.pylab.plot(x=np.array([5, 5]), y=np.array([4, 4]), z=np.array([0, 8]), color='black', cast_shadow=True, receive_shadow=True)\n",
        "ipv.pylab.plot(x=np.array([2, 2]), y=np.array([1, 1]), z=np.array([0, 8]), color='black', cast_shadow=True, receive_shadow=True)\n",
        "\n",
        "ipv.scatter(xs_f, ys_f, zs_f, size=3, color=\"blue\", marker=\"sphere\")\n",
        "\n",
        "ipv.show()"
      ],
      "metadata": {
        "colab": {
          "base_uri": "https://localhost:8080/",
          "height": 542,
          "referenced_widgets": [
            "f4dfffb6646041428046badadd94c0b9",
            "83fe2bd6c5f3481e89691158dea5500d",
            "1d21b3f8e803468b826578f610a2b480",
            "10eb95d189ee4f46af21ad55f3b25e77",
            "48f93e91381241f296679ba7ac68d25a",
            "c179ca7d022b46d084908daf0d069b95",
            "f1829c06c7a44dee98e27595c0195a5d",
            "37f7c13877b847ad8d644f6531ecd9b1",
            "991f2f8b15bb4d3ca835a4de9620409c",
            "cd09d476aa5b4e71b66172f89ad6db1b",
            "39d2c4314d984616ac3e0725b49975d9",
            "b9c22f9730104e6aa94a628ab7d09352",
            "b745ac187d924c8595304becfb2da708",
            "79d5277a51894cf38699117233465bc9",
            "bb558c8cf22043909fb3639fd2b38ec9",
            "228ba23952504e66a645d4925a5867f4",
            "380110984fa64ae9b49c1b2855f966d0",
            "e2166babb1144005803a4aaf9cff4f92",
            "02db35873aa943d58fe188df561f760e",
            "b008779ef70342f997d817778a559028",
            "7c00268aeefe4c3bb00715aa30c238fa"
          ]
        },
        "id": "LZXTRB71EaUV",
        "outputId": "02a1afae-4948-4bd8-aee9-55257be87633"
      },
      "execution_count": null,
      "outputs": [
        {
          "output_type": "display_data",
          "data": {
            "text/plain": [
              "VBox(children=(Figure(camera=PerspectiveCamera(fov=46.0, position=(0.0, 0.0, 2.0), projectionMatrix=(1.0, 0.0,…"
            ],
            "application/vnd.jupyter.widget-view+json": {
              "version_major": 2,
              "version_minor": 0,
              "model_id": "f4dfffb6646041428046badadd94c0b9"
            }
          },
          "metadata": {
            "application/vnd.jupyter.widget-view+json": {
              "colab": {
                "custom_widget_manager": {
                  "url": "https://ssl.gstatic.com/colaboratory-static/widgets/colab-cdn-widget-manager/a8874ba6619b6106/manager.min.js"
                }
              }
            }
          }
        }
      ]
    },
    {
      "cell_type": "markdown",
      "source": [
        "# Visualising Radiation accumulation"
      ],
      "metadata": {
        "id": "u6fE3x2PS1zv"
      }
    },
    {
      "cell_type": "code",
      "source": [
        "test_data_float = StringArrayToFloat(test_data.T[0])"
      ],
      "metadata": {
        "id": "dqavEkVqjGYY"
      },
      "execution_count": null,
      "outputs": []
    },
    {
      "cell_type": "code",
      "source": [
        "temp = 0\n",
        "\n",
        "for i in range(len(test_data_float)-1):\n",
        "  temp += test_data_float[i+1] - test_data_float[i]"
      ],
      "metadata": {
        "id": "a7KsTJQ4jW8m"
      },
      "execution_count": null,
      "outputs": []
    },
    {
      "cell_type": "code",
      "source": [
        "len(test_data_float) * 18"
      ],
      "metadata": {
        "colab": {
          "base_uri": "https://localhost:8080/"
        },
        "id": "b50AJ4P2j5w_",
        "outputId": "3da1cae1-4bb1-461d-ce2e-e0e64639a7a1"
      },
      "execution_count": null,
      "outputs": [
        {
          "output_type": "execute_result",
          "data": {
            "text/plain": [
              "81522"
            ]
          },
          "metadata": {},
          "execution_count": 405
        }
      ]
    },
    {
      "cell_type": "code",
      "source": [
        "temp / len(test_data_float)"
      ],
      "metadata": {
        "colab": {
          "base_uri": "https://localhost:8080/"
        },
        "id": "zFNFWE74j3vG",
        "outputId": "c0a90366-744c-4501-df4b-28da3daf8540"
      },
      "execution_count": null,
      "outputs": [
        {
          "output_type": "execute_result",
          "data": {
            "text/plain": [
              "18.261426363435636"
            ]
          },
          "metadata": {},
          "execution_count": 406
        }
      ]
    },
    {
      "cell_type": "code",
      "source": [
        "temp / len(test_data_float)"
      ],
      "metadata": {
        "colab": {
          "base_uri": "https://localhost:8080/"
        },
        "id": "FEt_X7n2jQlQ",
        "outputId": "e7743227-a4e6-49ae-892e-c1ebc73f44f9"
      },
      "execution_count": null,
      "outputs": [
        {
          "output_type": "execute_result",
          "data": {
            "text/plain": [
              "44522.82843894899"
            ]
          },
          "metadata": {},
          "execution_count": 399
        }
      ]
    },
    {
      "cell_type": "code",
      "source": [
        "test_data = CsvToArray('/content/test25_log.csv')\n",
        "\n",
        "test_data = test_data[145:-75]\n",
        "\n",
        "step = round(500 / 18.261426363435636)\n",
        "\n",
        "visual_data = []\n",
        "for i in range(0, len(test_data), 1):\n",
        "  visual_data.append(test_data[i][3:6])\n",
        "\n",
        "visual_data = np.array(visual_data)\n",
        "\n",
        "xs_f = StringArrayToFloat(visual_data.T[0])\n",
        "ys_f = StringArrayToFloat(visual_data.T[1])\n",
        "zs_f = StringArrayToFloat(visual_data.T[2])"
      ],
      "metadata": {
        "id": "byeMRG9fTOl3"
      },
      "execution_count": null,
      "outputs": []
    },
    {
      "cell_type": "code",
      "source": [
        "gen_xs = np.array([])\n",
        "gen_ys = np.array([])\n",
        "gen_zs = np.array([])\n",
        "\n",
        "for i in range(len(xs_f)):\n",
        "  gen_x, gen_y, gen_z = np.random.multivariate_normal([xs_f[i], ys_f[i], zs_f[i]], [[0.1, 0, 0], [0, 0.1, 0], [0, 0, 0.1]], 5).T\n",
        "  gen_xs = np.append(gen_xs, gen_x)\n",
        "  gen_ys = np.append(gen_ys, gen_y)\n",
        "  gen_zs = np.append(gen_zs, gen_z)"
      ],
      "metadata": {
        "id": "zRlqnxlaUfpf"
      },
      "execution_count": null,
      "outputs": []
    },
    {
      "cell_type": "code",
      "source": [
        "import ipyvolume as ipv\n",
        "import numpy as np\n",
        "fig = ipv.figure()\n",
        "ipv.pylab.xlim(0, 6)\n",
        "ipv.pylab.ylim(0, 6)\n",
        "ipv.pylab.zlim(0, 9)\n",
        "\n",
        "ipv.scatter(dosimeter_coordinates.T[0], dosimeter_coordinates.T[1], dosimeter_coordinates.T[2], size=5, color=\"green\", marker=\"sphere\")\n",
        "ipv.pylab.plot(x=np.array([1, 1]), y=np.array([5, 5]), z=np.array([0, 8]), color='black', cast_shadow=True, receive_shadow=True)\n",
        "ipv.pylab.plot(x=np.array([5, 5]), y=np.array([4, 4]), z=np.array([0, 8]), color='black', cast_shadow=True, receive_shadow=True)\n",
        "ipv.pylab.plot(x=np.array([2, 2]), y=np.array([1, 1]), z=np.array([0, 8]), color='black', cast_shadow=True, receive_shadow=True)\n",
        "\n",
        "# ipv.scatter(xs_f, ys_f, zs_f, size=2, color=\"blue\", marker=\"sphere\")\n",
        "\n",
        "ipv.scatter(gen_xs, gen_ys, gen_zs, size=0.4, color=\"red\", marker=\"sphere\")\n",
        "\n",
        "ipv.show()"
      ],
      "metadata": {
        "colab": {
          "base_uri": "https://localhost:8080/",
          "height": 522,
          "referenced_widgets": [
            "f23b46d58689472e8d502b71e4d5f4e4",
            "ac5e5948e99e42b29f707b6c33214681",
            "029acf64620143819b065160de8c661b",
            "afa2b85f9c1c454fa9bc7d3369473bd1",
            "44e1b406f1234b0db67c2812d68e33ba",
            "e2440f47dcb740569fc68fa01d45cbf2",
            "f8da6ac54abf463088d6ee5ed340a7d9",
            "338034c0a04344338fff2e70d082c5a2",
            "9bf7ffe172164a42b5b984b9d7c04332",
            "22ff31cf81e94b488369f5b0c12b50bf",
            "83d79700e8a54e25acde9c2bf0aabb42",
            "2d45e4b5171d4ba094bd73f1667edf2b",
            "64203dd7e22c47aaa0eb686403b91d54",
            "4e5876dbf67c45949ee5f967b3230644",
            "8bbb6af64a2f4028972d89cfbe74c1df",
            "93307b534b944a229cc9103e8e576d15",
            "bf0a191123a44f3380fe247f19e2952e",
            "7e43527b49014e05922e7be7b8438def",
            "c64ebcdd3d5a4ec1a0e85c747d7acdbb",
            "3552a0d38db94aa1b054cb2171e055c8",
            "daeeaab683c448d9bc75d40ebbe6ff35"
          ]
        },
        "id": "Ol0IPHcFTG3V",
        "outputId": "7e4f05bb-815e-4bdc-c0fd-3b83ccbc661f"
      },
      "execution_count": null,
      "outputs": [
        {
          "output_type": "display_data",
          "data": {
            "text/plain": [
              "VBox(children=(Figure(camera=PerspectiveCamera(fov=46.0, position=(0.0, 0.0, 2.0), projectionMatrix=(1.0, 0.0,…"
            ],
            "application/vnd.jupyter.widget-view+json": {
              "version_major": 2,
              "version_minor": 0,
              "model_id": "f23b46d58689472e8d502b71e4d5f4e4"
            }
          },
          "metadata": {
            "application/vnd.jupyter.widget-view+json": {
              "colab": {
                "custom_widget_manager": {
                  "url": "https://ssl.gstatic.com/colaboratory-static/widgets/colab-cdn-widget-manager/a8874ba6619b6106/manager.min.js"
                }
              }
            }
          }
        }
      ]
    },
    {
      "cell_type": "markdown",
      "source": [
        "# Visualising trilateration combinatorics"
      ],
      "metadata": {
        "id": "bD1-1XE5dn9y"
      }
    },
    {
      "cell_type": "code",
      "source": [
        "# Real Distances\n",
        "# Exp\n",
        "\n",
        "# def RunLocalizationTestLog(ds, ds_data):\n",
        "ds_data, timestamps = CsvToDosimeterDataArray('/content/test25.csv')\n",
        "\n",
        "min_ds = 4\n",
        "test_results = []\n",
        "\n",
        "i = 1700\n",
        "# setting dosimeter radiation\n",
        "for j in range(len(ds)):\n",
        "  radiation = float(ds_data[j][i])\n",
        "  if (radiation > 0.0032):\n",
        "    ds[j].r = radiation\n",
        "  else:\n",
        "    ds[j].r = 0\n",
        "RadiationToDistanceLog(ds)\n",
        "\n",
        "no_zeros_ds = []\n",
        "for d in ds:\n",
        "  if (d.r != 0):\n",
        "    no_zeros_ds.append(d)\n",
        "\n",
        "# Calculating with exhaustinve trilateration\n",
        "tl_results = []\n",
        "combinations = list(itertools.combinations(no_zeros_ds, min_ds))\n",
        "for combo in combinations:\n",
        "  try:\n",
        "    res = Trilateration3D(combo)\n",
        "    tl_results.append(res)\n",
        "  except ZeroDivisionError:\n",
        "    None\n",
        "\n",
        "# Calculating highest density value\n",
        "if (len(tl_results) > 0):\n",
        "  test_results.append(MixtureDensityMaximum3D(np.array(tl_results)))\n",
        "else:\n",
        "  test_results.append([0,0,0])\n",
        "\n",
        "test_results\n"
      ],
      "metadata": {
        "colab": {
          "base_uri": "https://localhost:8080/"
        },
        "id": "dnMbhXM9dvAo",
        "outputId": "7d415244-1ed4-4c43-c7b5-247bb5cd26e9"
      },
      "execution_count": null,
      "outputs": [
        {
          "output_type": "execute_result",
          "data": {
            "text/plain": [
              "[array([2.93093093, 2.98598599, 5.9039039 ])]"
            ]
          },
          "metadata": {},
          "execution_count": 224
        }
      ]
    },
    {
      "cell_type": "code",
      "source": [
        "tr = np.array(test_results[0])"
      ],
      "metadata": {
        "id": "md3XdkLffTDe"
      },
      "execution_count": null,
      "outputs": []
    },
    {
      "cell_type": "code",
      "source": [
        "tl_results = np.array(tl_results)"
      ],
      "metadata": {
        "id": "n3LKGgTFfgN_"
      },
      "execution_count": null,
      "outputs": []
    },
    {
      "cell_type": "code",
      "source": [
        "import ipyvolume as ipv\n",
        "import numpy as np\n",
        "fig = ipv.figure()\n",
        "ipv.pylab.xlim(0, 6)\n",
        "ipv.pylab.ylim(0, 6)\n",
        "ipv.pylab.zlim(0, 9)\n",
        "\n",
        "ipv.scatter(np.array([3]), np.array([3]), np.array([6]), size=5, color=\"yellow\", marker=\"sphere\")\n",
        "ipv.scatter(np.array([tr[0]]), np.array([tr[1]]), np.array([tr[2]]), size=5, color=\"blue\", marker=\"sphere\")\n",
        "ipv.scatter(tl_results.T[0], tl_results.T[1], tl_results.T[2], size=3, color=\"red\", marker=\"sphere\")\n",
        "ipv.scatter(dosimeter_coordinates.T[0], dosimeter_coordinates.T[1], dosimeter_coordinates.T[2], size=5, color=\"green\", marker=\"sphere\")\n",
        "ipv.pylab.plot(x=np.array([1, 1]), y=np.array([5, 5]), z=np.array([0, 8]), color='black', cast_shadow=True, receive_shadow=True)\n",
        "ipv.pylab.plot(x=np.array([5, 5]), y=np.array([4, 4]), z=np.array([0, 8]), color='black', cast_shadow=True, receive_shadow=True)\n",
        "ipv.pylab.plot(x=np.array([2, 2]), y=np.array([1, 1]), z=np.array([0, 8]), color='black', cast_shadow=True, receive_shadow=True)\n",
        "\n",
        "ipv.show()"
      ],
      "metadata": {
        "colab": {
          "base_uri": "https://localhost:8080/",
          "height": 522,
          "referenced_widgets": [
            "f6992871bec244fcb5e9818aee3f2861",
            "11dfb041e96647cc9ecd6288963f503f",
            "b0400e9b24c146f0bfb96f7889dbf77b",
            "4d9735cb58964581911ca9d598ed7f8c",
            "4bc888aff0b446e2a0f4c379374de225",
            "890a2c01d22a4e9dab0fdc70c27a64dd",
            "a7ed56069a0f44f39044d464cdafa19a",
            "3333c01a9d694e75ac7808182c8ee58b",
            "3652703b113041ee8090aa0a89a5190b",
            "76311d46e4e24cc2931f37d150b4eff1",
            "46d76a3bf3914f5496ccb5ab1a703cef",
            "9f0bfa7fd3e043c38cdee10a27fe6a7a",
            "e71308947bce41069c12b8054ef4c781",
            "bdfb889c875441a2adc3b4609b5e4ac7",
            "2dc785de622446828289eb01393d8576",
            "ade3548fd36048b7b61f25bf6678d51d",
            "24ffd393f1cd44a58f61c01fd7354822",
            "feffa2c86f2e400587804fffd5c573ff",
            "a57e1ca05f144d278023faf0af6e6ab9",
            "5bf6e62f433c46b48f9d9c1bf7405323",
            "0183c7e17946436e9e6e626cfa97d14b",
            "250ea6563b404c4aa938b5ead8d122ff",
            "bafbd0473e6c4262ba92ff1ab32b0606",
            "fd99b815ff6f4229b409f910a0e501df",
            "b74748b9ef5f491094e713f8f5e90499",
            "b5f24b6d140d4305b66b6c7ff27ed128",
            "5b2d2f1fc27649a0b15ff9c97e670540"
          ]
        },
        "id": "h1RLUBZ6fIRX",
        "outputId": "3688ee17-3031-4120-dc36-9a73c6ca0432"
      },
      "execution_count": null,
      "outputs": [
        {
          "output_type": "display_data",
          "data": {
            "text/plain": [
              "VBox(children=(Figure(camera=PerspectiveCamera(fov=46.0, position=(0.0, 0.0, 2.0), projectionMatrix=(1.0, 0.0,…"
            ],
            "application/vnd.jupyter.widget-view+json": {
              "version_major": 2,
              "version_minor": 0,
              "model_id": "f6992871bec244fcb5e9818aee3f2861"
            }
          },
          "metadata": {
            "application/vnd.jupyter.widget-view+json": {
              "colab": {
                "custom_widget_manager": {
                  "url": "https://ssl.gstatic.com/colaboratory-static/widgets/colab-cdn-widget-manager/a8874ba6619b6106/manager.min.js"
                }
              }
            }
          }
        }
      ]
    },
    {
      "cell_type": "code",
      "source": [
        "tl_results"
      ],
      "metadata": {
        "id": "fxO_HkHffD5W"
      },
      "execution_count": null,
      "outputs": []
    },
    {
      "cell_type": "markdown",
      "metadata": {
        "id": "y6FIHX6333sP"
      },
      "source": [
        "# Trying alternatives"
      ]
    },
    {
      "cell_type": "code",
      "execution_count": null,
      "metadata": {
        "id": "H5O_iA0C3TJk"
      },
      "outputs": [],
      "source": [
        "def GenerateSourceLine(src_x, src_y, src_z, src_len):\n",
        "  src_xs, src_ys, src_zs = [], [], []\n",
        "  offset = src_len / (2 * math.sqrt(3))\n",
        "  axis_step = 0.2 / math.sqrt(3)\n",
        "\n",
        "  i = 0\n",
        "  while 0.2 * i < src_len:\n",
        "    src_xs.append(src_x - offset + axis_step * i)\n",
        "    src_ys.append(src_y - offset + axis_step * i)\n",
        "    src_zs.append(src_z - offset + axis_step * i)\n",
        "    i += 1\n",
        "\n",
        "  return [np.array([src_xs]), np.array([src_ys]), np.array([src_zs])]\n",
        "\n",
        "def dist(s, e):\n",
        "  d = math.sqrt(sq(s[0] - e[0]) + sq(s[1] - e[1]) + sq(s[2] - e[2]))\n",
        "  return d"
      ]
    },
    {
      "cell_type": "code",
      "execution_count": null,
      "metadata": {
        "colab": {
          "base_uri": "https://localhost:8080/"
        },
        "id": "IcjCFutFzxp-",
        "outputId": "03f9d0ce-a48a-4ead-d277-a2b9ab5f0c22"
      },
      "outputs": [
        {
          "data": {
            "text/plain": [
              "113"
            ]
          },
          "execution_count": 15,
          "metadata": {},
          "output_type": "execute_result"
        }
      ],
      "source": [
        "filtered_results = []\n",
        "filtered_off_results = []\n",
        "res_avg_dist = 0\n",
        "for res in tl_results:\n",
        "  res_avg_dist += dist(mix_max_3d, res)\n",
        "\n",
        "res_avg_dist /= len(tl_results)\n",
        "\n",
        "for res in tl_results:\n",
        "  if (dist(mix_max_3d, res) < res_avg_dist*2):\n",
        "    filtered_results.append(res)\n",
        "  else:\n",
        "    filtered_off_results.append(res)\n",
        "\n",
        "len(filtered_results)"
      ]
    },
    {
      "cell_type": "code",
      "execution_count": null,
      "metadata": {
        "colab": {
          "base_uri": "https://localhost:8080/"
        },
        "id": "RWA9D36R7uhN",
        "outputId": "6d19e1d7-2e8d-4df4-bdc1-fa5a7d166821"
      },
      "outputs": [
        {
          "data": {
            "text/plain": [
              "array([[ 67.33779358,  49.13549529,  43.94485563,  16.81649619,\n",
              "         12.78634492,   5.7997607 , -45.47595432,  11.53327287,\n",
              "         43.96411101,  14.70715334,  88.97847461,  15.67545468,\n",
              "         14.82911676],\n",
              "       [ 17.02934578,  20.00449162,   9.00068484,  32.10855524,\n",
              "         25.80212259,  25.9750558 ,  34.34297231,  25.98581428,\n",
              "         20.78822122,  25.49322477,  13.96623946,  25.8921036 ,\n",
              "         33.60299132],\n",
              "       [ 25.45181984,  25.74691614,  23.00987684,  25.37762496,\n",
              "         25.25404404,  24.90696407,  18.79771967,  25.11518512,\n",
              "         25.36707876,  25.26100791,  28.67337686,  25.1841637 ,\n",
              "         25.64966753]])"
            ]
          },
          "execution_count": 16,
          "metadata": {},
          "output_type": "execute_result"
        }
      ],
      "source": [
        "np.array(filtered_off_results).T"
      ]
    },
    {
      "cell_type": "code",
      "execution_count": null,
      "metadata": {
        "colab": {
          "base_uri": "https://localhost:8080/"
        },
        "id": "3uF6zez41aUi",
        "outputId": "1c3bcf85-7a3d-4c00-a82e-589fb7f74af7"
      },
      "outputs": [
        {
          "name": "stdout",
          "output_type": "stream",
          "text": [
            "[25.4954955  25.24024024 25.13813814]\n",
            "-0.24480060157099376\n",
            "0.101306440822896\n",
            "[[ 6.94326387 -1.69971517  0.70339735]\n",
            " [-1.69971517  1.82359364  0.08373514]\n",
            " [ 0.70339735  0.08373514  0.41144981]]\n"
          ]
        }
      ],
      "source": [
        "# CALC SPEEEEED\n",
        "# generate data\n",
        "# n = 500\n",
        "# gen_points = [np.array([]), np.array([]), np.array([])]\n",
        "# for rez in filtered_results:\n",
        "#   x, y, z = np.random.multivariate_normal([rez[0], rez[1], rez[2]], [[1,0,0], [0,1,0], [0,0,1]], n).T  \n",
        "#   gen_points[0] = np.append(gen_points[0], x)\n",
        "#   gen_points[1] = np.append(gen_points[1], y)\n",
        "#   gen_points[2] = np.append(gen_points[2], z)\n",
        "\n",
        "# covariance using generated points\n",
        "mix_cov_3d = np.cov(np.array(filtered_results).T)\n",
        "slope_XY = mix_cov_3d[0][1] / mix_cov_3d[0][0]\n",
        "slope_XZ = mix_cov_3d[0][2] / mix_cov_3d[0][0]\n",
        "\n",
        "print(mix_max_3d)\n",
        "print(slope_XY)\n",
        "print(slope_XZ)\n",
        "print(mix_cov_3d)"
      ]
    },
    {
      "cell_type": "code",
      "execution_count": null,
      "metadata": {
        "colab": {
          "base_uri": "https://localhost:8080/",
          "height": 579
        },
        "id": "t1R8yDjkyVUn",
        "outputId": "b35575da-d9df-4fb9-8ea2-803fc388a94e"
      },
      "outputs": [
        {
          "data": {
            "application/vnd.jupyter.widget-view+json": {
              "model_id": "8f585c040f0e438784e88c685b3cfa5f",
              "version_major": 2,
              "version_minor": 0
            },
            "text/plain": [
              "VBox(children=(Figure(camera=PerspectiveCamera(fov=46.0, position=(0.0, 0.0, 2.0), projectionMatrix=(1.0, 0.0,…"
            ]
          },
          "metadata": {
            "application/vnd.jupyter.widget-view+json": {
              "colab": {
                "custom_widget_manager": {
                  "url": "https://ssl.gstatic.com/colaboratory-static/widgets/colab-cdn-widget-manager/a8874ba6619b6106/manager.min.js"
                }
              }
            }
          },
          "output_type": "display_data"
        },
        {
          "name": "stdout",
          "output_type": "stream",
          "text": [
            "[18.245616596034797, 27.015014956145073, 24.40367871043676]\n",
            "[32.7453743949562, 23.465465524335407, 25.872597565839516]\n"
          ]
        }
      ],
      "source": [
        "# Filtering off unlikely in between results\n",
        "\n",
        "src_line = GenerateSourceLine(25, 25, 25, 15)\n",
        "\n",
        "ipv.figure()\n",
        "for res in filtered_results:\n",
        "  ipv.scatter(np.array([res[0]]), np.array([res[1]]), np.array([res[2]]), size=3, color=\"red\", marker=\"sphere\")\n",
        "\n",
        "# i = 0\n",
        "# for i in range(len(src_line[0])):\n",
        "ipv.scatter(src_line[0], src_line[1], src_line[2], size=2, color=\"grey\", marker=\"sphere\")\n",
        "\n",
        "for d in ds:\n",
        "  ipv.scatter(np.array([d.x]), np.array([d.y]), np.array([d.z]), size=3, color=\"green\", marker=\"sphere\")\n",
        "\n",
        "ipv.scatter(np.array([mix_max_3d[0]]), np.array([mix_max_3d[1]]), np.array([mix_max_3d[2]]),  size=5, color=\"blue\", marker=\"sphere\")\n",
        "\n",
        "x_offset = (src_len / 2) / math.sqrt(1 + slope_XY**2 + slope_XZ**2)\n",
        "startpoint = [mix_max_3d[0]-x_offset, mix_max_3d[1]-x_offset*slope_XY, mix_max_3d[2]-x_offset*slope_XZ]\n",
        "endpoint = [mix_max_3d[0]+x_offset, mix_max_3d[1]+x_offset*slope_XY, mix_max_3d[2]+x_offset*slope_XZ]\n",
        "ipv.pylab.plot(x=np.array([startpoint[0],endpoint[0]]), y=np.array([startpoint[1],endpoint[1]]), z=np.array([startpoint[2],endpoint[2]]), color='black', cast_shadow=True, receive_shadow=True)\n",
        "\n",
        "ipv.show()\n",
        "\n",
        "print(startpoint)\n",
        "print(endpoint)\n"
      ]
    },
    {
      "cell_type": "code",
      "execution_count": null,
      "metadata": {
        "id": "0yA3UHg44K54"
      },
      "outputs": [],
      "source": [
        "dist(startpoint, endpoint)"
      ]
    },
    {
      "cell_type": "code",
      "execution_count": null,
      "metadata": {
        "colab": {
          "base_uri": "https://localhost:8080/",
          "height": 577
        },
        "id": "Vuwfyqkmx8x1",
        "outputId": "88b5cece-a079-4ccd-b268-79dca55ba922"
      },
      "outputs": [
        {
          "data": {
            "application/vnd.jupyter.widget-view+json": {
              "model_id": "bdb750a11a814c418f1be9c9486f3fb7",
              "version_major": 2,
              "version_minor": 0
            },
            "text/plain": [
              "VBox(children=(Figure(camera=PerspectiveCamera(fov=46.0, position=(0.0, 0.0, 2.0), projectionMatrix=(1.0, 0.0,…"
            ]
          },
          "metadata": {
            "application/vnd.jupyter.widget-view+json": {
              "colab": {
                "custom_widget_manager": {
                  "url": "https://ssl.gstatic.com/colaboratory-static/widgets/colab-cdn-widget-manager/a8874ba6619b6106/manager.min.js"
                }
              }
            }
          },
          "output_type": "display_data"
        },
        {
          "name": "stdout",
          "output_type": "stream",
          "text": [
            "[2.1578011410102103, 6.115224746819995, 6.485641755715772]\n",
            "[9.66402068081161, -0.41152104311629145, 7.514358244284228]\n"
          ]
        }
      ],
      "source": [
        "import ipyvolume as ipv\n",
        "import numpy as np\n",
        "x, y, z = np.array(tmp_x), np.array(tmp_y), np.array(tmp_z)\n",
        "\n",
        "ipv.figure()\n",
        "ipv.scatter(np.array(xyz[i][0]), np.array(xyz[i][1]), np.array(xyz[i][2]), size=1, color=color, marker=\"sphere\")\n",
        "for i in range(9):\n",
        "  color = \"#%06x\" % random.randint(0, 0xFFFFFF)\n",
        "  ipv.scatter(np.array([tl_results[i][0]]), np.array([tl_results[i][1]]), np.array([tl_results[i][2]]), size=3, color=\"red\", marker=\"sphere\")\n",
        "  ipv.scatter(np.array([ds[i].x]), np.array([ds[i].y]), np.array([ds[i].z]), size=3, color=\"green\", marker=\"sphere\")\n",
        "\n",
        "ipv.scatter(np.array([mean3d[0]]), np.array([mean3d[1]]), np.array([mean3d[2]]),  size=7, color=\"blue\", marker=\"sphere\")\n",
        "\n",
        "x_offset = (src_len / 2) / math.sqrt(1 + slope_XY**2 + slope_XZ**2)\n",
        "startpoint = [mean3d[0]-x_offset, mean3d[1]-x_offset*slope_XY, mean3d[2]-x_offset*slope_XZ]\n",
        "endpoint = [mean3d[0]+x_offset, mean3d[1]+x_offset*slope_XY, mean3d[2]+x_offset*slope_XZ]\n",
        "ipv.pylab.plot(x=np.array([startpoint[0],endpoint[0]]), y=np.array([startpoint[1],endpoint[1]]), z=np.array([startpoint[2],endpoint[2]]), color='red', cast_shadow=True, receive_shadow=True)\n",
        "\n",
        "ipv.show()\n",
        "\n",
        "print(startpoint)\n",
        "print(endpoint)\n"
      ]
    },
    {
      "cell_type": "code",
      "execution_count": null,
      "metadata": {
        "colab": {
          "base_uri": "https://localhost:8080/"
        },
        "id": "7LLWzjPyK-4Q",
        "outputId": "a23e957a-4138-418c-face-f01c36e35780"
      },
      "outputs": [
        {
          "data": {
            "text/plain": [
              "10.0"
            ]
          },
          "execution_count": 17,
          "metadata": {},
          "output_type": "execute_result"
        }
      ],
      "source": [
        "math.sqrt((startpoint[0]-endpoint[0])**2 + (startpoint[1]-endpoint[1])**2 + (startpoint[2]-endpoint[2])**2)"
      ]
    },
    {
      "cell_type": "code",
      "execution_count": null,
      "metadata": {
        "id": "q0Wzj1YVDAvR"
      },
      "outputs": [],
      "source": [
        "import plotly.graph_objects as go\n",
        "import numpy as np\n",
        "  \n",
        "x1 = np.linspace(-4, 4, 9) \n",
        "y1 = np.linspace(-5, 5, 11) \n",
        "z1 = np.linspace(-5, 5, 11) \n",
        "  \n",
        "X, Y, Z = np.meshgrid(x1, y1, z1)\n",
        "  \n",
        "values = (np.sin(X**2 + Y**2))/(X**2 + Y**2)\n",
        "  \n",
        "fig = go.Figure(data=go.Volume(\n",
        "    x=X.flatten(),\n",
        "    y=Y.flatten(),\n",
        "    z=Z.flatten(),\n",
        "    value=values.flatten(),\n",
        "    opacity=0.1,\n",
        "    ))\n",
        "  \n",
        "fig.show()"
      ]
    },
    {
      "cell_type": "markdown",
      "metadata": {
        "id": "k-6RtN4WVRXh"
      },
      "source": [
        "# Data formatting"
      ]
    },
    {
      "cell_type": "code",
      "execution_count": null,
      "metadata": {
        "colab": {
          "base_uri": "https://localhost:8080/"
        },
        "id": "V0L76OXqZeSj",
        "outputId": "df059b99-a4f7-403f-add7-848e2f6037aa"
      },
      "outputs": [
        {
          "output_type": "stream",
          "name": "stdout",
          "text": [
            "Looking in indexes: https://pypi.org/simple, https://us-python.pkg.dev/colab-wheels/public/simple/\n",
            "Requirement already satisfied: pandas in /usr/local/lib/python3.7/dist-packages (1.3.5)\n",
            "Requirement already satisfied: python-dateutil>=2.7.3 in /usr/local/lib/python3.7/dist-packages (from pandas) (2.8.2)\n",
            "Requirement already satisfied: pytz>=2017.3 in /usr/local/lib/python3.7/dist-packages (from pandas) (2022.1)\n",
            "Requirement already satisfied: numpy>=1.17.3 in /usr/local/lib/python3.7/dist-packages (from pandas) (1.21.6)\n",
            "Requirement already satisfied: six>=1.5 in /usr/local/lib/python3.7/dist-packages (from python-dateutil>=2.7.3->pandas) (1.15.0)\n"
          ]
        }
      ],
      "source": [
        "pip install pandas"
      ]
    },
    {
      "cell_type": "code",
      "execution_count": null,
      "metadata": {
        "id": "PttbwLfjvVBD"
      },
      "outputs": [],
      "source": [
        "import pandas as pd\n",
        "import csv\n",
        "from google.colab import files"
      ]
    },
    {
      "cell_type": "code",
      "execution_count": null,
      "metadata": {
        "id": "X652YfeOZooU"
      },
      "outputs": [],
      "source": [
        "# Converting txt file to csv\n",
        "def TxtToCsv(file_path):\n",
        "  read_file = pd.read_csv(file_path)\n",
        "  csv_file_path = file_path[:-3] + 'csv'\n",
        "  read_file.to_csv(csv_file_path, index=None)\n",
        "\n",
        "  return csv_file_path\n",
        "\n",
        "# Reading dosimeter data from csv file to np array\n",
        "def CsvToDosimeterDataArray(csv_file_path):\n",
        "  csv_file = open(csv_file_path)\n",
        "  csvreader = csv.reader(csv_file)\n",
        "\n",
        "  header = []\n",
        "  header = next(csvreader)\n",
        "\n",
        "  rows = []\n",
        "  for row in csvreader:\n",
        "    rows.append(row)\n",
        "\n",
        "  ds_data = np.array(rows).T[2:]\n",
        "  ds_data_timestamp = np.array(rows).T[1]\n",
        "\n",
        "  return ds_data, ds_data_timestamp\n",
        "\n",
        "def CsvToArray(csv_file_path):\n",
        "  csv_file = open(csv_file_path)\n",
        "  csvreader = csv.reader(csv_file)\n",
        "\n",
        "  header = []\n",
        "  header = next(csvreader)\n",
        "\n",
        "  rows = []\n",
        "  for row in csvreader:\n",
        "    rows.append(row)\n",
        "  data = np.array(rows)\n",
        "\n",
        "  return data\n",
        "\n",
        "# Writing localization test results to csv\n",
        "def WriteResultsToCsv(file_path, test_results):\n",
        "  res_file_path = file_path[:9] + 'res_' + file_path[9:-3] + 'csv'\n",
        "  res_file = open(res_file_path, 'w')\n",
        "\n",
        "  header = ['time', 'x', 'y','z']  \n",
        "\n",
        "  with open(res_file_path, 'w') as f: \n",
        "    write = csv.writer(f) \n",
        "    write.writerow(header) \n",
        "    write.writerows(test_results)\n",
        "\n",
        "  return True\n",
        "\n",
        "def WriteSimplifiedResultsToCsv(file_path, test_results):\n",
        "  res_file_path = file_path[:9] + 'res_' + file_path[9:-3] + 'csv'\n",
        "  res_file = open(res_file_path, 'w')\n",
        "\n",
        "  header = ['time', 'z']  \n",
        "\n",
        "  with open(res_file_path, 'w') as f: \n",
        "    write = csv.writer(f) \n",
        "    write.writerow(header) \n",
        "    write.writerows(test_results)\n",
        "\n",
        "  return True\n",
        "\n",
        "def WriteResultsToCsv(file_name, test_results, header):\n",
        "  res_file_path = '/content/' + file_name + '.csv'\n",
        "  res_file = open(res_file_path, 'w')\n",
        "\n",
        "  # header = ['time', 'z']  \n",
        "\n",
        "  with open(res_file_path, 'w') as f: \n",
        "    write = csv.writer(f) \n",
        "    write.writerow(header) \n",
        "    write.writerows(test_results)\n",
        "\n",
        "  return True\n"
      ]
    },
    {
      "cell_type": "code",
      "execution_count": null,
      "metadata": {
        "id": "vPbQI_7MU8Ck"
      },
      "outputs": [],
      "source": [
        "# temporaty functio to add timestamp column to complete calculations\n",
        "\n",
        "def AddTimestamp(file_path):\n",
        "  csv_file_path = file_path[:-3] + 'csv'\n",
        "  res_file_path = file_path[:9] + 'res_' + file_path[9:-3] + 'csv'\n",
        "  res_file_path_wts = file_path[:9] + 'res_wst_' + file_path[9:-3] + 'csv'\n",
        "\n",
        "  csv_file = open(csv_file_path)\n",
        "  csvreader = csv.reader(csv_file)\n",
        "  header = []\n",
        "  header = next(csvreader)\n",
        "  rows = []\n",
        "  for row in csvreader:\n",
        "    rows.append(row)\n",
        "  ds_data_timestamps = np.array(rows).T[1]\n",
        "\n",
        "  csv_file = open(res_file_path)\n",
        "  csvreader = csv.reader(csv_file)\n",
        "  header = []\n",
        "  header = next(csvreader)\n",
        "  rows = []\n",
        "  for row in csvreader:\n",
        "    rows.append(row)\n",
        "  tl_results = np.array(rows).T\n",
        "\n",
        "  results_wts = np.array([ds_data_timestamps, tl_results[0], tl_results[1], tl_results[2]])\n",
        "\n",
        "  header = ['time', 'x', 'y','z']  \n",
        "\n",
        "  with open(res_file_path_wts, 'w') as f: \n",
        "    write = csv.writer(f) \n",
        "    write.writerow(header) \n",
        "    write.writerows(results_wts.T)"
      ]
    },
    {
      "cell_type": "markdown",
      "metadata": {
        "id": "tP-5-3osrTWZ"
      },
      "source": [
        "# Distance to radiation  exponent fitting"
      ]
    },
    {
      "cell_type": "code",
      "execution_count": null,
      "metadata": {
        "id": "z8a8gW3RIdI9"
      },
      "outputs": [],
      "source": [
        "from scipy.optimize import curve_fit\n",
        "\n",
        "# Marks soruce z values for timestamps returns only list of z values\n",
        "def MarkZValues(csv_file_path, step_time, start_coordinate, dosimeter_number):\n",
        "  dosimeter_radiation, timestamps = CsvToDosimeterDataArray(csv_file_path)\n",
        "  src_locations = np.zeros(len(timestamps))\n",
        "\n",
        "  start = False\n",
        "  timer_count = timer_count_global\n",
        "  loc = 0\n",
        "  curr_step_count = 0\n",
        "  step_time = step_time_global\n",
        "\n",
        "  for i in range(len(dosimeter_radiation[0])-1):\n",
        "    # find where non noise radiation starts (picks up the first spike in radiation data)\n",
        "    if (float(dosimeter_radiation[dosimeter_number][i]) > 0.02 and start == False):\n",
        "      start = True\n",
        "      loc = start_coordinate\n",
        "    \n",
        "    # marks z locations\n",
        "    if (start == True):\n",
        "      timer_count += int(timestamps[i+1]) - int(timestamps[i])\n",
        "      if (timer_count >= step_time * step_margin_global and timer_count <= step_time * (1 - step_margin_global)):\n",
        "        src_locations[i] = loc\n",
        "\n",
        "      # calculates when is next step\n",
        "      if (timer_count >= step_time):\n",
        "        timer_count -= step_time\n",
        "        loc -= 0.5\n",
        "        curr_step_count += 1\n",
        "\n",
        "      # Checks when to end\n",
        "      if (curr_step_count == step_count_global):\n",
        "        break\n",
        "\n",
        "  return src_locations\n",
        "\n",
        "# Marks soruce z values for timestamps returns only list of z values\n",
        "def MarkZValuesDirty(csv_file_path, step_time, start_coordinate, dosimeter_number):\n",
        "  dosimeter_radiation, timestamps = CsvToDosimeterDataArray(csv_file_path)\n",
        "  src_locations = np.zeros(len(timestamps))\n",
        "\n",
        "  start = False\n",
        "  timer_count = timer_count_global\n",
        "  step_time = step_time_global\n",
        "  loc = 0\n",
        "  curr_step_count = 0\n",
        "\n",
        "  for i in range(len(dosimeter_radiation[0])-1):\n",
        "    # find where non noise radiation starts (picks up the first spike in radiation data)\n",
        "    if (float(dosimeter_radiation[dosimeter_number][i]) > 0.02 and start == False):\n",
        "      start = True\n",
        "      loc = start_coordinate\n",
        "    \n",
        "    # marks z locations\n",
        "    if (start == True):\n",
        "      timer_count += int(timestamps[i+1]) - int(timestamps[i])\n",
        "      src_locations[i] = loc\n",
        "\n",
        "      # calculates when is next step\n",
        "      if (timer_count >= step_time):\n",
        "        timer_count -= step_time\n",
        "        loc -= 0.5\n",
        "        curr_step_count += 1\n",
        "\n",
        "      # Checks when to end\n",
        "      if (curr_step_count == step_count_global):\n",
        "        break\n",
        "\n",
        "  return src_locations\n",
        "\n",
        "# Calcualtes Euclidean distances from dosimeter to source\n",
        "def CalcDosimeterToSourceDistances(dosimeter, src_z_values, src_x = 0):\n",
        "  distances_list = np.zeros(len(src_z_values))\n",
        "\n",
        "  for i in range(len(src_z_values)):\n",
        "    if (src_z_values[i] != 0):\n",
        "      distances_list[i] = math.sqrt((src_z_values[i] - dosimeter.z)**2 + (src_x - dosimeter.x)**2) \n",
        "\n",
        "  return distances_list\n",
        "\n",
        "def RemoveZeroValuesFromList(values_list):\n",
        "  for i in reversed(range(len(values_list))):\n",
        "    if (values_list[i] == 0):\n",
        "      values_list = np.delete(values_list, i)\n",
        "\n",
        "  return values_list\n",
        "\n",
        "def RemoveZeroValuesFromLists(radiations, distances):\n",
        "  for i in reversed(range(len(distances))):\n",
        "    if (distances[i] == 0):\n",
        "      radiations = np.delete(radiations, i)\n",
        "      distances = np.delete(distances, i)\n",
        "\n",
        "  return radiations, distances\n",
        "\n",
        "def FitTwoLists(xs, ys):\n",
        "  [a, b], res1 = curve_fit(lambda x1,a,b: a * np.exp(b * x1),  xs,  ys)\n",
        "\n",
        "  return a, b\n",
        "\n",
        "# note that not all test contain data for all dosimeters\n",
        "def MapDistanceToRadiation(test_number, dosimeter_number):\n",
        "  dosimeter = Dosimeter3D(x=TestNumberToXCoordinate(test_number), z=DosimeterNumberToZCoordinate(dosimeter_number+1))\n",
        "  csv_file_path = '/content/test' + str(test_number) + '.csv'\n",
        "\n",
        "  src_z_values = MarkZValues(csv_file_path, 2140, 8.5, dosimeter_number)\n",
        "  d_to_src_distances = CalcDosimeterToSourceDistances(dosimeter, src_z_values)\n",
        "  ds_radiation, timestamps = CsvToDosimeterDataArray(csv_file_path)\n",
        "  d_radiation, d_to_src_distances = RemoveZeroValuesFromLists(ds_radiation[dosimeter_number], d_to_src_distances)\n",
        "\n",
        "  d_radiation_float = np.zeros(len(d_radiation))\n",
        "  for i in range(len(d_radiation)):\n",
        "    d_radiation_float[i] = float(d_radiation[i])\n",
        "# src_z_values = MarkZValues(csv_file_path, 2140, 8.5, dosimeter_number)\n",
        "# src_z_values = RemoveZeroValuesFromList(src_z_values)\n",
        "\n",
        "  return d_to_src_distances, d_radiation_float\n",
        "\n",
        "# distance to radiation\n",
        "def FittedExponent(x, a, b):\n",
        "  y = a * np.exp(b * x)\n",
        "\n",
        "  return y\n",
        "\n",
        "# radiation to distance\n",
        "def FittedLogarithm(y, a, b):\n",
        "  x = np.log(y/a) / b\n",
        "\n",
        "  return x\n",
        "\n",
        "# generated data for plotting\n",
        "def GenerateExpData(a, b, x_min, x_max, steps):\n",
        "  step = (x_max - x_min) / steps\n",
        "\n",
        "  xs = np.zeros(steps)\n",
        "  ys = np.zeros(steps)\n",
        "  i = 0\n",
        "  while ((x_min + step * i) < x_max):\n",
        "    xs[i] = x_min + step * i\n",
        "    ys[i] = FittedExponent(xs[i], a, b)\n",
        "    i += 1\n",
        "\n",
        "  return xs, ys\n",
        "\n",
        "def FitRadiationExpWithData(first_file, last_file, dosimeter_number):\n",
        "\n",
        "  distances = np.array([], dtype=float)\n",
        "  radiations = np.array([], dtype=float)\n",
        "\n",
        "  for i in range(first_file, last_file+1):\n",
        "    temp_distances, temp_radiations = MapDistanceToRadiation(i, dosimeter_number)\n",
        "    distances = np.append(distances, temp_distances)\n",
        "    radiations =  np.append(radiations, temp_radiations)\n",
        "\n",
        "  a, b = FitTwoLists(distances, radiations)\n",
        "\n",
        "  return a, b\n",
        "\n",
        "# non universal functions for current tests automation\n",
        "# only tests 4-9, 11-16, 18-23\n",
        "def TestNumberToXCoordinate(num):\n",
        "  if (num > 16):\n",
        "    num -= 14\n",
        "  elif (num > 9):\n",
        "    num -= 7\n",
        "  num -= 3\n",
        "\n",
        "  return num\n",
        "\n",
        "def DosimeterNumberToZCoordinate(num):\n",
        "  z = 2\n",
        "  if (num % 3 == 2):\n",
        "    z += 3\n",
        "  elif (num % 3 == 0):\n",
        "    z += 6\n",
        "  return z"
      ]
    },
    {
      "cell_type": "code",
      "execution_count": null,
      "metadata": {
        "id": "eUPdLePE7pGM"
      },
      "outputs": [],
      "source": [
        "# Calculating dosimeter a and b approximations\n",
        "dosimeter_exp_ab = np.zeros((9, 2))\n",
        "\n",
        "for i in range(3):\n",
        "  dosimeter_exp_ab[i] = FitRadiationExpWithData(4, 9, i)\n",
        "\n",
        "for i in range(3, 6):\n",
        "  dosimeter_exp_ab[i] = FitRadiationExpWithData(11, 16, i)\n",
        "\n",
        "for i in range(6, 9):\n",
        "  dosimeter_exp_ab[i] = FitRadiationExpWithData(18, 23, i)\n",
        "\n",
        "dosimeter_exp_ab"
      ]
    },
    {
      "cell_type": "code",
      "execution_count": null,
      "metadata": {
        "id": "5yWhQuaL7vIK"
      },
      "outputs": [],
      "source": [
        "# Already Calculated dosimetere exponent koeficients\n",
        "dosimeter_exp_ab = [\n",
        "    [ 0.16801284, -0.37641622],\n",
        "    [ 2.23576675, -1.13339008],\n",
        "    [ 2.41308608, -1.45751485],\n",
        "    [ 1.54596901, -0.92266818],\n",
        "    [ 1.73770635, -1.01474088],\n",
        "    [ 2.06235769, -1.19327526],\n",
        "    [ 1.75301363, -1.03443367],\n",
        "    [ 1.81073478, -1.07940669],\n",
        "    [ 0.14224586, -0.37226811]\n",
        "  ]"
      ]
    },
    {
      "cell_type": "code",
      "execution_count": null,
      "metadata": {
        "colab": {
          "base_uri": "https://localhost:8080/",
          "height": 592
        },
        "id": "YNnHcokD8PH-",
        "outputId": "37221ed1-4881-4fe2-d51d-5d213d57823f"
      },
      "outputs": [
        {
          "data": {
            "image/png": "[encoded data removed]",
            "text/plain": [
              "<Figure size 1440x720 with 1 Axes>"
            ]
          },
          "metadata": {},
          "output_type": "display_data"
        }
      ],
      "source": [
        "# plotting radiation exponents\n",
        "cs = ['red', 'green', 'blue', 'grey', 'purple', 'orange', 'yellow', 'turquoise', 'violet']\n",
        "fig, ax = plt.subplots(figsize=(20, 10))\n",
        "\n",
        "for i in range(9):\n",
        "  xs, ys = GenerateExpData(dosimeter_exp_ab[i][0], dosimeter_exp_ab[i][1], 1, 9, 16)\n",
        "  sns.lineplot(x=xs, y=ys, legend='full', label=str(i+1), linewidth=2)\n",
        "plt.show()"
      ]
    },
    {
      "cell_type": "markdown",
      "metadata": {
        "id": "cj_LIMSzIUqF"
      },
      "source": [
        "# Localization"
      ]
    },
    {
      "cell_type": "code",
      "execution_count": null,
      "metadata": {
        "id": "asvS10wgMCA3"
      },
      "outputs": [],
      "source": [
        "import math\n",
        "import numpy as np\n",
        "import itertools # Dosimeter combinations for trilateration\n",
        "from scipy.stats import norm # Gaussian distribution\n",
        "\n",
        "from scipy.stats import multivariate_normal # Gaussian multivariate distribution\n",
        "import random\n",
        "from numba import jit # code exection optimisation"
      ]
    },
    {
      "cell_type": "code",
      "execution_count": null,
      "metadata": {
        "id": "SLkriWB-xjkg"
      },
      "outputs": [],
      "source": [
        "class Dosimeter3D:\n",
        "  def __init__ (self, x=None, y=None, z=None, r=None):\n",
        "    self.x = x\n",
        "    self.y = y\n",
        "    self.z = z\n",
        "    self.r = r\n",
        "\n",
        "  def print(self):\n",
        "    print(self.x, ' ', self.y, ' ', self.z, ' ', self.r)"
      ]
    },
    {
      "cell_type": "code",
      "execution_count": null,
      "metadata": {
        "id": "MjOHDXrIMOXL"
      },
      "outputs": [],
      "source": [
        "# Misc\n",
        "def sq(val):\n",
        "  return val**2\n",
        "\n",
        "# ------------------------\n",
        "#  Trilateration\n",
        "# ------------------------\n",
        "\n",
        "def Trilateration3D(ds):\n",
        "  x1, y1, z1, r1 = ds[0].x,      ds[0].y,      ds[0].z,      ds[0].r**2\n",
        "  x2, y2, z2, r2 = ds[1].x - x1, ds[1].y - y1, ds[1].z - z1, ds[1].r**2\n",
        "  x3, y3, z3, r3 = ds[2].x - x1, ds[2].y - y1, ds[2].z - z1, ds[2].r**2\n",
        "  x4, y4, z4, r4 = ds[3].x - x1, ds[3].y - y1, ds[3].z - z1, ds[3].r**2\n",
        "\n",
        "  r21 = r2 - r1\n",
        "  r31 = r3 - r1\n",
        "  r41 = r4 - r1\n",
        "\n",
        "  t2 = sq(x2) + sq(y2) + sq(z2)\n",
        "  t3 = sq(x3) + sq(y3) + sq(z3)\n",
        "  t4 = sq(x4) + sq(y4) + sq(z4)\n",
        "\n",
        "  xu1 = z2*(r41 - t4) + z4*(t2 - r21)\n",
        "  xu2 = y2*z3 - y3*z2\n",
        "  xu3 = z2*(r31 - t3) + z3*(t2 - r21)\n",
        "  xu4 = y2*z4 - y4*z2\n",
        "  xu = xu1 * xu2 - xu3 * xu4\n",
        "  xl1 = (x2 * z4 - x4 * z2) * (y2 * z3 - y3 * z2)\n",
        "  xl2 = (x2 * z3 - x3 * z2) * (y2 * z4 - y4 * z2)\n",
        "  xl = 2 * (xl1 - xl2)\n",
        "  x = xu / xl\n",
        "  if (math.isinf(x) or math.isnan(x)):\n",
        "    raise ZeroDivisionError\n",
        "\n",
        "  yu1 = z2 * (r31 - t3)\n",
        "  yu2 = z3 * (t2 - r21)\n",
        "  yu3 = 2 * x * (x2 * z3 - x3 * z2)\n",
        "  yu = yu1 + yu2 - yu3\n",
        "  yl = 2 * (y2 * z3 - y3 * z2)\n",
        "  y = yu / yl\n",
        "\n",
        "  z = (t2 - r21 - 2 * x * x2 - 2 * y * y2) / (2 * z2)\n",
        "\n",
        "  return [(x+x1), (y+y1), (z+z1)]\n",
        "\n",
        "def Trilateration3DProportionalDistances (ds):\n",
        "  x1, y1, z1, r1 = ds[0].x,      ds[0].y,      ds[0].z,      ds[0].r**2\n",
        "  x2, y2, z2, r2 = ds[1].x - x1, ds[1].y - y1, ds[1].z - z1, ds[1].r**2\n",
        "  x3, y3, z3, r3 = ds[2].x - x1, ds[2].y - y1, ds[2].z - z1, ds[2].r**2\n",
        "  x4, y4, z4, r4 = ds[3].x - x1, ds[3].y - y1, ds[3].z - z1, ds[3].r**2\n",
        "  x5, y5, z5, r5 = ds[4].x - x1, ds[4].y - y1, ds[4].z - z1, ds[4].r**2\n",
        "\n",
        "  r21 = r2 - r1\n",
        "  r31 = r3 - r1\n",
        "  r41 = r4 - r1\n",
        "  r51 = r5 - r1\n",
        "\n",
        "  x23 = x2*r31-x3*r21\n",
        "  x24 = x2*r41-x4*r21\n",
        "  x25 = x2*r51-x5*r21\n",
        "  y23 = y2*r31-y3*r21\n",
        "  y24 = y2*r41-y4*r21\n",
        "  y25 = y2*r51-y5*r21\n",
        "  z23 = z2*r31-z3*r21\n",
        "  z24 = z2*r41-z4*r21\n",
        "  z25 = z2*r51-z5*r21\n",
        "\n",
        "  t2 = sq(x2) + sq(y2) + sq(z2)\n",
        "  t3 = sq(x3) + sq(y3) + sq(z3)\n",
        "  t4 = sq(x4) + sq(y4) + sq(z4)\n",
        "  t5 = sq(x5) + sq(y5) + sq(z5)\n",
        "\n",
        "  xu1 = z23*(t4*r21 - t2*r41) - z24*(t3*r21 - t2*r31)\n",
        "  xu2 = y25*z23 - y23*z25\n",
        "  xu3 = z23*(t5*r21 - t2*r51) - z25*(t3*r21 - t2*r31)\n",
        "  xu4 = y24*z23 - y23*z24\n",
        "  xu = xu1 * xu2 - xu3 * xu4\n",
        "  xl1 = (x25 * z23 - x23 * z25) * (y24 * z23 - y23 * z24)\n",
        "  xl2 = (x24 * z23 - x23 * z24) * (y25 * z23 - y23 * z25)\n",
        "  xl = 2 * (xl1 - xl2)\n",
        "  x = xu / xl\n",
        "  if (math.isinf(x) or math.isnan(x)):\n",
        "    raise ZeroDivisionError\n",
        "\n",
        "  yu1 = z24 * (t3 * r21 - t2 * r31)\n",
        "  yu2 = z23 * (t4 * r21 - t2 * r41)\n",
        "  yu3 = 2 * x * (x24 * z23 - x23 * z24)\n",
        "  yu = yu1 - yu2 - yu3\n",
        "  yl = 2 * (y24 * z23 - y23 * z24)\n",
        "  y = yu / yl\n",
        "\n",
        "  z = (t2 * r31 - t3 * r21 - 2 * x * x23 - 2 * y * y23) / (2 * z23)\n",
        "\n",
        "  return [(x+x1), (y+y1), (z+z1)]\n",
        "\n",
        "def Trilateration3DSimplified (ds, src_x, src_y):\n",
        "  x1, y1, z1, r1 = ds[0].x,      ds[0].y,      ds[0].z,      ds[0].r**2\n",
        "  x2, y2, z2, r2 = ds[1].x - x1, ds[1].y - y1, ds[1].z - z1, ds[1].r**2\n",
        "  x3, y3, z3, r3 = ds[2].x - x1, ds[2].y - y1, ds[2].z - z1, ds[2].r**2\n",
        "  x, y = (src_x - x1), (src_y - y1)\n",
        "\n",
        "  r21 = r2 - r1\n",
        "  r31 = r3 - r1\n",
        "\n",
        "  zu1 = (sq(x2) - 2*x2*x + sq(y2) - 2*y2*y + sq(z2)) * r31\n",
        "  zu2 = (sq(x3) - 2*x3*x + sq(y3) - 2*y3*y + sq(z3)) * r21\n",
        "  zl = 2*(z2 * r31 - z3 * r21)\n",
        "  z = (zu1 - zu2) / zl\n",
        "  if (math.isinf(z) or math.isnan(z)):\n",
        "    raise ZeroDivisionError\n",
        "\n",
        "  return z+z1\n",
        "\n",
        "def Trilateration3DSimplifiedLog (ds, src_x, src_y):\n",
        "  x1, y1, z1, r1 = ds[0].x,      ds[0].y,      ds[0].z,      ds[0].r**2\n",
        "  x2, y2, z2, r2 = ds[1].x - x1, ds[1].y - y1, ds[1].z - z1, ds[1].r**2\n",
        "  x, y = (src_x - x1), (src_y - y1)\n",
        "\n",
        "  r21 = r2 - r1\n",
        "  t2 = sq(x2) + sq(y2) + sq(z2)\n",
        "\n",
        "  zu = t2 - r21 - 2*x2*x - 2*y2*y\n",
        "  zl = 2 * z2\n",
        "  z = zu / zl\n",
        "  if (math.isinf(z) or math.isnan(z)):\n",
        "    raise ZeroDivisionError\n",
        "\n",
        "  return z+z1\n",
        "\n",
        "# ------------------------\n",
        "#  Radiation to distance\n",
        "# ------------------------\n",
        "\n",
        "def RadiationToDistanceNthRoot(ds, n):\n",
        "  for d in ds:\n",
        "    if (d.r != 0):\n",
        "      d.r = 1 / (d.r ** (1/n))\n",
        "\n",
        "  return ds\n",
        "\n",
        "def RadiationToDistanceLog(ds):\n",
        "  # using previously calculated log values\n",
        "  ds_ab = [\n",
        "    [ 0.16801284, -0.37641622],\n",
        "    [ 2.23576675, -1.13339008],\n",
        "    [ 2.41308608, -1.45751485],\n",
        "    [ 1.54596901, -0.92266818],\n",
        "    [ 1.73770635, -1.01474088],\n",
        "    [ 2.06235769, -1.19327526],\n",
        "    [ 1.75301363, -1.03443367],\n",
        "    [ 1.81073478, -1.07940669],\n",
        "    [ 0.14224586, -0.37226811]\n",
        "  ]\n",
        "\n",
        "  for i in range(len(ds)):\n",
        "    if (ds[i].r != 0):\n",
        "      ds[i].r = float(np.log(ds[i].r / ds_ab[i][0]) / ds_ab[i][1])\n",
        "\n",
        "  return ds\n",
        "\n",
        "# ------------------------\n",
        "#  Dosimeter combinatorics\n",
        "# ------------------------\n",
        "\n",
        "# zero_divisions_count = 0\n",
        "# def ExhaustiveTrilateration(ds):\n",
        "#   tl_results = np.array([])\n",
        "#   global zero_divisions_count\n",
        "\n",
        "#   combinations = list(itertools.combinations(ds, 5))\n",
        "#   for combo in combinations:\n",
        "#     try:\n",
        "#       rez = Trilateration3D(combo)\n",
        "#       tl_results = np.append(tl_results, rez)\n",
        "#     except ZeroDivisionError:\n",
        "#       zero_divisions_count += 1\n",
        "      \n",
        "#   return tl_results\n",
        "\n",
        "# def ExhaustiveSimplifiedTrilateration(ds):\n",
        "#   tl_results = []\n",
        "#   global zero_divisions_count\n",
        "\n",
        "#   combinations = list(itertools.combinations(ds, 3))\n",
        "#   for combo in combinations:\n",
        "#     try:\n",
        "#       rez = TrilaterationSimplified(combo, 3, 3)\n",
        "#       tl_results.append(rez)\n",
        "#     except ZeroDivisionError:\n",
        "#       None\n",
        "      \n",
        "#   return np.array(tl_results)\n",
        "\n",
        "# def NonExhaustiveTrilateration(ds):\n",
        "#   tl_results = []\n",
        "#   ds_count = len(ds)\n",
        "\n",
        "#   for i in range(ds_count):\n",
        "#     if (ds_count - i >= ds_min):\n",
        "#       rez = TrilaterationWithDistance3D(ds[i : i + ds_min])\n",
        "#     else:\n",
        "#       temp1 = ds[ : ds_min - (ds_count - i)]\n",
        "#       temp2 = ds[i : ]\n",
        "#       rez = TrilaterationWithDistance3D([*(temp1), *(temp2)])\n",
        "#     tl_results.append(rez)\n",
        "\n",
        "#   return np.array(tl_results)\n",
        "\n",
        "# ------------------------\n",
        "#  Mixture Maximum\n",
        "# ------------------------\n",
        "\n",
        "# @jit(nopython=True)\n",
        "def MixtureDensityMaximum1D(xs):\n",
        "  x_axis = np.linspace(-1, 10, 1000)\n",
        "  scale = 0.06667\n",
        "  mdf = 0\n",
        "  len_xs = len(xs)\n",
        "\n",
        "  # NOTE im using scale_global, that is declared somewhere globaly\n",
        "  for x in xs:\n",
        "    pdf = norm.pdf(x_axis, x, scale_global)\n",
        "    mdf += (pdf / len_xs)\n",
        "\n",
        "  return x_axis[np.argmax(mdf)]\n",
        "\n",
        "def MixtureDensityMaximum3D(tl_results):\n",
        "  calc_points = tl_results.T\n",
        "  mix_max_3d = np.zeros(3)\n",
        "  mix_max_3d[0] = MixtureDensityMaximum1D(calc_points[0])\n",
        "  mix_max_3d[1] = MixtureDensityMaximum1D(calc_points[1])\n",
        "  mix_max_3d[2] = MixtureDensityMaximum1D(calc_points[2])\n",
        "\n",
        "  return mix_max_3d"
      ]
    },
    {
      "cell_type": "markdown",
      "metadata": {
        "id": "KJzPbGlT01Xf"
      },
      "source": [
        "# Test Functions"
      ]
    },
    {
      "cell_type": "code",
      "execution_count": null,
      "metadata": {
        "id": "P4mvbPgc10R-"
      },
      "outputs": [],
      "source": [
        "# Proportional distances\n",
        "# Square\n",
        "\n",
        "def RunLocalizationTest(ds, ds_data):\n",
        "  min_ds = 5\n",
        "  test_results = []\n",
        "\n",
        "  for i in range(len(ds_data[0])):\n",
        "    # setting dosimeter radiation\n",
        "    for j in range(len(ds)):\n",
        "      radiation = float(ds_data[j][i])\n",
        "      if (radiation > 0.0032):\n",
        "        ds[j].r = radiation\n",
        "      else:\n",
        "        ds[j].r = 0\n",
        "    RadiationToDistanceNthRoot(ds, 2)\n",
        "\n",
        "    no_zeros_ds = []\n",
        "    for d in ds:\n",
        "      if (d.r != 0):\n",
        "        no_zeros_ds.append(d)\n",
        "\n",
        "    # Calculating with exhaustinve trilateration\n",
        "    tl_results = []\n",
        "    combinations = list(itertools.combinations(no_zeros_ds, min_ds))\n",
        "    for combo in combinations:\n",
        "      try:\n",
        "        tl_results.append(Trilateration3DProportionalDistances(combo))\n",
        "      except ZeroDivisionError:\n",
        "        None\n",
        "\n",
        "    # Calculating highest density value\n",
        "    if (len(tl_results) > 0):\n",
        "      test_results.append(MixtureDensityMaximum3D(np.array(tl_results)))\n",
        "    else:\n",
        "      test_results.append([0,0,0])\n",
        "\n",
        "  return test_results\n",
        "\n",
        "def RunTest(ds, file_path, time=5150):\n",
        "  ds_data, timestamps = CsvToDosimeterDataArray(TxtToCsv(file_path))\n",
        "  z_values_dirty = MarkZValuesDirty(TxtToCsv(file_path), time, 8.5, 0)\n",
        "  z_values_clean = MarkZValues(TxtToCsv(file_path), time, 8.5, 0)\n",
        "  \n",
        "  test_results = np.array(RunLocalizationTest(ds, ds_data))\n",
        "\n",
        "  test_results_ts = np.column_stack((timestamps, z_values_dirty, z_values_clean, test_results.T[0],  test_results.T[1], test_results.T[2]))\n",
        "  WriteResultsToCsv(file_path[9:-4] + '_sq', test_results_ts, ['time', 'real_z', 'clean_z', 'x', 'y', 'z'])\n",
        "\n",
        "  return ('/content/' + file_path[9:-4] + '_sq.csv')"
      ]
    },
    {
      "cell_type": "code",
      "execution_count": null,
      "metadata": {
        "id": "KHuH7SwVZZ9o"
      },
      "outputs": [],
      "source": [
        "# Real Distances\n",
        "# Exp\n",
        "\n",
        "def RunLocalizationTestLog(ds, ds_data):\n",
        "  min_ds = 4\n",
        "  test_results = []\n",
        "\n",
        "  for i in range(len(ds_data[0])):\n",
        "    # setting dosimeter radiation\n",
        "    for j in range(len(ds)):\n",
        "      radiation = float(ds_data[j][i])\n",
        "      if (radiation > 0.0032):\n",
        "        ds[j].r = radiation\n",
        "      else:\n",
        "        ds[j].r = 0\n",
        "    RadiationToDistanceLog(ds)\n",
        "\n",
        "    no_zeros_ds = []\n",
        "    for d in ds:\n",
        "      if (d.r != 0):\n",
        "        no_zeros_ds.append(d)\n",
        "\n",
        "    # Calculating with exhaustinve trilateration\n",
        "    tl_results = []\n",
        "    combinations = list(itertools.combinations(no_zeros_ds, min_ds))\n",
        "    for combo in combinations:\n",
        "      try:\n",
        "        res = Trilateration3D(combo)\n",
        "        tl_results.append(res)\n",
        "      except ZeroDivisionError:\n",
        "        None\n",
        "\n",
        "    # Calculating highest density value\n",
        "    if (len(tl_results) > 0):\n",
        "      test_results.append(MixtureDensityMaximum3D(np.array(tl_results)))\n",
        "    else:\n",
        "      test_results.append([0,0,0])\n",
        "\n",
        "  return test_results\n",
        "\n",
        "def RunTestLog(ds, file_path, time=5150):\n",
        "  ds_data, timestamps = CsvToDosimeterDataArray(TxtToCsv(file_path))\n",
        "  z_values_dirty = MarkZValuesDirty(TxtToCsv(file_path), time, 8.5, 0)\n",
        "  z_values_clean = MarkZValues(TxtToCsv(file_path), time, 8.5, 0)\n",
        "\n",
        "  test_results = np.array(RunLocalizationTestLog(ds, ds_data))\n",
        "  \n",
        "  test_results_ts = np.column_stack((timestamps, z_values_dirty, z_values_clean, test_results.T[0],  test_results.T[1], test_results.T[2]))\n",
        "  WriteResultsToCsv(file_path[9:-4] + '_log', test_results_ts, ['time', 'real_z', 'clean_z', 'x', 'y', 'z'])\n",
        "\n",
        "  return ('/content/' + file_path[9:-4] + '_log.csv')"
      ]
    },
    {
      "cell_type": "code",
      "execution_count": null,
      "metadata": {
        "id": "xh377kh-Jm11"
      },
      "outputs": [],
      "source": [
        "# Real Distances\n",
        "# Exp\n",
        "\n",
        "def RunLocalizationTestLogProportionalDistances(ds, ds_data):\n",
        "  min_ds = 5\n",
        "  test_results = []\n",
        "\n",
        "  for i in range(len(ds_data[0])):\n",
        "    # setting dosimeter radiation\n",
        "    for j in range(len(ds)):\n",
        "      radiation = float(ds_data[j][i])\n",
        "      if (radiation > 0.0032):\n",
        "        ds[j].r = radiation\n",
        "      else:\n",
        "        ds[j].r = 0\n",
        "    RadiationToDistanceLog(ds)\n",
        "\n",
        "    no_zeros_ds = []\n",
        "    for d in ds:\n",
        "      if (d.r != 0):\n",
        "        no_zeros_ds.append(d)\n",
        "\n",
        "    # Calculating with exhaustinve trilateration\n",
        "    tl_results = []\n",
        "    combinations = list(itertools.combinations(no_zeros_ds, min_ds))\n",
        "    for combo in combinations:\n",
        "      try:\n",
        "        res = Trilateration3DProportionalDistances(combo)\n",
        "        tl_results.append(res)\n",
        "      except ZeroDivisionError:\n",
        "        None\n",
        "\n",
        "    # Calculating highest density value\n",
        "    if (len(tl_results) > 0):\n",
        "      test_results.append(MixtureDensityMaximum3D(np.array(tl_results)))\n",
        "    else:\n",
        "      test_results.append([0,0,0])\n",
        "\n",
        "  return test_results\n",
        "\n",
        "def RunTestLogProportionalDistances(ds, file_path, time=5150):\n",
        "  ds_data, timestamps = CsvToDosimeterDataArray(TxtToCsv(file_path))\n",
        "  z_values_dirty = MarkZValuesDirty(TxtToCsv(file_path), time, 8.5, 0)\n",
        "  z_values_clean = MarkZValues(TxtToCsv(file_path), time, 8.5, 0)\n",
        "\n",
        "  test_results = np.array(RunLocalizationTestLogProportionalDistances(ds, ds_data))\n",
        "  \n",
        "  test_results_ts = np.column_stack((timestamps, z_values_dirty, z_values_clean, test_results.T[0],  test_results.T[1], test_results.T[2]))\n",
        "  WriteResultsToCsv(file_path[9:-4] + '_log_pd', test_results_ts, ['time', 'real_z', 'clean_z', 'x', 'y', 'z'])\n",
        "\n",
        "  return ('/content/' + file_path[9:-4] + '_log_pd.csv')"
      ]
    },
    {
      "cell_type": "code",
      "execution_count": null,
      "metadata": {
        "id": "8XQTyuiO0OGo"
      },
      "outputs": [],
      "source": [
        "# Proportional distances\n",
        "# Square\n",
        "# Simplified\n",
        "\n",
        "def RunLocalizationTestSimplified(ds, ds_data, src_x=3, src_y=3):\n",
        "  min_ds = 3\n",
        "  test_results = []\n",
        "\n",
        "  for i in range(len(ds_data[0])):\n",
        "    # setting dosimeter radiation\n",
        "    for j in range(len(ds)):\n",
        "      radiation = float(ds_data[j][i])\n",
        "      if (radiation > 0.0032):\n",
        "        ds[j].r = radiation\n",
        "      else:\n",
        "        ds[j].r = 0\n",
        "    RadiationToDistanceNthRoot(ds, 2)\n",
        "\n",
        "    no_zeros_ds = []\n",
        "    for d in ds:\n",
        "      if (d.r != 0):\n",
        "        no_zeros_ds.append(d)\n",
        "\n",
        "    # Calculating with exhaustinve trilateration\n",
        "    tl_results = []\n",
        "    combinations = list(itertools.combinations(no_zeros_ds, min_ds))\n",
        "    for combo in combinations:\n",
        "      try:\n",
        "        tl_results.append(Trilateration3DSimplified(combo, src_x, src_y))\n",
        "      except ZeroDivisionError:\n",
        "        None\n",
        "\n",
        "    # Calculating highest density value\n",
        "    if (len(tl_results) > 0):\n",
        "      test_results.append(MixtureDensityMaximum1D(np.array(tl_results)))\n",
        "    else:\n",
        "      test_results.append(0)\n",
        "\n",
        "  return test_results\n",
        "\n",
        "def RunTestSimplified(ds, file_path, time=5140, src_x=3, src_y=3):\n",
        "  ds_data, timestamps = CsvToDosimeterDataArray(TxtToCsv(file_path))\n",
        "  z_values = MarkZValuesDirty(TxtToCsv(file_path), time, 8.5, 0)\n",
        "\n",
        "  test_results = np.array(RunLocalizationTestSimplified(ds, ds_data, src_x, src_y))\n",
        "  \n",
        "  test_results_ts = np.column_stack((timestamps, z_values, test_results))\n",
        "  WriteResultsToCsv(file_path[:-4] + '_simp_sq', test_results_ts, ['time', 'real_z', 'z'])\n",
        "\n",
        "  return ('/content/' + file_path[9:-4] + '_simp_sq.csv')"
      ]
    },
    {
      "cell_type": "code",
      "execution_count": null,
      "metadata": {
        "id": "LvpfKtB_7jru"
      },
      "outputs": [],
      "source": [
        "# Real distances\n",
        "# Exp\n",
        "# Simplified\n",
        "\n",
        "def RunLocalizationTestSimplifiedLog(ds, ds_data, src_x, src_y):\n",
        "  min_ds = 2\n",
        "  test_results = []\n",
        "\n",
        "  for i in range(len(ds_data[0])):\n",
        "    # setting dosimeter radiation\n",
        "    for j in range(len(ds)):\n",
        "      radiation = float(ds_data[j][i])\n",
        "      if (radiation > 0.0032):\n",
        "        ds[j].r = radiation\n",
        "      else:\n",
        "        ds[j].r = 0\n",
        "    RadiationToDistanceLog(ds)\n",
        "\n",
        "    no_zeros_ds = []\n",
        "    for d in ds:\n",
        "      if (d.r != 0):\n",
        "        no_zeros_ds.append(d)\n",
        "\n",
        "    # Calculating with exhaustinve trilateration\n",
        "    tl_results = []\n",
        "    combinations = list(itertools.combinations(no_zeros_ds, min_ds))\n",
        "    for combo in combinations:\n",
        "      try:\n",
        "        tl_results.append(Trilateration3DSimplifiedLog(combo, src_x, src_y))\n",
        "      except ZeroDivisionError:\n",
        "        None\n",
        "\n",
        "    # Calculating highest density value\n",
        "    if (len(tl_results) > 0):\n",
        "      test_results.append(MixtureDensityMaximum1D(np.array(tl_results)))\n",
        "    else:\n",
        "      test_results.append(0)\n",
        "\n",
        "  return test_results\n",
        "\n",
        "def RunTestSimplifiedLog(ds, file_path, time=5150, src_x=3, src_y=3):\n",
        "  ds_data, timestamps = CsvToDosimeterDataArray(TxtToCsv(file_path))\n",
        "  z_values = MarkZValuesDirty(TxtToCsv(file_path), time, 8.5, 0)\n",
        "\n",
        "  test_results = np.array(RunLocalizationTestSimplifiedLog(ds, ds_data, src_x, src_y))\n",
        "  \n",
        "  test_results_ts = np.column_stack((timestamps, z_values, test_results.T))\n",
        "  WriteResultsToCsv(file_path[9:-4] + '_simp_log', test_results_ts, ['time', 'real_z', 'z'])\n",
        "\n",
        "  return ('/content/' + file_path[9:-4] + '_simp_log.csv')"
      ]
    },
    {
      "cell_type": "code",
      "execution_count": null,
      "metadata": {
        "id": "B2M3DAvBgF0R"
      },
      "outputs": [],
      "source": [
        "def MixtureDensityMaximum3DAlt(tl_results):\n",
        "  calc_points = tl_results.T\n",
        "  mix_max_3d = np.zeros(3)\n",
        "  mix_max_3d[0] = MixtureDensityMaximum1DAlt(calc_points[0])\n",
        "  mix_max_3d[1] = MixtureDensityMaximum1DAlt(calc_points[1])\n",
        "  mix_max_3d[2] = MixtureDensityMaximum1D(calc_points[2])\n",
        "\n",
        "  return mix_max_3d\n",
        "\n",
        "@jit\n",
        "def MixtureDensityMaximum1DAlt(xs):\n",
        "  x_axis = np.linspace(-1, 10, 1000)\n",
        "  scale = 0.06667\n",
        "  mdf = 0\n",
        "  len_xs = len(xs)\n",
        "\n",
        "  # NOTE im using scale_global, that is declared somewhere globaly\n",
        "  for x in xs:\n",
        "    pdf = norm.pdf(x_axis, x, scale_global)\n",
        "    mdf += pdf\n",
        "\n",
        "  return x_axis[np.argmax(mdf)]"
      ]
    },
    {
      "cell_type": "code",
      "execution_count": null,
      "metadata": {
        "id": "r-9MAFuXhO6q"
      },
      "outputs": [],
      "source": [
        "# Real Distances\n",
        "# Exp\n",
        "\n",
        "def RunLocalizationTestLogAlt(ds, ds_data):\n",
        "  min_ds = 4\n",
        "  test_results = []\n",
        "\n",
        "  for i in range(len(ds_data[0])):\n",
        "    # setting dosimeter radiation\n",
        "    for j in range(len(ds)):\n",
        "      radiation = float(ds_data[j][i])\n",
        "      if (radiation > 0.0032):\n",
        "        ds[j].r = radiation\n",
        "      else:\n",
        "        ds[j].r = 0\n",
        "    RadiationToDistanceLog(ds)\n",
        "\n",
        "    no_zeros_ds = []\n",
        "    for d in ds:\n",
        "      if (d.r != 0):\n",
        "        no_zeros_ds.append(d)\n",
        "\n",
        "    # Calculating with exhaustinve trilateration\n",
        "    tl_results = []\n",
        "    combinations = list(itertools.combinations(no_zeros_ds, min_ds))\n",
        "    for combo in combinations:\n",
        "      try:\n",
        "        res = Trilateration3D(combo)\n",
        "        tl_results.append(res)\n",
        "      except ZeroDivisionError:\n",
        "        None\n",
        "\n",
        "    # Calculating highest density value\n",
        "    if (len(tl_results) > 0):\n",
        "      test_results.append(MixtureDensityMaximum3DAlt(np.array(tl_results)))\n",
        "    else:\n",
        "      test_results.append([0,0,0])\n",
        "\n",
        "  return test_results\n",
        "\n",
        "def RunTestLogAlt(ds, file_path, time=5150):\n",
        "  ds_data, timestamps = CsvToDosimeterDataArray(TxtToCsv(file_path))\n",
        "  z_values_dirty = MarkZValuesDirty(TxtToCsv(file_path), time, 8.5, 0)\n",
        "  z_values_clean = MarkZValues(TxtToCsv(file_path), time, 8.5, 0)\n",
        "\n",
        "  test_results = np.array(RunLocalizationTestLogAlt(ds, ds_data))\n",
        "  \n",
        "  test_results_ts = np.column_stack((timestamps, z_values_dirty, z_values_clean, test_results.T[0],  test_results.T[1], test_results.T[2]))\n",
        "  WriteResultsToCsv(file_path[9:-4] + '_log', test_results_ts, ['time', 'real_z', 'clean_z', 'x', 'y', 'z'])\n",
        "\n",
        "  return ('/content/' + file_path[9:-4] + '_log.csv')"
      ]
    },
    {
      "cell_type": "code",
      "source": [
        "scale_global=1\n",
        "timer_count_global = -500\n",
        "step_margin_global = 2/5\n",
        "step_count_global = 16\n",
        "step_time_global = 5150\n",
        "RunTestLogAlt(ds, '/content/test25.txt')"
      ],
      "metadata": {
        "colab": {
          "base_uri": "https://localhost:8080/",
          "height": 36
        },
        "id": "cWvgnmf5ZRj3",
        "outputId": "6a8b279b-36a6-4e67-fde5-80435245d043"
      },
      "execution_count": null,
      "outputs": [
        {
          "output_type": "execute_result",
          "data": {
            "text/plain": [
              "'/content/test25_log.csv'"
            ],
            "application/vnd.google.colaboratory.intrinsic+json": {
              "type": "string"
            }
          },
          "metadata": {},
          "execution_count": 213
        }
      ]
    },
    {
      "cell_type": "code",
      "execution_count": null,
      "metadata": {
        "id": "-w4IPp4e_gBY"
      },
      "outputs": [],
      "source": [
        "# With exponent, new trilateration highest expectations\n",
        "\n",
        "file_path = '/content/test25.txt'\n",
        "\n",
        "ds_data, timestamps = CsvToDosimeterDataArray(TxtToCsv(file_path))\n",
        "\n",
        "min_ds = 4\n",
        "test_results = []\n",
        "for i in range(len(ds_data[0])):\n",
        "  # setting dosimeter radiation\n",
        "  for j in range(len(ds)):\n",
        "    radiation = float(ds_data[j][i])\n",
        "    if (radiation > 0.0032):\n",
        "      ds[j].r = radiation\n",
        "    else:\n",
        "      ds[j].r = 0\n",
        "  RadiationToDistanceLog(ds)\n",
        "\n",
        "    # no_zeros_ds = []\n",
        "    # for d in ds:\n",
        "    #   if (d.r != 0):\n",
        "    #     no_zeros_ds.append(d)\n",
        "\n",
        "  # Calculating with exhaustinve trilateration\n",
        "  tl_results = []\n",
        "  combinations = list(itertools.combinations(ds, min_ds))\n",
        "  for combo in combinations:\n",
        "    try:\n",
        "      res = 0\n",
        "      res = Trilateration3D(combo)\n",
        "      tl_results.append(res)\n",
        "    except ZeroDivisionError:\n",
        "      None\n",
        "\n",
        "  # Calculating highest density value\n",
        "  if (len(tl_results) > 0):\n",
        "    test_results.append(MixtureDensityMaximum3D(np.array(tl_results)))\n",
        "  else:\n",
        "    test_results.append([0,0,0])\n",
        "\n",
        "z_values_dirty = MarkZValuesDirty(TxtToCsv(file_path), 5150, 8.5, 0)\n",
        "z_values_clean = MarkZValues(TxtToCsv(file_path), 5150, 8.5, 0)\n",
        "\n",
        "test_results = np.array(RunLocalizationTestLog(ds, ds_data))\n",
        "\n",
        "test_results_ts = np.column_stack((timestamps, z_values_dirty, z_values_clean, test_results.T[0],  test_results.T[1], test_results.T[2]))\n",
        "WriteResultsToCsv(file_path[9:-4] + '_log_alt', test_results_ts, ['time', 'real_z', 'clean_z', 'x', 'y', 'z'])\n",
        "\n"
      ]
    },
    {
      "cell_type": "code",
      "execution_count": null,
      "metadata": {
        "colab": {
          "base_uri": "https://localhost:8080/"
        },
        "id": "LV1Y_XIwhaMd",
        "outputId": "a4a3d8d6-99c2-4058-d9bf-9a2a36788307"
      },
      "outputs": [
        {
          "name": "stderr",
          "output_type": "stream",
          "text": [
            "/usr/local/lib/python3.7/dist-packages/ipykernel_launcher.py:157: RuntimeWarning: invalid value encountered in log\n"
          ]
        }
      ],
      "source": [
        "for j in range(len(ds)):\n",
        "  radiation = float(ds_data[j][0])\n",
        "  if (radiation > 0.0032):\n",
        "    ds[j].r = radiation\n",
        "  else:\n",
        "    ds[j].r = 0\n",
        "  RadiationToDistanceLog(ds)"
      ]
    },
    {
      "cell_type": "code",
      "execution_count": null,
      "metadata": {
        "colab": {
          "background_save": true
        },
        "id": "8vbFVntghs-L",
        "outputId": "0fe3a148-547d-454c-9edb-6d3e90a420fc"
      },
      "outputs": [
        {
          "name": "stdout",
          "output_type": "stream",
          "text": [
            "1   5   2   0\n",
            "1   5   5   0\n",
            "1   5   8   0\n",
            "5   4   2   0\n",
            "5   4   5   0\n",
            "5   4   8   0\n",
            "2   1   2   0\n",
            "2   1   5   0\n",
            "2   1   8   0\n"
          ]
        }
      ],
      "source": [
        "for d in ds:\n",
        "  d.print()"
      ]
    },
    {
      "cell_type": "code",
      "execution_count": null,
      "metadata": {
        "id": "xBWPj9tdgmzC"
      },
      "outputs": [],
      "source": [
        "test_results_np = np.array(test_results)"
      ]
    },
    {
      "cell_type": "code",
      "execution_count": null,
      "metadata": {
        "colab": {
          "base_uri": "https://localhost:8080/"
        },
        "id": "zTy2ZIQ3gq4K",
        "outputId": "df076550-ef12-449f-9c19-29c2860082de"
      },
      "outputs": [
        {
          "data": {
            "text/plain": [
              "True"
            ]
          },
          "execution_count": 17,
          "metadata": {},
          "output_type": "execute_result"
        }
      ],
      "source": [
        "test_results_ts = np.column_stack((timestamps, z_values_dirty, z_values_clean, test_results_np.T[0],  test_results_np.T[1], test_results_np.T[2]))\n",
        "WriteResultsToCsv(file_path[9:-4] + '_log_alt', test_results_ts, ['time', 'real_z', 'clean_z', 'x', 'y', 'z'])"
      ]
    },
    {
      "cell_type": "code",
      "execution_count": null,
      "metadata": {
        "colab": {
          "base_uri": "https://localhost:8080/"
        },
        "id": "Ai9STW1speSI",
        "outputId": "4cbffacb-3cf9-4582-a05f-a44064dd64dd"
      },
      "outputs": [
        {
          "data": {
            "text/plain": [
              "True"
            ]
          },
          "execution_count": 18,
          "metadata": {},
          "output_type": "execute_result"
        }
      ],
      "source": [
        "# file_path = '/content/test25_t.txt'\n",
        "\n",
        "# ds_data, timestamps = CsvToDosimeterDataArray(TxtToCsv(file_path))\n",
        "\n",
        "# min_ds = 4\n",
        "# test_results = []\n",
        "# for i in range(len(ds_data[0])):\n",
        "#   # setting dosimeter radiation\n",
        "#   for j in range(len(ds)):\n",
        "#     radiation = float(ds_data[j][i])\n",
        "#     if (radiation > 0.0032):\n",
        "#       ds[j].r = radiation\n",
        "#     else:\n",
        "#       ds[j].r = 0\n",
        "\n",
        "#   RadiationToDistanceNthRoot(ds, 2)\n",
        "\n",
        "#   # Calculating with exhaustinve trilateration\n",
        "#   tl_results = []\n",
        "#   combinations = list(itertools.combinations(ds, 5))\n",
        "#   for combo in combinations:\n",
        "#     try:\n",
        "#       res = Trilateration3DProportionalDistances(combo)\n",
        "#       tl_results.append(res)\n",
        "#     except ZeroDivisionError:\n",
        "#       None\n",
        "\n",
        "#   # Calculating highest density value\n",
        "#   if (len(tl_results) > 0):\n",
        "#     test_results.append(MixtureDensityMaximum3D(np.array(tl_results)))\n",
        "#   else:\n",
        "#     test_results.append([0,0,0])\n",
        "\n",
        "# z_values = MarkZValuesDirty(TxtToCsv(file_path), 5140, 8.5, 0)\n",
        "# test_results = np.array(test_results)\n",
        "# res = np.column_stack((timestamps, z_values, test_results.T[0],  test_results.T[1], test_results.T[2]))\n",
        "# WriteResultsToCsv('test25_1log', res, ['time', 'real_z', 'x', 'y', 'z'])"
      ]
    },
    {
      "cell_type": "code",
      "execution_count": null,
      "metadata": {
        "colab": {
          "base_uri": "https://localhost:8080/"
        },
        "id": "123iC5oiYhBp",
        "outputId": "a6723fba-4206-4f4d-8e8d-28ec55870223"
      },
      "outputs": [
        {
          "name": "stderr",
          "output_type": "stream",
          "text": [
            "/usr/local/lib/python3.7/dist-packages/ipykernel_launcher.py:78: RuntimeWarning: divide by zero encountered in double_scalars\n",
            "/usr/local/lib/python3.7/dist-packages/ipykernel_launcher.py:78: RuntimeWarning: invalid value encountered in double_scalars\n"
          ]
        },
        {
          "data": {
            "text/plain": [
              "True"
            ]
          },
          "execution_count": 220,
          "metadata": {},
          "output_type": "execute_result"
        }
      ],
      "source": [
        "# # With exponent, old trilateration\n",
        "\n",
        "# file_path = '/content/test25_t.txt'\n",
        "\n",
        "# ds_data, timestamps = CsvToDosimeterDataArray(TxtToCsv(file_path))\n",
        "\n",
        "# min_ds = 4\n",
        "# test_results = []\n",
        "# for i in range(len(ds_data[0])):\n",
        "#   # setting dosimeter radiation\n",
        "#   for j in range(len(ds)):\n",
        "#     radiation = float(ds_data[j][i])\n",
        "#     if (radiation > 0.0032):\n",
        "#       ds[j].r = radiation\n",
        "#     else:\n",
        "#       ds[j].r = 0\n",
        "\n",
        "#   RadiationToDistanceLog(ds)\n",
        "\n",
        "#   # Calculating with exhaustinve trilateration\n",
        "#   tl_results = []\n",
        "#   combinations = list(itertools.combinations(ds, 5))\n",
        "#   for combo in combinations:\n",
        "#     try:\n",
        "#       res = Trilateration3DProportionalDistances(combo)\n",
        "#       tl_results.append(res)\n",
        "#     except ZeroDivisionError:\n",
        "#       None\n",
        "\n",
        "#   # Calculating highest density value\n",
        "#   if (len(tl_results) > 0):\n",
        "#     test_results.append(MixtureDensityMaximum3D(np.array(tl_results)))\n",
        "#   else:\n",
        "#     test_results.append([0,0,0])\n",
        "\n",
        "# z_values = MarkZValuesDirty(TxtToCsv(file_path), 5140, 8.5, 0)\n",
        "# test_results = np.array(test_results)\n",
        "# res = np.column_stack((timestamps, z_values, test_results.T[0],  test_results.T[1], test_results.T[2]))\n",
        "# WriteResultsToCsv('test25_1log_tlwk', res, ['time', 'real_z', 'x', 'y', 'z'])"
      ]
    },
    {
      "cell_type": "markdown",
      "metadata": {
        "id": "Iknx6L_HWKuX"
      },
      "source": [
        "# Test Execution"
      ]
    },
    {
      "cell_type": "code",
      "execution_count": null,
      "metadata": {
        "id": "KuYnj4uaw0sS"
      },
      "outputs": [],
      "source": [
        "ds = []\n",
        "ds.append(Dosimeter3D(x=1, y=5, z=2))\n",
        "ds.append(Dosimeter3D(x=1, y=5, z=5))\n",
        "ds.append(Dosimeter3D(x=1, y=5, z=8))\n",
        "ds.append(Dosimeter3D(x=5, y=4, z=2))\n",
        "ds.append(Dosimeter3D(x=5, y=4, z=5))\n",
        "ds.append(Dosimeter3D(x=5, y=4, z=8))\n",
        "ds.append(Dosimeter3D(x=2, y=1, z=2))\n",
        "ds.append(Dosimeter3D(x=2, y=1, z=5))\n",
        "ds.append(Dosimeter3D(x=2, y=1, z=8))"
      ]
    },
    {
      "cell_type": "code",
      "execution_count": null,
      "metadata": {
        "id": "peUOt6xjvhw_"
      },
      "outputs": [],
      "source": [
        "scale_global=1\n",
        "timer_count_global = -500\n",
        "step_margin_global = 2/5\n",
        "\n",
        "step_count_global = 16\n",
        "step_time_global = 5150\n",
        "\n",
        "file_numbers = ['2', '25', '26', '27', '28']"
      ]
    },
    {
      "cell_type": "code",
      "execution_count": null,
      "metadata": {
        "id": "f4X8Q6I_YN9g"
      },
      "outputs": [],
      "source": [
        "step_count_global = 10\n",
        "files.download(RunTestLog(ds, '/content/test1.txt'))\n",
        "\n",
        "step_count_global = 16\n",
        "step_time_global = 1150\n",
        "step_margin_global = 5/12\n",
        "files.download(RunTestLog(ds, '/content/test3.txt'))\n",
        "\n",
        "step_time_global = 5150\n",
        "step_margin_global = 2/5\n",
        "for i in file_numbers:\n",
        "  files.download(RunTestLog(ds, '/content/test' + i + '.txt'))\n",
        "\n",
        "#  20 min"
      ]
    },
    {
      "cell_type": "code",
      "execution_count": null,
      "metadata": {
        "colab": {
          "base_uri": "https://localhost:8080/",
          "height": 17
        },
        "id": "jbRiSrDu3g3A",
        "outputId": "6942a9c0-09c7-48e6-887c-e9f9686e4ef3"
      },
      "outputs": [
        {
          "data": {
            "application/javascript": [
              "\n",
              "    async function download(id, filename, size) {\n",
              "      if (!google.colab.kernel.accessAllowed) {\n",
              "        return;\n",
              "      }\n",
              "      const div = document.createElement('div');\n",
              "      const label = document.createElement('label');\n",
              "      label.textContent = `Downloading \"${filename}\": `;\n",
              "      div.appendChild(label);\n",
              "      const progress = document.createElement('progress');\n",
              "      progress.max = size;\n",
              "      div.appendChild(progress);\n",
              "      document.body.appendChild(div);\n",
              "\n",
              "      const buffers = [];\n",
              "      let downloaded = 0;\n",
              "\n",
              "      const channel = await google.colab.kernel.comms.open(id);\n",
              "      // Send a message to notify the kernel that we're ready.\n",
              "      channel.send({})\n",
              "\n",
              "      for await (const message of channel.messages) {\n",
              "        // Send a message to notify the kernel that we're ready.\n",
              "        channel.send({})\n",
              "        if (message.buffers) {\n",
              "          for (const buffer of message.buffers) {\n",
              "            buffers.push(buffer);\n",
              "            downloaded += buffer.byteLength;\n",
              "            progress.value = downloaded;\n",
              "          }\n",
              "        }\n",
              "      }\n",
              "      const blob = new Blob(buffers, {type: 'application/binary'});\n",
              "      const a = document.createElement('a');\n",
              "      a.href = window.URL.createObjectURL(blob);\n",
              "      a.download = filename;\n",
              "      div.appendChild(a);\n",
              "      a.click();\n",
              "      div.remove();\n",
              "    }\n",
              "  "
            ],
            "text/plain": [
              "<IPython.core.display.Javascript object>"
            ]
          },
          "metadata": {},
          "output_type": "display_data"
        },
        {
          "data": {
            "application/javascript": [
              "download(\"download_47efddf8-4f47-44d8-a9a4-97a9b4c4fdba\", \"test1_sq.csv\", 210396)"
            ],
            "text/plain": [
              "<IPython.core.display.Javascript object>"
            ]
          },
          "metadata": {},
          "output_type": "display_data"
        },
        {
          "data": {
            "application/javascript": [
              "\n",
              "    async function download(id, filename, size) {\n",
              "      if (!google.colab.kernel.accessAllowed) {\n",
              "        return;\n",
              "      }\n",
              "      const div = document.createElement('div');\n",
              "      const label = document.createElement('label');\n",
              "      label.textContent = `Downloading \"${filename}\": `;\n",
              "      div.appendChild(label);\n",
              "      const progress = document.createElement('progress');\n",
              "      progress.max = size;\n",
              "      div.appendChild(progress);\n",
              "      document.body.appendChild(div);\n",
              "\n",
              "      const buffers = [];\n",
              "      let downloaded = 0;\n",
              "\n",
              "      const channel = await google.colab.kernel.comms.open(id);\n",
              "      // Send a message to notify the kernel that we're ready.\n",
              "      channel.send({})\n",
              "\n",
              "      for await (const message of channel.messages) {\n",
              "        // Send a message to notify the kernel that we're ready.\n",
              "        channel.send({})\n",
              "        if (message.buffers) {\n",
              "          for (const buffer of message.buffers) {\n",
              "            buffers.push(buffer);\n",
              "            downloaded += buffer.byteLength;\n",
              "            progress.value = downloaded;\n",
              "          }\n",
              "        }\n",
              "      }\n",
              "      const blob = new Blob(buffers, {type: 'application/binary'});\n",
              "      const a = document.createElement('a');\n",
              "      a.href = window.URL.createObjectURL(blob);\n",
              "      a.download = filename;\n",
              "      div.appendChild(a);\n",
              "      a.click();\n",
              "      div.remove();\n",
              "    }\n",
              "  "
            ],
            "text/plain": [
              "<IPython.core.display.Javascript object>"
            ]
          },
          "metadata": {},
          "output_type": "display_data"
        },
        {
          "data": {
            "application/javascript": [
              "download(\"download_55146e74-3d45-44e8-8102-9624a89ddbc1\", \"test3_sq.csv\", 77294)"
            ],
            "text/plain": [
              "<IPython.core.display.Javascript object>"
            ]
          },
          "metadata": {},
          "output_type": "display_data"
        },
        {
          "data": {
            "application/javascript": [
              "\n",
              "    async function download(id, filename, size) {\n",
              "      if (!google.colab.kernel.accessAllowed) {\n",
              "        return;\n",
              "      }\n",
              "      const div = document.createElement('div');\n",
              "      const label = document.createElement('label');\n",
              "      label.textContent = `Downloading \"${filename}\": `;\n",
              "      div.appendChild(label);\n",
              "      const progress = document.createElement('progress');\n",
              "      progress.max = size;\n",
              "      div.appendChild(progress);\n",
              "      document.body.appendChild(div);\n",
              "\n",
              "      const buffers = [];\n",
              "      let downloaded = 0;\n",
              "\n",
              "      const channel = await google.colab.kernel.comms.open(id);\n",
              "      // Send a message to notify the kernel that we're ready.\n",
              "      channel.send({})\n",
              "\n",
              "      for await (const message of channel.messages) {\n",
              "        // Send a message to notify the kernel that we're ready.\n",
              "        channel.send({})\n",
              "        if (message.buffers) {\n",
              "          for (const buffer of message.buffers) {\n",
              "            buffers.push(buffer);\n",
              "            downloaded += buffer.byteLength;\n",
              "            progress.value = downloaded;\n",
              "          }\n",
              "        }\n",
              "      }\n",
              "      const blob = new Blob(buffers, {type: 'application/binary'});\n",
              "      const a = document.createElement('a');\n",
              "      a.href = window.URL.createObjectURL(blob);\n",
              "      a.download = filename;\n",
              "      div.appendChild(a);\n",
              "      a.click();\n",
              "      div.remove();\n",
              "    }\n",
              "  "
            ],
            "text/plain": [
              "<IPython.core.display.Javascript object>"
            ]
          },
          "metadata": {},
          "output_type": "display_data"
        },
        {
          "data": {
            "application/javascript": [
              "download(\"download_df640432-7655-48e5-9c11-2921e1f074ad\", \"test2_sq.csv\", 330044)"
            ],
            "text/plain": [
              "<IPython.core.display.Javascript object>"
            ]
          },
          "metadata": {},
          "output_type": "display_data"
        },
        {
          "data": {
            "application/javascript": [
              "\n",
              "    async function download(id, filename, size) {\n",
              "      if (!google.colab.kernel.accessAllowed) {\n",
              "        return;\n",
              "      }\n",
              "      const div = document.createElement('div');\n",
              "      const label = document.createElement('label');\n",
              "      label.textContent = `Downloading \"${filename}\": `;\n",
              "      div.appendChild(label);\n",
              "      const progress = document.createElement('progress');\n",
              "      progress.max = size;\n",
              "      div.appendChild(progress);\n",
              "      document.body.appendChild(div);\n",
              "\n",
              "      const buffers = [];\n",
              "      let downloaded = 0;\n",
              "\n",
              "      const channel = await google.colab.kernel.comms.open(id);\n",
              "      // Send a message to notify the kernel that we're ready.\n",
              "      channel.send({})\n",
              "\n",
              "      for await (const message of channel.messages) {\n",
              "        // Send a message to notify the kernel that we're ready.\n",
              "        channel.send({})\n",
              "        if (message.buffers) {\n",
              "          for (const buffer of message.buffers) {\n",
              "            buffers.push(buffer);\n",
              "            downloaded += buffer.byteLength;\n",
              "            progress.value = downloaded;\n",
              "          }\n",
              "        }\n",
              "      }\n",
              "      const blob = new Blob(buffers, {type: 'application/binary'});\n",
              "      const a = document.createElement('a');\n",
              "      a.href = window.URL.createObjectURL(blob);\n",
              "      a.download = filename;\n",
              "      div.appendChild(a);\n",
              "      a.click();\n",
              "      div.remove();\n",
              "    }\n",
              "  "
            ],
            "text/plain": [
              "<IPython.core.display.Javascript object>"
            ]
          },
          "metadata": {},
          "output_type": "display_data"
        },
        {
          "data": {
            "application/javascript": [
              "download(\"download_a391e0a8-6f20-4f6d-a95e-44b7c4523255\", \"test25_sq.csv\", 324138)"
            ],
            "text/plain": [
              "<IPython.core.display.Javascript object>"
            ]
          },
          "metadata": {},
          "output_type": "display_data"
        },
        {
          "data": {
            "application/javascript": [
              "\n",
              "    async function download(id, filename, size) {\n",
              "      if (!google.colab.kernel.accessAllowed) {\n",
              "        return;\n",
              "      }\n",
              "      const div = document.createElement('div');\n",
              "      const label = document.createElement('label');\n",
              "      label.textContent = `Downloading \"${filename}\": `;\n",
              "      div.appendChild(label);\n",
              "      const progress = document.createElement('progress');\n",
              "      progress.max = size;\n",
              "      div.appendChild(progress);\n",
              "      document.body.appendChild(div);\n",
              "\n",
              "      const buffers = [];\n",
              "      let downloaded = 0;\n",
              "\n",
              "      const channel = await google.colab.kernel.comms.open(id);\n",
              "      // Send a message to notify the kernel that we're ready.\n",
              "      channel.send({})\n",
              "\n",
              "      for await (const message of channel.messages) {\n",
              "        // Send a message to notify the kernel that we're ready.\n",
              "        channel.send({})\n",
              "        if (message.buffers) {\n",
              "          for (const buffer of message.buffers) {\n",
              "            buffers.push(buffer);\n",
              "            downloaded += buffer.byteLength;\n",
              "            progress.value = downloaded;\n",
              "          }\n",
              "        }\n",
              "      }\n",
              "      const blob = new Blob(buffers, {type: 'application/binary'});\n",
              "      const a = document.createElement('a');\n",
              "      a.href = window.URL.createObjectURL(blob);\n",
              "      a.download = filename;\n",
              "      div.appendChild(a);\n",
              "      a.click();\n",
              "      div.remove();\n",
              "    }\n",
              "  "
            ],
            "text/plain": [
              "<IPython.core.display.Javascript object>"
            ]
          },
          "metadata": {},
          "output_type": "display_data"
        },
        {
          "data": {
            "application/javascript": [
              "download(\"download_bb6a8c2a-6ef5-4f4a-8f77-dc2b3a2905f8\", \"test26_sq.csv\", 327885)"
            ],
            "text/plain": [
              "<IPython.core.display.Javascript object>"
            ]
          },
          "metadata": {},
          "output_type": "display_data"
        },
        {
          "data": {
            "application/javascript": [
              "\n",
              "    async function download(id, filename, size) {\n",
              "      if (!google.colab.kernel.accessAllowed) {\n",
              "        return;\n",
              "      }\n",
              "      const div = document.createElement('div');\n",
              "      const label = document.createElement('label');\n",
              "      label.textContent = `Downloading \"${filename}\": `;\n",
              "      div.appendChild(label);\n",
              "      const progress = document.createElement('progress');\n",
              "      progress.max = size;\n",
              "      div.appendChild(progress);\n",
              "      document.body.appendChild(div);\n",
              "\n",
              "      const buffers = [];\n",
              "      let downloaded = 0;\n",
              "\n",
              "      const channel = await google.colab.kernel.comms.open(id);\n",
              "      // Send a message to notify the kernel that we're ready.\n",
              "      channel.send({})\n",
              "\n",
              "      for await (const message of channel.messages) {\n",
              "        // Send a message to notify the kernel that we're ready.\n",
              "        channel.send({})\n",
              "        if (message.buffers) {\n",
              "          for (const buffer of message.buffers) {\n",
              "            buffers.push(buffer);\n",
              "            downloaded += buffer.byteLength;\n",
              "            progress.value = downloaded;\n",
              "          }\n",
              "        }\n",
              "      }\n",
              "      const blob = new Blob(buffers, {type: 'application/binary'});\n",
              "      const a = document.createElement('a');\n",
              "      a.href = window.URL.createObjectURL(blob);\n",
              "      a.download = filename;\n",
              "      div.appendChild(a);\n",
              "      a.click();\n",
              "      div.remove();\n",
              "    }\n",
              "  "
            ],
            "text/plain": [
              "<IPython.core.display.Javascript object>"
            ]
          },
          "metadata": {},
          "output_type": "display_data"
        },
        {
          "data": {
            "application/javascript": [
              "download(\"download_99b043e8-6171-4616-8d08-a8c07842e1df\", \"test27_sq.csv\", 322860)"
            ],
            "text/plain": [
              "<IPython.core.display.Javascript object>"
            ]
          },
          "metadata": {},
          "output_type": "display_data"
        },
        {
          "data": {
            "application/javascript": [
              "\n",
              "    async function download(id, filename, size) {\n",
              "      if (!google.colab.kernel.accessAllowed) {\n",
              "        return;\n",
              "      }\n",
              "      const div = document.createElement('div');\n",
              "      const label = document.createElement('label');\n",
              "      label.textContent = `Downloading \"${filename}\": `;\n",
              "      div.appendChild(label);\n",
              "      const progress = document.createElement('progress');\n",
              "      progress.max = size;\n",
              "      div.appendChild(progress);\n",
              "      document.body.appendChild(div);\n",
              "\n",
              "      const buffers = [];\n",
              "      let downloaded = 0;\n",
              "\n",
              "      const channel = await google.colab.kernel.comms.open(id);\n",
              "      // Send a message to notify the kernel that we're ready.\n",
              "      channel.send({})\n",
              "\n",
              "      for await (const message of channel.messages) {\n",
              "        // Send a message to notify the kernel that we're ready.\n",
              "        channel.send({})\n",
              "        if (message.buffers) {\n",
              "          for (const buffer of message.buffers) {\n",
              "            buffers.push(buffer);\n",
              "            downloaded += buffer.byteLength;\n",
              "            progress.value = downloaded;\n",
              "          }\n",
              "        }\n",
              "      }\n",
              "      const blob = new Blob(buffers, {type: 'application/binary'});\n",
              "      const a = document.createElement('a');\n",
              "      a.href = window.URL.createObjectURL(blob);\n",
              "      a.download = filename;\n",
              "      div.appendChild(a);\n",
              "      a.click();\n",
              "      div.remove();\n",
              "    }\n",
              "  "
            ],
            "text/plain": [
              "<IPython.core.display.Javascript object>"
            ]
          },
          "metadata": {},
          "output_type": "display_data"
        },
        {
          "data": {
            "application/javascript": [
              "download(\"download_0c3b4027-bea9-4d78-86b0-7fd7164ed770\", \"test28_sq.csv\", 321842)"
            ],
            "text/plain": [
              "<IPython.core.display.Javascript object>"
            ]
          },
          "metadata": {},
          "output_type": "display_data"
        }
      ],
      "source": [
        "step_count_global = 10\n",
        "files.download(RunTest(ds, '/content/test1.txt'))\n",
        "\n",
        "step_count_global = 16\n",
        "step_time_global = 1150\n",
        "step_margin_global = 5/12\n",
        "files.download(RunTest(ds, '/content/test3.txt'))\n",
        "\n",
        "step_time_global = 5150\n",
        "step_margin_global = 2/5\n",
        "for i in file_numbers:\n",
        "  files.download(RunTest(ds, '/content/test' + i + '.txt'))\n",
        "\n",
        "# 50 min"
      ]
    },
    {
      "cell_type": "code",
      "execution_count": null,
      "metadata": {
        "colab": {
          "base_uri": "https://localhost:8080/",
          "height": 17
        },
        "id": "Hmr4xKXTKHXq",
        "outputId": "b6c59c14-8ae4-4afc-ea22-df6f628ac174"
      },
      "outputs": [
        {
          "data": {
            "application/javascript": [
              "\n",
              "    async function download(id, filename, size) {\n",
              "      if (!google.colab.kernel.accessAllowed) {\n",
              "        return;\n",
              "      }\n",
              "      const div = document.createElement('div');\n",
              "      const label = document.createElement('label');\n",
              "      label.textContent = `Downloading \"${filename}\": `;\n",
              "      div.appendChild(label);\n",
              "      const progress = document.createElement('progress');\n",
              "      progress.max = size;\n",
              "      div.appendChild(progress);\n",
              "      document.body.appendChild(div);\n",
              "\n",
              "      const buffers = [];\n",
              "      let downloaded = 0;\n",
              "\n",
              "      const channel = await google.colab.kernel.comms.open(id);\n",
              "      // Send a message to notify the kernel that we're ready.\n",
              "      channel.send({})\n",
              "\n",
              "      for await (const message of channel.messages) {\n",
              "        // Send a message to notify the kernel that we're ready.\n",
              "        channel.send({})\n",
              "        if (message.buffers) {\n",
              "          for (const buffer of message.buffers) {\n",
              "            buffers.push(buffer);\n",
              "            downloaded += buffer.byteLength;\n",
              "            progress.value = downloaded;\n",
              "          }\n",
              "        }\n",
              "      }\n",
              "      const blob = new Blob(buffers, {type: 'application/binary'});\n",
              "      const a = document.createElement('a');\n",
              "      a.href = window.URL.createObjectURL(blob);\n",
              "      a.download = filename;\n",
              "      div.appendChild(a);\n",
              "      a.click();\n",
              "      div.remove();\n",
              "    }\n",
              "  "
            ],
            "text/plain": [
              "<IPython.core.display.Javascript object>"
            ]
          },
          "metadata": {},
          "output_type": "display_data"
        },
        {
          "data": {
            "application/javascript": [
              "download(\"download_29443a40-8789-4ae0-9552-70f89fdf8ab6\", \"test1_log_pd.csv\", 210067)"
            ],
            "text/plain": [
              "<IPython.core.display.Javascript object>"
            ]
          },
          "metadata": {},
          "output_type": "display_data"
        },
        {
          "data": {
            "application/javascript": [
              "\n",
              "    async function download(id, filename, size) {\n",
              "      if (!google.colab.kernel.accessAllowed) {\n",
              "        return;\n",
              "      }\n",
              "      const div = document.createElement('div');\n",
              "      const label = document.createElement('label');\n",
              "      label.textContent = `Downloading \"${filename}\": `;\n",
              "      div.appendChild(label);\n",
              "      const progress = document.createElement('progress');\n",
              "      progress.max = size;\n",
              "      div.appendChild(progress);\n",
              "      document.body.appendChild(div);\n",
              "\n",
              "      const buffers = [];\n",
              "      let downloaded = 0;\n",
              "\n",
              "      const channel = await google.colab.kernel.comms.open(id);\n",
              "      // Send a message to notify the kernel that we're ready.\n",
              "      channel.send({})\n",
              "\n",
              "      for await (const message of channel.messages) {\n",
              "        // Send a message to notify the kernel that we're ready.\n",
              "        channel.send({})\n",
              "        if (message.buffers) {\n",
              "          for (const buffer of message.buffers) {\n",
              "            buffers.push(buffer);\n",
              "            downloaded += buffer.byteLength;\n",
              "            progress.value = downloaded;\n",
              "          }\n",
              "        }\n",
              "      }\n",
              "      const blob = new Blob(buffers, {type: 'application/binary'});\n",
              "      const a = document.createElement('a');\n",
              "      a.href = window.URL.createObjectURL(blob);\n",
              "      a.download = filename;\n",
              "      div.appendChild(a);\n",
              "      a.click();\n",
              "      div.remove();\n",
              "    }\n",
              "  "
            ],
            "text/plain": [
              "<IPython.core.display.Javascript object>"
            ]
          },
          "metadata": {},
          "output_type": "display_data"
        },
        {
          "data": {
            "application/javascript": [
              "download(\"download_fff1d348-665a-43db-8bc5-466ba33c06db\", \"test3_log_pd.csv\", 77187)"
            ],
            "text/plain": [
              "<IPython.core.display.Javascript object>"
            ]
          },
          "metadata": {},
          "output_type": "display_data"
        },
        {
          "data": {
            "application/javascript": [
              "\n",
              "    async function download(id, filename, size) {\n",
              "      if (!google.colab.kernel.accessAllowed) {\n",
              "        return;\n",
              "      }\n",
              "      const div = document.createElement('div');\n",
              "      const label = document.createElement('label');\n",
              "      label.textContent = `Downloading \"${filename}\": `;\n",
              "      div.appendChild(label);\n",
              "      const progress = document.createElement('progress');\n",
              "      progress.max = size;\n",
              "      div.appendChild(progress);\n",
              "      document.body.appendChild(div);\n",
              "\n",
              "      const buffers = [];\n",
              "      let downloaded = 0;\n",
              "\n",
              "      const channel = await google.colab.kernel.comms.open(id);\n",
              "      // Send a message to notify the kernel that we're ready.\n",
              "      channel.send({})\n",
              "\n",
              "      for await (const message of channel.messages) {\n",
              "        // Send a message to notify the kernel that we're ready.\n",
              "        channel.send({})\n",
              "        if (message.buffers) {\n",
              "          for (const buffer of message.buffers) {\n",
              "            buffers.push(buffer);\n",
              "            downloaded += buffer.byteLength;\n",
              "            progress.value = downloaded;\n",
              "          }\n",
              "        }\n",
              "      }\n",
              "      const blob = new Blob(buffers, {type: 'application/binary'});\n",
              "      const a = document.createElement('a');\n",
              "      a.href = window.URL.createObjectURL(blob);\n",
              "      a.download = filename;\n",
              "      div.appendChild(a);\n",
              "      a.click();\n",
              "      div.remove();\n",
              "    }\n",
              "  "
            ],
            "text/plain": [
              "<IPython.core.display.Javascript object>"
            ]
          },
          "metadata": {},
          "output_type": "display_data"
        },
        {
          "data": {
            "application/javascript": [
              "download(\"download_ea47444e-f994-499b-a25c-21f1d4ef77fc\", \"test2_log_pd.csv\", 329357)"
            ],
            "text/plain": [
              "<IPython.core.display.Javascript object>"
            ]
          },
          "metadata": {},
          "output_type": "display_data"
        },
        {
          "data": {
            "application/javascript": [
              "\n",
              "    async function download(id, filename, size) {\n",
              "      if (!google.colab.kernel.accessAllowed) {\n",
              "        return;\n",
              "      }\n",
              "      const div = document.createElement('div');\n",
              "      const label = document.createElement('label');\n",
              "      label.textContent = `Downloading \"${filename}\": `;\n",
              "      div.appendChild(label);\n",
              "      const progress = document.createElement('progress');\n",
              "      progress.max = size;\n",
              "      div.appendChild(progress);\n",
              "      document.body.appendChild(div);\n",
              "\n",
              "      const buffers = [];\n",
              "      let downloaded = 0;\n",
              "\n",
              "      const channel = await google.colab.kernel.comms.open(id);\n",
              "      // Send a message to notify the kernel that we're ready.\n",
              "      channel.send({})\n",
              "\n",
              "      for await (const message of channel.messages) {\n",
              "        // Send a message to notify the kernel that we're ready.\n",
              "        channel.send({})\n",
              "        if (message.buffers) {\n",
              "          for (const buffer of message.buffers) {\n",
              "            buffers.push(buffer);\n",
              "            downloaded += buffer.byteLength;\n",
              "            progress.value = downloaded;\n",
              "          }\n",
              "        }\n",
              "      }\n",
              "      const blob = new Blob(buffers, {type: 'application/binary'});\n",
              "      const a = document.createElement('a');\n",
              "      a.href = window.URL.createObjectURL(blob);\n",
              "      a.download = filename;\n",
              "      div.appendChild(a);\n",
              "      a.click();\n",
              "      div.remove();\n",
              "    }\n",
              "  "
            ],
            "text/plain": [
              "<IPython.core.display.Javascript object>"
            ]
          },
          "metadata": {},
          "output_type": "display_data"
        },
        {
          "data": {
            "application/javascript": [
              "download(\"download_ed901d53-6b4f-43d7-a141-b6c63bb00847\", \"test25_log_pd.csv\", 324461)"
            ],
            "text/plain": [
              "<IPython.core.display.Javascript object>"
            ]
          },
          "metadata": {},
          "output_type": "display_data"
        },
        {
          "data": {
            "application/javascript": [
              "\n",
              "    async function download(id, filename, size) {\n",
              "      if (!google.colab.kernel.accessAllowed) {\n",
              "        return;\n",
              "      }\n",
              "      const div = document.createElement('div');\n",
              "      const label = document.createElement('label');\n",
              "      label.textContent = `Downloading \"${filename}\": `;\n",
              "      div.appendChild(label);\n",
              "      const progress = document.createElement('progress');\n",
              "      progress.max = size;\n",
              "      div.appendChild(progress);\n",
              "      document.body.appendChild(div);\n",
              "\n",
              "      const buffers = [];\n",
              "      let downloaded = 0;\n",
              "\n",
              "      const channel = await google.colab.kernel.comms.open(id);\n",
              "      // Send a message to notify the kernel that we're ready.\n",
              "      channel.send({})\n",
              "\n",
              "      for await (const message of channel.messages) {\n",
              "        // Send a message to notify the kernel that we're ready.\n",
              "        channel.send({})\n",
              "        if (message.buffers) {\n",
              "          for (const buffer of message.buffers) {\n",
              "            buffers.push(buffer);\n",
              "            downloaded += buffer.byteLength;\n",
              "            progress.value = downloaded;\n",
              "          }\n",
              "        }\n",
              "      }\n",
              "      const blob = new Blob(buffers, {type: 'application/binary'});\n",
              "      const a = document.createElement('a');\n",
              "      a.href = window.URL.createObjectURL(blob);\n",
              "      a.download = filename;\n",
              "      div.appendChild(a);\n",
              "      a.click();\n",
              "      div.remove();\n",
              "    }\n",
              "  "
            ],
            "text/plain": [
              "<IPython.core.display.Javascript object>"
            ]
          },
          "metadata": {},
          "output_type": "display_data"
        },
        {
          "data": {
            "application/javascript": [
              "download(\"download_b0d8527f-4742-42f1-b6b2-9663bc183a2b\", \"test26_log_pd.csv\", 327906)"
            ],
            "text/plain": [
              "<IPython.core.display.Javascript object>"
            ]
          },
          "metadata": {},
          "output_type": "display_data"
        },
        {
          "data": {
            "application/javascript": [
              "\n",
              "    async function download(id, filename, size) {\n",
              "      if (!google.colab.kernel.accessAllowed) {\n",
              "        return;\n",
              "      }\n",
              "      const div = document.createElement('div');\n",
              "      const label = document.createElement('label');\n",
              "      label.textContent = `Downloading \"${filename}\": `;\n",
              "      div.appendChild(label);\n",
              "      const progress = document.createElement('progress');\n",
              "      progress.max = size;\n",
              "      div.appendChild(progress);\n",
              "      document.body.appendChild(div);\n",
              "\n",
              "      const buffers = [];\n",
              "      let downloaded = 0;\n",
              "\n",
              "      const channel = await google.colab.kernel.comms.open(id);\n",
              "      // Send a message to notify the kernel that we're ready.\n",
              "      channel.send({})\n",
              "\n",
              "      for await (const message of channel.messages) {\n",
              "        // Send a message to notify the kernel that we're ready.\n",
              "        channel.send({})\n",
              "        if (message.buffers) {\n",
              "          for (const buffer of message.buffers) {\n",
              "            buffers.push(buffer);\n",
              "            downloaded += buffer.byteLength;\n",
              "            progress.value = downloaded;\n",
              "          }\n",
              "        }\n",
              "      }\n",
              "      const blob = new Blob(buffers, {type: 'application/binary'});\n",
              "      const a = document.createElement('a');\n",
              "      a.href = window.URL.createObjectURL(blob);\n",
              "      a.download = filename;\n",
              "      div.appendChild(a);\n",
              "      a.click();\n",
              "      div.remove();\n",
              "    }\n",
              "  "
            ],
            "text/plain": [
              "<IPython.core.display.Javascript object>"
            ]
          },
          "metadata": {},
          "output_type": "display_data"
        },
        {
          "data": {
            "application/javascript": [
              "download(\"download_e344afc2-6895-4baf-942c-44d7f47cd81d\", \"test27_log_pd.csv\", 322265)"
            ],
            "text/plain": [
              "<IPython.core.display.Javascript object>"
            ]
          },
          "metadata": {},
          "output_type": "display_data"
        },
        {
          "data": {
            "application/javascript": [
              "\n",
              "    async function download(id, filename, size) {\n",
              "      if (!google.colab.kernel.accessAllowed) {\n",
              "        return;\n",
              "      }\n",
              "      const div = document.createElement('div');\n",
              "      const label = document.createElement('label');\n",
              "      label.textContent = `Downloading \"${filename}\": `;\n",
              "      div.appendChild(label);\n",
              "      const progress = document.createElement('progress');\n",
              "      progress.max = size;\n",
              "      div.appendChild(progress);\n",
              "      document.body.appendChild(div);\n",
              "\n",
              "      const buffers = [];\n",
              "      let downloaded = 0;\n",
              "\n",
              "      const channel = await google.colab.kernel.comms.open(id);\n",
              "      // Send a message to notify the kernel that we're ready.\n",
              "      channel.send({})\n",
              "\n",
              "      for await (const message of channel.messages) {\n",
              "        // Send a message to notify the kernel that we're ready.\n",
              "        channel.send({})\n",
              "        if (message.buffers) {\n",
              "          for (const buffer of message.buffers) {\n",
              "            buffers.push(buffer);\n",
              "            downloaded += buffer.byteLength;\n",
              "            progress.value = downloaded;\n",
              "          }\n",
              "        }\n",
              "      }\n",
              "      const blob = new Blob(buffers, {type: 'application/binary'});\n",
              "      const a = document.createElement('a');\n",
              "      a.href = window.URL.createObjectURL(blob);\n",
              "      a.download = filename;\n",
              "      div.appendChild(a);\n",
              "      a.click();\n",
              "      div.remove();\n",
              "    }\n",
              "  "
            ],
            "text/plain": [
              "<IPython.core.display.Javascript object>"
            ]
          },
          "metadata": {},
          "output_type": "display_data"
        },
        {
          "data": {
            "application/javascript": [
              "download(\"download_a50a05e7-245d-49b3-9074-05970e2b7ab4\", \"test28_log_pd.csv\", 323283)"
            ],
            "text/plain": [
              "<IPython.core.display.Javascript object>"
            ]
          },
          "metadata": {},
          "output_type": "display_data"
        }
      ],
      "source": [
        "step_count_global = 10\n",
        "files.download(RunTestLogProportionalDistances(ds, '/content/test1.txt'))\n",
        "\n",
        "step_count_global = 16\n",
        "step_time_global = 1150\n",
        "step_margin_global = 5/12\n",
        "files.download(RunTestLogProportionalDistances(ds, '/content/test3.txt'))\n",
        "\n",
        "step_time_global = 5150\n",
        "step_margin_global = 2/5\n",
        "for i in file_numbers:\n",
        "  files.download(RunTestLogProportionalDistances(ds, '/content/test' + i + '.txt'))\n",
        "\n",
        "  # 48 min"
      ]
    },
    {
      "cell_type": "code",
      "source": [
        "step_count_global = 10\n",
        "files.download(RunTestLogAlt(ds, '/content/test1.txt'))\n",
        "\n",
        "step_count_global = 16\n",
        "step_time_global = 1150\n",
        "step_margin_global = 5/12\n",
        "files.download(RunTestLogAlt(ds, '/content/test3.txt'))\n",
        "\n",
        "step_time_global = 5150\n",
        "step_margin_global = 2/5\n",
        "for i in file_numbers:\n",
        "  files.download(RunTestLogAlt(ds, '/content/test' + i + '.txt'))\n",
        "\n",
        "  # 48 minRunTestLogAlt"
      ],
      "metadata": {
        "colab": {
          "base_uri": "https://localhost:8080/",
          "height": 17
        },
        "id": "zo_fFFGEt3HX",
        "outputId": "a55db2ca-c50f-4d04-e723-7cfe825fd451"
      },
      "execution_count": null,
      "outputs": [
        {
          "output_type": "display_data",
          "data": {
            "text/plain": [
              "<IPython.core.display.Javascript object>"
            ],
            "application/javascript": [
              "\n",
              "    async function download(id, filename, size) {\n",
              "      if (!google.colab.kernel.accessAllowed) {\n",
              "        return;\n",
              "      }\n",
              "      const div = document.createElement('div');\n",
              "      const label = document.createElement('label');\n",
              "      label.textContent = `Downloading \"${filename}\": `;\n",
              "      div.appendChild(label);\n",
              "      const progress = document.createElement('progress');\n",
              "      progress.max = size;\n",
              "      div.appendChild(progress);\n",
              "      document.body.appendChild(div);\n",
              "\n",
              "      const buffers = [];\n",
              "      let downloaded = 0;\n",
              "\n",
              "      const channel = await google.colab.kernel.comms.open(id);\n",
              "      // Send a message to notify the kernel that we're ready.\n",
              "      channel.send({})\n",
              "\n",
              "      for await (const message of channel.messages) {\n",
              "        // Send a message to notify the kernel that we're ready.\n",
              "        channel.send({})\n",
              "        if (message.buffers) {\n",
              "          for (const buffer of message.buffers) {\n",
              "            buffers.push(buffer);\n",
              "            downloaded += buffer.byteLength;\n",
              "            progress.value = downloaded;\n",
              "          }\n",
              "        }\n",
              "      }\n",
              "      const blob = new Blob(buffers, {type: 'application/binary'});\n",
              "      const a = document.createElement('a');\n",
              "      a.href = window.URL.createObjectURL(blob);\n",
              "      a.download = filename;\n",
              "      div.appendChild(a);\n",
              "      a.click();\n",
              "      div.remove();\n",
              "    }\n",
              "  "
            ]
          },
          "metadata": {}
        },
        {
          "output_type": "display_data",
          "data": {
            "text/plain": [
              "<IPython.core.display.Javascript object>"
            ],
            "application/javascript": [
              "download(\"download_a5a24417-b336-40d3-801b-356e3b46cefd\", \"test1_log.csv\", 210930)"
            ]
          },
          "metadata": {}
        },
        {
          "output_type": "display_data",
          "data": {
            "text/plain": [
              "<IPython.core.display.Javascript object>"
            ],
            "application/javascript": [
              "\n",
              "    async function download(id, filename, size) {\n",
              "      if (!google.colab.kernel.accessAllowed) {\n",
              "        return;\n",
              "      }\n",
              "      const div = document.createElement('div');\n",
              "      const label = document.createElement('label');\n",
              "      label.textContent = `Downloading \"${filename}\": `;\n",
              "      div.appendChild(label);\n",
              "      const progress = document.createElement('progress');\n",
              "      progress.max = size;\n",
              "      div.appendChild(progress);\n",
              "      document.body.appendChild(div);\n",
              "\n",
              "      const buffers = [];\n",
              "      let downloaded = 0;\n",
              "\n",
              "      const channel = await google.colab.kernel.comms.open(id);\n",
              "      // Send a message to notify the kernel that we're ready.\n",
              "      channel.send({})\n",
              "\n",
              "      for await (const message of channel.messages) {\n",
              "        // Send a message to notify the kernel that we're ready.\n",
              "        channel.send({})\n",
              "        if (message.buffers) {\n",
              "          for (const buffer of message.buffers) {\n",
              "            buffers.push(buffer);\n",
              "            downloaded += buffer.byteLength;\n",
              "            progress.value = downloaded;\n",
              "          }\n",
              "        }\n",
              "      }\n",
              "      const blob = new Blob(buffers, {type: 'application/binary'});\n",
              "      const a = document.createElement('a');\n",
              "      a.href = window.URL.createObjectURL(blob);\n",
              "      a.download = filename;\n",
              "      div.appendChild(a);\n",
              "      a.click();\n",
              "      div.remove();\n",
              "    }\n",
              "  "
            ]
          },
          "metadata": {}
        },
        {
          "output_type": "display_data",
          "data": {
            "text/plain": [
              "<IPython.core.display.Javascript object>"
            ],
            "application/javascript": [
              "download(\"download_ad5fecfb-98ea-4941-8c96-d4dd13f323dd\", \"test3_log.csv\", 77537)"
            ]
          },
          "metadata": {}
        },
        {
          "output_type": "display_data",
          "data": {
            "text/plain": [
              "<IPython.core.display.Javascript object>"
            ],
            "application/javascript": [
              "\n",
              "    async function download(id, filename, size) {\n",
              "      if (!google.colab.kernel.accessAllowed) {\n",
              "        return;\n",
              "      }\n",
              "      const div = document.createElement('div');\n",
              "      const label = document.createElement('label');\n",
              "      label.textContent = `Downloading \"${filename}\": `;\n",
              "      div.appendChild(label);\n",
              "      const progress = document.createElement('progress');\n",
              "      progress.max = size;\n",
              "      div.appendChild(progress);\n",
              "      document.body.appendChild(div);\n",
              "\n",
              "      const buffers = [];\n",
              "      let downloaded = 0;\n",
              "\n",
              "      const channel = await google.colab.kernel.comms.open(id);\n",
              "      // Send a message to notify the kernel that we're ready.\n",
              "      channel.send({})\n",
              "\n",
              "      for await (const message of channel.messages) {\n",
              "        // Send a message to notify the kernel that we're ready.\n",
              "        channel.send({})\n",
              "        if (message.buffers) {\n",
              "          for (const buffer of message.buffers) {\n",
              "            buffers.push(buffer);\n",
              "            downloaded += buffer.byteLength;\n",
              "            progress.value = downloaded;\n",
              "          }\n",
              "        }\n",
              "      }\n",
              "      const blob = new Blob(buffers, {type: 'application/binary'});\n",
              "      const a = document.createElement('a');\n",
              "      a.href = window.URL.createObjectURL(blob);\n",
              "      a.download = filename;\n",
              "      div.appendChild(a);\n",
              "      a.click();\n",
              "      div.remove();\n",
              "    }\n",
              "  "
            ]
          },
          "metadata": {}
        },
        {
          "output_type": "display_data",
          "data": {
            "text/plain": [
              "<IPython.core.display.Javascript object>"
            ],
            "application/javascript": [
              "download(\"download_38e4f4e7-d1b2-4f9f-aeba-500ce01c8dc8\", \"test2_log.csv\", 330409)"
            ]
          },
          "metadata": {}
        },
        {
          "output_type": "display_data",
          "data": {
            "text/plain": [
              "<IPython.core.display.Javascript object>"
            ],
            "application/javascript": [
              "\n",
              "    async function download(id, filename, size) {\n",
              "      if (!google.colab.kernel.accessAllowed) {\n",
              "        return;\n",
              "      }\n",
              "      const div = document.createElement('div');\n",
              "      const label = document.createElement('label');\n",
              "      label.textContent = `Downloading \"${filename}\": `;\n",
              "      div.appendChild(label);\n",
              "      const progress = document.createElement('progress');\n",
              "      progress.max = size;\n",
              "      div.appendChild(progress);\n",
              "      document.body.appendChild(div);\n",
              "\n",
              "      const buffers = [];\n",
              "      let downloaded = 0;\n",
              "\n",
              "      const channel = await google.colab.kernel.comms.open(id);\n",
              "      // Send a message to notify the kernel that we're ready.\n",
              "      channel.send({})\n",
              "\n",
              "      for await (const message of channel.messages) {\n",
              "        // Send a message to notify the kernel that we're ready.\n",
              "        channel.send({})\n",
              "        if (message.buffers) {\n",
              "          for (const buffer of message.buffers) {\n",
              "            buffers.push(buffer);\n",
              "            downloaded += buffer.byteLength;\n",
              "            progress.value = downloaded;\n",
              "          }\n",
              "        }\n",
              "      }\n",
              "      const blob = new Blob(buffers, {type: 'application/binary'});\n",
              "      const a = document.createElement('a');\n",
              "      a.href = window.URL.createObjectURL(blob);\n",
              "      a.download = filename;\n",
              "      div.appendChild(a);\n",
              "      a.click();\n",
              "      div.remove();\n",
              "    }\n",
              "  "
            ]
          },
          "metadata": {}
        },
        {
          "output_type": "display_data",
          "data": {
            "text/plain": [
              "<IPython.core.display.Javascript object>"
            ],
            "application/javascript": [
              "download(\"download_b7201ef7-2db7-4239-a5ab-d84c8fb94b67\", \"test25_log.csv\", 325389)"
            ]
          },
          "metadata": {}
        },
        {
          "output_type": "display_data",
          "data": {
            "text/plain": [
              "<IPython.core.display.Javascript object>"
            ],
            "application/javascript": [
              "\n",
              "    async function download(id, filename, size) {\n",
              "      if (!google.colab.kernel.accessAllowed) {\n",
              "        return;\n",
              "      }\n",
              "      const div = document.createElement('div');\n",
              "      const label = document.createElement('label');\n",
              "      label.textContent = `Downloading \"${filename}\": `;\n",
              "      div.appendChild(label);\n",
              "      const progress = document.createElement('progress');\n",
              "      progress.max = size;\n",
              "      div.appendChild(progress);\n",
              "      document.body.appendChild(div);\n",
              "\n",
              "      const buffers = [];\n",
              "      let downloaded = 0;\n",
              "\n",
              "      const channel = await google.colab.kernel.comms.open(id);\n",
              "      // Send a message to notify the kernel that we're ready.\n",
              "      channel.send({})\n",
              "\n",
              "      for await (const message of channel.messages) {\n",
              "        // Send a message to notify the kernel that we're ready.\n",
              "        channel.send({})\n",
              "        if (message.buffers) {\n",
              "          for (const buffer of message.buffers) {\n",
              "            buffers.push(buffer);\n",
              "            downloaded += buffer.byteLength;\n",
              "            progress.value = downloaded;\n",
              "          }\n",
              "        }\n",
              "      }\n",
              "      const blob = new Blob(buffers, {type: 'application/binary'});\n",
              "      const a = document.createElement('a');\n",
              "      a.href = window.URL.createObjectURL(blob);\n",
              "      a.download = filename;\n",
              "      div.appendChild(a);\n",
              "      a.click();\n",
              "      div.remove();\n",
              "    }\n",
              "  "
            ]
          },
          "metadata": {}
        },
        {
          "output_type": "display_data",
          "data": {
            "text/plain": [
              "<IPython.core.display.Javascript object>"
            ],
            "application/javascript": [
              "download(\"download_09ccd271-b0b0-41b1-9c7c-86cd394a0804\", \"test26_log.csv\", 329574)"
            ]
          },
          "metadata": {}
        },
        {
          "output_type": "display_data",
          "data": {
            "text/plain": [
              "<IPython.core.display.Javascript object>"
            ],
            "application/javascript": [
              "\n",
              "    async function download(id, filename, size) {\n",
              "      if (!google.colab.kernel.accessAllowed) {\n",
              "        return;\n",
              "      }\n",
              "      const div = document.createElement('div');\n",
              "      const label = document.createElement('label');\n",
              "      label.textContent = `Downloading \"${filename}\": `;\n",
              "      div.appendChild(label);\n",
              "      const progress = document.createElement('progress');\n",
              "      progress.max = size;\n",
              "      div.appendChild(progress);\n",
              "      document.body.appendChild(div);\n",
              "\n",
              "      const buffers = [];\n",
              "      let downloaded = 0;\n",
              "\n",
              "      const channel = await google.colab.kernel.comms.open(id);\n",
              "      // Send a message to notify the kernel that we're ready.\n",
              "      channel.send({})\n",
              "\n",
              "      for await (const message of channel.messages) {\n",
              "        // Send a message to notify the kernel that we're ready.\n",
              "        channel.send({})\n",
              "        if (message.buffers) {\n",
              "          for (const buffer of message.buffers) {\n",
              "            buffers.push(buffer);\n",
              "            downloaded += buffer.byteLength;\n",
              "            progress.value = downloaded;\n",
              "          }\n",
              "        }\n",
              "      }\n",
              "      const blob = new Blob(buffers, {type: 'application/binary'});\n",
              "      const a = document.createElement('a');\n",
              "      a.href = window.URL.createObjectURL(blob);\n",
              "      a.download = filename;\n",
              "      div.appendChild(a);\n",
              "      a.click();\n",
              "      div.remove();\n",
              "    }\n",
              "  "
            ]
          },
          "metadata": {}
        },
        {
          "output_type": "display_data",
          "data": {
            "text/plain": [
              "<IPython.core.display.Javascript object>"
            ],
            "application/javascript": [
              "download(\"download_b7fde4cd-d57b-4942-afc2-e381e5bedeb7\", \"test27_log.csv\", 321656)"
            ]
          },
          "metadata": {}
        },
        {
          "output_type": "display_data",
          "data": {
            "text/plain": [
              "<IPython.core.display.Javascript object>"
            ],
            "application/javascript": [
              "\n",
              "    async function download(id, filename, size) {\n",
              "      if (!google.colab.kernel.accessAllowed) {\n",
              "        return;\n",
              "      }\n",
              "      const div = document.createElement('div');\n",
              "      const label = document.createElement('label');\n",
              "      label.textContent = `Downloading \"${filename}\": `;\n",
              "      div.appendChild(label);\n",
              "      const progress = document.createElement('progress');\n",
              "      progress.max = size;\n",
              "      div.appendChild(progress);\n",
              "      document.body.appendChild(div);\n",
              "\n",
              "      const buffers = [];\n",
              "      let downloaded = 0;\n",
              "\n",
              "      const channel = await google.colab.kernel.comms.open(id);\n",
              "      // Send a message to notify the kernel that we're ready.\n",
              "      channel.send({})\n",
              "\n",
              "      for await (const message of channel.messages) {\n",
              "        // Send a message to notify the kernel that we're ready.\n",
              "        channel.send({})\n",
              "        if (message.buffers) {\n",
              "          for (const buffer of message.buffers) {\n",
              "            buffers.push(buffer);\n",
              "            downloaded += buffer.byteLength;\n",
              "            progress.value = downloaded;\n",
              "          }\n",
              "        }\n",
              "      }\n",
              "      const blob = new Blob(buffers, {type: 'application/binary'});\n",
              "      const a = document.createElement('a');\n",
              "      a.href = window.URL.createObjectURL(blob);\n",
              "      a.download = filename;\n",
              "      div.appendChild(a);\n",
              "      a.click();\n",
              "      div.remove();\n",
              "    }\n",
              "  "
            ]
          },
          "metadata": {}
        },
        {
          "output_type": "display_data",
          "data": {
            "text/plain": [
              "<IPython.core.display.Javascript object>"
            ],
            "application/javascript": [
              "download(\"download_7db55b52-40a5-4050-9bdc-8890a4e26a93\", \"test28_log.csv\", 323016)"
            ]
          },
          "metadata": {}
        }
      ]
    },
    {
      "cell_type": "code",
      "source": [
        "scale_global=50\n",
        "timer_count_global = -500\n",
        "step_margin_global = 2/5\n",
        "\n",
        "step_count_global = 16\n",
        "step_time_global = 5150\n",
        "\n",
        "file_numbers = ['2', '25', '26', '27', '28']"
      ],
      "metadata": {
        "id": "VDYjAgFm1Epx"
      },
      "execution_count": null,
      "outputs": []
    },
    {
      "cell_type": "code",
      "source": [
        "files.download(RunTestLogAlt(ds, '/content/test27.txt'))"
      ],
      "metadata": {
        "colab": {
          "base_uri": "https://localhost:8080/",
          "height": 17
        },
        "id": "AzO_Snxezcav",
        "outputId": "46b7bb3f-a14a-4c56-d7dc-a53bf4514e4b"
      },
      "execution_count": null,
      "outputs": [
        {
          "output_type": "display_data",
          "data": {
            "text/plain": [
              "<IPython.core.display.Javascript object>"
            ],
            "application/javascript": [
              "\n",
              "    async function download(id, filename, size) {\n",
              "      if (!google.colab.kernel.accessAllowed) {\n",
              "        return;\n",
              "      }\n",
              "      const div = document.createElement('div');\n",
              "      const label = document.createElement('label');\n",
              "      label.textContent = `Downloading \"${filename}\": `;\n",
              "      div.appendChild(label);\n",
              "      const progress = document.createElement('progress');\n",
              "      progress.max = size;\n",
              "      div.appendChild(progress);\n",
              "      document.body.appendChild(div);\n",
              "\n",
              "      const buffers = [];\n",
              "      let downloaded = 0;\n",
              "\n",
              "      const channel = await google.colab.kernel.comms.open(id);\n",
              "      // Send a message to notify the kernel that we're ready.\n",
              "      channel.send({})\n",
              "\n",
              "      for await (const message of channel.messages) {\n",
              "        // Send a message to notify the kernel that we're ready.\n",
              "        channel.send({})\n",
              "        if (message.buffers) {\n",
              "          for (const buffer of message.buffers) {\n",
              "            buffers.push(buffer);\n",
              "            downloaded += buffer.byteLength;\n",
              "            progress.value = downloaded;\n",
              "          }\n",
              "        }\n",
              "      }\n",
              "      const blob = new Blob(buffers, {type: 'application/binary'});\n",
              "      const a = document.createElement('a');\n",
              "      a.href = window.URL.createObjectURL(blob);\n",
              "      a.download = filename;\n",
              "      div.appendChild(a);\n",
              "      a.click();\n",
              "      div.remove();\n",
              "    }\n",
              "  "
            ]
          },
          "metadata": {}
        },
        {
          "output_type": "display_data",
          "data": {
            "text/plain": [
              "<IPython.core.display.Javascript object>"
            ],
            "application/javascript": [
              "download(\"download_4dfdfebc-44d1-42d1-b739-e04a5f138d59\", \"test27_log.csv\", 321826)"
            ]
          },
          "metadata": {}
        }
      ]
    },
    {
      "cell_type": "markdown",
      "source": [
        "# Test analysis"
      ],
      "metadata": {
        "id": "5G3AoY9ZpRXH"
      }
    },
    {
      "cell_type": "code",
      "source": [
        "import numpy as np\n",
        "import math"
      ],
      "metadata": {
        "id": "NLYltJsWps4W"
      },
      "execution_count": null,
      "outputs": []
    },
    {
      "cell_type": "code",
      "source": [
        ""
      ],
      "metadata": {
        "id": "NYVb7RJ3pQuM"
      },
      "execution_count": null,
      "outputs": []
    },
    {
      "cell_type": "code",
      "source": [
        "test_data[0]"
      ],
      "metadata": {
        "colab": {
          "base_uri": "https://localhost:8080/"
        },
        "id": "N0e_wHtZpyCM",
        "outputId": "80f6971b-16c4-4e50-96f6-e4791bf98610"
      },
      "execution_count": null,
      "outputs": [
        {
          "output_type": "execute_result",
          "data": {
            "text/plain": [
              "array(['132226', '0.0', '0.0', '0.0', '0.0', '0.0'], dtype='<U19')"
            ]
          },
          "metadata": {},
          "execution_count": 8
        }
      ]
    },
    {
      "cell_type": "code",
      "source": [
        ""
      ],
      "metadata": {
        "id": "wIagUd9ut5Ic"
      },
      "execution_count": null,
      "outputs": []
    },
    {
      "cell_type": "code",
      "source": [
        "test_params_global = [\n",
        "              ['1', 3, 3],\n",
        "              ['2', 3, 3],\n",
        "              ['3', 3, 3],\n",
        "              ['25', 3, 3],\n",
        "              ['26', 1, 2],\n",
        "              # ['27', 5, 2],\n",
        "              ['28', 3, 5]\n",
        "]\n",
        "\n",
        "file_end_global = '_sq.csv'\n",
        "\n",
        "def trunc_rel():\n",
        "  test_errors = []\n",
        "\n",
        "  for t in range(len(test_params)):\n",
        "    x_err = []\n",
        "    y_err = []\n",
        "    z_err = []\n",
        "    test_data = CsvToArray('/content/test' + test_params[t][0] + file_end_global)\n",
        "    for row in test_data:\n",
        "      if (row[2] == '0.0' or float(row[1]) > 8 or float(row[1]) < 2):\n",
        "        continue\n",
        "      else:\n",
        "        try:\n",
        "          x_err.append(abs(test_params[t][1] - float(row[3])) / test_params[t][1])\n",
        "          y_err.append(abs(test_params[t][2] - float(row[4])) / test_params[t][2])\n",
        "          z_err.append(abs(float(row[1]) - float(row[5])) / float(row[1]))\n",
        "        except ZeroDivisionError:\n",
        "          print(row)\n",
        "\n",
        "    test_errors.append([np.average(x_err), np.average(y_err), np.average(z_err)])\n",
        "    test_errors_np = np.array(test_errors)\n",
        "\n",
        "\n",
        "  avg = [0, 0, 0]\n",
        "  avg[0] = np.average(test_errors_np.T[0])\n",
        "  avg[1] = np.average(test_errors_np.T[1])\n",
        "  avg[2] = np.average(test_errors_np.T[2])\n",
        "  \n",
        "  return avg\n",
        "\n",
        "def full_rel():\n",
        "  test_errors = []\n",
        "\n",
        "  for t in range(len(test_params)):\n",
        "    x_err = []\n",
        "    y_err = []\n",
        "    z_err = []\n",
        "    test_data = CsvToArray('/content/test' + test_params[t][0] + file_end_global)\n",
        "    for row in test_data:\n",
        "      if (row[2] == '0.0'):\n",
        "        continue\n",
        "      else:\n",
        "        try:\n",
        "          x_err.append(abs(test_params[t][1] - float(row[3])) / test_params[t][1])\n",
        "          y_err.append(abs(test_params[t][2] - float(row[4])) / test_params[t][2])\n",
        "          z_err.append(abs(float(row[1]) - float(row[5])) / float(row[1]))\n",
        "        except ZeroDivisionError:\n",
        "          print(row)\n",
        "\n",
        "    test_errors.append([np.average(x_err), np.average(y_err), np.average(z_err)])\n",
        "    test_errors_np = np.array(test_errors)\n",
        "\n",
        "\n",
        "  avg = [0, 0, 0]\n",
        "  avg[0] = np.average(test_errors_np.T[0])\n",
        "  avg[1] = np.average(test_errors_np.T[1])\n",
        "  avg[2] = np.average(test_errors_np.T[2])\n",
        "  \n",
        "  return avg\n",
        "\n",
        "def trunc_abs():\n",
        "\n",
        "\n",
        "  test_errors = []\n",
        "\n",
        "  for t in range(len(test_params)):\n",
        "    x_err = []\n",
        "    y_err = []\n",
        "    z_err = []\n",
        "    test_data = CsvToArray('/content/test' + test_params[t][0] + '_log.csv')\n",
        "    for row in test_data:\n",
        "      if (row[2] == '0.0' or float(row[1]) > 8 or float(row[1]) < 2):\n",
        "        continue\n",
        "      else:\n",
        "        try:\n",
        "          x_err.append(abs(test_params[t][1] - float(row[3])))\n",
        "          y_err.append(abs(test_params[t][2] - float(row[4])))\n",
        "          z_err.append(abs(float(row[1]) - float(row[5])))\n",
        "        except ZeroDivisionError:\n",
        "          print(row)\n",
        "\n",
        "    test_errors.append([np.average(x_err), np.average(y_err), np.average(z_err)])\n",
        "    test_errors_np = np.array(test_errors)\n",
        "\n",
        "\n",
        "  avg = [0, 0, 0]\n",
        "  avg[0] = np.average(test_errors_np.T[0])\n",
        "  avg[1] = np.average(test_errors_np.T[1])\n",
        "  avg[2] = np.average(test_errors_np.T[2])\n",
        "  \n",
        "  return avg\n",
        "\n",
        "def full_abs():\n",
        "  test_errors = []\n",
        "\n",
        "  for t in range(len(test_params)):\n",
        "    x_err = []\n",
        "    y_err = []\n",
        "    z_err = []\n",
        "    test_data = CsvToArray('/content/test' + test_params[t][0] + '_log.csv')\n",
        "    for row in test_data:\n",
        "      if (row[2] == '0.0'):\n",
        "        continue\n",
        "      else:\n",
        "        try:\n",
        "          x_err.append(abs(test_params[t][1] - float(row[3])))\n",
        "          y_err.append(abs(test_params[t][2] - float(row[4])))\n",
        "          z_err.append(abs(float(row[1]) - float(row[5])))\n",
        "        except ZeroDivisionError:\n",
        "          print(row)\n",
        "\n",
        "    test_errors.append([np.average(x_err), np.average(y_err), np.average(z_err)])\n",
        "    test_errors_np = np.array(test_errors)\n",
        "\n",
        "\n",
        "  avg = [0, 0, 0]\n",
        "  avg[0] = np.average(test_errors_np.T[0])\n",
        "  avg[1] = np.average(test_errors_np.T[1])\n",
        "  avg[2] = np.average(test_errors_np.T[2])\n",
        "  \n",
        "  return avg\n"
      ],
      "metadata": {
        "id": "Rk_qKKtyrIes"
      },
      "execution_count": null,
      "outputs": []
    },
    {
      "cell_type": "code",
      "source": [
        "avg_log_sc1 = []\n",
        "avg_log_sc1.append(full_rel())\n",
        "avg_log_sc1.append(trunc_rel())"
      ],
      "metadata": {
        "id": "xmW16AvQtt2z"
      },
      "execution_count": null,
      "outputs": []
    },
    {
      "cell_type": "code",
      "source": [
        "avg_log_sc1_alt = []\n",
        "avg_log_sc1_alt.append(full_rel())\n",
        "avg_log_sc1_alt.append(trunc_rel())"
      ],
      "metadata": {
        "id": "t8d6WCIPunaG"
      },
      "execution_count": null,
      "outputs": []
    },
    {
      "cell_type": "code",
      "source": [
        "avg_log_sc1_alt"
      ],
      "metadata": {
        "colab": {
          "base_uri": "https://localhost:8080/"
        },
        "id": "8VAvGCvLGnuH",
        "outputId": "bbfecc0f-249f-4a0d-9ea5-dc9b1be0faba"
      },
      "execution_count": null,
      "outputs": [
        {
          "output_type": "execute_result",
          "data": {
            "text/plain": [
              "[[0.38715836093769634, 0.5611452949617391, 0.4370948641444739],\n",
              " [0.3728934769581347, 0.543104353682735, 0.30839500471791376]]"
            ]
          },
          "metadata": {},
          "execution_count": 118
        }
      ]
    },
    {
      "cell_type": "code",
      "source": [
        "avg_log_sc10 = []\n",
        "avg_log_sc10.append(full_rel())\n",
        "avg_log_sc10.append(trunc_rel())"
      ],
      "metadata": {
        "id": "zeksYRyDtzVP"
      },
      "execution_count": null,
      "outputs": []
    },
    {
      "cell_type": "code",
      "source": [
        "avg_sq = []\n",
        "avg_sq.append(full_rel())\n",
        "avg_sq.append(trunc_rel())"
      ],
      "metadata": {
        "id": "eISVN2zVs-dc"
      },
      "execution_count": null,
      "outputs": []
    },
    {
      "cell_type": "code",
      "source": [
        "avg_sq_abs = []\n",
        "avg_sq_abs.append(full_rel())\n",
        "avg_sq_abs.append(trunc_rel())"
      ],
      "metadata": {
        "id": "Gtcwp7AGGB60"
      },
      "execution_count": null,
      "outputs": []
    },
    {
      "cell_type": "code",
      "source": [
        "avg_sq_abs"
      ],
      "metadata": {
        "colab": {
          "base_uri": "https://localhost:8080/"
        },
        "id": "0XfAYFDwGE7Y",
        "outputId": "f8d1b9c0-dad0-49bc-f2f0-874a7433ed47"
      },
      "execution_count": null,
      "outputs": [
        {
          "output_type": "execute_result",
          "data": {
            "text/plain": [
              "[[0.38715836093769634, 0.5611452949617391, 0.4370948641444739],\n",
              " [0.3728934769581347, 0.543104353682735, 0.30839500471791376]]"
            ]
          },
          "metadata": {},
          "execution_count": 114
        }
      ]
    }
  ],
  "metadata": {
    "colab": {
      "collapsed_sections": [
        "1ZeMLMCBoIV5",
        "wzLUv3PCoWmB",
        "Zn-JAkI2o1H4",
        "x38roTIIo8Ey",
        "_oXfJA7npGlO",
        "q6fDDLhzvJ7m",
        "B-TlxvOa8MEA",
        "KAbp3XHa8RT5",
        "y6FIHX6333sP",
        "k-6RtN4WVRXh",
        "tP-5-3osrTWZ",
        "cj_LIMSzIUqF",
        "KJzPbGlT01Xf"
      ],
      "name": "Bakalaurinis.ipynb",
      "provenance": [],
      "toc_visible": true,
      "authorship_tag": "ABX9TyNNB+41X0TFlHooUcdaMjAz",
      "include_colab_link": true
    },
    "kernelspec": {
      "display_name": "Python 3",
      "name": "python3"
    },
    "language_info": {
      "name": "python"
    },
    "widgets": {
      "application/vnd.jupyter.widget-state+json": {
        "06f1ac9d75be48b9b627ec3efc887427": {
          "model_module": "@jupyter-widgets/base",
          "model_module_version": "1.2.0",
          "model_name": "LayoutModel",
          "state": {
            "_model_module": "@jupyter-widgets/base",
            "_model_module_version": "1.2.0",
            "_model_name": "LayoutModel",
            "_view_count": null,
            "_view_module": "@jupyter-widgets/base",
            "_view_module_version": "1.2.0",
            "_view_name": "LayoutView",
            "align_content": null,
            "align_items": null,
            "align_self": null,
            "border": null,
            "bottom": null,
            "display": null,
            "flex": null,
            "flex_flow": null,
            "grid_area": null,
            "grid_auto_columns": null,
            "grid_auto_flow": null,
            "grid_auto_rows": null,
            "grid_column": null,
            "grid_gap": null,
            "grid_row": null,
            "grid_template_areas": null,
            "grid_template_columns": null,
            "grid_template_rows": null,
            "height": null,
            "justify_content": null,
            "justify_items": null,
            "left": null,
            "margin": null,
            "max_height": null,
            "max_width": null,
            "min_height": null,
            "min_width": null,
            "object_fit": null,
            "object_position": null,
            "order": null,
            "overflow": null,
            "overflow_x": null,
            "overflow_y": null,
            "padding": null,
            "right": null,
            "top": null,
            "visibility": null,
            "width": null
          }
        },
        "07fd22438b794f0ba92a89c50da1a8ea": {
          "model_module": "jupyter-threejs",
          "model_module_version": "^2.1.0",
          "model_name": "PerspectiveCameraModel",
          "state": {
            "_model_module": "jupyter-threejs",
            "_model_module_version": "^2.1.0",
            "_model_name": "PerspectiveCameraModel",
            "_view_count": null,
            "_view_module": null,
            "_view_module_version": "",
            "_view_name": null,
            "aspect": 0.8,
            "castShadow": false,
            "children": [],
            "far": 2000,
            "focus": 10,
            "fov": 46,
            "frustumCulled": true,
            "matrix": [
              -0.8745020597305309,
              0.041094141536233114,
              0.48327778663876036,
              0,
              0.08869054992205933,
              0.9931526875507414,
              0.0760376588623174,
              0,
              -0.47684393031848676,
              0.10935726195429134,
              -0.8721587329014591,
              0,
              -0.7170726360228361,
              0.1644502427564261,
              -1.3115426701861908,
              1
            ],
            "matrixAutoUpdate": true,
            "matrixWorld": [
              -0.8745020597305309,
              0.041094141536233114,
              0.48327778663876036,
              0,
              0.08869054992205933,
              0.9931526875507414,
              0.0760376588623174,
              0,
              -0.47684393031848676,
              0.10935726195429134,
              -0.8721587329014591,
              0,
              -0.7170726360228361,
              0.1644502427564261,
              -1.3115426701861908,
              1
            ],
            "matrixWorldInverse": [
              -0.874502059730531,
              0.08869054992205934,
              -0.4768439303184869,
              0,
              0.041094141536233114,
              0.9931526875507417,
              0.10935726195429135,
              0,
              0.4832777866387605,
              0.07603765886231742,
              -0.8721587329014593,
              0,
              1.2316536679435333e-16,
              2.775557561562892e-17,
              -1.5037889557363129,
              1.0000000000000002
            ],
            "matrixWorldNeedsUpdate": true,
            "modelViewMatrix": [
              1,
              0,
              0,
              0,
              0,
              1,
              0,
              0,
              0,
              0,
              1,
              0,
              0,
              0,
              0,
              1
            ],
            "name": "",
            "near": 0.1,
            "normalMatrix": [
              1,
              0,
              0,
              0,
              1,
              0,
              0,
              0,
              1
            ],
            "position": [
              -0.7170726360228361,
              0.1644502427564261,
              -1.3115426701861908
            ],
            "projectionMatrix": [
              2.9448154572796907,
              0,
              0,
              0,
              0,
              2.3558523658237527,
              0,
              0,
              0,
              0,
              -1.00010000500025,
              -1,
              0,
              0,
              -0.200010000500025,
              0
            ],
            "quaternion": [
              0.03355586990448506,
              0.9669298682146926,
              0.04793391095646776,
              -0.2482397505027909
            ],
            "receiveShadow": false,
            "renderOrder": 0,
            "rotation": [
              -3.0168567496831002,
              -0.4970606288016231,
              -3.040519899115648,
              "XYZ"
            ],
            "scale": [
              1,
              1,
              1
            ],
            "type": "PerspectiveCamera",
            "up": [
              0.08869054992205933,
              0.9931526875507413,
              0.07603765886231742
            ],
            "visible": true,
            "zoom": 1
          }
        },
        "0b601c81d68a48dfabdbacd097cfaae2": {
          "model_module": "jupyter-threejs",
          "model_module_version": "^2.1.0",
          "model_name": "ShaderMaterialModel",
          "state": {
            "_model_module": "jupyter-threejs",
            "_model_module_version": "^2.1.0",
            "_model_name": "ShaderMaterialModel",
            "_view_count": null,
            "_view_module": null,
            "_view_module_version": "",
            "_view_name": null,
            "alphaTest": 0,
            "blendDst": "OneMinusSrcAlphaFactor",
            "blendDstAlpha": 0,
            "blendEquation": "AddEquation",
            "blendEquationAlpha": 0,
            "blendSrc": "SrcAlphaFactor",
            "blendSrcAlpha": 0,
            "blending": "NormalBlending",
            "clipIntersection": false,
            "clipShadows": false,
            "clipping": false,
            "clippingPlanes": [],
            "colorWrite": true,
            "defines": null,
            "depthFunc": "LessEqualDepth",
            "depthTest": true,
            "depthWrite": true,
            "dithering": false,
            "extensions": {},
            "flatShading": false,
            "fog": false,
            "fragmentShader": "",
            "lights": false,
            "linewidth": 1,
            "morphNormals": false,
            "morphTargets": false,
            "name": "",
            "opacity": 1,
            "overdraw": 0,
            "polygonOffset": false,
            "polygonOffsetFactor": 0,
            "polygonOffsetUnits": 0,
            "precision": null,
            "premultipliedAlpha": false,
            "shadowSide": null,
            "side": "FrontSide",
            "skinning": false,
            "transparent": false,
            "type": "ShaderMaterial",
            "uniforms": {},
            "uniformsNeedUpdate": false,
            "vertexColors": "NoColors",
            "vertexShader": "",
            "visible": true,
            "wireframe": false,
            "wireframeLinewidth": 1
          }
        },
        "0c9c822f5b734f03af4652fd691c9ad4": {
          "model_module": "jupyter-threejs",
          "model_module_version": "^2.1.0",
          "model_name": "ShaderMaterialModel",
          "state": {
            "_model_module": "jupyter-threejs",
            "_model_module_version": "^2.1.0",
            "_model_name": "ShaderMaterialModel",
            "_view_count": null,
            "_view_module": null,
            "_view_module_version": "",
            "_view_name": null,
            "alphaTest": 0,
            "blendDst": "OneMinusSrcAlphaFactor",
            "blendDstAlpha": 0,
            "blendEquation": "AddEquation",
            "blendEquationAlpha": 0,
            "blendSrc": "SrcAlphaFactor",
            "blendSrcAlpha": 0,
            "blending": "NormalBlending",
            "clipIntersection": false,
            "clipShadows": false,
            "clipping": false,
            "clippingPlanes": [],
            "colorWrite": true,
            "defines": null,
            "depthFunc": "LessEqualDepth",
            "depthTest": true,
            "depthWrite": true,
            "dithering": false,
            "extensions": {},
            "flatShading": false,
            "fog": false,
            "fragmentShader": "",
            "lights": false,
            "linewidth": 1,
            "morphNormals": false,
            "morphTargets": false,
            "name": "",
            "opacity": 1,
            "overdraw": 0,
            "polygonOffset": false,
            "polygonOffsetFactor": 0,
            "polygonOffsetUnits": 0,
            "precision": null,
            "premultipliedAlpha": false,
            "shadowSide": null,
            "side": "FrontSide",
            "skinning": false,
            "transparent": false,
            "type": "ShaderMaterial",
            "uniforms": {},
            "uniformsNeedUpdate": false,
            "vertexColors": "NoColors",
            "vertexShader": "",
            "visible": true,
            "wireframe": false,
            "wireframeLinewidth": 1
          }
        },
        "0e88687658be4095a17d5e0b8fa58e1b": {
          "model_module": "jupyter-threejs",
          "model_module_version": "^2.1.0",
          "model_name": "ShaderMaterialModel",
          "state": {
            "_model_module": "jupyter-threejs",
            "_model_module_version": "^2.1.0",
            "_model_name": "ShaderMaterialModel",
            "_view_count": null,
            "_view_module": null,
            "_view_module_version": "",
            "_view_name": null,
            "alphaTest": 0,
            "blendDst": "OneMinusSrcAlphaFactor",
            "blendDstAlpha": 0,
            "blendEquation": "AddEquation",
            "blendEquationAlpha": 0,
            "blendSrc": "SrcAlphaFactor",
            "blendSrcAlpha": 0,
            "blending": "NormalBlending",
            "clipIntersection": false,
            "clipShadows": false,
            "clipping": false,
            "clippingPlanes": [],
            "colorWrite": true,
            "defines": null,
            "depthFunc": "LessEqualDepth",
            "depthTest": true,
            "depthWrite": true,
            "dithering": false,
            "extensions": {},
            "flatShading": false,
            "fog": false,
            "fragmentShader": "",
            "lights": false,
            "linewidth": 1,
            "morphNormals": false,
            "morphTargets": false,
            "name": "",
            "opacity": 1,
            "overdraw": 0,
            "polygonOffset": false,
            "polygonOffsetFactor": 0,
            "polygonOffsetUnits": 0,
            "precision": null,
            "premultipliedAlpha": false,
            "shadowSide": null,
            "side": "FrontSide",
            "skinning": false,
            "transparent": false,
            "type": "ShaderMaterial",
            "uniforms": {},
            "uniformsNeedUpdate": false,
            "vertexColors": "NoColors",
            "vertexShader": "",
            "visible": true,
            "wireframe": false,
            "wireframeLinewidth": 1
          }
        },
        "14fbd12e21844efa96f3734b829fbe99": {
          "model_module": "jupyter-threejs",
          "model_module_version": "^2.1.0",
          "model_name": "SceneModel",
          "state": {
            "_model_module": "jupyter-threejs",
            "_model_module_version": "^2.1.0",
            "_model_name": "SceneModel",
            "_view_count": null,
            "_view_module": null,
            "_view_module_version": "",
            "_view_name": null,
            "autoUpdate": true,
            "background": null,
            "castShadow": false,
            "children": [],
            "fog": null,
            "frustumCulled": true,
            "matrix": [
              1,
              0,
              0,
              0,
              0,
              1,
              0,
              0,
              0,
              0,
              1,
              0,
              0,
              0,
              0,
              1
            ],
            "matrixAutoUpdate": true,
            "matrixWorld": [
              1,
              0,
              0,
              0,
              0,
              1,
              0,
              0,
              0,
              0,
              1,
              0,
              0,
              0,
              0,
              1
            ],
            "matrixWorldNeedsUpdate": false,
            "modelViewMatrix": [
              1,
              0,
              0,
              0,
              0,
              1,
              0,
              0,
              0,
              0,
              1,
              0,
              0,
              0,
              0,
              1
            ],
            "name": "",
            "normalMatrix": [
              1,
              0,
              0,
              0,
              1,
              0,
              0,
              0,
              1
            ],
            "overrideMaterial": null,
            "position": [
              0,
              0,
              0
            ],
            "quaternion": [
              0,
              0,
              0,
              1
            ],
            "receiveShadow": false,
            "renderOrder": 0,
            "rotation": [
              0,
              0,
              0,
              "XYZ"
            ],
            "scale": [
              1,
              1,
              1
            ],
            "type": "Scene",
            "up": [
              0,
              1,
              0
            ],
            "visible": true
          }
        },
        "1837d143108e4e02a637ba5d840b7094": {
          "model_module": "jupyter-threejs",
          "model_module_version": "^2.1.0",
          "model_name": "ShaderMaterialModel",
          "state": {
            "_model_module": "jupyter-threejs",
            "_model_module_version": "^2.1.0",
            "_model_name": "ShaderMaterialModel",
            "_view_count": null,
            "_view_module": null,
            "_view_module_version": "",
            "_view_name": null,
            "alphaTest": 0,
            "blendDst": "OneMinusSrcAlphaFactor",
            "blendDstAlpha": 0,
            "blendEquation": "AddEquation",
            "blendEquationAlpha": 0,
            "blendSrc": "SrcAlphaFactor",
            "blendSrcAlpha": 0,
            "blending": "NormalBlending",
            "clipIntersection": false,
            "clipShadows": false,
            "clipping": false,
            "clippingPlanes": [],
            "colorWrite": true,
            "defines": null,
            "depthFunc": "LessEqualDepth",
            "depthTest": true,
            "depthWrite": true,
            "dithering": false,
            "extensions": {},
            "flatShading": false,
            "fog": false,
            "fragmentShader": "",
            "lights": false,
            "linewidth": 1,
            "morphNormals": false,
            "morphTargets": false,
            "name": "",
            "opacity": 1,
            "overdraw": 0,
            "polygonOffset": false,
            "polygonOffsetFactor": 0,
            "polygonOffsetUnits": 0,
            "precision": null,
            "premultipliedAlpha": false,
            "shadowSide": null,
            "side": "FrontSide",
            "skinning": false,
            "transparent": false,
            "type": "ShaderMaterial",
            "uniforms": {},
            "uniformsNeedUpdate": false,
            "vertexColors": "NoColors",
            "vertexShader": "",
            "visible": true,
            "wireframe": false,
            "wireframeLinewidth": 1
          }
        },
        "1961a612a23b42bdbcda341930fb00e8": {
          "model_module": "ipyvolume",
          "model_module_version": "~0.5.2",
          "model_name": "ScatterModel",
          "state": {
            "_model_module": "ipyvolume",
            "_model_module_version": "~0.5.2",
            "_model_name": "ScatterModel",
            "_view_count": null,
            "_view_module": "ipyvolume",
            "_view_module_version": "~0.5.2",
            "_view_name": "ScatterView",
            "color": "green",
            "color_selected": "white",
            "connected": false,
            "geo": "sphere",
            "line_material": "IPY_MODEL_6e460dd3848b401eb3cd2df84bf1da4b",
            "material": "IPY_MODEL_5dc6438e9d9a4ccd97fea41fd05f23e6",
            "selected": null,
            "sequence_index": 0,
            "size": 3,
            "size_selected": 2.6,
            "texture": null,
            "visible": true,
            "vx": null,
            "vy": null,
            "vz": null,
            "x": 3,
            "y": 6,
            "z": [
              {
                "dtype": "int32",
                "shape": [
                  1
                ]
              }
            ]
          }
        },
        "2280e648db8d468eb311273e3d605c8b": {
          "model_module": "ipyvolume",
          "model_module_version": "~0.5.2",
          "model_name": "ScatterModel",
          "state": {
            "_model_module": "ipyvolume",
            "_model_module_version": "~0.5.2",
            "_model_name": "ScatterModel",
            "_view_count": null,
            "_view_module": "ipyvolume",
            "_view_module_version": "~0.5.2",
            "_view_name": "ScatterView",
            "color": "black",
            "color_selected": null,
            "connected": true,
            "geo": "diamond",
            "line_material": "IPY_MODEL_e226c40a40544f01b017bfae2a8d9cb3",
            "material": "IPY_MODEL_ab412e94314f47629d07985b0c57348f",
            "selected": null,
            "sequence_index": 0,
            "size": 1,
            "size_selected": 1,
            "texture": null,
            "visible": true,
            "vx": null,
            "vy": null,
            "vz": null,
            "x": [
              {
                "dtype": "float32",
                "shape": [
                  2
                ]
              }
            ],
            "y": [
              {
                "dtype": "float32",
                "shape": [
                  2
                ]
              }
            ],
            "z": [
              {
                "dtype": "float32",
                "shape": [
                  2
                ]
              }
            ]
          }
        },
        "250a554d5550466d98bec626d09bfce9": {
          "model_module": "ipyvolume",
          "model_module_version": "~0.5.2",
          "model_name": "ScatterModel",
          "state": {
            "_model_module": "ipyvolume",
            "_model_module_version": "~0.5.2",
            "_model_name": "ScatterModel",
            "_view_count": null,
            "_view_module": "ipyvolume",
            "_view_module_version": "~0.5.2",
            "_view_name": "ScatterView",
            "color": "green",
            "color_selected": "white",
            "connected": false,
            "geo": "sphere",
            "line_material": "IPY_MODEL_8c8195775cac49189e7fe18ce0ac5410",
            "material": "IPY_MODEL_58cbd5d80f264d19ba764403432bb4ab",
            "selected": null,
            "sequence_index": 0,
            "size": 3,
            "size_selected": 2.6,
            "texture": null,
            "visible": true,
            "vx": null,
            "vy": null,
            "vz": null,
            "x": 4,
            "y": 2,
            "z": [
              {
                "dtype": "int32",
                "shape": [
                  1
                ]
              }
            ]
          }
        },
        "36adadedbc564eaa9578d873fca988eb": {
          "model_module": "ipyvolume",
          "model_module_version": "~0.5.2",
          "model_name": "ScatterModel",
          "state": {
            "_model_module": "ipyvolume",
            "_model_module_version": "~0.5.2",
            "_model_name": "ScatterModel",
            "_view_count": null,
            "_view_module": "ipyvolume",
            "_view_module_version": "~0.5.2",
            "_view_name": "ScatterView",
            "color": "green",
            "color_selected": "white",
            "connected": false,
            "geo": "sphere",
            "line_material": "IPY_MODEL_0b601c81d68a48dfabdbacd097cfaae2",
            "material": "IPY_MODEL_af9eca74d77c478baae5a571253cdc5b",
            "selected": null,
            "sequence_index": 0,
            "size": 3,
            "size_selected": 2.6,
            "texture": null,
            "visible": true,
            "vx": null,
            "vy": null,
            "vz": null,
            "x": 2,
            "y": 1,
            "z": [
              {
                "dtype": "int32",
                "shape": [
                  1
                ]
              }
            ]
          }
        },
        "3fb759b6fa644fd9bca891ce37938ee1": {
          "model_module": "ipyvolume",
          "model_module_version": "~0.5.2",
          "model_name": "ScatterModel",
          "state": {
            "_model_module": "ipyvolume",
            "_model_module_version": "~0.5.2",
            "_model_name": "ScatterModel",
            "_view_count": null,
            "_view_module": "ipyvolume",
            "_view_module_version": "~0.5.2",
            "_view_name": "ScatterView",
            "color": "green",
            "color_selected": "white",
            "connected": false,
            "geo": "sphere",
            "line_material": "IPY_MODEL_1837d143108e4e02a637ba5d840b7094",
            "material": "IPY_MODEL_7ec032e9168d447482d705ef82a42945",
            "selected": null,
            "sequence_index": 0,
            "size": 3,
            "size_selected": 2.6,
            "texture": null,
            "visible": true,
            "vx": null,
            "vy": null,
            "vz": null,
            "x": 2,
            "y": 4,
            "z": [
              {
                "dtype": "float32",
                "shape": [
                  1
                ]
              }
            ]
          }
        },
        "58cbd5d80f264d19ba764403432bb4ab": {
          "model_module": "jupyter-threejs",
          "model_module_version": "^2.1.0",
          "model_name": "ShaderMaterialModel",
          "state": {
            "_model_module": "jupyter-threejs",
            "_model_module_version": "^2.1.0",
            "_model_name": "ShaderMaterialModel",
            "_view_count": null,
            "_view_module": null,
            "_view_module_version": "",
            "_view_name": null,
            "alphaTest": 0,
            "blendDst": "OneMinusSrcAlphaFactor",
            "blendDstAlpha": 0,
            "blendEquation": "AddEquation",
            "blendEquationAlpha": 0,
            "blendSrc": "SrcAlphaFactor",
            "blendSrcAlpha": 0,
            "blending": "NormalBlending",
            "clipIntersection": false,
            "clipShadows": false,
            "clipping": false,
            "clippingPlanes": [],
            "colorWrite": true,
            "defines": null,
            "depthFunc": "LessEqualDepth",
            "depthTest": true,
            "depthWrite": true,
            "dithering": false,
            "extensions": {},
            "flatShading": false,
            "fog": false,
            "fragmentShader": "",
            "lights": false,
            "linewidth": 1,
            "morphNormals": false,
            "morphTargets": false,
            "name": "",
            "opacity": 1,
            "overdraw": 0,
            "polygonOffset": false,
            "polygonOffsetFactor": 0,
            "polygonOffsetUnits": 0,
            "precision": null,
            "premultipliedAlpha": false,
            "shadowSide": null,
            "side": "FrontSide",
            "skinning": false,
            "transparent": false,
            "type": "ShaderMaterial",
            "uniforms": {},
            "uniformsNeedUpdate": false,
            "vertexColors": "NoColors",
            "vertexShader": "",
            "visible": true,
            "wireframe": false,
            "wireframeLinewidth": 1
          }
        },
        "5dc6438e9d9a4ccd97fea41fd05f23e6": {
          "model_module": "jupyter-threejs",
          "model_module_version": "^2.1.0",
          "model_name": "ShaderMaterialModel",
          "state": {
            "_model_module": "jupyter-threejs",
            "_model_module_version": "^2.1.0",
            "_model_name": "ShaderMaterialModel",
            "_view_count": null,
            "_view_module": null,
            "_view_module_version": "",
            "_view_name": null,
            "alphaTest": 0,
            "blendDst": "OneMinusSrcAlphaFactor",
            "blendDstAlpha": 0,
            "blendEquation": "AddEquation",
            "blendEquationAlpha": 0,
            "blendSrc": "SrcAlphaFactor",
            "blendSrcAlpha": 0,
            "blending": "NormalBlending",
            "clipIntersection": false,
            "clipShadows": false,
            "clipping": false,
            "clippingPlanes": [],
            "colorWrite": true,
            "defines": null,
            "depthFunc": "LessEqualDepth",
            "depthTest": true,
            "depthWrite": true,
            "dithering": false,
            "extensions": {},
            "flatShading": false,
            "fog": false,
            "fragmentShader": "",
            "lights": false,
            "linewidth": 1,
            "morphNormals": false,
            "morphTargets": false,
            "name": "",
            "opacity": 1,
            "overdraw": 0,
            "polygonOffset": false,
            "polygonOffsetFactor": 0,
            "polygonOffsetUnits": 0,
            "precision": null,
            "premultipliedAlpha": false,
            "shadowSide": null,
            "side": "FrontSide",
            "skinning": false,
            "transparent": false,
            "type": "ShaderMaterial",
            "uniforms": {},
            "uniformsNeedUpdate": false,
            "vertexColors": "NoColors",
            "vertexShader": "",
            "visible": true,
            "wireframe": false,
            "wireframeLinewidth": 1
          }
        },
        "5fda640ddbe8403ab5cd05ee732e302d": {
          "model_module": "ipyvolume",
          "model_module_version": "~0.5.2",
          "model_name": "ScatterModel",
          "state": {
            "_model_module": "ipyvolume",
            "_model_module_version": "~0.5.2",
            "_model_name": "ScatterModel",
            "_view_count": null,
            "_view_module": "ipyvolume",
            "_view_module_version": "~0.5.2",
            "_view_name": "ScatterView",
            "color": "green",
            "color_selected": "white",
            "connected": false,
            "geo": "sphere",
            "line_material": "IPY_MODEL_e1ce68e45a5b4b30bd60e025df1d372e",
            "material": "IPY_MODEL_0c9c822f5b734f03af4652fd691c9ad4",
            "selected": null,
            "sequence_index": 0,
            "size": 3,
            "size_selected": 2.6,
            "texture": null,
            "visible": true,
            "vx": null,
            "vy": null,
            "vz": null,
            "x": 3,
            "y": 6,
            "z": [
              {
                "dtype": "int32",
                "shape": [
                  1
                ]
              }
            ]
          }
        },
        "6e460dd3848b401eb3cd2df84bf1da4b": {
          "model_module": "jupyter-threejs",
          "model_module_version": "^2.1.0",
          "model_name": "ShaderMaterialModel",
          "state": {
            "_model_module": "jupyter-threejs",
            "_model_module_version": "^2.1.0",
            "_model_name": "ShaderMaterialModel",
            "_view_count": null,
            "_view_module": null,
            "_view_module_version": "",
            "_view_name": null,
            "alphaTest": 0,
            "blendDst": "OneMinusSrcAlphaFactor",
            "blendDstAlpha": 0,
            "blendEquation": "AddEquation",
            "blendEquationAlpha": 0,
            "blendSrc": "SrcAlphaFactor",
            "blendSrcAlpha": 0,
            "blending": "NormalBlending",
            "clipIntersection": false,
            "clipShadows": false,
            "clipping": false,
            "clippingPlanes": [],
            "colorWrite": true,
            "defines": null,
            "depthFunc": "LessEqualDepth",
            "depthTest": true,
            "depthWrite": true,
            "dithering": false,
            "extensions": {},
            "flatShading": false,
            "fog": false,
            "fragmentShader": "",
            "lights": false,
            "linewidth": 1,
            "morphNormals": false,
            "morphTargets": false,
            "name": "",
            "opacity": 1,
            "overdraw": 0,
            "polygonOffset": false,
            "polygonOffsetFactor": 0,
            "polygonOffsetUnits": 0,
            "precision": null,
            "premultipliedAlpha": false,
            "shadowSide": null,
            "side": "FrontSide",
            "skinning": false,
            "transparent": false,
            "type": "ShaderMaterial",
            "uniforms": {},
            "uniformsNeedUpdate": false,
            "vertexColors": "NoColors",
            "vertexShader": "",
            "visible": true,
            "wireframe": false,
            "wireframeLinewidth": 1
          }
        },
        "7ec032e9168d447482d705ef82a42945": {
          "model_module": "jupyter-threejs",
          "model_module_version": "^2.1.0",
          "model_name": "ShaderMaterialModel",
          "state": {
            "_model_module": "jupyter-threejs",
            "_model_module_version": "^2.1.0",
            "_model_name": "ShaderMaterialModel",
            "_view_count": null,
            "_view_module": null,
            "_view_module_version": "",
            "_view_name": null,
            "alphaTest": 0,
            "blendDst": "OneMinusSrcAlphaFactor",
            "blendDstAlpha": 0,
            "blendEquation": "AddEquation",
            "blendEquationAlpha": 0,
            "blendSrc": "SrcAlphaFactor",
            "blendSrcAlpha": 0,
            "blending": "NormalBlending",
            "clipIntersection": false,
            "clipShadows": false,
            "clipping": false,
            "clippingPlanes": [],
            "colorWrite": true,
            "defines": null,
            "depthFunc": "LessEqualDepth",
            "depthTest": true,
            "depthWrite": true,
            "dithering": false,
            "extensions": {},
            "flatShading": false,
            "fog": false,
            "fragmentShader": "",
            "lights": false,
            "linewidth": 1,
            "morphNormals": false,
            "morphTargets": false,
            "name": "",
            "opacity": 1,
            "overdraw": 0,
            "polygonOffset": false,
            "polygonOffsetFactor": 0,
            "polygonOffsetUnits": 0,
            "precision": null,
            "premultipliedAlpha": false,
            "shadowSide": null,
            "side": "FrontSide",
            "skinning": false,
            "transparent": false,
            "type": "ShaderMaterial",
            "uniforms": {},
            "uniformsNeedUpdate": false,
            "vertexColors": "NoColors",
            "vertexShader": "",
            "visible": true,
            "wireframe": false,
            "wireframeLinewidth": 1
          }
        },
        "8948a05a2537476f8c630382abb724ad": {
          "model_module": "jupyter-threejs",
          "model_module_version": "^2.1.0",
          "model_name": "ShaderMaterialModel",
          "state": {
            "_model_module": "jupyter-threejs",
            "_model_module_version": "^2.1.0",
            "_model_name": "ShaderMaterialModel",
            "_view_count": null,
            "_view_module": null,
            "_view_module_version": "",
            "_view_name": null,
            "alphaTest": 0,
            "blendDst": "OneMinusSrcAlphaFactor",
            "blendDstAlpha": 0,
            "blendEquation": "AddEquation",
            "blendEquationAlpha": 0,
            "blendSrc": "SrcAlphaFactor",
            "blendSrcAlpha": 0,
            "blending": "NormalBlending",
            "clipIntersection": false,
            "clipShadows": false,
            "clipping": false,
            "clippingPlanes": [],
            "colorWrite": true,
            "defines": null,
            "depthFunc": "LessEqualDepth",
            "depthTest": true,
            "depthWrite": true,
            "dithering": false,
            "extensions": {},
            "flatShading": false,
            "fog": false,
            "fragmentShader": "",
            "lights": false,
            "linewidth": 1,
            "morphNormals": false,
            "morphTargets": false,
            "name": "",
            "opacity": 1,
            "overdraw": 0,
            "polygonOffset": false,
            "polygonOffsetFactor": 0,
            "polygonOffsetUnits": 0,
            "precision": null,
            "premultipliedAlpha": false,
            "shadowSide": null,
            "side": "FrontSide",
            "skinning": false,
            "transparent": false,
            "type": "ShaderMaterial",
            "uniforms": {},
            "uniformsNeedUpdate": false,
            "vertexColors": "NoColors",
            "vertexShader": "",
            "visible": true,
            "wireframe": false,
            "wireframeLinewidth": 1
          }
        },
        "8b4bc1f9c0894b449530e75f37e16476": {
          "model_module": "ipyvolume",
          "model_module_version": "~0.5.2",
          "model_name": "FigureModel",
          "state": {
            "_dom_classes": [],
            "_model_module": "ipyvolume",
            "_model_module_version": "~0.5.2",
            "_model_name": "FigureModel",
            "_view_count": null,
            "_view_module": "ipyvolume",
            "_view_module_version": "~0.5.2",
            "_view_name": "FigureView",
            "ambient_coefficient": 0.5,
            "animation": 1000,
            "animation_exponent": 1,
            "camera": "IPY_MODEL_07fd22438b794f0ba92a89c50da1a8ea",
            "camera_center": [
              0,
              0,
              0
            ],
            "camera_control": "trackball",
            "camera_fov": 45,
            "capture_fps": null,
            "cube_resolution": 512,
            "diffuse_coefficient": 0.8,
            "displayscale": 1,
            "downscale": 1,
            "eye_separation": 6.4,
            "height": 500,
            "layout": "IPY_MODEL_9280958df056485ca8fdb96c0c044396",
            "matrix_projection": [
              2.9448154572796907,
              0,
              0,
              0,
              0,
              2.3558523658237527,
              0,
              0,
              0,
              0,
              -1.00010000500025,
              -1,
              0,
              0,
              -0.200010000500025,
              0
            ],
            "matrix_world": [
              -0.14575034328842176,
              0.014781758320343218,
              -0.0794739883864144,
              0,
              0.0068490235893721866,
              0.16552544792512358,
              0.01822621032571522,
              0,
              0.0009640835641387041,
              0.0001516863782931142,
              -0.0017398562958136543,
              0,
              0.22230998083838593,
              -0.5715070571993051,
              -0.9692279128798335,
              1.0000000000000002
            ],
            "meshes": [],
            "mouse_mode": "normal",
            "panorama_mode": "no",
            "render_continuous": false,
            "scatters": [
              "IPY_MODEL_36adadedbc564eaa9578d873fca988eb",
              "IPY_MODEL_3fb759b6fa644fd9bca891ce37938ee1",
              "IPY_MODEL_250a554d5550466d98bec626d09bfce9",
              "IPY_MODEL_5fda640ddbe8403ab5cd05ee732e302d",
              "IPY_MODEL_1961a612a23b42bdbcda341930fb00e8",
              "IPY_MODEL_d9223338a1ba438b98f961a2481887e0",
              "IPY_MODEL_ef38206fc6cc4e4c827128472056bb5e",
              "IPY_MODEL_f55dcf20445b4d2f9c8518f64409dd36",
              "IPY_MODEL_2280e648db8d468eb311273e3d605c8b"
            ],
            "scene": "IPY_MODEL_14fbd12e21844efa96f3734b829fbe99",
            "selection_mode": "replace",
            "selector": "lasso",
            "show": "Volume",
            "specular_coefficient": 0.5,
            "specular_exponent": 5,
            "stereo": false,
            "style": {
              "axes": {
                "color": "black",
                "label": {
                  "color": "black"
                },
                "ticklabel": {
                  "color": "black"
                },
                "visible": true
              },
              "background-color": "white",
              "box": {
                "visible": true
              }
            },
            "volumes": [],
            "width": 400,
            "xlabel": "x",
            "xlim": [
              0,
              6
            ],
            "ylabel": "y",
            "ylim": [
              0,
              6
            ],
            "zlabel": "z",
            "zlim": [
              -49.005000000000244,
              452.2770512820504
            ]
          }
        },
        "8c42704817ba4def92e9e3c3ac93e143": {
          "model_module": "jupyter-threejs",
          "model_module_version": "^2.1.0",
          "model_name": "ShaderMaterialModel",
          "state": {
            "_model_module": "jupyter-threejs",
            "_model_module_version": "^2.1.0",
            "_model_name": "ShaderMaterialModel",
            "_view_count": null,
            "_view_module": null,
            "_view_module_version": "",
            "_view_name": null,
            "alphaTest": 0,
            "blendDst": "OneMinusSrcAlphaFactor",
            "blendDstAlpha": 0,
            "blendEquation": "AddEquation",
            "blendEquationAlpha": 0,
            "blendSrc": "SrcAlphaFactor",
            "blendSrcAlpha": 0,
            "blending": "NormalBlending",
            "clipIntersection": false,
            "clipShadows": false,
            "clipping": false,
            "clippingPlanes": [],
            "colorWrite": true,
            "defines": null,
            "depthFunc": "LessEqualDepth",
            "depthTest": true,
            "depthWrite": true,
            "dithering": false,
            "extensions": {},
            "flatShading": false,
            "fog": false,
            "fragmentShader": "",
            "lights": false,
            "linewidth": 1,
            "morphNormals": false,
            "morphTargets": false,
            "name": "",
            "opacity": 1,
            "overdraw": 0,
            "polygonOffset": false,
            "polygonOffsetFactor": 0,
            "polygonOffsetUnits": 0,
            "precision": null,
            "premultipliedAlpha": false,
            "shadowSide": null,
            "side": "FrontSide",
            "skinning": false,
            "transparent": false,
            "type": "ShaderMaterial",
            "uniforms": {},
            "uniformsNeedUpdate": false,
            "vertexColors": "NoColors",
            "vertexShader": "",
            "visible": true,
            "wireframe": false,
            "wireframeLinewidth": 1
          }
        },
        "8c8195775cac49189e7fe18ce0ac5410": {
          "model_module": "jupyter-threejs",
          "model_module_version": "^2.1.0",
          "model_name": "ShaderMaterialModel",
          "state": {
            "_model_module": "jupyter-threejs",
            "_model_module_version": "^2.1.0",
            "_model_name": "ShaderMaterialModel",
            "_view_count": null,
            "_view_module": null,
            "_view_module_version": "",
            "_view_name": null,
            "alphaTest": 0,
            "blendDst": "OneMinusSrcAlphaFactor",
            "blendDstAlpha": 0,
            "blendEquation": "AddEquation",
            "blendEquationAlpha": 0,
            "blendSrc": "SrcAlphaFactor",
            "blendSrcAlpha": 0,
            "blending": "NormalBlending",
            "clipIntersection": false,
            "clipShadows": false,
            "clipping": false,
            "clippingPlanes": [],
            "colorWrite": true,
            "defines": null,
            "depthFunc": "LessEqualDepth",
            "depthTest": true,
            "depthWrite": true,
            "dithering": false,
            "extensions": {},
            "flatShading": false,
            "fog": false,
            "fragmentShader": "",
            "lights": false,
            "linewidth": 1,
            "morphNormals": false,
            "morphTargets": false,
            "name": "",
            "opacity": 1,
            "overdraw": 0,
            "polygonOffset": false,
            "polygonOffsetFactor": 0,
            "polygonOffsetUnits": 0,
            "precision": null,
            "premultipliedAlpha": false,
            "shadowSide": null,
            "side": "FrontSide",
            "skinning": false,
            "transparent": false,
            "type": "ShaderMaterial",
            "uniforms": {},
            "uniformsNeedUpdate": false,
            "vertexColors": "NoColors",
            "vertexShader": "",
            "visible": true,
            "wireframe": false,
            "wireframeLinewidth": 1
          }
        },
        "9280958df056485ca8fdb96c0c044396": {
          "model_module": "@jupyter-widgets/base",
          "model_module_version": "1.2.0",
          "model_name": "LayoutModel",
          "state": {
            "_model_module": "@jupyter-widgets/base",
            "_model_module_version": "1.2.0",
            "_model_name": "LayoutModel",
            "_view_count": null,
            "_view_module": "@jupyter-widgets/base",
            "_view_module_version": "1.2.0",
            "_view_name": "LayoutView",
            "align_content": null,
            "align_items": null,
            "align_self": null,
            "border": null,
            "bottom": null,
            "display": null,
            "flex": null,
            "flex_flow": null,
            "grid_area": null,
            "grid_auto_columns": null,
            "grid_auto_flow": null,
            "grid_auto_rows": null,
            "grid_column": null,
            "grid_gap": null,
            "grid_row": null,
            "grid_template_areas": null,
            "grid_template_columns": null,
            "grid_template_rows": null,
            "height": null,
            "justify_content": null,
            "justify_items": null,
            "left": null,
            "margin": null,
            "max_height": null,
            "max_width": null,
            "min_height": null,
            "min_width": null,
            "object_fit": null,
            "object_position": null,
            "order": null,
            "overflow": null,
            "overflow_x": null,
            "overflow_y": null,
            "padding": null,
            "right": null,
            "top": null,
            "visibility": null,
            "width": null
          }
        },
        "950850bd83d74efb8a02d91b49051278": {
          "model_module": "jupyter-threejs",
          "model_module_version": "^2.1.0",
          "model_name": "ShaderMaterialModel",
          "state": {
            "_model_module": "jupyter-threejs",
            "_model_module_version": "^2.1.0",
            "_model_name": "ShaderMaterialModel",
            "_view_count": null,
            "_view_module": null,
            "_view_module_version": "",
            "_view_name": null,
            "alphaTest": 0,
            "blendDst": "OneMinusSrcAlphaFactor",
            "blendDstAlpha": 0,
            "blendEquation": "AddEquation",
            "blendEquationAlpha": 0,
            "blendSrc": "SrcAlphaFactor",
            "blendSrcAlpha": 0,
            "blending": "NormalBlending",
            "clipIntersection": false,
            "clipShadows": false,
            "clipping": false,
            "clippingPlanes": [],
            "colorWrite": true,
            "defines": null,
            "depthFunc": "LessEqualDepth",
            "depthTest": true,
            "depthWrite": true,
            "dithering": false,
            "extensions": {},
            "flatShading": false,
            "fog": false,
            "fragmentShader": "",
            "lights": false,
            "linewidth": 1,
            "morphNormals": false,
            "morphTargets": false,
            "name": "",
            "opacity": 1,
            "overdraw": 0,
            "polygonOffset": false,
            "polygonOffsetFactor": 0,
            "polygonOffsetUnits": 0,
            "precision": null,
            "premultipliedAlpha": false,
            "shadowSide": null,
            "side": "FrontSide",
            "skinning": false,
            "transparent": false,
            "type": "ShaderMaterial",
            "uniforms": {},
            "uniformsNeedUpdate": false,
            "vertexColors": "NoColors",
            "vertexShader": "",
            "visible": true,
            "wireframe": false,
            "wireframeLinewidth": 1
          }
        },
        "a87d57e9d2454cf8b94cf42c38e2da5b": {
          "model_module": "jupyter-threejs",
          "model_module_version": "^2.1.0",
          "model_name": "ShaderMaterialModel",
          "state": {
            "_model_module": "jupyter-threejs",
            "_model_module_version": "^2.1.0",
            "_model_name": "ShaderMaterialModel",
            "_view_count": null,
            "_view_module": null,
            "_view_module_version": "",
            "_view_name": null,
            "alphaTest": 0,
            "blendDst": "OneMinusSrcAlphaFactor",
            "blendDstAlpha": 0,
            "blendEquation": "AddEquation",
            "blendEquationAlpha": 0,
            "blendSrc": "SrcAlphaFactor",
            "blendSrcAlpha": 0,
            "blending": "NormalBlending",
            "clipIntersection": false,
            "clipShadows": false,
            "clipping": false,
            "clippingPlanes": [],
            "colorWrite": true,
            "defines": null,
            "depthFunc": "LessEqualDepth",
            "depthTest": true,
            "depthWrite": true,
            "dithering": false,
            "extensions": {},
            "flatShading": false,
            "fog": false,
            "fragmentShader": "",
            "lights": false,
            "linewidth": 1,
            "morphNormals": false,
            "morphTargets": false,
            "name": "",
            "opacity": 1,
            "overdraw": 0,
            "polygonOffset": false,
            "polygonOffsetFactor": 0,
            "polygonOffsetUnits": 0,
            "precision": null,
            "premultipliedAlpha": false,
            "shadowSide": null,
            "side": "FrontSide",
            "skinning": false,
            "transparent": false,
            "type": "ShaderMaterial",
            "uniforms": {},
            "uniformsNeedUpdate": false,
            "vertexColors": "NoColors",
            "vertexShader": "",
            "visible": true,
            "wireframe": false,
            "wireframeLinewidth": 1
          }
        },
        "ab412e94314f47629d07985b0c57348f": {
          "model_module": "jupyter-threejs",
          "model_module_version": "^2.1.0",
          "model_name": "ShaderMaterialModel",
          "state": {
            "_model_module": "jupyter-threejs",
            "_model_module_version": "^2.1.0",
            "_model_name": "ShaderMaterialModel",
            "_view_count": null,
            "_view_module": null,
            "_view_module_version": "",
            "_view_name": null,
            "alphaTest": 0,
            "blendDst": "OneMinusSrcAlphaFactor",
            "blendDstAlpha": 0,
            "blendEquation": "AddEquation",
            "blendEquationAlpha": 0,
            "blendSrc": "SrcAlphaFactor",
            "blendSrcAlpha": 0,
            "blending": "NormalBlending",
            "clipIntersection": false,
            "clipShadows": false,
            "clipping": false,
            "clippingPlanes": [],
            "colorWrite": true,
            "defines": null,
            "depthFunc": "LessEqualDepth",
            "depthTest": true,
            "depthWrite": true,
            "dithering": false,
            "extensions": {},
            "flatShading": false,
            "fog": false,
            "fragmentShader": "",
            "lights": false,
            "linewidth": 1,
            "morphNormals": false,
            "morphTargets": false,
            "name": "",
            "opacity": 1,
            "overdraw": 0,
            "polygonOffset": false,
            "polygonOffsetFactor": 0,
            "polygonOffsetUnits": 0,
            "precision": null,
            "premultipliedAlpha": false,
            "shadowSide": null,
            "side": "FrontSide",
            "skinning": false,
            "transparent": false,
            "type": "ShaderMaterial",
            "uniforms": {},
            "uniformsNeedUpdate": false,
            "vertexColors": "NoColors",
            "vertexShader": "",
            "visible": false,
            "wireframe": false,
            "wireframeLinewidth": 1
          }
        },
        "af9eca74d77c478baae5a571253cdc5b": {
          "model_module": "jupyter-threejs",
          "model_module_version": "^2.1.0",
          "model_name": "ShaderMaterialModel",
          "state": {
            "_model_module": "jupyter-threejs",
            "_model_module_version": "^2.1.0",
            "_model_name": "ShaderMaterialModel",
            "_view_count": null,
            "_view_module": null,
            "_view_module_version": "",
            "_view_name": null,
            "alphaTest": 0,
            "blendDst": "OneMinusSrcAlphaFactor",
            "blendDstAlpha": 0,
            "blendEquation": "AddEquation",
            "blendEquationAlpha": 0,
            "blendSrc": "SrcAlphaFactor",
            "blendSrcAlpha": 0,
            "blending": "NormalBlending",
            "clipIntersection": false,
            "clipShadows": false,
            "clipping": false,
            "clippingPlanes": [],
            "colorWrite": true,
            "defines": null,
            "depthFunc": "LessEqualDepth",
            "depthTest": true,
            "depthWrite": true,
            "dithering": false,
            "extensions": {},
            "flatShading": false,
            "fog": false,
            "fragmentShader": "",
            "lights": false,
            "linewidth": 1,
            "morphNormals": false,
            "morphTargets": false,
            "name": "",
            "opacity": 1,
            "overdraw": 0,
            "polygonOffset": false,
            "polygonOffsetFactor": 0,
            "polygonOffsetUnits": 0,
            "precision": null,
            "premultipliedAlpha": false,
            "shadowSide": null,
            "side": "FrontSide",
            "skinning": false,
            "transparent": false,
            "type": "ShaderMaterial",
            "uniforms": {},
            "uniformsNeedUpdate": false,
            "vertexColors": "NoColors",
            "vertexShader": "",
            "visible": true,
            "wireframe": false,
            "wireframeLinewidth": 1
          }
        },
        "d862934aee534387bb1c59438fd62584": {
          "model_module": "jupyter-threejs",
          "model_module_version": "^2.1.0",
          "model_name": "ShaderMaterialModel",
          "state": {
            "_model_module": "jupyter-threejs",
            "_model_module_version": "^2.1.0",
            "_model_name": "ShaderMaterialModel",
            "_view_count": null,
            "_view_module": null,
            "_view_module_version": "",
            "_view_name": null,
            "alphaTest": 0,
            "blendDst": "OneMinusSrcAlphaFactor",
            "blendDstAlpha": 0,
            "blendEquation": "AddEquation",
            "blendEquationAlpha": 0,
            "blendSrc": "SrcAlphaFactor",
            "blendSrcAlpha": 0,
            "blending": "NormalBlending",
            "clipIntersection": false,
            "clipShadows": false,
            "clipping": false,
            "clippingPlanes": [],
            "colorWrite": true,
            "defines": null,
            "depthFunc": "LessEqualDepth",
            "depthTest": true,
            "depthWrite": true,
            "dithering": false,
            "extensions": {},
            "flatShading": false,
            "fog": false,
            "fragmentShader": "",
            "lights": false,
            "linewidth": 1,
            "morphNormals": false,
            "morphTargets": false,
            "name": "",
            "opacity": 1,
            "overdraw": 0,
            "polygonOffset": false,
            "polygonOffsetFactor": 0,
            "polygonOffsetUnits": 0,
            "precision": null,
            "premultipliedAlpha": false,
            "shadowSide": null,
            "side": "FrontSide",
            "skinning": false,
            "transparent": false,
            "type": "ShaderMaterial",
            "uniforms": {},
            "uniformsNeedUpdate": false,
            "vertexColors": "NoColors",
            "vertexShader": "",
            "visible": true,
            "wireframe": false,
            "wireframeLinewidth": 1
          }
        },
        "d9223338a1ba438b98f961a2481887e0": {
          "model_module": "ipyvolume",
          "model_module_version": "~0.5.2",
          "model_name": "ScatterModel",
          "state": {
            "_model_module": "ipyvolume",
            "_model_module_version": "~0.5.2",
            "_model_name": "ScatterModel",
            "_view_count": null,
            "_view_module": "ipyvolume",
            "_view_module_version": "~0.5.2",
            "_view_name": "ScatterView",
            "color": "green",
            "color_selected": "white",
            "connected": false,
            "geo": "sphere",
            "line_material": "IPY_MODEL_8c42704817ba4def92e9e3c3ac93e143",
            "material": "IPY_MODEL_0e88687658be4095a17d5e0b8fa58e1b",
            "selected": null,
            "sequence_index": 0,
            "size": 3,
            "size_selected": 2.6,
            "texture": null,
            "visible": true,
            "vx": null,
            "vy": null,
            "vz": null,
            "x": 6,
            "y": 6,
            "z": [
              {
                "dtype": "int32",
                "shape": [
                  1
                ]
              }
            ]
          }
        },
        "e1ce68e45a5b4b30bd60e025df1d372e": {
          "model_module": "jupyter-threejs",
          "model_module_version": "^2.1.0",
          "model_name": "ShaderMaterialModel",
          "state": {
            "_model_module": "jupyter-threejs",
            "_model_module_version": "^2.1.0",
            "_model_name": "ShaderMaterialModel",
            "_view_count": null,
            "_view_module": null,
            "_view_module_version": "",
            "_view_name": null,
            "alphaTest": 0,
            "blendDst": "OneMinusSrcAlphaFactor",
            "blendDstAlpha": 0,
            "blendEquation": "AddEquation",
            "blendEquationAlpha": 0,
            "blendSrc": "SrcAlphaFactor",
            "blendSrcAlpha": 0,
            "blending": "NormalBlending",
            "clipIntersection": false,
            "clipShadows": false,
            "clipping": false,
            "clippingPlanes": [],
            "colorWrite": true,
            "defines": null,
            "depthFunc": "LessEqualDepth",
            "depthTest": true,
            "depthWrite": true,
            "dithering": false,
            "extensions": {},
            "flatShading": false,
            "fog": false,
            "fragmentShader": "",
            "lights": false,
            "linewidth": 1,
            "morphNormals": false,
            "morphTargets": false,
            "name": "",
            "opacity": 1,
            "overdraw": 0,
            "polygonOffset": false,
            "polygonOffsetFactor": 0,
            "polygonOffsetUnits": 0,
            "precision": null,
            "premultipliedAlpha": false,
            "shadowSide": null,
            "side": "FrontSide",
            "skinning": false,
            "transparent": false,
            "type": "ShaderMaterial",
            "uniforms": {},
            "uniformsNeedUpdate": false,
            "vertexColors": "NoColors",
            "vertexShader": "",
            "visible": true,
            "wireframe": false,
            "wireframeLinewidth": 1
          }
        },
        "e226c40a40544f01b017bfae2a8d9cb3": {
          "model_module": "jupyter-threejs",
          "model_module_version": "^2.1.0",
          "model_name": "ShaderMaterialModel",
          "state": {
            "_model_module": "jupyter-threejs",
            "_model_module_version": "^2.1.0",
            "_model_name": "ShaderMaterialModel",
            "_view_count": null,
            "_view_module": null,
            "_view_module_version": "",
            "_view_name": null,
            "alphaTest": 0,
            "blendDst": "OneMinusSrcAlphaFactor",
            "blendDstAlpha": 0,
            "blendEquation": "AddEquation",
            "blendEquationAlpha": 0,
            "blendSrc": "SrcAlphaFactor",
            "blendSrcAlpha": 0,
            "blending": "NormalBlending",
            "clipIntersection": false,
            "clipShadows": false,
            "clipping": false,
            "clippingPlanes": [],
            "colorWrite": true,
            "defines": null,
            "depthFunc": "LessEqualDepth",
            "depthTest": true,
            "depthWrite": true,
            "dithering": false,
            "extensions": {},
            "flatShading": false,
            "fog": false,
            "fragmentShader": "",
            "lights": false,
            "linewidth": 1,
            "morphNormals": false,
            "morphTargets": false,
            "name": "",
            "opacity": 1,
            "overdraw": 0,
            "polygonOffset": false,
            "polygonOffsetFactor": 0,
            "polygonOffsetUnits": 0,
            "precision": null,
            "premultipliedAlpha": false,
            "shadowSide": null,
            "side": "FrontSide",
            "skinning": false,
            "transparent": false,
            "type": "ShaderMaterial",
            "uniforms": {},
            "uniformsNeedUpdate": false,
            "vertexColors": "NoColors",
            "vertexShader": "",
            "visible": true,
            "wireframe": false,
            "wireframeLinewidth": 1
          }
        },
        "ed382dfb7fb7401186a42b05ae6dd973": {
          "model_module": "@jupyter-widgets/controls",
          "model_module_version": "1.5.0",
          "model_name": "VBoxModel",
          "state": {
            "_dom_classes": [],
            "_model_module": "@jupyter-widgets/controls",
            "_model_module_version": "1.5.0",
            "_model_name": "VBoxModel",
            "_view_count": null,
            "_view_module": "@jupyter-widgets/controls",
            "_view_module_version": "1.5.0",
            "_view_name": "VBoxView",
            "box_style": "",
            "children": [
              "IPY_MODEL_8b4bc1f9c0894b449530e75f37e16476"
            ],
            "layout": "IPY_MODEL_06f1ac9d75be48b9b627ec3efc887427"
          }
        },
        "ef38206fc6cc4e4c827128472056bb5e": {
          "model_module": "ipyvolume",
          "model_module_version": "~0.5.2",
          "model_name": "ScatterModel",
          "state": {
            "_model_module": "ipyvolume",
            "_model_module_version": "~0.5.2",
            "_model_name": "ScatterModel",
            "_view_count": null,
            "_view_module": "ipyvolume",
            "_view_module_version": "~0.5.2",
            "_view_name": "ScatterView",
            "color": "red",
            "color_selected": "white",
            "connected": false,
            "geo": "sphere",
            "line_material": "IPY_MODEL_950850bd83d74efb8a02d91b49051278",
            "material": "IPY_MODEL_d862934aee534387bb1c59438fd62584",
            "selected": null,
            "sequence_index": 0,
            "size": 3,
            "size_selected": 2.6,
            "texture": null,
            "visible": true,
            "vx": null,
            "vy": null,
            "vz": null,
            "x": [
              {
                "dtype": "float32",
                "shape": [
                  5
                ]
              }
            ],
            "y": [
              {
                "dtype": "float32",
                "shape": [
                  5
                ]
              }
            ],
            "z": [
              {
                "dtype": "float32",
                "shape": [
                  5
                ]
              }
            ]
          }
        },
        "f55dcf20445b4d2f9c8518f64409dd36": {
          "model_module": "ipyvolume",
          "model_module_version": "~0.5.2",
          "model_name": "ScatterModel",
          "state": {
            "_model_module": "ipyvolume",
            "_model_module_version": "~0.5.2",
            "_model_name": "ScatterModel",
            "_view_count": null,
            "_view_module": "ipyvolume",
            "_view_module_version": "~0.5.2",
            "_view_name": "ScatterView",
            "color": "blue",
            "color_selected": "white",
            "connected": false,
            "geo": "sphere",
            "line_material": "IPY_MODEL_8948a05a2537476f8c630382abb724ad",
            "material": "IPY_MODEL_a87d57e9d2454cf8b94cf42c38e2da5b",
            "selected": null,
            "sequence_index": 0,
            "size": 5,
            "size_selected": 2.6,
            "texture": null,
            "visible": true,
            "vx": null,
            "vy": null,
            "vz": null,
            "x": [
              {
                "dtype": "float32",
                "shape": [
                  1
                ]
              }
            ],
            "y": [
              {
                "dtype": "float32",
                "shape": [
                  1
                ]
              }
            ],
            "z": [
              {
                "dtype": "float32",
                "shape": [
                  1
                ]
              }
            ]
          }
        },
        "f4dfffb6646041428046badadd94c0b9": {
          "model_module": "@jupyter-widgets/controls",
          "model_name": "VBoxModel",
          "model_module_version": "1.5.0",
          "state": {
            "_dom_classes": [],
            "_model_module": "@jupyter-widgets/controls",
            "_model_module_version": "1.5.0",
            "_model_name": "VBoxModel",
            "_view_count": null,
            "_view_module": "@jupyter-widgets/controls",
            "_view_module_version": "1.5.0",
            "_view_name": "VBoxView",
            "box_style": "",
            "children": [
              "IPY_MODEL_83fe2bd6c5f3481e89691158dea5500d"
            ],
            "layout": "IPY_MODEL_1d21b3f8e803468b826578f610a2b480"
          }
        },
        "83fe2bd6c5f3481e89691158dea5500d": {
          "model_module": "ipyvolume",
          "model_name": "FigureModel",
          "model_module_version": "~0.5.2",
          "state": {
            "_dom_classes": [],
            "_model_module": "ipyvolume",
            "_model_module_version": "~0.5.2",
            "_model_name": "FigureModel",
            "_view_count": null,
            "_view_module": "ipyvolume",
            "_view_module_version": "~0.5.2",
            "_view_name": "FigureView",
            "ambient_coefficient": 0.5,
            "animation": 1000,
            "animation_exponent": 1,
            "camera": "IPY_MODEL_10eb95d189ee4f46af21ad55f3b25e77",
            "camera_center": [
              0,
              0,
              0
            ],
            "camera_control": "trackball",
            "camera_fov": 45,
            "capture_fps": null,
            "cube_resolution": 512,
            "diffuse_coefficient": 0.8,
            "displayscale": 1,
            "downscale": 1,
            "eye_separation": 6.4,
            "height": 500,
            "layout": "IPY_MODEL_48f93e91381241f296679ba7ac68d25a",
            "matrix_projection": [
              2.9448154572796907,
              0,
              0,
              0,
              0,
              2.3558523658237527,
              0,
              0,
              0,
              0,
              -1.00010000500025,
              -1,
              0,
              0,
              -0.200010000500025,
              0
            ],
            "matrix_world": [
              0.16666666666666666,
              0,
              0,
              0,
              0,
              0.16666666666666666,
              1.020538999289461e-17,
              0,
              0,
              -6.803593328596406e-18,
              0.1111111111111111,
              0,
              -0.5,
              -0.49999999999999994,
              -2.5,
              1
            ],
            "meshes": [],
            "mouse_mode": "normal",
            "panorama_mode": "no",
            "render_continuous": false,
            "scatters": [
              "IPY_MODEL_c179ca7d022b46d084908daf0d069b95",
              "IPY_MODEL_f1829c06c7a44dee98e27595c0195a5d",
              "IPY_MODEL_37f7c13877b847ad8d644f6531ecd9b1",
              "IPY_MODEL_991f2f8b15bb4d3ca835a4de9620409c",
              "IPY_MODEL_cd09d476aa5b4e71b66172f89ad6db1b"
            ],
            "scene": "IPY_MODEL_39d2c4314d984616ac3e0725b49975d9",
            "selection_mode": "replace",
            "selector": "lasso",
            "show": "Volume",
            "specular_coefficient": 0.5,
            "specular_exponent": 5,
            "stereo": false,
            "style": {
              "axes": {
                "visible": true,
                "label": {
                  "color": "black"
                },
                "ticklabel": {
                  "color": "black"
                },
                "color": "black"
              },
              "box": {
                "visible": true
              },
              "background-color": "white"
            },
            "volumes": [],
            "width": 400,
            "xlabel": "x",
            "xlim": [
              0,
              6
            ],
            "ylabel": "y",
            "ylim": [
              0,
              6
            ],
            "zlabel": "z",
            "zlim": [
              0,
              9
            ]
          }
        },
        "1d21b3f8e803468b826578f610a2b480": {
          "model_module": "@jupyter-widgets/base",
          "model_name": "LayoutModel",
          "model_module_version": "1.2.0",
          "state": {
            "_model_module": "@jupyter-widgets/base",
            "_model_module_version": "1.2.0",
            "_model_name": "LayoutModel",
            "_view_count": null,
            "_view_module": "@jupyter-widgets/base",
            "_view_module_version": "1.2.0",
            "_view_name": "LayoutView",
            "align_content": null,
            "align_items": null,
            "align_self": null,
            "border": null,
            "bottom": null,
            "display": null,
            "flex": null,
            "flex_flow": null,
            "grid_area": null,
            "grid_auto_columns": null,
            "grid_auto_flow": null,
            "grid_auto_rows": null,
            "grid_column": null,
            "grid_gap": null,
            "grid_row": null,
            "grid_template_areas": null,
            "grid_template_columns": null,
            "grid_template_rows": null,
            "height": null,
            "justify_content": null,
            "justify_items": null,
            "left": null,
            "margin": null,
            "max_height": null,
            "max_width": null,
            "min_height": null,
            "min_width": null,
            "object_fit": null,
            "object_position": null,
            "order": null,
            "overflow": null,
            "overflow_x": null,
            "overflow_y": null,
            "padding": null,
            "right": null,
            "top": null,
            "visibility": null,
            "width": null
          }
        },
        "10eb95d189ee4f46af21ad55f3b25e77": {
          "model_module": "jupyter-threejs",
          "model_name": "PerspectiveCameraModel",
          "model_module_version": "^2.1.0",
          "state": {
            "_model_module": "jupyter-threejs",
            "_model_module_version": "^2.1.0",
            "_model_name": "PerspectiveCameraModel",
            "_view_count": null,
            "_view_module": null,
            "_view_module_version": "",
            "_view_name": null,
            "aspect": 0.8,
            "castShadow": false,
            "children": [],
            "far": 2000,
            "focus": 10,
            "fov": 46,
            "frustumCulled": true,
            "matrix": [
              1,
              0,
              0,
              0,
              0,
              1,
              -6.123233995736766e-17,
              0,
              0,
              6.123233995736766e-17,
              1,
              0,
              0,
              1.2246467991473532e-16,
              2,
              1
            ],
            "matrixAutoUpdate": true,
            "matrixWorld": [
              1,
              0,
              0,
              0,
              0,
              1,
              -6.123233995736766e-17,
              0,
              0,
              6.123233995736766e-17,
              1,
              0,
              0,
              1.2246467991473532e-16,
              2,
              1
            ],
            "matrixWorldInverse": [
              1,
              0,
              0,
              0,
              0,
              1,
              6.123233995736766e-17,
              0,
              0,
              -6.123233995736766e-17,
              1,
              0,
              0,
              0,
              -2,
              1
            ],
            "matrixWorldNeedsUpdate": true,
            "modelViewMatrix": [
              1,
              0,
              0,
              0,
              0,
              1,
              0,
              0,
              0,
              0,
              1,
              0,
              0,
              0,
              0,
              1
            ],
            "name": "",
            "near": 0.1,
            "normalMatrix": [
              1,
              0,
              0,
              0,
              1,
              0,
              0,
              0,
              1
            ],
            "position": [
              0,
              1.2246467991473532e-16,
              2
            ],
            "projectionMatrix": [
              2.9448154572796907,
              0,
              0,
              0,
              0,
              2.3558523658237527,
              0,
              0,
              0,
              0,
              -1.00010000500025,
              -1,
              0,
              0,
              -0.200010000500025,
              0
            ],
            "quaternion": [
              -3.061616997868383e-17,
              0,
              0,
              1
            ],
            "receiveShadow": false,
            "renderOrder": 0,
            "rotation": [
              -6.123233995736766e-17,
              0,
              0,
              "XYZ"
            ],
            "scale": [
              1,
              1,
              1
            ],
            "type": "PerspectiveCamera",
            "up": [
              0,
              1,
              -6.123233995736766e-17
            ],
            "visible": true,
            "zoom": 1
          }
        },
        "48f93e91381241f296679ba7ac68d25a": {
          "model_module": "@jupyter-widgets/base",
          "model_name": "LayoutModel",
          "model_module_version": "1.2.0",
          "state": {
            "_model_module": "@jupyter-widgets/base",
            "_model_module_version": "1.2.0",
            "_model_name": "LayoutModel",
            "_view_count": null,
            "_view_module": "@jupyter-widgets/base",
            "_view_module_version": "1.2.0",
            "_view_name": "LayoutView",
            "align_content": null,
            "align_items": null,
            "align_self": null,
            "border": null,
            "bottom": null,
            "display": null,
            "flex": null,
            "flex_flow": null,
            "grid_area": null,
            "grid_auto_columns": null,
            "grid_auto_flow": null,
            "grid_auto_rows": null,
            "grid_column": null,
            "grid_gap": null,
            "grid_row": null,
            "grid_template_areas": null,
            "grid_template_columns": null,
            "grid_template_rows": null,
            "height": null,
            "justify_content": null,
            "justify_items": null,
            "left": null,
            "margin": null,
            "max_height": null,
            "max_width": null,
            "min_height": null,
            "min_width": null,
            "object_fit": null,
            "object_position": null,
            "order": null,
            "overflow": null,
            "overflow_x": null,
            "overflow_y": null,
            "padding": null,
            "right": null,
            "top": null,
            "visibility": null,
            "width": null
          }
        },
        "c179ca7d022b46d084908daf0d069b95": {
          "model_module": "ipyvolume",
          "model_name": "ScatterModel",
          "model_module_version": "~0.5.2",
          "state": {
            "_model_module": "ipyvolume",
            "_model_module_version": "~0.5.2",
            "_model_name": "ScatterModel",
            "_view_count": null,
            "_view_module": "ipyvolume",
            "_view_module_version": "~0.5.2",
            "_view_name": "ScatterView",
            "color": "green",
            "color_selected": "white",
            "connected": false,
            "geo": "sphere",
            "line_material": "IPY_MODEL_b9c22f9730104e6aa94a628ab7d09352",
            "material": "IPY_MODEL_b745ac187d924c8595304becfb2da708",
            "selected": null,
            "sequence_index": 0,
            "size": 5,
            "size_selected": 2.6,
            "texture": null,
            "visible": true,
            "vx": null,
            "vy": null,
            "vz": null,
            "x": [
              {
                "dtype": "float32",
                "shape": [
                  9
                ]
              }
            ],
            "y": [
              {
                "dtype": "float32",
                "shape": [
                  9
                ]
              }
            ],
            "z": [
              {
                "dtype": "float32",
                "shape": [
                  9
                ]
              }
            ]
          }
        },
        "f1829c06c7a44dee98e27595c0195a5d": {
          "model_module": "ipyvolume",
          "model_name": "ScatterModel",
          "model_module_version": "~0.5.2",
          "state": {
            "_model_module": "ipyvolume",
            "_model_module_version": "~0.5.2",
            "_model_name": "ScatterModel",
            "_view_count": null,
            "_view_module": "ipyvolume",
            "_view_module_version": "~0.5.2",
            "_view_name": "ScatterView",
            "color": "black",
            "color_selected": null,
            "connected": true,
            "geo": "diamond",
            "line_material": "IPY_MODEL_79d5277a51894cf38699117233465bc9",
            "material": "IPY_MODEL_bb558c8cf22043909fb3639fd2b38ec9",
            "selected": null,
            "sequence_index": 0,
            "size": 1,
            "size_selected": 1,
            "texture": null,
            "visible": true,
            "vx": null,
            "vy": null,
            "vz": null,
            "x": [
              {
                "dtype": "int32",
                "shape": [
                  2
                ]
              }
            ],
            "y": [
              {
                "dtype": "int32",
                "shape": [
                  2
                ]
              }
            ],
            "z": [
              {
                "dtype": "int32",
                "shape": [
                  2
                ]
              }
            ]
          }
        },
        "37f7c13877b847ad8d644f6531ecd9b1": {
          "model_module": "ipyvolume",
          "model_name": "ScatterModel",
          "model_module_version": "~0.5.2",
          "state": {
            "_model_module": "ipyvolume",
            "_model_module_version": "~0.5.2",
            "_model_name": "ScatterModel",
            "_view_count": null,
            "_view_module": "ipyvolume",
            "_view_module_version": "~0.5.2",
            "_view_name": "ScatterView",
            "color": "black",
            "color_selected": null,
            "connected": true,
            "geo": "diamond",
            "line_material": "IPY_MODEL_228ba23952504e66a645d4925a5867f4",
            "material": "IPY_MODEL_380110984fa64ae9b49c1b2855f966d0",
            "selected": null,
            "sequence_index": 0,
            "size": 1,
            "size_selected": 1,
            "texture": null,
            "visible": true,
            "vx": null,
            "vy": null,
            "vz": null,
            "x": [
              {
                "dtype": "int32",
                "shape": [
                  2
                ]
              }
            ],
            "y": [
              {
                "dtype": "int32",
                "shape": [
                  2
                ]
              }
            ],
            "z": [
              {
                "dtype": "int32",
                "shape": [
                  2
                ]
              }
            ]
          }
        },
        "991f2f8b15bb4d3ca835a4de9620409c": {
          "model_module": "ipyvolume",
          "model_name": "ScatterModel",
          "model_module_version": "~0.5.2",
          "state": {
            "_model_module": "ipyvolume",
            "_model_module_version": "~0.5.2",
            "_model_name": "ScatterModel",
            "_view_count": null,
            "_view_module": "ipyvolume",
            "_view_module_version": "~0.5.2",
            "_view_name": "ScatterView",
            "color": "black",
            "color_selected": null,
            "connected": true,
            "geo": "diamond",
            "line_material": "IPY_MODEL_e2166babb1144005803a4aaf9cff4f92",
            "material": "IPY_MODEL_02db35873aa943d58fe188df561f760e",
            "selected": null,
            "sequence_index": 0,
            "size": 1,
            "size_selected": 1,
            "texture": null,
            "visible": true,
            "vx": null,
            "vy": null,
            "vz": null,
            "x": [
              {
                "dtype": "int32",
                "shape": [
                  2
                ]
              }
            ],
            "y": [
              {
                "dtype": "int32",
                "shape": [
                  2
                ]
              }
            ],
            "z": [
              {
                "dtype": "int32",
                "shape": [
                  2
                ]
              }
            ]
          }
        },
        "cd09d476aa5b4e71b66172f89ad6db1b": {
          "model_module": "ipyvolume",
          "model_name": "ScatterModel",
          "model_module_version": "~0.5.2",
          "state": {
            "_model_module": "ipyvolume",
            "_model_module_version": "~0.5.2",
            "_model_name": "ScatterModel",
            "_view_count": null,
            "_view_module": "ipyvolume",
            "_view_module_version": "~0.5.2",
            "_view_name": "ScatterView",
            "color": "blue",
            "color_selected": "white",
            "connected": false,
            "geo": "sphere",
            "line_material": "IPY_MODEL_b008779ef70342f997d817778a559028",
            "material": "IPY_MODEL_7c00268aeefe4c3bb00715aa30c238fa",
            "selected": null,
            "sequence_index": 0,
            "size": 3,
            "size_selected": 2.6,
            "texture": null,
            "visible": true,
            "vx": null,
            "vy": null,
            "vz": null,
            "x": [
              {
                "dtype": "float32",
                "shape": [
                  4316
                ]
              }
            ],
            "y": [
              {
                "dtype": "float32",
                "shape": [
                  4316
                ]
              }
            ],
            "z": [
              {
                "dtype": "float32",
                "shape": [
                  4316
                ]
              }
            ]
          }
        },
        "39d2c4314d984616ac3e0725b49975d9": {
          "model_module": "jupyter-threejs",
          "model_name": "SceneModel",
          "model_module_version": "^2.1.0",
          "state": {
            "_model_module": "jupyter-threejs",
            "_model_module_version": "^2.1.0",
            "_model_name": "SceneModel",
            "_view_count": null,
            "_view_module": null,
            "_view_module_version": "",
            "_view_name": null,
            "autoUpdate": true,
            "background": null,
            "castShadow": false,
            "children": [],
            "fog": null,
            "frustumCulled": true,
            "matrix": [
              1,
              0,
              0,
              0,
              0,
              1,
              0,
              0,
              0,
              0,
              1,
              0,
              0,
              0,
              0,
              1
            ],
            "matrixAutoUpdate": true,
            "matrixWorld": [
              1,
              0,
              0,
              0,
              0,
              1,
              0,
              0,
              0,
              0,
              1,
              0,
              0,
              0,
              0,
              1
            ],
            "matrixWorldNeedsUpdate": false,
            "modelViewMatrix": [
              1,
              0,
              0,
              0,
              0,
              1,
              0,
              0,
              0,
              0,
              1,
              0,
              0,
              0,
              0,
              1
            ],
            "name": "",
            "normalMatrix": [
              1,
              0,
              0,
              0,
              1,
              0,
              0,
              0,
              1
            ],
            "overrideMaterial": null,
            "position": [
              0,
              0,
              0
            ],
            "quaternion": [
              0,
              0,
              0,
              1
            ],
            "receiveShadow": false,
            "renderOrder": 0,
            "rotation": [
              0,
              0,
              0,
              "XYZ"
            ],
            "scale": [
              1,
              1,
              1
            ],
            "type": "Scene",
            "up": [
              0,
              1,
              0
            ],
            "visible": true
          }
        },
        "b9c22f9730104e6aa94a628ab7d09352": {
          "model_module": "jupyter-threejs",
          "model_name": "ShaderMaterialModel",
          "model_module_version": "^2.1.0",
          "state": {
            "_model_module": "jupyter-threejs",
            "_model_module_version": "^2.1.0",
            "_model_name": "ShaderMaterialModel",
            "_view_count": null,
            "_view_module": null,
            "_view_module_version": "",
            "_view_name": null,
            "alphaTest": 0,
            "blendDst": "OneMinusSrcAlphaFactor",
            "blendDstAlpha": 0,
            "blendEquation": "AddEquation",
            "blendEquationAlpha": 0,
            "blendSrc": "SrcAlphaFactor",
            "blendSrcAlpha": 0,
            "blending": "NormalBlending",
            "clipIntersection": false,
            "clipShadows": false,
            "clipping": false,
            "clippingPlanes": [],
            "colorWrite": true,
            "defines": null,
            "depthFunc": "LessEqualDepth",
            "depthTest": true,
            "depthWrite": true,
            "dithering": false,
            "extensions": {},
            "flatShading": false,
            "fog": false,
            "fragmentShader": "",
            "lights": false,
            "linewidth": 1,
            "morphNormals": false,
            "morphTargets": false,
            "name": "",
            "opacity": 1,
            "overdraw": 0,
            "polygonOffset": false,
            "polygonOffsetFactor": 0,
            "polygonOffsetUnits": 0,
            "precision": null,
            "premultipliedAlpha": false,
            "shadowSide": null,
            "side": "FrontSide",
            "skinning": false,
            "transparent": false,
            "type": "ShaderMaterial",
            "uniforms": {},
            "uniformsNeedUpdate": false,
            "vertexColors": "NoColors",
            "vertexShader": "",
            "visible": true,
            "wireframe": false,
            "wireframeLinewidth": 1
          }
        },
        "b745ac187d924c8595304becfb2da708": {
          "model_module": "jupyter-threejs",
          "model_name": "ShaderMaterialModel",
          "model_module_version": "^2.1.0",
          "state": {
            "_model_module": "jupyter-threejs",
            "_model_module_version": "^2.1.0",
            "_model_name": "ShaderMaterialModel",
            "_view_count": null,
            "_view_module": null,
            "_view_module_version": "",
            "_view_name": null,
            "alphaTest": 0,
            "blendDst": "OneMinusSrcAlphaFactor",
            "blendDstAlpha": 0,
            "blendEquation": "AddEquation",
            "blendEquationAlpha": 0,
            "blendSrc": "SrcAlphaFactor",
            "blendSrcAlpha": 0,
            "blending": "NormalBlending",
            "clipIntersection": false,
            "clipShadows": false,
            "clipping": false,
            "clippingPlanes": [],
            "colorWrite": true,
            "defines": null,
            "depthFunc": "LessEqualDepth",
            "depthTest": true,
            "depthWrite": true,
            "dithering": false,
            "extensions": {},
            "flatShading": false,
            "fog": false,
            "fragmentShader": "",
            "lights": false,
            "linewidth": 1,
            "morphNormals": false,
            "morphTargets": false,
            "name": "",
            "opacity": 1,
            "overdraw": 0,
            "polygonOffset": false,
            "polygonOffsetFactor": 0,
            "polygonOffsetUnits": 0,
            "precision": null,
            "premultipliedAlpha": false,
            "shadowSide": null,
            "side": "FrontSide",
            "skinning": false,
            "transparent": false,
            "type": "ShaderMaterial",
            "uniforms": {},
            "uniformsNeedUpdate": false,
            "vertexColors": "NoColors",
            "vertexShader": "",
            "visible": true,
            "wireframe": false,
            "wireframeLinewidth": 1
          }
        },
        "79d5277a51894cf38699117233465bc9": {
          "model_module": "jupyter-threejs",
          "model_name": "ShaderMaterialModel",
          "model_module_version": "^2.1.0",
          "state": {
            "_model_module": "jupyter-threejs",
            "_model_module_version": "^2.1.0",
            "_model_name": "ShaderMaterialModel",
            "_view_count": null,
            "_view_module": null,
            "_view_module_version": "",
            "_view_name": null,
            "alphaTest": 0,
            "blendDst": "OneMinusSrcAlphaFactor",
            "blendDstAlpha": 0,
            "blendEquation": "AddEquation",
            "blendEquationAlpha": 0,
            "blendSrc": "SrcAlphaFactor",
            "blendSrcAlpha": 0,
            "blending": "NormalBlending",
            "clipIntersection": false,
            "clipShadows": false,
            "clipping": false,
            "clippingPlanes": [],
            "colorWrite": true,
            "defines": null,
            "depthFunc": "LessEqualDepth",
            "depthTest": true,
            "depthWrite": true,
            "dithering": false,
            "extensions": {},
            "flatShading": false,
            "fog": false,
            "fragmentShader": "",
            "lights": false,
            "linewidth": 1,
            "morphNormals": false,
            "morphTargets": false,
            "name": "",
            "opacity": 1,
            "overdraw": 0,
            "polygonOffset": false,
            "polygonOffsetFactor": 0,
            "polygonOffsetUnits": 0,
            "precision": null,
            "premultipliedAlpha": false,
            "shadowSide": null,
            "side": "FrontSide",
            "skinning": false,
            "transparent": false,
            "type": "ShaderMaterial",
            "uniforms": {},
            "uniformsNeedUpdate": false,
            "vertexColors": "NoColors",
            "vertexShader": "",
            "visible": true,
            "wireframe": false,
            "wireframeLinewidth": 1
          }
        },
        "bb558c8cf22043909fb3639fd2b38ec9": {
          "model_module": "jupyter-threejs",
          "model_name": "ShaderMaterialModel",
          "model_module_version": "^2.1.0",
          "state": {
            "_model_module": "jupyter-threejs",
            "_model_module_version": "^2.1.0",
            "_model_name": "ShaderMaterialModel",
            "_view_count": null,
            "_view_module": null,
            "_view_module_version": "",
            "_view_name": null,
            "alphaTest": 0,
            "blendDst": "OneMinusSrcAlphaFactor",
            "blendDstAlpha": 0,
            "blendEquation": "AddEquation",
            "blendEquationAlpha": 0,
            "blendSrc": "SrcAlphaFactor",
            "blendSrcAlpha": 0,
            "blending": "NormalBlending",
            "clipIntersection": false,
            "clipShadows": false,
            "clipping": false,
            "clippingPlanes": [],
            "colorWrite": true,
            "defines": null,
            "depthFunc": "LessEqualDepth",
            "depthTest": true,
            "depthWrite": true,
            "dithering": false,
            "extensions": {},
            "flatShading": false,
            "fog": false,
            "fragmentShader": "",
            "lights": false,
            "linewidth": 1,
            "morphNormals": false,
            "morphTargets": false,
            "name": "",
            "opacity": 1,
            "overdraw": 0,
            "polygonOffset": false,
            "polygonOffsetFactor": 0,
            "polygonOffsetUnits": 0,
            "precision": null,
            "premultipliedAlpha": false,
            "shadowSide": null,
            "side": "FrontSide",
            "skinning": false,
            "transparent": false,
            "type": "ShaderMaterial",
            "uniforms": {},
            "uniformsNeedUpdate": false,
            "vertexColors": "NoColors",
            "vertexShader": "",
            "visible": false,
            "wireframe": false,
            "wireframeLinewidth": 1
          }
        },
        "228ba23952504e66a645d4925a5867f4": {
          "model_module": "jupyter-threejs",
          "model_name": "ShaderMaterialModel",
          "model_module_version": "^2.1.0",
          "state": {
            "_model_module": "jupyter-threejs",
            "_model_module_version": "^2.1.0",
            "_model_name": "ShaderMaterialModel",
            "_view_count": null,
            "_view_module": null,
            "_view_module_version": "",
            "_view_name": null,
            "alphaTest": 0,
            "blendDst": "OneMinusSrcAlphaFactor",
            "blendDstAlpha": 0,
            "blendEquation": "AddEquation",
            "blendEquationAlpha": 0,
            "blendSrc": "SrcAlphaFactor",
            "blendSrcAlpha": 0,
            "blending": "NormalBlending",
            "clipIntersection": false,
            "clipShadows": false,
            "clipping": false,
            "clippingPlanes": [],
            "colorWrite": true,
            "defines": null,
            "depthFunc": "LessEqualDepth",
            "depthTest": true,
            "depthWrite": true,
            "dithering": false,
            "extensions": {},
            "flatShading": false,
            "fog": false,
            "fragmentShader": "",
            "lights": false,
            "linewidth": 1,
            "morphNormals": false,
            "morphTargets": false,
            "name": "",
            "opacity": 1,
            "overdraw": 0,
            "polygonOffset": false,
            "polygonOffsetFactor": 0,
            "polygonOffsetUnits": 0,
            "precision": null,
            "premultipliedAlpha": false,
            "shadowSide": null,
            "side": "FrontSide",
            "skinning": false,
            "transparent": false,
            "type": "ShaderMaterial",
            "uniforms": {},
            "uniformsNeedUpdate": false,
            "vertexColors": "NoColors",
            "vertexShader": "",
            "visible": true,
            "wireframe": false,
            "wireframeLinewidth": 1
          }
        },
        "380110984fa64ae9b49c1b2855f966d0": {
          "model_module": "jupyter-threejs",
          "model_name": "ShaderMaterialModel",
          "model_module_version": "^2.1.0",
          "state": {
            "_model_module": "jupyter-threejs",
            "_model_module_version": "^2.1.0",
            "_model_name": "ShaderMaterialModel",
            "_view_count": null,
            "_view_module": null,
            "_view_module_version": "",
            "_view_name": null,
            "alphaTest": 0,
            "blendDst": "OneMinusSrcAlphaFactor",
            "blendDstAlpha": 0,
            "blendEquation": "AddEquation",
            "blendEquationAlpha": 0,
            "blendSrc": "SrcAlphaFactor",
            "blendSrcAlpha": 0,
            "blending": "NormalBlending",
            "clipIntersection": false,
            "clipShadows": false,
            "clipping": false,
            "clippingPlanes": [],
            "colorWrite": true,
            "defines": null,
            "depthFunc": "LessEqualDepth",
            "depthTest": true,
            "depthWrite": true,
            "dithering": false,
            "extensions": {},
            "flatShading": false,
            "fog": false,
            "fragmentShader": "",
            "lights": false,
            "linewidth": 1,
            "morphNormals": false,
            "morphTargets": false,
            "name": "",
            "opacity": 1,
            "overdraw": 0,
            "polygonOffset": false,
            "polygonOffsetFactor": 0,
            "polygonOffsetUnits": 0,
            "precision": null,
            "premultipliedAlpha": false,
            "shadowSide": null,
            "side": "FrontSide",
            "skinning": false,
            "transparent": false,
            "type": "ShaderMaterial",
            "uniforms": {},
            "uniformsNeedUpdate": false,
            "vertexColors": "NoColors",
            "vertexShader": "",
            "visible": false,
            "wireframe": false,
            "wireframeLinewidth": 1
          }
        },
        "e2166babb1144005803a4aaf9cff4f92": {
          "model_module": "jupyter-threejs",
          "model_name": "ShaderMaterialModel",
          "model_module_version": "^2.1.0",
          "state": {
            "_model_module": "jupyter-threejs",
            "_model_module_version": "^2.1.0",
            "_model_name": "ShaderMaterialModel",
            "_view_count": null,
            "_view_module": null,
            "_view_module_version": "",
            "_view_name": null,
            "alphaTest": 0,
            "blendDst": "OneMinusSrcAlphaFactor",
            "blendDstAlpha": 0,
            "blendEquation": "AddEquation",
            "blendEquationAlpha": 0,
            "blendSrc": "SrcAlphaFactor",
            "blendSrcAlpha": 0,
            "blending": "NormalBlending",
            "clipIntersection": false,
            "clipShadows": false,
            "clipping": false,
            "clippingPlanes": [],
            "colorWrite": true,
            "defines": null,
            "depthFunc": "LessEqualDepth",
            "depthTest": true,
            "depthWrite": true,
            "dithering": false,
            "extensions": {},
            "flatShading": false,
            "fog": false,
            "fragmentShader": "",
            "lights": false,
            "linewidth": 1,
            "morphNormals": false,
            "morphTargets": false,
            "name": "",
            "opacity": 1,
            "overdraw": 0,
            "polygonOffset": false,
            "polygonOffsetFactor": 0,
            "polygonOffsetUnits": 0,
            "precision": null,
            "premultipliedAlpha": false,
            "shadowSide": null,
            "side": "FrontSide",
            "skinning": false,
            "transparent": false,
            "type": "ShaderMaterial",
            "uniforms": {},
            "uniformsNeedUpdate": false,
            "vertexColors": "NoColors",
            "vertexShader": "",
            "visible": true,
            "wireframe": false,
            "wireframeLinewidth": 1
          }
        },
        "02db35873aa943d58fe188df561f760e": {
          "model_module": "jupyter-threejs",
          "model_name": "ShaderMaterialModel",
          "model_module_version": "^2.1.0",
          "state": {
            "_model_module": "jupyter-threejs",
            "_model_module_version": "^2.1.0",
            "_model_name": "ShaderMaterialModel",
            "_view_count": null,
            "_view_module": null,
            "_view_module_version": "",
            "_view_name": null,
            "alphaTest": 0,
            "blendDst": "OneMinusSrcAlphaFactor",
            "blendDstAlpha": 0,
            "blendEquation": "AddEquation",
            "blendEquationAlpha": 0,
            "blendSrc": "SrcAlphaFactor",
            "blendSrcAlpha": 0,
            "blending": "NormalBlending",
            "clipIntersection": false,
            "clipShadows": false,
            "clipping": false,
            "clippingPlanes": [],
            "colorWrite": true,
            "defines": null,
            "depthFunc": "LessEqualDepth",
            "depthTest": true,
            "depthWrite": true,
            "dithering": false,
            "extensions": {},
            "flatShading": false,
            "fog": false,
            "fragmentShader": "",
            "lights": false,
            "linewidth": 1,
            "morphNormals": false,
            "morphTargets": false,
            "name": "",
            "opacity": 1,
            "overdraw": 0,
            "polygonOffset": false,
            "polygonOffsetFactor": 0,
            "polygonOffsetUnits": 0,
            "precision": null,
            "premultipliedAlpha": false,
            "shadowSide": null,
            "side": "FrontSide",
            "skinning": false,
            "transparent": false,
            "type": "ShaderMaterial",
            "uniforms": {},
            "uniformsNeedUpdate": false,
            "vertexColors": "NoColors",
            "vertexShader": "",
            "visible": false,
            "wireframe": false,
            "wireframeLinewidth": 1
          }
        },
        "b008779ef70342f997d817778a559028": {
          "model_module": "jupyter-threejs",
          "model_name": "ShaderMaterialModel",
          "model_module_version": "^2.1.0",
          "state": {
            "_model_module": "jupyter-threejs",
            "_model_module_version": "^2.1.0",
            "_model_name": "ShaderMaterialModel",
            "_view_count": null,
            "_view_module": null,
            "_view_module_version": "",
            "_view_name": null,
            "alphaTest": 0,
            "blendDst": "OneMinusSrcAlphaFactor",
            "blendDstAlpha": 0,
            "blendEquation": "AddEquation",
            "blendEquationAlpha": 0,
            "blendSrc": "SrcAlphaFactor",
            "blendSrcAlpha": 0,
            "blending": "NormalBlending",
            "clipIntersection": false,
            "clipShadows": false,
            "clipping": false,
            "clippingPlanes": [],
            "colorWrite": true,
            "defines": null,
            "depthFunc": "LessEqualDepth",
            "depthTest": true,
            "depthWrite": true,
            "dithering": false,
            "extensions": {},
            "flatShading": false,
            "fog": false,
            "fragmentShader": "",
            "lights": false,
            "linewidth": 1,
            "morphNormals": false,
            "morphTargets": false,
            "name": "",
            "opacity": 1,
            "overdraw": 0,
            "polygonOffset": false,
            "polygonOffsetFactor": 0,
            "polygonOffsetUnits": 0,
            "precision": null,
            "premultipliedAlpha": false,
            "shadowSide": null,
            "side": "FrontSide",
            "skinning": false,
            "transparent": false,
            "type": "ShaderMaterial",
            "uniforms": {},
            "uniformsNeedUpdate": false,
            "vertexColors": "NoColors",
            "vertexShader": "",
            "visible": true,
            "wireframe": false,
            "wireframeLinewidth": 1
          }
        },
        "7c00268aeefe4c3bb00715aa30c238fa": {
          "model_module": "jupyter-threejs",
          "model_name": "ShaderMaterialModel",
          "model_module_version": "^2.1.0",
          "state": {
            "_model_module": "jupyter-threejs",
            "_model_module_version": "^2.1.0",
            "_model_name": "ShaderMaterialModel",
            "_view_count": null,
            "_view_module": null,
            "_view_module_version": "",
            "_view_name": null,
            "alphaTest": 0,
            "blendDst": "OneMinusSrcAlphaFactor",
            "blendDstAlpha": 0,
            "blendEquation": "AddEquation",
            "blendEquationAlpha": 0,
            "blendSrc": "SrcAlphaFactor",
            "blendSrcAlpha": 0,
            "blending": "NormalBlending",
            "clipIntersection": false,
            "clipShadows": false,
            "clipping": false,
            "clippingPlanes": [],
            "colorWrite": true,
            "defines": null,
            "depthFunc": "LessEqualDepth",
            "depthTest": true,
            "depthWrite": true,
            "dithering": false,
            "extensions": {},
            "flatShading": false,
            "fog": false,
            "fragmentShader": "",
            "lights": false,
            "linewidth": 1,
            "morphNormals": false,
            "morphTargets": false,
            "name": "",
            "opacity": 1,
            "overdraw": 0,
            "polygonOffset": false,
            "polygonOffsetFactor": 0,
            "polygonOffsetUnits": 0,
            "precision": null,
            "premultipliedAlpha": false,
            "shadowSide": null,
            "side": "FrontSide",
            "skinning": false,
            "transparent": false,
            "type": "ShaderMaterial",
            "uniforms": {},
            "uniformsNeedUpdate": false,
            "vertexColors": "NoColors",
            "vertexShader": "",
            "visible": true,
            "wireframe": false,
            "wireframeLinewidth": 1
          }
        },
        "f23b46d58689472e8d502b71e4d5f4e4": {
          "model_module": "@jupyter-widgets/controls",
          "model_name": "VBoxModel",
          "model_module_version": "1.5.0",
          "state": {
            "_dom_classes": [],
            "_model_module": "@jupyter-widgets/controls",
            "_model_module_version": "1.5.0",
            "_model_name": "VBoxModel",
            "_view_count": null,
            "_view_module": "@jupyter-widgets/controls",
            "_view_module_version": "1.5.0",
            "_view_name": "VBoxView",
            "box_style": "",
            "children": [
              "IPY_MODEL_ac5e5948e99e42b29f707b6c33214681"
            ],
            "layout": "IPY_MODEL_029acf64620143819b065160de8c661b"
          }
        },
        "ac5e5948e99e42b29f707b6c33214681": {
          "model_module": "ipyvolume",
          "model_name": "FigureModel",
          "model_module_version": "~0.5.2",
          "state": {
            "_dom_classes": [],
            "_model_module": "ipyvolume",
            "_model_module_version": "~0.5.2",
            "_model_name": "FigureModel",
            "_view_count": null,
            "_view_module": "ipyvolume",
            "_view_module_version": "~0.5.2",
            "_view_name": "FigureView",
            "ambient_coefficient": 0.5,
            "animation": 1000,
            "animation_exponent": 1,
            "camera": "IPY_MODEL_afa2b85f9c1c454fa9bc7d3369473bd1",
            "camera_center": [
              0,
              0,
              0
            ],
            "camera_control": "trackball",
            "camera_fov": 45,
            "capture_fps": null,
            "cube_resolution": 512,
            "diffuse_coefficient": 0.8,
            "displayscale": 1,
            "downscale": 1,
            "eye_separation": 6.4,
            "height": 480,
            "layout": "IPY_MODEL_44e1b406f1234b0db67c2812d68e33ba",
            "matrix_projection": [
              1.7668892743678146,
              0,
              0,
              0,
              0,
              2.3558523658237527,
              0,
              0,
              0,
              0,
              -1.00010000500025,
              -1,
              0,
              0,
              -0.200010000500025,
              0
            ],
            "matrix_world": [
              -0.02954252211073019,
              -0.06619203529656145,
              0.15007875142209026,
              0,
              -0.1640020190229439,
              0.014607043441230637,
              -0.025840855560173154,
              0,
              -0.001926992073183202,
              -0.10150648916964766,
              -0.04514862534283601,
              0,
              0.5893050877303468,
              0.6115341768294065,
              -2.1519667485429865,
              0.9999999999999999
            ],
            "meshes": [],
            "mouse_mode": "normal",
            "panorama_mode": "no",
            "render_continuous": false,
            "scatters": [
              "IPY_MODEL_e2440f47dcb740569fc68fa01d45cbf2",
              "IPY_MODEL_f8da6ac54abf463088d6ee5ed340a7d9",
              "IPY_MODEL_338034c0a04344338fff2e70d082c5a2",
              "IPY_MODEL_9bf7ffe172164a42b5b984b9d7c04332",
              "IPY_MODEL_22ff31cf81e94b488369f5b0c12b50bf"
            ],
            "scene": "IPY_MODEL_83d79700e8a54e25acde9c2bf0aabb42",
            "selection_mode": "replace",
            "selector": "lasso",
            "show": "Volume",
            "specular_coefficient": 0.5,
            "specular_exponent": 5,
            "stereo": false,
            "style": {
              "axes": {
                "visible": true,
                "label": {
                  "color": "black"
                },
                "ticklabel": {
                  "color": "black"
                },
                "color": "black"
              },
              "box": {
                "visible": true
              },
              "background-color": "white"
            },
            "volumes": [],
            "width": 640,
            "xlabel": "x",
            "xlim": [
              0,
              6
            ],
            "ylabel": "y",
            "ylim": [
              0,
              6
            ],
            "zlabel": "z",
            "zlim": [
              0,
              9
            ]
          }
        },
        "029acf64620143819b065160de8c661b": {
          "model_module": "@jupyter-widgets/base",
          "model_name": "LayoutModel",
          "model_module_version": "1.2.0",
          "state": {
            "_model_module": "@jupyter-widgets/base",
            "_model_module_version": "1.2.0",
            "_model_name": "LayoutModel",
            "_view_count": null,
            "_view_module": "@jupyter-widgets/base",
            "_view_module_version": "1.2.0",
            "_view_name": "LayoutView",
            "align_content": null,
            "align_items": null,
            "align_self": null,
            "border": null,
            "bottom": null,
            "display": null,
            "flex": null,
            "flex_flow": null,
            "grid_area": null,
            "grid_auto_columns": null,
            "grid_auto_flow": null,
            "grid_auto_rows": null,
            "grid_column": null,
            "grid_gap": null,
            "grid_row": null,
            "grid_template_areas": null,
            "grid_template_columns": null,
            "grid_template_rows": null,
            "height": null,
            "justify_content": null,
            "justify_items": null,
            "left": null,
            "margin": null,
            "max_height": null,
            "max_width": null,
            "min_height": null,
            "min_width": null,
            "object_fit": null,
            "object_position": null,
            "order": null,
            "overflow": null,
            "overflow_x": null,
            "overflow_y": null,
            "padding": null,
            "right": null,
            "top": null,
            "visibility": null,
            "width": null
          }
        },
        "afa2b85f9c1c454fa9bc7d3369473bd1": {
          "model_module": "jupyter-threejs",
          "model_name": "PerspectiveCameraModel",
          "model_module_version": "^2.1.0",
          "state": {
            "_model_module": "jupyter-threejs",
            "_model_module_version": "^2.1.0",
            "_model_name": "PerspectiveCameraModel",
            "_view_count": null,
            "_view_module": null,
            "_view_module_version": "",
            "_view_name": null,
            "aspect": 1.3333333333333333,
            "castShadow": false,
            "children": [],
            "far": 2000,
            "focus": 10,
            "fov": 46,
            "frustumCulled": true,
            "matrix": [
              -0.17725513266438098,
              -0.9840121141376633,
              -0.01734292865864856,
              0,
              -0.397152211779369,
              0.08764226064738367,
              -0.9135584025268286,
              0,
              0.9004725085325413,
              -0.15504513336103892,
              -0.4063376280855242,
              0,
              1.7851163987510312,
              -0.3073648639872152,
              -0.8055326025523558,
              1
            ],
            "matrixAutoUpdate": true,
            "matrixWorld": [
              -0.17725513266438098,
              -0.9840121141376633,
              -0.01734292865864856,
              0,
              -0.397152211779369,
              0.08764226064738367,
              -0.9135584025268286,
              0,
              0.9004725085325413,
              -0.15504513336103892,
              -0.4063376280855242,
              0,
              1.7851163987510312,
              -0.3073648639872152,
              -0.8055326025523558,
              1
            ],
            "matrixWorldInverse": [
              -0.177255132664381,
              -0.3971522117793692,
              0.9004725085325415,
              0,
              -0.9840121141376633,
              0.08764226064738367,
              -0.15504513336103892,
              0,
              -0.01734292865864857,
              -0.9135584025268288,
              -0.40633762808552426,
              0,
              1.5265566588595905e-16,
              4.68375338513738e-16,
              -1.9824218749999964,
              1
            ],
            "matrixWorldNeedsUpdate": true,
            "modelViewMatrix": [
              1,
              0,
              0,
              0,
              0,
              1,
              0,
              0,
              0,
              0,
              1,
              0,
              0,
              0,
              0,
              1
            ],
            "name": "",
            "near": 0.1,
            "normalMatrix": [
              1,
              0,
              0,
              0,
              1,
              0,
              0,
              0,
              1
            ],
            "position": [
              1.7851163987510312,
              -0.3073648639872152,
              -0.8055326025523558
            ],
            "projectionMatrix": [
              1.7668892743678146,
              0,
              0,
              0,
              0,
              2.3558523658237527,
              0,
              0,
              0,
              0,
              -1.00010000500025,
              -1,
              0,
              0,
              -0.200010000500025,
              0
            ],
            "quaternion": [
              -0.5341910320226649,
              0.6463812770720716,
              -0.41330232395048094,
              0.3549822178284
            ],
            "receiveShadow": false,
            "renderOrder": 0,
            "rotation": [
              2.777076857507741,
              1.1208547399658113,
              1.990581882586752,
              "XYZ"
            ],
            "scale": [
              1,
              1,
              1
            ],
            "type": "PerspectiveCamera",
            "up": [
              -0.397152211779369,
              0.0876422606473837,
              -0.9135584025268286
            ],
            "visible": true,
            "zoom": 1
          }
        },
        "44e1b406f1234b0db67c2812d68e33ba": {
          "model_module": "@jupyter-widgets/base",
          "model_name": "LayoutModel",
          "model_module_version": "1.2.0",
          "state": {
            "_model_module": "@jupyter-widgets/base",
            "_model_module_version": "1.2.0",
            "_model_name": "LayoutModel",
            "_view_count": null,
            "_view_module": "@jupyter-widgets/base",
            "_view_module_version": "1.2.0",
            "_view_name": "LayoutView",
            "align_content": null,
            "align_items": null,
            "align_self": null,
            "border": null,
            "bottom": null,
            "display": null,
            "flex": null,
            "flex_flow": null,
            "grid_area": null,
            "grid_auto_columns": null,
            "grid_auto_flow": null,
            "grid_auto_rows": null,
            "grid_column": null,
            "grid_gap": null,
            "grid_row": null,
            "grid_template_areas": null,
            "grid_template_columns": null,
            "grid_template_rows": null,
            "height": null,
            "justify_content": null,
            "justify_items": null,
            "left": null,
            "margin": null,
            "max_height": null,
            "max_width": null,
            "min_height": null,
            "min_width": null,
            "object_fit": null,
            "object_position": null,
            "order": null,
            "overflow": null,
            "overflow_x": null,
            "overflow_y": null,
            "padding": null,
            "right": null,
            "top": null,
            "visibility": null,
            "width": null
          }
        },
        "e2440f47dcb740569fc68fa01d45cbf2": {
          "model_module": "ipyvolume",
          "model_name": "ScatterModel",
          "model_module_version": "~0.5.2",
          "state": {
            "_model_module": "ipyvolume",
            "_model_module_version": "~0.5.2",
            "_model_name": "ScatterModel",
            "_view_count": null,
            "_view_module": "ipyvolume",
            "_view_module_version": "~0.5.2",
            "_view_name": "ScatterView",
            "color": "green",
            "color_selected": "white",
            "connected": false,
            "geo": "sphere",
            "line_material": "IPY_MODEL_2d45e4b5171d4ba094bd73f1667edf2b",
            "material": "IPY_MODEL_64203dd7e22c47aaa0eb686403b91d54",
            "selected": null,
            "sequence_index": 0,
            "size": 5,
            "size_selected": 2.6,
            "texture": null,
            "visible": true,
            "vx": null,
            "vy": null,
            "vz": null,
            "x": [
              {
                "dtype": "float32",
                "shape": [
                  9
                ]
              }
            ],
            "y": [
              {
                "dtype": "float32",
                "shape": [
                  9
                ]
              }
            ],
            "z": [
              {
                "dtype": "float32",
                "shape": [
                  9
                ]
              }
            ]
          }
        },
        "f8da6ac54abf463088d6ee5ed340a7d9": {
          "model_module": "ipyvolume",
          "model_name": "ScatterModel",
          "model_module_version": "~0.5.2",
          "state": {
            "_model_module": "ipyvolume",
            "_model_module_version": "~0.5.2",
            "_model_name": "ScatterModel",
            "_view_count": null,
            "_view_module": "ipyvolume",
            "_view_module_version": "~0.5.2",
            "_view_name": "ScatterView",
            "color": "black",
            "color_selected": null,
            "connected": true,
            "geo": "diamond",
            "line_material": "IPY_MODEL_4e5876dbf67c45949ee5f967b3230644",
            "material": "IPY_MODEL_8bbb6af64a2f4028972d89cfbe74c1df",
            "selected": null,
            "sequence_index": 0,
            "size": 1,
            "size_selected": 1,
            "texture": null,
            "visible": true,
            "vx": null,
            "vy": null,
            "vz": null,
            "x": [
              {
                "dtype": "int32",
                "shape": [
                  2
                ]
              }
            ],
            "y": [
              {
                "dtype": "int32",
                "shape": [
                  2
                ]
              }
            ],
            "z": [
              {
                "dtype": "int32",
                "shape": [
                  2
                ]
              }
            ]
          }
        },
        "338034c0a04344338fff2e70d082c5a2": {
          "model_module": "ipyvolume",
          "model_name": "ScatterModel",
          "model_module_version": "~0.5.2",
          "state": {
            "_model_module": "ipyvolume",
            "_model_module_version": "~0.5.2",
            "_model_name": "ScatterModel",
            "_view_count": null,
            "_view_module": "ipyvolume",
            "_view_module_version": "~0.5.2",
            "_view_name": "ScatterView",
            "color": "black",
            "color_selected": null,
            "connected": true,
            "geo": "diamond",
            "line_material": "IPY_MODEL_93307b534b944a229cc9103e8e576d15",
            "material": "IPY_MODEL_bf0a191123a44f3380fe247f19e2952e",
            "selected": null,
            "sequence_index": 0,
            "size": 1,
            "size_selected": 1,
            "texture": null,
            "visible": true,
            "vx": null,
            "vy": null,
            "vz": null,
            "x": [
              {
                "dtype": "int32",
                "shape": [
                  2
                ]
              }
            ],
            "y": [
              {
                "dtype": "int32",
                "shape": [
                  2
                ]
              }
            ],
            "z": [
              {
                "dtype": "int32",
                "shape": [
                  2
                ]
              }
            ]
          }
        },
        "9bf7ffe172164a42b5b984b9d7c04332": {
          "model_module": "ipyvolume",
          "model_name": "ScatterModel",
          "model_module_version": "~0.5.2",
          "state": {
            "_model_module": "ipyvolume",
            "_model_module_version": "~0.5.2",
            "_model_name": "ScatterModel",
            "_view_count": null,
            "_view_module": "ipyvolume",
            "_view_module_version": "~0.5.2",
            "_view_name": "ScatterView",
            "color": "black",
            "color_selected": null,
            "connected": true,
            "geo": "diamond",
            "line_material": "IPY_MODEL_7e43527b49014e05922e7be7b8438def",
            "material": "IPY_MODEL_c64ebcdd3d5a4ec1a0e85c747d7acdbb",
            "selected": null,
            "sequence_index": 0,
            "size": 1,
            "size_selected": 1,
            "texture": null,
            "visible": true,
            "vx": null,
            "vy": null,
            "vz": null,
            "x": [
              {
                "dtype": "int32",
                "shape": [
                  2
                ]
              }
            ],
            "y": [
              {
                "dtype": "int32",
                "shape": [
                  2
                ]
              }
            ],
            "z": [
              {
                "dtype": "int32",
                "shape": [
                  2
                ]
              }
            ]
          }
        },
        "22ff31cf81e94b488369f5b0c12b50bf": {
          "model_module": "ipyvolume",
          "model_name": "ScatterModel",
          "model_module_version": "~0.5.2",
          "state": {
            "_model_module": "ipyvolume",
            "_model_module_version": "~0.5.2",
            "_model_name": "ScatterModel",
            "_view_count": null,
            "_view_module": "ipyvolume",
            "_view_module_version": "~0.5.2",
            "_view_name": "ScatterView",
            "color": "red",
            "color_selected": "white",
            "connected": false,
            "geo": "sphere",
            "line_material": "IPY_MODEL_3552a0d38db94aa1b054cb2171e055c8",
            "material": "IPY_MODEL_daeeaab683c448d9bc75d40ebbe6ff35",
            "selected": null,
            "sequence_index": 0,
            "size": 0.4,
            "size_selected": 2.6,
            "texture": null,
            "visible": true,
            "vx": null,
            "vy": null,
            "vz": null,
            "x": [
              {
                "dtype": "float32",
                "shape": [
                  22645
                ]
              }
            ],
            "y": [
              {
                "dtype": "float32",
                "shape": [
                  22645
                ]
              }
            ],
            "z": [
              {
                "dtype": "float32",
                "shape": [
                  22645
                ]
              }
            ]
          }
        },
        "83d79700e8a54e25acde9c2bf0aabb42": {
          "model_module": "jupyter-threejs",
          "model_name": "SceneModel",
          "model_module_version": "^2.1.0",
          "state": {
            "_model_module": "jupyter-threejs",
            "_model_module_version": "^2.1.0",
            "_model_name": "SceneModel",
            "_view_count": null,
            "_view_module": null,
            "_view_module_version": "",
            "_view_name": null,
            "autoUpdate": true,
            "background": null,
            "castShadow": false,
            "children": [],
            "fog": null,
            "frustumCulled": true,
            "matrix": [
              1,
              0,
              0,
              0,
              0,
              1,
              0,
              0,
              0,
              0,
              1,
              0,
              0,
              0,
              0,
              1
            ],
            "matrixAutoUpdate": true,
            "matrixWorld": [
              1,
              0,
              0,
              0,
              0,
              1,
              0,
              0,
              0,
              0,
              1,
              0,
              0,
              0,
              0,
              1
            ],
            "matrixWorldNeedsUpdate": false,
            "modelViewMatrix": [
              1,
              0,
              0,
              0,
              0,
              1,
              0,
              0,
              0,
              0,
              1,
              0,
              0,
              0,
              0,
              1
            ],
            "name": "",
            "normalMatrix": [
              1,
              0,
              0,
              0,
              1,
              0,
              0,
              0,
              1
            ],
            "overrideMaterial": null,
            "position": [
              0,
              0,
              0
            ],
            "quaternion": [
              0,
              0,
              0,
              1
            ],
            "receiveShadow": false,
            "renderOrder": 0,
            "rotation": [
              0,
              0,
              0,
              "XYZ"
            ],
            "scale": [
              1,
              1,
              1
            ],
            "type": "Scene",
            "up": [
              0,
              1,
              0
            ],
            "visible": true
          }
        },
        "2d45e4b5171d4ba094bd73f1667edf2b": {
          "model_module": "jupyter-threejs",
          "model_name": "ShaderMaterialModel",
          "model_module_version": "^2.1.0",
          "state": {
            "_model_module": "jupyter-threejs",
            "_model_module_version": "^2.1.0",
            "_model_name": "ShaderMaterialModel",
            "_view_count": null,
            "_view_module": null,
            "_view_module_version": "",
            "_view_name": null,
            "alphaTest": 0,
            "blendDst": "OneMinusSrcAlphaFactor",
            "blendDstAlpha": 0,
            "blendEquation": "AddEquation",
            "blendEquationAlpha": 0,
            "blendSrc": "SrcAlphaFactor",
            "blendSrcAlpha": 0,
            "blending": "NormalBlending",
            "clipIntersection": false,
            "clipShadows": false,
            "clipping": false,
            "clippingPlanes": [],
            "colorWrite": true,
            "defines": null,
            "depthFunc": "LessEqualDepth",
            "depthTest": true,
            "depthWrite": true,
            "dithering": false,
            "extensions": {},
            "flatShading": false,
            "fog": false,
            "fragmentShader": "",
            "lights": false,
            "linewidth": 1,
            "morphNormals": false,
            "morphTargets": false,
            "name": "",
            "opacity": 1,
            "overdraw": 0,
            "polygonOffset": false,
            "polygonOffsetFactor": 0,
            "polygonOffsetUnits": 0,
            "precision": null,
            "premultipliedAlpha": false,
            "shadowSide": null,
            "side": "FrontSide",
            "skinning": false,
            "transparent": false,
            "type": "ShaderMaterial",
            "uniforms": {},
            "uniformsNeedUpdate": false,
            "vertexColors": "NoColors",
            "vertexShader": "",
            "visible": true,
            "wireframe": false,
            "wireframeLinewidth": 1
          }
        },
        "64203dd7e22c47aaa0eb686403b91d54": {
          "model_module": "jupyter-threejs",
          "model_name": "ShaderMaterialModel",
          "model_module_version": "^2.1.0",
          "state": {
            "_model_module": "jupyter-threejs",
            "_model_module_version": "^2.1.0",
            "_model_name": "ShaderMaterialModel",
            "_view_count": null,
            "_view_module": null,
            "_view_module_version": "",
            "_view_name": null,
            "alphaTest": 0,
            "blendDst": "OneMinusSrcAlphaFactor",
            "blendDstAlpha": 0,
            "blendEquation": "AddEquation",
            "blendEquationAlpha": 0,
            "blendSrc": "SrcAlphaFactor",
            "blendSrcAlpha": 0,
            "blending": "NormalBlending",
            "clipIntersection": false,
            "clipShadows": false,
            "clipping": false,
            "clippingPlanes": [],
            "colorWrite": true,
            "defines": null,
            "depthFunc": "LessEqualDepth",
            "depthTest": true,
            "depthWrite": true,
            "dithering": false,
            "extensions": {},
            "flatShading": false,
            "fog": false,
            "fragmentShader": "",
            "lights": false,
            "linewidth": 1,
            "morphNormals": false,
            "morphTargets": false,
            "name": "",
            "opacity": 1,
            "overdraw": 0,
            "polygonOffset": false,
            "polygonOffsetFactor": 0,
            "polygonOffsetUnits": 0,
            "precision": null,
            "premultipliedAlpha": false,
            "shadowSide": null,
            "side": "FrontSide",
            "skinning": false,
            "transparent": false,
            "type": "ShaderMaterial",
            "uniforms": {},
            "uniformsNeedUpdate": false,
            "vertexColors": "NoColors",
            "vertexShader": "",
            "visible": true,
            "wireframe": false,
            "wireframeLinewidth": 1
          }
        },
        "4e5876dbf67c45949ee5f967b3230644": {
          "model_module": "jupyter-threejs",
          "model_name": "ShaderMaterialModel",
          "model_module_version": "^2.1.0",
          "state": {
            "_model_module": "jupyter-threejs",
            "_model_module_version": "^2.1.0",
            "_model_name": "ShaderMaterialModel",
            "_view_count": null,
            "_view_module": null,
            "_view_module_version": "",
            "_view_name": null,
            "alphaTest": 0,
            "blendDst": "OneMinusSrcAlphaFactor",
            "blendDstAlpha": 0,
            "blendEquation": "AddEquation",
            "blendEquationAlpha": 0,
            "blendSrc": "SrcAlphaFactor",
            "blendSrcAlpha": 0,
            "blending": "NormalBlending",
            "clipIntersection": false,
            "clipShadows": false,
            "clipping": false,
            "clippingPlanes": [],
            "colorWrite": true,
            "defines": null,
            "depthFunc": "LessEqualDepth",
            "depthTest": true,
            "depthWrite": true,
            "dithering": false,
            "extensions": {},
            "flatShading": false,
            "fog": false,
            "fragmentShader": "",
            "lights": false,
            "linewidth": 1,
            "morphNormals": false,
            "morphTargets": false,
            "name": "",
            "opacity": 1,
            "overdraw": 0,
            "polygonOffset": false,
            "polygonOffsetFactor": 0,
            "polygonOffsetUnits": 0,
            "precision": null,
            "premultipliedAlpha": false,
            "shadowSide": null,
            "side": "FrontSide",
            "skinning": false,
            "transparent": false,
            "type": "ShaderMaterial",
            "uniforms": {},
            "uniformsNeedUpdate": false,
            "vertexColors": "NoColors",
            "vertexShader": "",
            "visible": true,
            "wireframe": false,
            "wireframeLinewidth": 1
          }
        },
        "8bbb6af64a2f4028972d89cfbe74c1df": {
          "model_module": "jupyter-threejs",
          "model_name": "ShaderMaterialModel",
          "model_module_version": "^2.1.0",
          "state": {
            "_model_module": "jupyter-threejs",
            "_model_module_version": "^2.1.0",
            "_model_name": "ShaderMaterialModel",
            "_view_count": null,
            "_view_module": null,
            "_view_module_version": "",
            "_view_name": null,
            "alphaTest": 0,
            "blendDst": "OneMinusSrcAlphaFactor",
            "blendDstAlpha": 0,
            "blendEquation": "AddEquation",
            "blendEquationAlpha": 0,
            "blendSrc": "SrcAlphaFactor",
            "blendSrcAlpha": 0,
            "blending": "NormalBlending",
            "clipIntersection": false,
            "clipShadows": false,
            "clipping": false,
            "clippingPlanes": [],
            "colorWrite": true,
            "defines": null,
            "depthFunc": "LessEqualDepth",
            "depthTest": true,
            "depthWrite": true,
            "dithering": false,
            "extensions": {},
            "flatShading": false,
            "fog": false,
            "fragmentShader": "",
            "lights": false,
            "linewidth": 1,
            "morphNormals": false,
            "morphTargets": false,
            "name": "",
            "opacity": 1,
            "overdraw": 0,
            "polygonOffset": false,
            "polygonOffsetFactor": 0,
            "polygonOffsetUnits": 0,
            "precision": null,
            "premultipliedAlpha": false,
            "shadowSide": null,
            "side": "FrontSide",
            "skinning": false,
            "transparent": false,
            "type": "ShaderMaterial",
            "uniforms": {},
            "uniformsNeedUpdate": false,
            "vertexColors": "NoColors",
            "vertexShader": "",
            "visible": false,
            "wireframe": false,
            "wireframeLinewidth": 1
          }
        },
        "93307b534b944a229cc9103e8e576d15": {
          "model_module": "jupyter-threejs",
          "model_name": "ShaderMaterialModel",
          "model_module_version": "^2.1.0",
          "state": {
            "_model_module": "jupyter-threejs",
            "_model_module_version": "^2.1.0",
            "_model_name": "ShaderMaterialModel",
            "_view_count": null,
            "_view_module": null,
            "_view_module_version": "",
            "_view_name": null,
            "alphaTest": 0,
            "blendDst": "OneMinusSrcAlphaFactor",
            "blendDstAlpha": 0,
            "blendEquation": "AddEquation",
            "blendEquationAlpha": 0,
            "blendSrc": "SrcAlphaFactor",
            "blendSrcAlpha": 0,
            "blending": "NormalBlending",
            "clipIntersection": false,
            "clipShadows": false,
            "clipping": false,
            "clippingPlanes": [],
            "colorWrite": true,
            "defines": null,
            "depthFunc": "LessEqualDepth",
            "depthTest": true,
            "depthWrite": true,
            "dithering": false,
            "extensions": {},
            "flatShading": false,
            "fog": false,
            "fragmentShader": "",
            "lights": false,
            "linewidth": 1,
            "morphNormals": false,
            "morphTargets": false,
            "name": "",
            "opacity": 1,
            "overdraw": 0,
            "polygonOffset": false,
            "polygonOffsetFactor": 0,
            "polygonOffsetUnits": 0,
            "precision": null,
            "premultipliedAlpha": false,
            "shadowSide": null,
            "side": "FrontSide",
            "skinning": false,
            "transparent": false,
            "type": "ShaderMaterial",
            "uniforms": {},
            "uniformsNeedUpdate": false,
            "vertexColors": "NoColors",
            "vertexShader": "",
            "visible": true,
            "wireframe": false,
            "wireframeLinewidth": 1
          }
        },
        "bf0a191123a44f3380fe247f19e2952e": {
          "model_module": "jupyter-threejs",
          "model_name": "ShaderMaterialModel",
          "model_module_version": "^2.1.0",
          "state": {
            "_model_module": "jupyter-threejs",
            "_model_module_version": "^2.1.0",
            "_model_name": "ShaderMaterialModel",
            "_view_count": null,
            "_view_module": null,
            "_view_module_version": "",
            "_view_name": null,
            "alphaTest": 0,
            "blendDst": "OneMinusSrcAlphaFactor",
            "blendDstAlpha": 0,
            "blendEquation": "AddEquation",
            "blendEquationAlpha": 0,
            "blendSrc": "SrcAlphaFactor",
            "blendSrcAlpha": 0,
            "blending": "NormalBlending",
            "clipIntersection": false,
            "clipShadows": false,
            "clipping": false,
            "clippingPlanes": [],
            "colorWrite": true,
            "defines": null,
            "depthFunc": "LessEqualDepth",
            "depthTest": true,
            "depthWrite": true,
            "dithering": false,
            "extensions": {},
            "flatShading": false,
            "fog": false,
            "fragmentShader": "",
            "lights": false,
            "linewidth": 1,
            "morphNormals": false,
            "morphTargets": false,
            "name": "",
            "opacity": 1,
            "overdraw": 0,
            "polygonOffset": false,
            "polygonOffsetFactor": 0,
            "polygonOffsetUnits": 0,
            "precision": null,
            "premultipliedAlpha": false,
            "shadowSide": null,
            "side": "FrontSide",
            "skinning": false,
            "transparent": false,
            "type": "ShaderMaterial",
            "uniforms": {},
            "uniformsNeedUpdate": false,
            "vertexColors": "NoColors",
            "vertexShader": "",
            "visible": false,
            "wireframe": false,
            "wireframeLinewidth": 1
          }
        },
        "7e43527b49014e05922e7be7b8438def": {
          "model_module": "jupyter-threejs",
          "model_name": "ShaderMaterialModel",
          "model_module_version": "^2.1.0",
          "state": {
            "_model_module": "jupyter-threejs",
            "_model_module_version": "^2.1.0",
            "_model_name": "ShaderMaterialModel",
            "_view_count": null,
            "_view_module": null,
            "_view_module_version": "",
            "_view_name": null,
            "alphaTest": 0,
            "blendDst": "OneMinusSrcAlphaFactor",
            "blendDstAlpha": 0,
            "blendEquation": "AddEquation",
            "blendEquationAlpha": 0,
            "blendSrc": "SrcAlphaFactor",
            "blendSrcAlpha": 0,
            "blending": "NormalBlending",
            "clipIntersection": false,
            "clipShadows": false,
            "clipping": false,
            "clippingPlanes": [],
            "colorWrite": true,
            "defines": null,
            "depthFunc": "LessEqualDepth",
            "depthTest": true,
            "depthWrite": true,
            "dithering": false,
            "extensions": {},
            "flatShading": false,
            "fog": false,
            "fragmentShader": "",
            "lights": false,
            "linewidth": 1,
            "morphNormals": false,
            "morphTargets": false,
            "name": "",
            "opacity": 1,
            "overdraw": 0,
            "polygonOffset": false,
            "polygonOffsetFactor": 0,
            "polygonOffsetUnits": 0,
            "precision": null,
            "premultipliedAlpha": false,
            "shadowSide": null,
            "side": "FrontSide",
            "skinning": false,
            "transparent": false,
            "type": "ShaderMaterial",
            "uniforms": {},
            "uniformsNeedUpdate": false,
            "vertexColors": "NoColors",
            "vertexShader": "",
            "visible": true,
            "wireframe": false,
            "wireframeLinewidth": 1
          }
        },
        "c64ebcdd3d5a4ec1a0e85c747d7acdbb": {
          "model_module": "jupyter-threejs",
          "model_name": "ShaderMaterialModel",
          "model_module_version": "^2.1.0",
          "state": {
            "_model_module": "jupyter-threejs",
            "_model_module_version": "^2.1.0",
            "_model_name": "ShaderMaterialModel",
            "_view_count": null,
            "_view_module": null,
            "_view_module_version": "",
            "_view_name": null,
            "alphaTest": 0,
            "blendDst": "OneMinusSrcAlphaFactor",
            "blendDstAlpha": 0,
            "blendEquation": "AddEquation",
            "blendEquationAlpha": 0,
            "blendSrc": "SrcAlphaFactor",
            "blendSrcAlpha": 0,
            "blending": "NormalBlending",
            "clipIntersection": false,
            "clipShadows": false,
            "clipping": false,
            "clippingPlanes": [],
            "colorWrite": true,
            "defines": null,
            "depthFunc": "LessEqualDepth",
            "depthTest": true,
            "depthWrite": true,
            "dithering": false,
            "extensions": {},
            "flatShading": false,
            "fog": false,
            "fragmentShader": "",
            "lights": false,
            "linewidth": 1,
            "morphNormals": false,
            "morphTargets": false,
            "name": "",
            "opacity": 1,
            "overdraw": 0,
            "polygonOffset": false,
            "polygonOffsetFactor": 0,
            "polygonOffsetUnits": 0,
            "precision": null,
            "premultipliedAlpha": false,
            "shadowSide": null,
            "side": "FrontSide",
            "skinning": false,
            "transparent": false,
            "type": "ShaderMaterial",
            "uniforms": {},
            "uniformsNeedUpdate": false,
            "vertexColors": "NoColors",
            "vertexShader": "",
            "visible": false,
            "wireframe": false,
            "wireframeLinewidth": 1
          }
        },
        "3552a0d38db94aa1b054cb2171e055c8": {
          "model_module": "jupyter-threejs",
          "model_name": "ShaderMaterialModel",
          "model_module_version": "^2.1.0",
          "state": {
            "_model_module": "jupyter-threejs",
            "_model_module_version": "^2.1.0",
            "_model_name": "ShaderMaterialModel",
            "_view_count": null,
            "_view_module": null,
            "_view_module_version": "",
            "_view_name": null,
            "alphaTest": 0,
            "blendDst": "OneMinusSrcAlphaFactor",
            "blendDstAlpha": 0,
            "blendEquation": "AddEquation",
            "blendEquationAlpha": 0,
            "blendSrc": "SrcAlphaFactor",
            "blendSrcAlpha": 0,
            "blending": "NormalBlending",
            "clipIntersection": false,
            "clipShadows": false,
            "clipping": false,
            "clippingPlanes": [],
            "colorWrite": true,
            "defines": null,
            "depthFunc": "LessEqualDepth",
            "depthTest": true,
            "depthWrite": true,
            "dithering": false,
            "extensions": {},
            "flatShading": false,
            "fog": false,
            "fragmentShader": "",
            "lights": false,
            "linewidth": 1,
            "morphNormals": false,
            "morphTargets": false,
            "name": "",
            "opacity": 1,
            "overdraw": 0,
            "polygonOffset": false,
            "polygonOffsetFactor": 0,
            "polygonOffsetUnits": 0,
            "precision": null,
            "premultipliedAlpha": false,
            "shadowSide": null,
            "side": "FrontSide",
            "skinning": false,
            "transparent": false,
            "type": "ShaderMaterial",
            "uniforms": {},
            "uniformsNeedUpdate": false,
            "vertexColors": "NoColors",
            "vertexShader": "",
            "visible": true,
            "wireframe": false,
            "wireframeLinewidth": 1
          }
        },
        "daeeaab683c448d9bc75d40ebbe6ff35": {
          "model_module": "jupyter-threejs",
          "model_name": "ShaderMaterialModel",
          "model_module_version": "^2.1.0",
          "state": {
            "_model_module": "jupyter-threejs",
            "_model_module_version": "^2.1.0",
            "_model_name": "ShaderMaterialModel",
            "_view_count": null,
            "_view_module": null,
            "_view_module_version": "",
            "_view_name": null,
            "alphaTest": 0,
            "blendDst": "OneMinusSrcAlphaFactor",
            "blendDstAlpha": 0,
            "blendEquation": "AddEquation",
            "blendEquationAlpha": 0,
            "blendSrc": "SrcAlphaFactor",
            "blendSrcAlpha": 0,
            "blending": "NormalBlending",
            "clipIntersection": false,
            "clipShadows": false,
            "clipping": false,
            "clippingPlanes": [],
            "colorWrite": true,
            "defines": null,
            "depthFunc": "LessEqualDepth",
            "depthTest": true,
            "depthWrite": true,
            "dithering": false,
            "extensions": {},
            "flatShading": false,
            "fog": false,
            "fragmentShader": "",
            "lights": false,
            "linewidth": 1,
            "morphNormals": false,
            "morphTargets": false,
            "name": "",
            "opacity": 1,
            "overdraw": 0,
            "polygonOffset": false,
            "polygonOffsetFactor": 0,
            "polygonOffsetUnits": 0,
            "precision": null,
            "premultipliedAlpha": false,
            "shadowSide": null,
            "side": "FrontSide",
            "skinning": false,
            "transparent": false,
            "type": "ShaderMaterial",
            "uniforms": {},
            "uniformsNeedUpdate": false,
            "vertexColors": "NoColors",
            "vertexShader": "",
            "visible": true,
            "wireframe": false,
            "wireframeLinewidth": 1
          }
        },
        "f6992871bec244fcb5e9818aee3f2861": {
          "model_module": "@jupyter-widgets/controls",
          "model_name": "VBoxModel",
          "model_module_version": "1.5.0",
          "state": {
            "_dom_classes": [],
            "_model_module": "@jupyter-widgets/controls",
            "_model_module_version": "1.5.0",
            "_model_name": "VBoxModel",
            "_view_count": null,
            "_view_module": "@jupyter-widgets/controls",
            "_view_module_version": "1.5.0",
            "_view_name": "VBoxView",
            "box_style": "",
            "children": [
              "IPY_MODEL_11dfb041e96647cc9ecd6288963f503f"
            ],
            "layout": "IPY_MODEL_b0400e9b24c146f0bfb96f7889dbf77b"
          }
        },
        "11dfb041e96647cc9ecd6288963f503f": {
          "model_module": "ipyvolume",
          "model_name": "FigureModel",
          "model_module_version": "~0.5.2",
          "state": {
            "_dom_classes": [],
            "_model_module": "ipyvolume",
            "_model_module_version": "~0.5.2",
            "_model_name": "FigureModel",
            "_view_count": null,
            "_view_module": "ipyvolume",
            "_view_module_version": "~0.5.2",
            "_view_name": "FigureView",
            "ambient_coefficient": 0.5,
            "animation": 1000,
            "animation_exponent": 1,
            "camera": "IPY_MODEL_4d9735cb58964581911ca9d598ed7f8c",
            "camera_center": [
              0,
              0,
              0
            ],
            "camera_control": "trackball",
            "camera_fov": 45,
            "capture_fps": null,
            "cube_resolution": 512,
            "diffuse_coefficient": 0.8,
            "displayscale": 1,
            "downscale": 1,
            "eye_separation": 6.4,
            "height": 480,
            "layout": "IPY_MODEL_4bc888aff0b446e2a0f4c379374de225",
            "matrix_projection": [
              1.7668892743678146,
              0,
              0,
              0,
              0,
              2.3558523658237527,
              0,
              0,
              0,
              0,
              -1.00010000500025,
              -1,
              0,
              0,
              -0.200010000500025,
              0
            ],
            "matrix_world": [
              -0.16575527592824502,
              0.016951795229315694,
              -0.003950052940464228,
              0,
              0.011451337118170628,
              0.07772035224871346,
              -0.14699044697639257,
              0,
              -0.00873900980750179,
              -0.0976387019409756,
              -0.05230671661661995,
              0,
              0.5022373605639813,
              0.15535771630030298,
              -1.1779098331413451,
              1
            ],
            "meshes": [],
            "mouse_mode": "normal",
            "panorama_mode": "no",
            "render_continuous": false,
            "scatters": [
              "IPY_MODEL_890a2c01d22a4e9dab0fdc70c27a64dd",
              "IPY_MODEL_a7ed56069a0f44f39044d464cdafa19a",
              "IPY_MODEL_3333c01a9d694e75ac7808182c8ee58b",
              "IPY_MODEL_3652703b113041ee8090aa0a89a5190b",
              "IPY_MODEL_76311d46e4e24cc2931f37d150b4eff1",
              "IPY_MODEL_46d76a3bf3914f5496ccb5ab1a703cef",
              "IPY_MODEL_9f0bfa7fd3e043c38cdee10a27fe6a7a"
            ],
            "scene": "IPY_MODEL_e71308947bce41069c12b8054ef4c781",
            "selection_mode": "replace",
            "selector": "lasso",
            "show": "Volume",
            "specular_coefficient": 0.5,
            "specular_exponent": 5,
            "stereo": false,
            "style": {
              "axes": {
                "visible": true,
                "label": {
                  "color": "black"
                },
                "ticklabel": {
                  "color": "black"
                },
                "color": "black"
              },
              "box": {
                "visible": true
              },
              "background-color": "white"
            },
            "volumes": [],
            "width": 640,
            "xlabel": "x",
            "xlim": [
              0,
              6
            ],
            "ylabel": "y",
            "ylim": [
              0,
              6
            ],
            "zlabel": "z",
            "zlim": [
              0,
              9
            ]
          }
        },
        "b0400e9b24c146f0bfb96f7889dbf77b": {
          "model_module": "@jupyter-widgets/base",
          "model_name": "LayoutModel",
          "model_module_version": "1.2.0",
          "state": {
            "_model_module": "@jupyter-widgets/base",
            "_model_module_version": "1.2.0",
            "_model_name": "LayoutModel",
            "_view_count": null,
            "_view_module": "@jupyter-widgets/base",
            "_view_module_version": "1.2.0",
            "_view_name": "LayoutView",
            "align_content": null,
            "align_items": null,
            "align_self": null,
            "border": null,
            "bottom": null,
            "display": null,
            "flex": null,
            "flex_flow": null,
            "grid_area": null,
            "grid_auto_columns": null,
            "grid_auto_flow": null,
            "grid_auto_rows": null,
            "grid_column": null,
            "grid_gap": null,
            "grid_row": null,
            "grid_template_areas": null,
            "grid_template_columns": null,
            "grid_template_rows": null,
            "height": null,
            "justify_content": null,
            "justify_items": null,
            "left": null,
            "margin": null,
            "max_height": null,
            "max_width": null,
            "min_height": null,
            "min_width": null,
            "object_fit": null,
            "object_position": null,
            "order": null,
            "overflow": null,
            "overflow_x": null,
            "overflow_y": null,
            "padding": null,
            "right": null,
            "top": null,
            "visibility": null,
            "width": null
          }
        },
        "4d9735cb58964581911ca9d598ed7f8c": {
          "model_module": "jupyter-threejs",
          "model_name": "PerspectiveCameraModel",
          "model_module_version": "^2.1.0",
          "state": {
            "_model_module": "jupyter-threejs",
            "_model_module_version": "^2.1.0",
            "_model_name": "PerspectiveCameraModel",
            "_view_count": null,
            "_view_module": null,
            "_view_module_version": "",
            "_view_name": null,
            "aspect": 1.3333333333333333,
            "castShadow": false,
            "children": [],
            "far": 2000,
            "focus": 10,
            "fov": 46,
            "frustumCulled": true,
            "matrix": [
              -0.9945316555694705,
              0.06870802270902376,
              -0.07865108826751613,
              0,
              0.10171077137589418,
              0.4663221134922808,
              -0.8787483174687808,
              0,
              -0.02370031764278536,
              -0.8819426818583557,
              -0.47076044954957985,
              0,
              -0.04422743667357389,
              -1.6458034318154477,
              -0.8784915157968447,
              1
            ],
            "matrixAutoUpdate": true,
            "matrixWorld": [
              -0.9945316555694705,
              0.06870802270902376,
              -0.07865108826751613,
              0,
              0.10171077137589418,
              0.4663221134922808,
              -0.8787483174687808,
              0,
              -0.02370031764278536,
              -0.8819426818583557,
              -0.47076044954957985,
              0,
              -0.04422743667357389,
              -1.6458034318154477,
              -0.8784915157968447,
              1
            ],
            "matrixWorldInverse": [
              -0.9945316555694703,
              0.10171077137589418,
              -0.023700317642785358,
              0,
              0.06870802270902376,
              0.46632211349228087,
              -0.8819426818583557,
              0,
              -0.07865108826751611,
              -0.8787483174687807,
              -0.4707604495495797,
              0,
              2.7755575615628907e-17,
              2.2204460492503126e-16,
              -1.8661115576667056,
              1.0000000000000002
            ],
            "matrixWorldNeedsUpdate": true,
            "modelViewMatrix": [
              1,
              0,
              0,
              0,
              0,
              1,
              0,
              0,
              0,
              0,
              1,
              0,
              0,
              0,
              0,
              1
            ],
            "name": "",
            "near": 0.1,
            "normalMatrix": [
              1,
              0,
              0,
              0,
              1,
              0,
              0,
              0,
              1
            ],
            "position": [
              -0.04422743667357389,
              -1.6458034318154477,
              -0.8784915157968447
            ],
            "projectionMatrix": [
              1.7668892743678146,
              0,
              0,
              0,
              0,
              2.3558523658237527,
              0,
              0,
              0,
              0,
              -1.00010000500025,
              -1,
              0,
              0,
              -0.200010000500025,
              0
            ],
            "quaternion": [
              0.049766154381840094,
              0.8560978651140492,
              -0.5141617188510853,
              0.016046871760803376
            ],
            "receiveShadow": false,
            "renderOrder": 0,
            "rotation": [
              2.0610987669585468,
              -0.02370253696851364,
              -3.0396769662834795,
              "XYZ"
            ],
            "scale": [
              1,
              1,
              1
            ],
            "type": "PerspectiveCamera",
            "up": [
              0.10171077137589418,
              0.46632211349228075,
              -0.8787483174687807
            ],
            "visible": true,
            "zoom": 1
          }
        },
        "4bc888aff0b446e2a0f4c379374de225": {
          "model_module": "@jupyter-widgets/base",
          "model_name": "LayoutModel",
          "model_module_version": "1.2.0",
          "state": {
            "_model_module": "@jupyter-widgets/base",
            "_model_module_version": "1.2.0",
            "_model_name": "LayoutModel",
            "_view_count": null,
            "_view_module": "@jupyter-widgets/base",
            "_view_module_version": "1.2.0",
            "_view_name": "LayoutView",
            "align_content": null,
            "align_items": null,
            "align_self": null,
            "border": null,
            "bottom": null,
            "display": null,
            "flex": null,
            "flex_flow": null,
            "grid_area": null,
            "grid_auto_columns": null,
            "grid_auto_flow": null,
            "grid_auto_rows": null,
            "grid_column": null,
            "grid_gap": null,
            "grid_row": null,
            "grid_template_areas": null,
            "grid_template_columns": null,
            "grid_template_rows": null,
            "height": null,
            "justify_content": null,
            "justify_items": null,
            "left": null,
            "margin": null,
            "max_height": null,
            "max_width": null,
            "min_height": null,
            "min_width": null,
            "object_fit": null,
            "object_position": null,
            "order": null,
            "overflow": null,
            "overflow_x": null,
            "overflow_y": null,
            "padding": null,
            "right": null,
            "top": null,
            "visibility": null,
            "width": null
          }
        },
        "890a2c01d22a4e9dab0fdc70c27a64dd": {
          "model_module": "ipyvolume",
          "model_name": "ScatterModel",
          "model_module_version": "~0.5.2",
          "state": {
            "_model_module": "ipyvolume",
            "_model_module_version": "~0.5.2",
            "_model_name": "ScatterModel",
            "_view_count": null,
            "_view_module": "ipyvolume",
            "_view_module_version": "~0.5.2",
            "_view_name": "ScatterView",
            "color": "yellow",
            "color_selected": "white",
            "connected": false,
            "geo": "sphere",
            "line_material": "IPY_MODEL_bdfb889c875441a2adc3b4609b5e4ac7",
            "material": "IPY_MODEL_2dc785de622446828289eb01393d8576",
            "selected": null,
            "sequence_index": 0,
            "size": 5,
            "size_selected": 2.6,
            "texture": null,
            "visible": true,
            "vx": null,
            "vy": null,
            "vz": null,
            "x": [
              {
                "dtype": "int32",
                "shape": [
                  1
                ]
              }
            ],
            "y": [
              {
                "dtype": "int32",
                "shape": [
                  1
                ]
              }
            ],
            "z": [
              {
                "dtype": "int32",
                "shape": [
                  1
                ]
              }
            ]
          }
        },
        "a7ed56069a0f44f39044d464cdafa19a": {
          "model_module": "ipyvolume",
          "model_name": "ScatterModel",
          "model_module_version": "~0.5.2",
          "state": {
            "_model_module": "ipyvolume",
            "_model_module_version": "~0.5.2",
            "_model_name": "ScatterModel",
            "_view_count": null,
            "_view_module": "ipyvolume",
            "_view_module_version": "~0.5.2",
            "_view_name": "ScatterView",
            "color": "green",
            "color_selected": "white",
            "connected": false,
            "geo": "sphere",
            "line_material": "IPY_MODEL_ade3548fd36048b7b61f25bf6678d51d",
            "material": "IPY_MODEL_24ffd393f1cd44a58f61c01fd7354822",
            "selected": null,
            "sequence_index": 0,
            "size": 5,
            "size_selected": 2.6,
            "texture": null,
            "visible": true,
            "vx": null,
            "vy": null,
            "vz": null,
            "x": [
              {
                "dtype": "float32",
                "shape": [
                  9
                ]
              }
            ],
            "y": [
              {
                "dtype": "float32",
                "shape": [
                  9
                ]
              }
            ],
            "z": [
              {
                "dtype": "float32",
                "shape": [
                  9
                ]
              }
            ]
          }
        },
        "3333c01a9d694e75ac7808182c8ee58b": {
          "model_module": "ipyvolume",
          "model_name": "ScatterModel",
          "model_module_version": "~0.5.2",
          "state": {
            "_model_module": "ipyvolume",
            "_model_module_version": "~0.5.2",
            "_model_name": "ScatterModel",
            "_view_count": null,
            "_view_module": "ipyvolume",
            "_view_module_version": "~0.5.2",
            "_view_name": "ScatterView",
            "color": "blue",
            "color_selected": "white",
            "connected": false,
            "geo": "sphere",
            "line_material": "IPY_MODEL_feffa2c86f2e400587804fffd5c573ff",
            "material": "IPY_MODEL_a57e1ca05f144d278023faf0af6e6ab9",
            "selected": null,
            "sequence_index": 0,
            "size": 5,
            "size_selected": 2.6,
            "texture": null,
            "visible": true,
            "vx": null,
            "vy": null,
            "vz": null,
            "x": [
              {
                "dtype": "float32",
                "shape": [
                  1
                ]
              }
            ],
            "y": [
              {
                "dtype": "float32",
                "shape": [
                  1
                ]
              }
            ],
            "z": [
              {
                "dtype": "float32",
                "shape": [
                  1
                ]
              }
            ]
          }
        },
        "3652703b113041ee8090aa0a89a5190b": {
          "model_module": "ipyvolume",
          "model_name": "ScatterModel",
          "model_module_version": "~0.5.2",
          "state": {
            "_model_module": "ipyvolume",
            "_model_module_version": "~0.5.2",
            "_model_name": "ScatterModel",
            "_view_count": null,
            "_view_module": "ipyvolume",
            "_view_module_version": "~0.5.2",
            "_view_name": "ScatterView",
            "color": "red",
            "color_selected": "white",
            "connected": false,
            "geo": "sphere",
            "line_material": "IPY_MODEL_5bf6e62f433c46b48f9d9c1bf7405323",
            "material": "IPY_MODEL_0183c7e17946436e9e6e626cfa97d14b",
            "selected": null,
            "sequence_index": 0,
            "size": 3,
            "size_selected": 2.6,
            "texture": null,
            "visible": true,
            "vx": null,
            "vy": null,
            "vz": null,
            "x": [
              {
                "dtype": "float32",
                "shape": [
                  63
                ]
              }
            ],
            "y": [
              {
                "dtype": "float32",
                "shape": [
                  63
                ]
              }
            ],
            "z": [
              {
                "dtype": "float32",
                "shape": [
                  63
                ]
              }
            ]
          }
        },
        "76311d46e4e24cc2931f37d150b4eff1": {
          "model_module": "ipyvolume",
          "model_name": "ScatterModel",
          "model_module_version": "~0.5.2",
          "state": {
            "_model_module": "ipyvolume",
            "_model_module_version": "~0.5.2",
            "_model_name": "ScatterModel",
            "_view_count": null,
            "_view_module": "ipyvolume",
            "_view_module_version": "~0.5.2",
            "_view_name": "ScatterView",
            "color": "black",
            "color_selected": null,
            "connected": true,
            "geo": "diamond",
            "line_material": "IPY_MODEL_250ea6563b404c4aa938b5ead8d122ff",
            "material": "IPY_MODEL_bafbd0473e6c4262ba92ff1ab32b0606",
            "selected": null,
            "sequence_index": 0,
            "size": 1,
            "size_selected": 1,
            "texture": null,
            "visible": true,
            "vx": null,
            "vy": null,
            "vz": null,
            "x": [
              {
                "dtype": "int32",
                "shape": [
                  2
                ]
              }
            ],
            "y": [
              {
                "dtype": "int32",
                "shape": [
                  2
                ]
              }
            ],
            "z": [
              {
                "dtype": "int32",
                "shape": [
                  2
                ]
              }
            ]
          }
        },
        "46d76a3bf3914f5496ccb5ab1a703cef": {
          "model_module": "ipyvolume",
          "model_name": "ScatterModel",
          "model_module_version": "~0.5.2",
          "state": {
            "_model_module": "ipyvolume",
            "_model_module_version": "~0.5.2",
            "_model_name": "ScatterModel",
            "_view_count": null,
            "_view_module": "ipyvolume",
            "_view_module_version": "~0.5.2",
            "_view_name": "ScatterView",
            "color": "black",
            "color_selected": null,
            "connected": true,
            "geo": "diamond",
            "line_material": "IPY_MODEL_fd99b815ff6f4229b409f910a0e501df",
            "material": "IPY_MODEL_b74748b9ef5f491094e713f8f5e90499",
            "selected": null,
            "sequence_index": 0,
            "size": 1,
            "size_selected": 1,
            "texture": null,
            "visible": true,
            "vx": null,
            "vy": null,
            "vz": null,
            "x": [
              {
                "dtype": "int32",
                "shape": [
                  2
                ]
              }
            ],
            "y": [
              {
                "dtype": "int32",
                "shape": [
                  2
                ]
              }
            ],
            "z": [
              {
                "dtype": "int32",
                "shape": [
                  2
                ]
              }
            ]
          }
        },
        "9f0bfa7fd3e043c38cdee10a27fe6a7a": {
          "model_module": "ipyvolume",
          "model_name": "ScatterModel",
          "model_module_version": "~0.5.2",
          "state": {
            "_model_module": "ipyvolume",
            "_model_module_version": "~0.5.2",
            "_model_name": "ScatterModel",
            "_view_count": null,
            "_view_module": "ipyvolume",
            "_view_module_version": "~0.5.2",
            "_view_name": "ScatterView",
            "color": "black",
            "color_selected": null,
            "connected": true,
            "geo": "diamond",
            "line_material": "IPY_MODEL_b5f24b6d140d4305b66b6c7ff27ed128",
            "material": "IPY_MODEL_5b2d2f1fc27649a0b15ff9c97e670540",
            "selected": null,
            "sequence_index": 0,
            "size": 1,
            "size_selected": 1,
            "texture": null,
            "visible": true,
            "vx": null,
            "vy": null,
            "vz": null,
            "x": [
              {
                "dtype": "int32",
                "shape": [
                  2
                ]
              }
            ],
            "y": [
              {
                "dtype": "int32",
                "shape": [
                  2
                ]
              }
            ],
            "z": [
              {
                "dtype": "int32",
                "shape": [
                  2
                ]
              }
            ]
          }
        },
        "e71308947bce41069c12b8054ef4c781": {
          "model_module": "jupyter-threejs",
          "model_name": "SceneModel",
          "model_module_version": "^2.1.0",
          "state": {
            "_model_module": "jupyter-threejs",
            "_model_module_version": "^2.1.0",
            "_model_name": "SceneModel",
            "_view_count": null,
            "_view_module": null,
            "_view_module_version": "",
            "_view_name": null,
            "autoUpdate": true,
            "background": null,
            "castShadow": false,
            "children": [],
            "fog": null,
            "frustumCulled": true,
            "matrix": [
              1,
              0,
              0,
              0,
              0,
              1,
              0,
              0,
              0,
              0,
              1,
              0,
              0,
              0,
              0,
              1
            ],
            "matrixAutoUpdate": true,
            "matrixWorld": [
              1,
              0,
              0,
              0,
              0,
              1,
              0,
              0,
              0,
              0,
              1,
              0,
              0,
              0,
              0,
              1
            ],
            "matrixWorldNeedsUpdate": false,
            "modelViewMatrix": [
              1,
              0,
              0,
              0,
              0,
              1,
              0,
              0,
              0,
              0,
              1,
              0,
              0,
              0,
              0,
              1
            ],
            "name": "",
            "normalMatrix": [
              1,
              0,
              0,
              0,
              1,
              0,
              0,
              0,
              1
            ],
            "overrideMaterial": null,
            "position": [
              0,
              0,
              0
            ],
            "quaternion": [
              0,
              0,
              0,
              1
            ],
            "receiveShadow": false,
            "renderOrder": 0,
            "rotation": [
              0,
              0,
              0,
              "XYZ"
            ],
            "scale": [
              1,
              1,
              1
            ],
            "type": "Scene",
            "up": [
              0,
              1,
              0
            ],
            "visible": true
          }
        },
        "bdfb889c875441a2adc3b4609b5e4ac7": {
          "model_module": "jupyter-threejs",
          "model_name": "ShaderMaterialModel",
          "model_module_version": "^2.1.0",
          "state": {
            "_model_module": "jupyter-threejs",
            "_model_module_version": "^2.1.0",
            "_model_name": "ShaderMaterialModel",
            "_view_count": null,
            "_view_module": null,
            "_view_module_version": "",
            "_view_name": null,
            "alphaTest": 0,
            "blendDst": "OneMinusSrcAlphaFactor",
            "blendDstAlpha": 0,
            "blendEquation": "AddEquation",
            "blendEquationAlpha": 0,
            "blendSrc": "SrcAlphaFactor",
            "blendSrcAlpha": 0,
            "blending": "NormalBlending",
            "clipIntersection": false,
            "clipShadows": false,
            "clipping": false,
            "clippingPlanes": [],
            "colorWrite": true,
            "defines": null,
            "depthFunc": "LessEqualDepth",
            "depthTest": true,
            "depthWrite": true,
            "dithering": false,
            "extensions": {},
            "flatShading": false,
            "fog": false,
            "fragmentShader": "",
            "lights": false,
            "linewidth": 1,
            "morphNormals": false,
            "morphTargets": false,
            "name": "",
            "opacity": 1,
            "overdraw": 0,
            "polygonOffset": false,
            "polygonOffsetFactor": 0,
            "polygonOffsetUnits": 0,
            "precision": null,
            "premultipliedAlpha": false,
            "shadowSide": null,
            "side": "FrontSide",
            "skinning": false,
            "transparent": false,
            "type": "ShaderMaterial",
            "uniforms": {},
            "uniformsNeedUpdate": false,
            "vertexColors": "NoColors",
            "vertexShader": "",
            "visible": true,
            "wireframe": false,
            "wireframeLinewidth": 1
          }
        },
        "2dc785de622446828289eb01393d8576": {
          "model_module": "jupyter-threejs",
          "model_name": "ShaderMaterialModel",
          "model_module_version": "^2.1.0",
          "state": {
            "_model_module": "jupyter-threejs",
            "_model_module_version": "^2.1.0",
            "_model_name": "ShaderMaterialModel",
            "_view_count": null,
            "_view_module": null,
            "_view_module_version": "",
            "_view_name": null,
            "alphaTest": 0,
            "blendDst": "OneMinusSrcAlphaFactor",
            "blendDstAlpha": 0,
            "blendEquation": "AddEquation",
            "blendEquationAlpha": 0,
            "blendSrc": "SrcAlphaFactor",
            "blendSrcAlpha": 0,
            "blending": "NormalBlending",
            "clipIntersection": false,
            "clipShadows": false,
            "clipping": false,
            "clippingPlanes": [],
            "colorWrite": true,
            "defines": null,
            "depthFunc": "LessEqualDepth",
            "depthTest": true,
            "depthWrite": true,
            "dithering": false,
            "extensions": {},
            "flatShading": false,
            "fog": false,
            "fragmentShader": "",
            "lights": false,
            "linewidth": 1,
            "morphNormals": false,
            "morphTargets": false,
            "name": "",
            "opacity": 1,
            "overdraw": 0,
            "polygonOffset": false,
            "polygonOffsetFactor": 0,
            "polygonOffsetUnits": 0,
            "precision": null,
            "premultipliedAlpha": false,
            "shadowSide": null,
            "side": "FrontSide",
            "skinning": false,
            "transparent": false,
            "type": "ShaderMaterial",
            "uniforms": {},
            "uniformsNeedUpdate": false,
            "vertexColors": "NoColors",
            "vertexShader": "",
            "visible": true,
            "wireframe": false,
            "wireframeLinewidth": 1
          }
        },
        "ade3548fd36048b7b61f25bf6678d51d": {
          "model_module": "jupyter-threejs",
          "model_name": "ShaderMaterialModel",
          "model_module_version": "^2.1.0",
          "state": {
            "_model_module": "jupyter-threejs",
            "_model_module_version": "^2.1.0",
            "_model_name": "ShaderMaterialModel",
            "_view_count": null,
            "_view_module": null,
            "_view_module_version": "",
            "_view_name": null,
            "alphaTest": 0,
            "blendDst": "OneMinusSrcAlphaFactor",
            "blendDstAlpha": 0,
            "blendEquation": "AddEquation",
            "blendEquationAlpha": 0,
            "blendSrc": "SrcAlphaFactor",
            "blendSrcAlpha": 0,
            "blending": "NormalBlending",
            "clipIntersection": false,
            "clipShadows": false,
            "clipping": false,
            "clippingPlanes": [],
            "colorWrite": true,
            "defines": null,
            "depthFunc": "LessEqualDepth",
            "depthTest": true,
            "depthWrite": true,
            "dithering": false,
            "extensions": {},
            "flatShading": false,
            "fog": false,
            "fragmentShader": "",
            "lights": false,
            "linewidth": 1,
            "morphNormals": false,
            "morphTargets": false,
            "name": "",
            "opacity": 1,
            "overdraw": 0,
            "polygonOffset": false,
            "polygonOffsetFactor": 0,
            "polygonOffsetUnits": 0,
            "precision": null,
            "premultipliedAlpha": false,
            "shadowSide": null,
            "side": "FrontSide",
            "skinning": false,
            "transparent": false,
            "type": "ShaderMaterial",
            "uniforms": {},
            "uniformsNeedUpdate": false,
            "vertexColors": "NoColors",
            "vertexShader": "",
            "visible": true,
            "wireframe": false,
            "wireframeLinewidth": 1
          }
        },
        "24ffd393f1cd44a58f61c01fd7354822": {
          "model_module": "jupyter-threejs",
          "model_name": "ShaderMaterialModel",
          "model_module_version": "^2.1.0",
          "state": {
            "_model_module": "jupyter-threejs",
            "_model_module_version": "^2.1.0",
            "_model_name": "ShaderMaterialModel",
            "_view_count": null,
            "_view_module": null,
            "_view_module_version": "",
            "_view_name": null,
            "alphaTest": 0,
            "blendDst": "OneMinusSrcAlphaFactor",
            "blendDstAlpha": 0,
            "blendEquation": "AddEquation",
            "blendEquationAlpha": 0,
            "blendSrc": "SrcAlphaFactor",
            "blendSrcAlpha": 0,
            "blending": "NormalBlending",
            "clipIntersection": false,
            "clipShadows": false,
            "clipping": false,
            "clippingPlanes": [],
            "colorWrite": true,
            "defines": null,
            "depthFunc": "LessEqualDepth",
            "depthTest": true,
            "depthWrite": true,
            "dithering": false,
            "extensions": {},
            "flatShading": false,
            "fog": false,
            "fragmentShader": "",
            "lights": false,
            "linewidth": 1,
            "morphNormals": false,
            "morphTargets": false,
            "name": "",
            "opacity": 1,
            "overdraw": 0,
            "polygonOffset": false,
            "polygonOffsetFactor": 0,
            "polygonOffsetUnits": 0,
            "precision": null,
            "premultipliedAlpha": false,
            "shadowSide": null,
            "side": "FrontSide",
            "skinning": false,
            "transparent": false,
            "type": "ShaderMaterial",
            "uniforms": {},
            "uniformsNeedUpdate": false,
            "vertexColors": "NoColors",
            "vertexShader": "",
            "visible": true,
            "wireframe": false,
            "wireframeLinewidth": 1
          }
        },
        "feffa2c86f2e400587804fffd5c573ff": {
          "model_module": "jupyter-threejs",
          "model_name": "ShaderMaterialModel",
          "model_module_version": "^2.1.0",
          "state": {
            "_model_module": "jupyter-threejs",
            "_model_module_version": "^2.1.0",
            "_model_name": "ShaderMaterialModel",
            "_view_count": null,
            "_view_module": null,
            "_view_module_version": "",
            "_view_name": null,
            "alphaTest": 0,
            "blendDst": "OneMinusSrcAlphaFactor",
            "blendDstAlpha": 0,
            "blendEquation": "AddEquation",
            "blendEquationAlpha": 0,
            "blendSrc": "SrcAlphaFactor",
            "blendSrcAlpha": 0,
            "blending": "NormalBlending",
            "clipIntersection": false,
            "clipShadows": false,
            "clipping": false,
            "clippingPlanes": [],
            "colorWrite": true,
            "defines": null,
            "depthFunc": "LessEqualDepth",
            "depthTest": true,
            "depthWrite": true,
            "dithering": false,
            "extensions": {},
            "flatShading": false,
            "fog": false,
            "fragmentShader": "",
            "lights": false,
            "linewidth": 1,
            "morphNormals": false,
            "morphTargets": false,
            "name": "",
            "opacity": 1,
            "overdraw": 0,
            "polygonOffset": false,
            "polygonOffsetFactor": 0,
            "polygonOffsetUnits": 0,
            "precision": null,
            "premultipliedAlpha": false,
            "shadowSide": null,
            "side": "FrontSide",
            "skinning": false,
            "transparent": false,
            "type": "ShaderMaterial",
            "uniforms": {},
            "uniformsNeedUpdate": false,
            "vertexColors": "NoColors",
            "vertexShader": "",
            "visible": true,
            "wireframe": false,
            "wireframeLinewidth": 1
          }
        },
        "a57e1ca05f144d278023faf0af6e6ab9": {
          "model_module": "jupyter-threejs",
          "model_name": "ShaderMaterialModel",
          "model_module_version": "^2.1.0",
          "state": {
            "_model_module": "jupyter-threejs",
            "_model_module_version": "^2.1.0",
            "_model_name": "ShaderMaterialModel",
            "_view_count": null,
            "_view_module": null,
            "_view_module_version": "",
            "_view_name": null,
            "alphaTest": 0,
            "blendDst": "OneMinusSrcAlphaFactor",
            "blendDstAlpha": 0,
            "blendEquation": "AddEquation",
            "blendEquationAlpha": 0,
            "blendSrc": "SrcAlphaFactor",
            "blendSrcAlpha": 0,
            "blending": "NormalBlending",
            "clipIntersection": false,
            "clipShadows": false,
            "clipping": false,
            "clippingPlanes": [],
            "colorWrite": true,
            "defines": null,
            "depthFunc": "LessEqualDepth",
            "depthTest": true,
            "depthWrite": true,
            "dithering": false,
            "extensions": {},
            "flatShading": false,
            "fog": false,
            "fragmentShader": "",
            "lights": false,
            "linewidth": 1,
            "morphNormals": false,
            "morphTargets": false,
            "name": "",
            "opacity": 1,
            "overdraw": 0,
            "polygonOffset": false,
            "polygonOffsetFactor": 0,
            "polygonOffsetUnits": 0,
            "precision": null,
            "premultipliedAlpha": false,
            "shadowSide": null,
            "side": "FrontSide",
            "skinning": false,
            "transparent": false,
            "type": "ShaderMaterial",
            "uniforms": {},
            "uniformsNeedUpdate": false,
            "vertexColors": "NoColors",
            "vertexShader": "",
            "visible": true,
            "wireframe": false,
            "wireframeLinewidth": 1
          }
        },
        "5bf6e62f433c46b48f9d9c1bf7405323": {
          "model_module": "jupyter-threejs",
          "model_name": "ShaderMaterialModel",
          "model_module_version": "^2.1.0",
          "state": {
            "_model_module": "jupyter-threejs",
            "_model_module_version": "^2.1.0",
            "_model_name": "ShaderMaterialModel",
            "_view_count": null,
            "_view_module": null,
            "_view_module_version": "",
            "_view_name": null,
            "alphaTest": 0,
            "blendDst": "OneMinusSrcAlphaFactor",
            "blendDstAlpha": 0,
            "blendEquation": "AddEquation",
            "blendEquationAlpha": 0,
            "blendSrc": "SrcAlphaFactor",
            "blendSrcAlpha": 0,
            "blending": "NormalBlending",
            "clipIntersection": false,
            "clipShadows": false,
            "clipping": false,
            "clippingPlanes": [],
            "colorWrite": true,
            "defines": null,
            "depthFunc": "LessEqualDepth",
            "depthTest": true,
            "depthWrite": true,
            "dithering": false,
            "extensions": {},
            "flatShading": false,
            "fog": false,
            "fragmentShader": "",
            "lights": false,
            "linewidth": 1,
            "morphNormals": false,
            "morphTargets": false,
            "name": "",
            "opacity": 1,
            "overdraw": 0,
            "polygonOffset": false,
            "polygonOffsetFactor": 0,
            "polygonOffsetUnits": 0,
            "precision": null,
            "premultipliedAlpha": false,
            "shadowSide": null,
            "side": "FrontSide",
            "skinning": false,
            "transparent": false,
            "type": "ShaderMaterial",
            "uniforms": {},
            "uniformsNeedUpdate": false,
            "vertexColors": "NoColors",
            "vertexShader": "",
            "visible": true,
            "wireframe": false,
            "wireframeLinewidth": 1
          }
        },
        "0183c7e17946436e9e6e626cfa97d14b": {
          "model_module": "jupyter-threejs",
          "model_name": "ShaderMaterialModel",
          "model_module_version": "^2.1.0",
          "state": {
            "_model_module": "jupyter-threejs",
            "_model_module_version": "^2.1.0",
            "_model_name": "ShaderMaterialModel",
            "_view_count": null,
            "_view_module": null,
            "_view_module_version": "",
            "_view_name": null,
            "alphaTest": 0,
            "blendDst": "OneMinusSrcAlphaFactor",
            "blendDstAlpha": 0,
            "blendEquation": "AddEquation",
            "blendEquationAlpha": 0,
            "blendSrc": "SrcAlphaFactor",
            "blendSrcAlpha": 0,
            "blending": "NormalBlending",
            "clipIntersection": false,
            "clipShadows": false,
            "clipping": false,
            "clippingPlanes": [],
            "colorWrite": true,
            "defines": null,
            "depthFunc": "LessEqualDepth",
            "depthTest": true,
            "depthWrite": true,
            "dithering": false,
            "extensions": {},
            "flatShading": false,
            "fog": false,
            "fragmentShader": "",
            "lights": false,
            "linewidth": 1,
            "morphNormals": false,
            "morphTargets": false,
            "name": "",
            "opacity": 1,
            "overdraw": 0,
            "polygonOffset": false,
            "polygonOffsetFactor": 0,
            "polygonOffsetUnits": 0,
            "precision": null,
            "premultipliedAlpha": false,
            "shadowSide": null,
            "side": "FrontSide",
            "skinning": false,
            "transparent": false,
            "type": "ShaderMaterial",
            "uniforms": {},
            "uniformsNeedUpdate": false,
            "vertexColors": "NoColors",
            "vertexShader": "",
            "visible": true,
            "wireframe": false,
            "wireframeLinewidth": 1
          }
        },
        "250ea6563b404c4aa938b5ead8d122ff": {
          "model_module": "jupyter-threejs",
          "model_name": "ShaderMaterialModel",
          "model_module_version": "^2.1.0",
          "state": {
            "_model_module": "jupyter-threejs",
            "_model_module_version": "^2.1.0",
            "_model_name": "ShaderMaterialModel",
            "_view_count": null,
            "_view_module": null,
            "_view_module_version": "",
            "_view_name": null,
            "alphaTest": 0,
            "blendDst": "OneMinusSrcAlphaFactor",
            "blendDstAlpha": 0,
            "blendEquation": "AddEquation",
            "blendEquationAlpha": 0,
            "blendSrc": "SrcAlphaFactor",
            "blendSrcAlpha": 0,
            "blending": "NormalBlending",
            "clipIntersection": false,
            "clipShadows": false,
            "clipping": false,
            "clippingPlanes": [],
            "colorWrite": true,
            "defines": null,
            "depthFunc": "LessEqualDepth",
            "depthTest": true,
            "depthWrite": true,
            "dithering": false,
            "extensions": {},
            "flatShading": false,
            "fog": false,
            "fragmentShader": "",
            "lights": false,
            "linewidth": 1,
            "morphNormals": false,
            "morphTargets": false,
            "name": "",
            "opacity": 1,
            "overdraw": 0,
            "polygonOffset": false,
            "polygonOffsetFactor": 0,
            "polygonOffsetUnits": 0,
            "precision": null,
            "premultipliedAlpha": false,
            "shadowSide": null,
            "side": "FrontSide",
            "skinning": false,
            "transparent": false,
            "type": "ShaderMaterial",
            "uniforms": {},
            "uniformsNeedUpdate": false,
            "vertexColors": "NoColors",
            "vertexShader": "",
            "visible": true,
            "wireframe": false,
            "wireframeLinewidth": 1
          }
        },
        "bafbd0473e6c4262ba92ff1ab32b0606": {
          "model_module": "jupyter-threejs",
          "model_name": "ShaderMaterialModel",
          "model_module_version": "^2.1.0",
          "state": {
            "_model_module": "jupyter-threejs",
            "_model_module_version": "^2.1.0",
            "_model_name": "ShaderMaterialModel",
            "_view_count": null,
            "_view_module": null,
            "_view_module_version": "",
            "_view_name": null,
            "alphaTest": 0,
            "blendDst": "OneMinusSrcAlphaFactor",
            "blendDstAlpha": 0,
            "blendEquation": "AddEquation",
            "blendEquationAlpha": 0,
            "blendSrc": "SrcAlphaFactor",
            "blendSrcAlpha": 0,
            "blending": "NormalBlending",
            "clipIntersection": false,
            "clipShadows": false,
            "clipping": false,
            "clippingPlanes": [],
            "colorWrite": true,
            "defines": null,
            "depthFunc": "LessEqualDepth",
            "depthTest": true,
            "depthWrite": true,
            "dithering": false,
            "extensions": {},
            "flatShading": false,
            "fog": false,
            "fragmentShader": "",
            "lights": false,
            "linewidth": 1,
            "morphNormals": false,
            "morphTargets": false,
            "name": "",
            "opacity": 1,
            "overdraw": 0,
            "polygonOffset": false,
            "polygonOffsetFactor": 0,
            "polygonOffsetUnits": 0,
            "precision": null,
            "premultipliedAlpha": false,
            "shadowSide": null,
            "side": "FrontSide",
            "skinning": false,
            "transparent": false,
            "type": "ShaderMaterial",
            "uniforms": {},
            "uniformsNeedUpdate": false,
            "vertexColors": "NoColors",
            "vertexShader": "",
            "visible": false,
            "wireframe": false,
            "wireframeLinewidth": 1
          }
        },
        "fd99b815ff6f4229b409f910a0e501df": {
          "model_module": "jupyter-threejs",
          "model_name": "ShaderMaterialModel",
          "model_module_version": "^2.1.0",
          "state": {
            "_model_module": "jupyter-threejs",
            "_model_module_version": "^2.1.0",
            "_model_name": "ShaderMaterialModel",
            "_view_count": null,
            "_view_module": null,
            "_view_module_version": "",
            "_view_name": null,
            "alphaTest": 0,
            "blendDst": "OneMinusSrcAlphaFactor",
            "blendDstAlpha": 0,
            "blendEquation": "AddEquation",
            "blendEquationAlpha": 0,
            "blendSrc": "SrcAlphaFactor",
            "blendSrcAlpha": 0,
            "blending": "NormalBlending",
            "clipIntersection": false,
            "clipShadows": false,
            "clipping": false,
            "clippingPlanes": [],
            "colorWrite": true,
            "defines": null,
            "depthFunc": "LessEqualDepth",
            "depthTest": true,
            "depthWrite": true,
            "dithering": false,
            "extensions": {},
            "flatShading": false,
            "fog": false,
            "fragmentShader": "",
            "lights": false,
            "linewidth": 1,
            "morphNormals": false,
            "morphTargets": false,
            "name": "",
            "opacity": 1,
            "overdraw": 0,
            "polygonOffset": false,
            "polygonOffsetFactor": 0,
            "polygonOffsetUnits": 0,
            "precision": null,
            "premultipliedAlpha": false,
            "shadowSide": null,
            "side": "FrontSide",
            "skinning": false,
            "transparent": false,
            "type": "ShaderMaterial",
            "uniforms": {},
            "uniformsNeedUpdate": false,
            "vertexColors": "NoColors",
            "vertexShader": "",
            "visible": true,
            "wireframe": false,
            "wireframeLinewidth": 1
          }
        },
        "b74748b9ef5f491094e713f8f5e90499": {
          "model_module": "jupyter-threejs",
          "model_name": "ShaderMaterialModel",
          "model_module_version": "^2.1.0",
          "state": {
            "_model_module": "jupyter-threejs",
            "_model_module_version": "^2.1.0",
            "_model_name": "ShaderMaterialModel",
            "_view_count": null,
            "_view_module": null,
            "_view_module_version": "",
            "_view_name": null,
            "alphaTest": 0,
            "blendDst": "OneMinusSrcAlphaFactor",
            "blendDstAlpha": 0,
            "blendEquation": "AddEquation",
            "blendEquationAlpha": 0,
            "blendSrc": "SrcAlphaFactor",
            "blendSrcAlpha": 0,
            "blending": "NormalBlending",
            "clipIntersection": false,
            "clipShadows": false,
            "clipping": false,
            "clippingPlanes": [],
            "colorWrite": true,
            "defines": null,
            "depthFunc": "LessEqualDepth",
            "depthTest": true,
            "depthWrite": true,
            "dithering": false,
            "extensions": {},
            "flatShading": false,
            "fog": false,
            "fragmentShader": "",
            "lights": false,
            "linewidth": 1,
            "morphNormals": false,
            "morphTargets": false,
            "name": "",
            "opacity": 1,
            "overdraw": 0,
            "polygonOffset": false,
            "polygonOffsetFactor": 0,
            "polygonOffsetUnits": 0,
            "precision": null,
            "premultipliedAlpha": false,
            "shadowSide": null,
            "side": "FrontSide",
            "skinning": false,
            "transparent": false,
            "type": "ShaderMaterial",
            "uniforms": {},
            "uniformsNeedUpdate": false,
            "vertexColors": "NoColors",
            "vertexShader": "",
            "visible": false,
            "wireframe": false,
            "wireframeLinewidth": 1
          }
        },
        "b5f24b6d140d4305b66b6c7ff27ed128": {
          "model_module": "jupyter-threejs",
          "model_name": "ShaderMaterialModel",
          "model_module_version": "^2.1.0",
          "state": {
            "_model_module": "jupyter-threejs",
            "_model_module_version": "^2.1.0",
            "_model_name": "ShaderMaterialModel",
            "_view_count": null,
            "_view_module": null,
            "_view_module_version": "",
            "_view_name": null,
            "alphaTest": 0,
            "blendDst": "OneMinusSrcAlphaFactor",
            "blendDstAlpha": 0,
            "blendEquation": "AddEquation",
            "blendEquationAlpha": 0,
            "blendSrc": "SrcAlphaFactor",
            "blendSrcAlpha": 0,
            "blending": "NormalBlending",
            "clipIntersection": false,
            "clipShadows": false,
            "clipping": false,
            "clippingPlanes": [],
            "colorWrite": true,
            "defines": null,
            "depthFunc": "LessEqualDepth",
            "depthTest": true,
            "depthWrite": true,
            "dithering": false,
            "extensions": {},
            "flatShading": false,
            "fog": false,
            "fragmentShader": "",
            "lights": false,
            "linewidth": 1,
            "morphNormals": false,
            "morphTargets": false,
            "name": "",
            "opacity": 1,
            "overdraw": 0,
            "polygonOffset": false,
            "polygonOffsetFactor": 0,
            "polygonOffsetUnits": 0,
            "precision": null,
            "premultipliedAlpha": false,
            "shadowSide": null,
            "side": "FrontSide",
            "skinning": false,
            "transparent": false,
            "type": "ShaderMaterial",
            "uniforms": {},
            "uniformsNeedUpdate": false,
            "vertexColors": "NoColors",
            "vertexShader": "",
            "visible": true,
            "wireframe": false,
            "wireframeLinewidth": 1
          }
        },
        "5b2d2f1fc27649a0b15ff9c97e670540": {
          "model_module": "jupyter-threejs",
          "model_name": "ShaderMaterialModel",
          "model_module_version": "^2.1.0",
          "state": {
            "_model_module": "jupyter-threejs",
            "_model_module_version": "^2.1.0",
            "_model_name": "ShaderMaterialModel",
            "_view_count": null,
            "_view_module": null,
            "_view_module_version": "",
            "_view_name": null,
            "alphaTest": 0,
            "blendDst": "OneMinusSrcAlphaFactor",
            "blendDstAlpha": 0,
            "blendEquation": "AddEquation",
            "blendEquationAlpha": 0,
            "blendSrc": "SrcAlphaFactor",
            "blendSrcAlpha": 0,
            "blending": "NormalBlending",
            "clipIntersection": false,
            "clipShadows": false,
            "clipping": false,
            "clippingPlanes": [],
            "colorWrite": true,
            "defines": null,
            "depthFunc": "LessEqualDepth",
            "depthTest": true,
            "depthWrite": true,
            "dithering": false,
            "extensions": {},
            "flatShading": false,
            "fog": false,
            "fragmentShader": "",
            "lights": false,
            "linewidth": 1,
            "morphNormals": false,
            "morphTargets": false,
            "name": "",
            "opacity": 1,
            "overdraw": 0,
            "polygonOffset": false,
            "polygonOffsetFactor": 0,
            "polygonOffsetUnits": 0,
            "precision": null,
            "premultipliedAlpha": false,
            "shadowSide": null,
            "side": "FrontSide",
            "skinning": false,
            "transparent": false,
            "type": "ShaderMaterial",
            "uniforms": {},
            "uniformsNeedUpdate": false,
            "vertexColors": "NoColors",
            "vertexShader": "",
            "visible": false,
            "wireframe": false,
            "wireframeLinewidth": 1
          }
        }
      }
    }
  },
  "nbformat": 4,
  "nbformat_minor": 0
}